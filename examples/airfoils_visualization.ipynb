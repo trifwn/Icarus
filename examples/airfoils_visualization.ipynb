{
    "cells": [
        {
            "cell_type": "code",
            "execution_count": null,
            "metadata": {},
            "outputs": [],
            "source": [
                "%load_ext autoreload\n",
                "%autoreload 2\n",
                "%matplotlib qt"
            ]
        },
        {
            "cell_type": "code",
            "execution_count": null,
            "metadata": {},
            "outputs": [],
            "source": [
                "from ICARUS.Database import DB\n",
                "from ICARUS.Database import EXTERNAL_DB\n",
                "DB.foils_db.load_data()"
            ]
        },
        {
            "attachments": {},
            "cell_type": "markdown",
            "metadata": {},
            "source": [
                "# Load Database"
            ]
        },
        {
            "cell_type": "code",
            "execution_count": null,
            "metadata": {},
            "outputs": [],
            "source": [
                "db = DB.foils_db\n",
                "\n",
                "from ICARUS.Computation.Solvers.XFLR5.polars import read_polars_2d\n",
                "read_polars_2d(EXTERNAL_DB)\n",
                "\n",
                "airfoils = db._data\n",
                "\n",
                "# index = int(input(\"Select an airfoil: \"))\n",
                "index = 1\n",
                "airfoil_names: list[str] = list(airfoils.keys())\n",
                "print(f\"We have a total of {len(airfoil_names)} airfoils\")"
            ]
        },
        {
            "cell_type": "code",
            "execution_count": null,
            "metadata": {},
            "outputs": [],
            "source": [
                "naca_airfoils = [airfoil_name for airfoil_name in airfoil_names if airfoil_name.startswith(\"M\")]\n",
                "print(f\"We have a total of {len(naca_airfoils)} NACA airfoils\")\n",
                "\n",
                "clarky_airfoils = [airfoil_name for airfoil_name in airfoil_names if airfoil_name.startswith(\"C\")]\n",
                "print(f\"We have a total of {len(clarky_airfoils)} Clark Y airfoils\")\n",
                "\n",
                "s_airfoils = [airfoil_name for airfoil_name in airfoil_names if airfoil_name.startswith(\"S\")]\n",
                "print(f\"We have a total of {len(s_airfoils)} S airfoils\")\n",
                "\n",
                "a_airfoils = [airfoil_name for airfoil_name in airfoil_names if airfoil_name.startswith(\"A\")]\n",
                "print(f\"We have a total of {len(a_airfoils)} A airfoils\")"
            ]
        },
        {
            "attachments": {},
            "cell_type": "markdown",
            "metadata": {},
            "source": [
                "# Airfoil Polars"
            ]
        },
        {
            "cell_type": "code",
            "execution_count": null,
            "metadata": {},
            "outputs": [],
            "source": [
                "from ICARUS.Visualization.airfoil.db_polars import plot_airfoils_polars"
            ]
        },
        {
            "cell_type": "code",
            "execution_count": null,
            "metadata": {},
            "outputs": [],
            "source": [
                "axs, fig = plot_airfoils_polars(\n",
                "    airfoil_names= s_airfoils,\n",
                "    solvers = [\"Xfoil\" ],\n",
                "    reynolds= 1e6,\n",
                "    plots = [[\"AoA\", \"CL\"], [\"AoA\", \"CD\"], [\"AoA\", \"Cm\"], [\"AoA\", \"CL/CD\"]],\n",
                "    size=(10,9),\n",
                ")\n",
                "# axs[0].axvline(x=1.1, color='b', linestyle='-')\n",
                "# axs[0].axhline(y=1.52, color='b', linestyle='-')"
            ]
        },
        {
            "cell_type": "code",
            "execution_count": null,
            "metadata": {},
            "outputs": [],
            "source": [
                "naca_airfoils"
            ]
        },
        {
            "cell_type": "code",
            "execution_count": null,
            "metadata": {},
            "outputs": [],
            "source": [
                "from ICARUS import APPHOME\n",
                "from ICARUS.Airfoils.airfoil_polars import Polars\n",
                "import os\n",
                "DB.load_data()\n",
                "s_polars = [polar for k,polar in db.polars.items()]\n",
                "for p in s_polars:\n",
                "    try:\n",
                "        polar: Polars = p['Xfoil']\n",
                "        # polar.plot()\n",
                "        airfoil_folder = os.path.join(APPHOME,\"Data\",\"images\")\n",
                "        polar.save_polar_plot_img(airfoil_folder, desc='xfoil')\n",
                "    except Exception as e:\n",
                "        print(e)\n",
                "        continue"
            ]
        },
        {
            "attachments": {},
            "cell_type": "markdown",
            "metadata": {},
            "source": [
                "# Select Reynolds number "
            ]
        },
        {
            "cell_type": "code",
            "execution_count": null,
            "metadata": {},
            "outputs": [],
            "source": [
                "reynolds = db.polars[airfoil_names[0]][\"Xfoil\"].reynolds_keys\n",
                "\n",
                "if reynolds is not None:\n",
                "    print(f\"For NACA {airfoil_names[0][4:]} these Reynolds were Computed:\")\n",
                "    print(*[f\"{i}:\\t{reyn}\\n\" for i,reyn in enumerate(reynolds)])\n",
                "    index = int(input(\"Select Reynolds: \"))\n",
                "    reyn_to_plot = reynolds[index]\n",
                "else:\n",
                "    raise ValueError(f\"Reynolds for {airfoil_names[0]} were not computed\")"
            ]
        },
        {
            "attachments": {},
            "cell_type": "markdown",
            "metadata": {},
            "source": [
                "# Plot Reynolds"
            ]
        },
        {
            "cell_type": "code",
            "execution_count": null,
            "metadata": {},
            "outputs": [],
            "source": [
                "from ICARUS.Visualization.airfoil.airfoil_reynolds import plot_airfoil_reynolds"
            ]
        },
        {
            "cell_type": "code",
            "execution_count": null,
            "metadata": {},
            "outputs": [],
            "source": [
                "print(f\"NACA {airfoil_names[0][4:]} at Reynolds {reyn_to_plot} polars are:\")\n",
                "axs, fig = plot_airfoil_reynolds(\n",
                "    airfoil_names[0],\n",
                "    reynolds[0],\n",
                "    [\"All\"],\n",
                "    plots = [[\"AoA\", \"Cm\"], [\"AoA\", \"CD\"]],\n",
                "    size=(10,9),\n",
                ")\n",
                "# axs[0].axvline(x=1.1, color='b', linestyle='-')\n",
                "# axs[0].axhline(y=1.52, color='b', linestyle='-')"
            ]
        },
        {
            "cell_type": "code",
            "execution_count": null,
            "metadata": {},
            "outputs": [],
            "source": []
        }
    ],
    "metadata": {
        "kernelspec": {
            "display_name": "aero",
            "language": "python",
            "name": "python3"
        },
        "language_info": {
            "codemirror_mode": {
                "name": "ipython",
                "version": 3
            },
            "file_extension": ".py",
            "mimetype": "text/x-python",
            "name": "python",
            "nbconvert_exporter": "python",
            "pygments_lexer": "ipython3",
            "version": "3.12.0"
        },
        "vscode": {
            "interpreter": {
                "hash": "8acd08952dc410be23279ea6eab1a080d514a48a01ad47827aa392f9fbd61ae4"
            }
        }
    },
    "nbformat": 4,
    "nbformat_minor": 2
}
