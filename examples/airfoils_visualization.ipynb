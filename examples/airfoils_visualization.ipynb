{
    "cells": [
        {
            "cell_type": "code",
            "execution_count": 1,
            "metadata": {},
            "outputs": [],
            "source": [
                "%load_ext autoreload\n",
                "%autoreload 2\n",
                "%matplotlib qt"
            ]
        },
        {
            "cell_type": "code",
            "execution_count": 2,
            "metadata": {},
            "outputs": [
                {
                    "name": "stdout",
                    "output_type": "stream",
                    "text": [
                        "Searching for airfoil SD5060 in DB2D\n",
                        "Loading airfoil SD5060 from DB2D\n"
                    ]
                }
            ],
            "source": [
                "from ICARUS.Database import DB\n",
                "from ICARUS.Database import EXTERNAL_DB\n",
                "DB.foils_db.load_data()"
            ]
        },
        {
            "attachments": {},
            "cell_type": "markdown",
            "metadata": {},
            "source": [
                "# Load Database"
            ]
        },
        {
            "cell_type": "code",
            "execution_count": 4,
            "metadata": {},
            "outputs": [
                {
                    "name": "stdout",
                    "output_type": "stream",
                    "text": [
                        "We have a total of 6 airfoils\n"
                    ]
                }
            ],
            "source": [
                "db = DB.foils_db\n",
                "\n",
                "from ICARUS.Computation.Solvers.XFLR5.polars import read_polars_2d\n",
                "read_polars_2d(EXTERNAL_DB)\n",
                "\n",
                "airfoils = db._data\n",
                "\n",
                "# index = int(input(\"Select an airfoil: \"))\n",
                "index = 1\n",
                "airfoil_names: list[str] = list(airfoils.keys())\n",
                "print(f\"We have a total of {len(airfoil_names)} airfoils\")"
            ]
        },
        {
            "cell_type": "code",
            "execution_count": 5,
            "metadata": {},
            "outputs": [
                {
                    "name": "stdout",
                    "output_type": "stream",
                    "text": [
                        "We have a total of 0 NACA airfoils\n",
                        "We have a total of 0 Clark Y airfoils\n",
                        "We have a total of 1 S airfoils\n",
                        "We have a total of 0 A airfoils\n"
                    ]
                }
            ],
            "source": [
                "naca_airfoils = [airfoil_name for airfoil_name in airfoil_names if airfoil_name.startswith(\"M\")]\n",
                "print(f\"We have a total of {len(naca_airfoils)} NACA airfoils\")\n",
                "\n",
                "clarky_airfoils = [airfoil_name for airfoil_name in airfoil_names if airfoil_name.startswith(\"C\")]\n",
                "print(f\"We have a total of {len(clarky_airfoils)} Clark Y airfoils\")\n",
                "\n",
                "s_airfoils = [airfoil_name for airfoil_name in airfoil_names if airfoil_name.startswith(\"S\")]\n",
                "print(f\"We have a total of {len(s_airfoils)} S airfoils\")\n",
                "\n",
                "a_airfoils = [airfoil_name for airfoil_name in airfoil_names if airfoil_name.startswith(\"A\")]\n",
                "print(f\"We have a total of {len(a_airfoils)} A airfoils\")"
            ]
        },
        {
            "attachments": {},
            "cell_type": "markdown",
            "metadata": {},
            "source": [
                "# Airfoil Polars"
            ]
        },
        {
            "cell_type": "code",
            "execution_count": 7,
            "metadata": {},
            "outputs": [],
            "source": [
                "from ICARUS.Visualization.airfoil.db_polars import plot_airfoils_polars"
            ]
        },
        {
            "cell_type": "code",
            "execution_count": 8,
            "metadata": {},
            "outputs": [],
            "source": [
                "axs, fig = plot_airfoils_polars(\n",
                "    airfoil_names= s_airfoils,\n",
                "    solvers = [\"Xfoil\" ],\n",
                "    reynolds= 1e6,\n",
                "    plots = [[\"AoA\", \"CL\"], [\"AoA\", \"CD\"], [\"AoA\", \"Cm\"], [\"AoA\", \"CL/CD\"]],\n",
                "    size=(10,9),\n",
                ")\n",
                "# axs[0].axvline(x=1.1, color='b', linestyle='-')\n",
                "# axs[0].axhline(y=1.52, color='b', linestyle='-')"
            ]
        },
        {
            "cell_type": "code",
            "execution_count": 9,
            "metadata": {},
            "outputs": [
                {
                    "data": {
                        "text/plain": [
                            "['NACA0008', 'NACA0012', 'NACA0015', 'NACA2412', 'NACA4415']"
                        ]
                    },
                    "execution_count": 9,
                    "metadata": {},
                    "output_type": "execute_result"
                }
            ],
            "source": [
                "naca_airfoils"
            ]
        },
        {
            "cell_type": "code",
            "execution_count": 10,
            "metadata": {},
            "outputs": [
                {
                    "name": "stdout",
                    "output_type": "stream",
                    "text": [
                        "Searching for airfoil SD5060 in DB2D\n",
                        "Loading airfoil SD5060 from DB2D\n",
                        "Saved C:\\Users\\tryfo\\Desktop\\Software\\Icarus\\Data\\images\\SD5060_polars_xfoil.png\n"
                    ]
                }
            ],
            "source": [
                "from ICARUS import APPHOME\n",
                "from ICARUS.Airfoils.airfoil_polars import Polars\n",
                "import os\n",
                "DB.load_data()\n",
                "s_polars = [polar for k,polar in db.polars.items()]\n",
                "for p in s_polars:\n",
                "    try:\n",
                "        polar: Polars = p['Xfoil']\n",
                "        # polar.plot()\n",
                "        airfoil_folder = os.path.join(APPHOME,\"Data\",\"images\")\n",
                "        polar.save_polar_plot_img(airfoil_folder, desc='xfoil')\n",
                "    except Exception as e:\n",
                "        print(e)\n",
                "        continue"
            ]
        },
        {
            "attachments": {},
            "cell_type": "markdown",
            "metadata": {},
            "source": [
                "# Select Reynolds number "
            ]
        },
        {
            "cell_type": "code",
            "execution_count": 8,
            "metadata": {},
            "outputs": [
                {
                    "ename": "KeyError",
                    "evalue": "'Xfoil'",
                    "output_type": "error",
                    "traceback": [
                        "\u001b[1;31m---------------------------------------------------------------------------\u001b[0m",
                        "\u001b[1;31mKeyError\u001b[0m                                  Traceback (most recent call last)",
                        "Cell \u001b[1;32mIn[8], line 1\u001b[0m\n\u001b[1;32m----> 1\u001b[0m reynolds \u001b[38;5;241m=\u001b[39m \u001b[43mdb\u001b[49m\u001b[38;5;241;43m.\u001b[39;49m\u001b[43mpolars\u001b[49m\u001b[43m[\u001b[49m\u001b[43mairfoil_names\u001b[49m\u001b[43m[\u001b[49m\u001b[38;5;241;43m0\u001b[39;49m\u001b[43m]\u001b[49m\u001b[43m]\u001b[49m\u001b[43m[\u001b[49m\u001b[38;5;124;43m\"\u001b[39;49m\u001b[38;5;124;43mXfoil\u001b[39;49m\u001b[38;5;124;43m\"\u001b[39;49m\u001b[43m]\u001b[49m\u001b[38;5;241m.\u001b[39mreynolds_keys\n\u001b[0;32m      3\u001b[0m \u001b[38;5;28;01mif\u001b[39;00m reynolds \u001b[38;5;129;01mis\u001b[39;00m \u001b[38;5;129;01mnot\u001b[39;00m \u001b[38;5;28;01mNone\u001b[39;00m:\n\u001b[0;32m      4\u001b[0m     \u001b[38;5;28mprint\u001b[39m(\u001b[38;5;124mf\u001b[39m\u001b[38;5;124m\"\u001b[39m\u001b[38;5;124mFor NACA \u001b[39m\u001b[38;5;132;01m{\u001b[39;00mairfoil_names[\u001b[38;5;241m0\u001b[39m][\u001b[38;5;241m4\u001b[39m:]\u001b[38;5;132;01m}\u001b[39;00m\u001b[38;5;124m these Reynolds were Computed:\u001b[39m\u001b[38;5;124m\"\u001b[39m)\n",
                        "File \u001b[1;32m~\\Desktop\\Software\\Icarus\\ICARUS\\Core\\struct.py:32\u001b[0m, in \u001b[0;36mStruct.__getitem__\u001b[1;34m(self, key)\u001b[0m\n\u001b[0;32m     30\u001b[0m \u001b[38;5;28;01mdef\u001b[39;00m \u001b[38;5;21m__getitem__\u001b[39m(\u001b[38;5;28mself\u001b[39m, key: \u001b[38;5;28mstr\u001b[39m) \u001b[38;5;241m-\u001b[39m\u001b[38;5;241m>\u001b[39m Any:\n\u001b[0;32m     31\u001b[0m \u001b[38;5;250m    \u001b[39m\u001b[38;5;124;03m\"\"\"Get an item from the Struct instance by key.\"\"\"\u001b[39;00m\n\u001b[1;32m---> 32\u001b[0m     \u001b[38;5;28;01mreturn\u001b[39;00m \u001b[38;5;28;43mself\u001b[39;49m\u001b[38;5;241;43m.\u001b[39;49m\u001b[43m_data\u001b[49m\u001b[43m[\u001b[49m\u001b[43mkey\u001b[49m\u001b[43m]\u001b[49m\n",
                        "\u001b[1;31mKeyError\u001b[0m: 'Xfoil'"
                    ]
                }
            ],
            "source": [
                "reynolds = db.polars[airfoil_names[0]][\"Xfoil\"].reynolds_keys\n",
                "\n",
                "if reynolds is not None:\n",
                "    print(f\"For NACA {airfoil_names[0][4:]} these Reynolds were Computed:\")\n",
                "    print(*[f\"{i}:\\t{reyn}\\n\" for i,reyn in enumerate(reynolds)])\n",
                "    index = int(input(\"Select Reynolds: \"))\n",
                "    reyn_to_plot = reynolds[index]\n",
                "else:\n",
                "    raise ValueError(f\"Reynolds for {airfoil_names[0]} were not computed\")"
            ]
        },
        {
            "attachments": {},
            "cell_type": "markdown",
            "metadata": {},
            "source": [
                "# Plot Reynolds"
            ]
        },
        {
            "cell_type": "code",
            "execution_count": null,
            "metadata": {},
            "outputs": [],
            "source": [
                "from ICARUS.Visualization.airfoil.airfoil_reynolds import plot_airfoil_reynolds"
            ]
        },
        {
            "cell_type": "code",
            "execution_count": null,
            "metadata": {},
            "outputs": [],
            "source": [
                "print(f\"NACA {airfoil_names[0][4:]} at Reynolds {reyn_to_plot} polars are:\")\n",
                "axs, fig = plot_airfoil_reynolds(\n",
                "    airfoil_names[0],\n",
                "    reynolds[0],\n",
                "    [\"All\"],\n",
                "    plots = [[\"AoA\", \"Cm\"], [\"AoA\", \"CD\"]],\n",
                "    size=(10,9),\n",
                ")\n",
                "# axs[0].axvline(x=1.1, color='b', linestyle='-')\n",
                "# axs[0].axhline(y=1.52, color='b', linestyle='-')"
            ]
        },
        {
            "cell_type": "code",
            "execution_count": null,
            "metadata": {},
            "outputs": [],
            "source": []
        }
    ],
    "metadata": {
        "kernelspec": {
            "display_name": "aero",
            "language": "python",
            "name": "python3"
        },
        "language_info": {
            "codemirror_mode": {
                "name": "ipython",
                "version": 3
            },
            "file_extension": ".py",
            "mimetype": "text/x-python",
            "name": "python",
            "nbconvert_exporter": "python",
            "pygments_lexer": "ipython3",
            "version": "3.12.0"
        },
        "vscode": {
            "interpreter": {
                "hash": "8acd08952dc410be23279ea6eab1a080d514a48a01ad47827aa392f9fbd61ae4"
            }
        }
    },
    "nbformat": 4,
    "nbformat_minor": 2
}
