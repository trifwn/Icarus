{
 "cells": [
  {
   "cell_type": "code",
   "execution_count": 1,
   "metadata": {},
   "outputs": [],
   "source": [
    "%load_ext autoreload\n",
    "%autoreload 2\n",
    "%matplotlib qt"
   ]
  },
  {
   "cell_type": "code",
   "execution_count": 2,
   "metadata": {},
   "outputs": [
    {
     "name": "stderr",
     "output_type": "stream",
     "text": [
      "CUDA backend failed to initialize: Unable to load cuPTI. Is it installed? (Set TF_CPP_MIN_LOG_LEVEL=0 and rerun for more info.)\n"
     ]
    }
   ],
   "source": [
    "import numpy as np\n",
    "\n",
    "from ICARUS.core.types import FloatArray\n",
    "from ICARUS.vehicle.plane import Airplane\n",
    "from ICARUS.vehicle.surface import WingSurface\n",
    "from ICARUS.vehicle.utils import SymmetryAxes\n",
    "from ICARUS.vehicle.plane import Airplane\n",
    "from ICARUS.vehicle.wing_segment import WingSegment\n",
    "from ICARUS.computation.solvers.AVL.analyses.polars import avl_angle_run, process_avl_angles_run\n",
    "from ICARUS.environment.definition import EARTH_ISA\n",
    "from ICARUS.flight_dynamics.state import State\n",
    "from ICARUS.vehicle.control_surface import Elevator, Flap"
   ]
  },
  {
   "cell_type": "code",
   "execution_count": 3,
   "metadata": {},
   "outputs": [],
   "source": [
    "origin= np.array([0.0, 0.0, 0.0], dtype=float)\n",
    "\n",
    "wing_position= np.array(\n",
    "    [0.0, 0.0, 0.0],\n",
    "    dtype=float,\n",
    ")\n",
    "wing_orientation=np.array(\n",
    "    [-1.0, 1.0, 0.0],\n",
    "    dtype=float,\n",
    ")\n",
    "\n",
    "main_wing_flap = Flap(\n",
    "    span_positions=(0., 0.35),\n",
    "    hinge_chord_percentages= (0.75, 0.75),\n",
    "    chord_extension= 1.\n",
    ")\n",
    "\n",
    "\n",
    "main_wing = WingSegment(\n",
    "    name=\"wing\",\n",
    "    root_airfoil=\"4415\",\n",
    "    origin=origin + wing_position,\n",
    "    orientation=wing_orientation,\n",
    "    symmetries=SymmetryAxes.Y,\n",
    "    span=2 * 1.130,\n",
    "    sweep_offset=0,\n",
    "    root_chord=0.159,\n",
    "    tip_chord=0.072,\n",
    "    twist_root=0,\n",
    "    twist_tip=0,\n",
    "    N=15,\n",
    "    M=5,\n",
    "    mass=0.670,\n",
    "    controls= [main_wing_flap] \n",
    ")"
   ]
  },
  {
   "cell_type": "code",
   "execution_count": 4,
   "metadata": {},
   "outputs": [],
   "source": [
    "\n",
    "\n",
    "elevator_pos: FloatArray = np.array(\n",
    "    [0.54, 0.0, 0.0],\n",
    "    dtype=float,\n",
    ")\n",
    "elevator_orientantion: FloatArray = np.array(\n",
    "    [0.0, 0.0, 0.0],\n",
    "    dtype=float,\n",
    ")\n",
    "\n",
    "elevator = Elevator(\n",
    "    span_positions= (0., 1.),\n",
    "    hinge_chord_percentages= (0.5, 0.5)\n",
    ")\n",
    "\n",
    "hor_stabilizer = WingSegment(\n",
    "    name=\"elevator\",\n",
    "    root_airfoil=\"NACA0008\",\n",
    "    origin=origin + elevator_pos,\n",
    "    orientation=elevator_orientantion,\n",
    "    symmetries=SymmetryAxes.Y,\n",
    "    span=2 * 0.169,\n",
    "    sweep_offset=0,\n",
    "    root_dihedral_angle=0,\n",
    "    root_chord=0.130,\n",
    "    tip_chord=0.03,\n",
    "    N=15,\n",
    "    M=5,\n",
    "    mass=0.06,\n",
    "    controls= [elevator]\n",
    ")\n",
    "\n",
    "\n"
   ]
  },
  {
   "cell_type": "code",
   "execution_count": 5,
   "metadata": {},
   "outputs": [],
   "source": [
    "rudder_position: FloatArray = np.array(\n",
    "    [0.47, 0.0, 0.01],\n",
    "    dtype=float,\n",
    ")\n",
    "rudder_orientation: FloatArray = np.array(\n",
    "    [0.0, 0.0, 90.0],\n",
    "    dtype=float,\n",
    ")\n",
    "\n",
    "vertical_stabilizer = WingSegment(\n",
    "    name=\"rudder\",\n",
    "    root_airfoil=\"NACA0008\",\n",
    "    origin=origin + rudder_position,\n",
    "    orientation=rudder_orientation,\n",
    "    symmetries=SymmetryAxes.NONE,\n",
    "    span=0.160,\n",
    "    sweep_offset=0.1,\n",
    "    root_dihedral_angle=0,\n",
    "    root_chord=0.2,\n",
    "    tip_chord=0.1,\n",
    "    N=15,\n",
    "    M=5,\n",
    "    mass=0.04,\n",
    ")"
   ]
  },
  {
   "cell_type": "code",
   "execution_count": 6,
   "metadata": {},
   "outputs": [],
   "source": [
    "lifting_surfaces: list[WingSurface] = [main_wing, hor_stabilizer, vertical_stabilizer]\n",
    "\n",
    "point_masses = [\n",
    "    (0.500, np.array([-0.40, 0.0, 0.0], dtype=float), \"engine\"),  # Engine\n",
    "    (1.000, np.array([0.090, 0.0, 0.0], dtype=float), \"structure\"),  # Structure\n",
    "    # (1.000, np.array([0.090, 0.0, 0.0], dtype=float), \"battery\"),  # Battery\n",
    "    (0.900, np.array([0.130, 0.0, 0.0], dtype=float), \"payload\"),  # Payload\n",
    "]"
   ]
  },
  {
   "cell_type": "code",
   "execution_count": 7,
   "metadata": {},
   "outputs": [
    {
     "name": "stdout",
     "output_type": "stream",
     "text": [
      "Controling wing with {'delta_f': 0}\n",
      "Controling elevator with {'delta_e': 0}\n",
      "Controling rudder with {}\n",
      "Controling wing with {'delta_f': 10}\n",
      "Controling elevator with {'delta_e': 0}\n",
      "Controling rudder with {}\n",
      "Controling wing with {'delta_f': 20}\n",
      "Controling elevator with {'delta_e': 0}\n",
      "Controling rudder with {}\n",
      "\tPolar for naca4415_flapped_hinge_0.75_deflection_20.00 not found in database. Trying to recompute\n",
      "Airfoil Polar Analysis For a multiple Reynolds using aseq\n",
      "Available Options of Xfoil for Airfoil Polar Analysis For a multiple Reynolds using aseq: \n",
      "\n",
      "| VarName   | Value                                                           | Description                       |\n",
      "|-----------|-----------------------------------------------------------------|-----------------------------------|\n",
      "| airfoil   | Complex Datatype (naca4415_flapped_hinge_0.75_deflection_20.00) | Airfoil Object                    |\n",
      "| mach      | 0.0                                                             | Mach number                       |\n",
      "| reynolds  | Complex Datatype                                                | List of Reynold's numbers to run  |\n",
      "| min_aoa   | -10.0                                                           | Minimum angle of attack           |\n",
      "| max_aoa   | 20.0                                                            | Maximum angle of attack           |\n",
      "| aoa_step  | 1.0                                                             | Step between each angle of attack |\n",
      "\n",
      "If there are Multiple Values, or complex datatypes, or N/A you should inspect them sepretly by calling the option name\n",
      "\n",
      "Running Solver XFoil:\n",
      "\tAnalysis Airfoil Polar Analysis For a multiple Reynolds using aseq...\n"
     ]
    },
    {
     "name": "stderr",
     "output_type": "stream",
     "text": [
      "/home/tryfonas/anaconda3/envs/aero/lib/python3.12/multiprocessing/popen_fork.py:66: RuntimeWarning: os.fork() was called. os.fork() is incompatible with multithreaded code, and JAX is multithreaded, so this will likely lead to a deadlock.\n",
      "  self.pid = os.fork()\n"
     ]
    },
    {
     "data": {
      "application/vnd.jupyter.widget-view+json": {
       "model_id": "c944aa2e7bc344d09a9da91e2cd52856",
       "version_major": 2,
       "version_minor": 0
      },
      "text/plain": [
       "\t\tTotal Progres   0%|                              | 0/1 [00:00<?, ?it/s]"
      ]
     },
     "metadata": {},
     "output_type": "display_data"
    },
    {
     "name": "stdout",
     "output_type": "stream",
     "text": [
      "Repaneling Airfoil with 120\n",
      "\n",
      " Number of input coordinate points: 500\n",
      " Counterclockwise ordering\n",
      " Max thickness =     0.150085  at x =   0.292\n",
      " Max camber    =    -0.039152  at x =   0.760\n",
      "\n",
      "  LE  x,y  =  -0.00044   0.00181  |   Chord =   0.99817\n",
      "  TE  x,y  =   0.99408   0.08716  |\n",
      "\n",
      " Current airfoil nodes set from buffer airfoil nodes ( 499 )\n",
      "Adding NACA4415_FLAPPED_HINGE_0.75_DEFLECTION_20.00 to the database\n",
      "Analysis Completed\n",
      "\tCould not compute polar for naca4415_flapped_hinge_0.75_deflection_20.00\n",
      "\tPolar for naca4415_flapped_hinge_0.75_deflection_20.00 not found in database. Trying to recompute\n",
      "Airfoil Polar Analysis For a multiple Reynolds using aseq\n",
      "Available Options of Xfoil for Airfoil Polar Analysis For a multiple Reynolds using aseq: \n",
      "\n",
      "| VarName   | Value                                                           | Description                       |\n",
      "|-----------|-----------------------------------------------------------------|-----------------------------------|\n",
      "| airfoil   | Complex Datatype (naca4415_flapped_hinge_0.75_deflection_20.00) | Airfoil Object                    |\n",
      "| mach      | 0.0                                                             | Mach number                       |\n",
      "| reynolds  | Complex Datatype                                                | List of Reynold's numbers to run  |\n",
      "| min_aoa   | -10.0                                                           | Minimum angle of attack           |\n",
      "| max_aoa   | 20.0                                                            | Maximum angle of attack           |\n",
      "| aoa_step  | 1.0                                                             | Step between each angle of attack |\n",
      "\n",
      "If there are Multiple Values, or complex datatypes, or N/A you should inspect them sepretly by calling the option name\n",
      "\n",
      "Running Solver XFoil:\n",
      "\tAnalysis Airfoil Polar Analysis For a multiple Reynolds using aseq...\n"
     ]
    },
    {
     "name": "stderr",
     "output_type": "stream",
     "text": [
      "/home/tryfonas/anaconda3/envs/aero/lib/python3.12/multiprocessing/popen_fork.py:66: RuntimeWarning: os.fork() was called. os.fork() is incompatible with multithreaded code, and JAX is multithreaded, so this will likely lead to a deadlock.\n",
      "  self.pid = os.fork()\n"
     ]
    },
    {
     "data": {
      "application/vnd.jupyter.widget-view+json": {
       "model_id": "0f31794f9de7419ab5e39f482365736d",
       "version_major": 2,
       "version_minor": 0
      },
      "text/plain": [
       "\t\tTotal Progres   0%|                              | 0/1 [00:00<?, ?it/s]"
      ]
     },
     "metadata": {},
     "output_type": "display_data"
    },
    {
     "name": "stdout",
     "output_type": "stream",
     "text": [
      "Repaneling Airfoil with 120\n",
      " Number of input coordinate points: 500\n",
      " Counterclockwise ordering\n",
      " Max thickness =     0.150085  at x =   0.292\n",
      " Max camber    =    -0.039152  at x =   0.760\n",
      "\n",
      "  LE  x,y  =  -0.00044   0.00181  |   Chord =   0.99817\n",
      "  TE  x,y  =   0.99408   0.08716  |\n",
      "\n",
      " Current airfoil nodes set from buffer airfoil nodes ( 499 )\n",
      "\n",
      "Adding NACA4415_FLAPPED_HINGE_0.75_DEFLECTION_20.00 to the database\n",
      "Analysis Completed\n",
      "\tCould not compute polar for naca4415_flapped_hinge_0.75_deflection_20.00\n",
      "\tPolar for naca4415_flapped_hinge_0.75_deflection_20.00 not found in database. Trying to recompute\n",
      "Airfoil Polar Analysis For a multiple Reynolds using aseq\n",
      "Available Options of Xfoil for Airfoil Polar Analysis For a multiple Reynolds using aseq: \n",
      "\n",
      "| VarName   | Value                                                           | Description                       |\n",
      "|-----------|-----------------------------------------------------------------|-----------------------------------|\n",
      "| airfoil   | Complex Datatype (naca4415_flapped_hinge_0.75_deflection_20.00) | Airfoil Object                    |\n",
      "| mach      | 0.0                                                             | Mach number                       |\n",
      "| reynolds  | Complex Datatype                                                | List of Reynold's numbers to run  |\n",
      "| min_aoa   | -10.0                                                           | Minimum angle of attack           |\n",
      "| max_aoa   | 20.0                                                            | Maximum angle of attack           |\n",
      "| aoa_step  | 1.0                                                             | Step between each angle of attack |\n",
      "\n",
      "If there are Multiple Values, or complex datatypes, or N/A you should inspect them sepretly by calling the option name\n",
      "\n",
      "Running Solver XFoil:\n",
      "\tAnalysis Airfoil Polar Analysis For a multiple Reynolds using aseq...\n"
     ]
    },
    {
     "name": "stderr",
     "output_type": "stream",
     "text": [
      "/home/tryfonas/anaconda3/envs/aero/lib/python3.12/multiprocessing/popen_fork.py:66: RuntimeWarning: os.fork() was called. os.fork() is incompatible with multithreaded code, and JAX is multithreaded, so this will likely lead to a deadlock.\n",
      "  self.pid = os.fork()\n"
     ]
    },
    {
     "data": {
      "application/vnd.jupyter.widget-view+json": {
       "model_id": "096a900575164b6889b2f11d1c21086f",
       "version_major": 2,
       "version_minor": 0
      },
      "text/plain": [
       "\t\tTotal Progres   0%|                              | 0/1 [00:00<?, ?it/s]"
      ]
     },
     "metadata": {},
     "output_type": "display_data"
    },
    {
     "name": "stdout",
     "output_type": "stream",
     "text": [
      "Repaneling Airfoil with 120\n",
      "\n",
      " Number of input coordinate points: 500\n",
      " Counterclockwise ordering\n",
      " Max thickness =     0.150085  at x =   0.292\n",
      " Max camber    =    -0.039152  at x =   0.760\n",
      "\n",
      "  LE  x,y  =  -0.00044   0.00181  |   Chord =   0.99817\n",
      "  TE  x,y  =   0.99408   0.08716  |\n",
      "\n",
      " Current airfoil nodes set from buffer airfoil nodes ( 499 )\n",
      "Adding NACA4415_FLAPPED_HINGE_0.75_DEFLECTION_20.00 to the database\n",
      "Analysis Completed\n",
      "\tCould not compute polar for naca4415_flapped_hinge_0.75_deflection_20.00\n",
      "\tPolar for naca4415_flapped_hinge_0.75_deflection_20.00 not found in database. Trying to recompute\n",
      "Airfoil Polar Analysis For a multiple Reynolds using aseq\n",
      "Available Options of Xfoil for Airfoil Polar Analysis For a multiple Reynolds using aseq: \n",
      "\n",
      "| VarName   | Value                                                           | Description                       |\n",
      "|-----------|-----------------------------------------------------------------|-----------------------------------|\n",
      "| airfoil   | Complex Datatype (naca4415_flapped_hinge_0.75_deflection_20.00) | Airfoil Object                    |\n",
      "| mach      | 0.0                                                             | Mach number                       |\n",
      "| reynolds  | Complex Datatype                                                | List of Reynold's numbers to run  |\n",
      "| min_aoa   | -10.0                                                           | Minimum angle of attack           |\n",
      "| max_aoa   | 20.0                                                            | Maximum angle of attack           |\n",
      "| aoa_step  | 1.0                                                             | Step between each angle of attack |\n",
      "\n",
      "If there are Multiple Values, or complex datatypes, or N/A you should inspect them sepretly by calling the option name\n",
      "\n",
      "Running Solver XFoil:\n",
      "\tAnalysis Airfoil Polar Analysis For a multiple Reynolds using aseq...\n"
     ]
    },
    {
     "name": "stderr",
     "output_type": "stream",
     "text": [
      "/home/tryfonas/anaconda3/envs/aero/lib/python3.12/multiprocessing/popen_fork.py:66: RuntimeWarning: os.fork() was called. os.fork() is incompatible with multithreaded code, and JAX is multithreaded, so this will likely lead to a deadlock.\n",
      "  self.pid = os.fork()\n"
     ]
    },
    {
     "data": {
      "application/vnd.jupyter.widget-view+json": {
       "model_id": "9931dcb2fb3246bba3e1a258fa47ffe7",
       "version_major": 2,
       "version_minor": 0
      },
      "text/plain": [
       "\t\tTotal Progres   0%|                              | 0/1 [00:00<?, ?it/s]"
      ]
     },
     "metadata": {},
     "output_type": "display_data"
    },
    {
     "name": "stdout",
     "output_type": "stream",
     "text": [
      "Repaneling Airfoil with 120\n",
      "\n",
      " Number of input coordinate points: 500\n",
      " Counterclockwise ordering\n",
      " Max thickness =     0.150085  at x =   0.292\n",
      " Max camber    =    -0.039152  at x =   0.760\n",
      "\n",
      "  LE  x,y  =  -0.00044   0.00181  |   Chord =   0.99817\n",
      "  TE  x,y  =   0.99408   0.08716  |\n",
      "\n",
      " Current airfoil nodes set from buffer airfoil nodes ( 499 )\n",
      "Adding NACA4415_FLAPPED_HINGE_0.75_DEFLECTION_20.00 to the database\n",
      "Analysis Completed\n",
      "\tCould not compute polar for naca4415_flapped_hinge_0.75_deflection_20.00\n",
      "Controling wing with {'delta_f': 30}\n",
      "Controling elevator with {'delta_e': 0}\n",
      "Controling rudder with {}\n",
      "\tPolar for naca4415_flapped_hinge_0.75_deflection_30.00 not found in database. Trying to recompute\n",
      "Airfoil Polar Analysis For a multiple Reynolds using aseq\n",
      "Available Options of Xfoil for Airfoil Polar Analysis For a multiple Reynolds using aseq: \n",
      "\n",
      "| VarName   | Value                                                           | Description                       |\n",
      "|-----------|-----------------------------------------------------------------|-----------------------------------|\n",
      "| airfoil   | Complex Datatype (naca4415_flapped_hinge_0.75_deflection_30.00) | Airfoil Object                    |\n",
      "| mach      | 0.0                                                             | Mach number                       |\n",
      "| reynolds  | Complex Datatype                                                | List of Reynold's numbers to run  |\n",
      "| min_aoa   | -10.0                                                           | Minimum angle of attack           |\n",
      "| max_aoa   | 20.0                                                            | Maximum angle of attack           |\n",
      "| aoa_step  | 1.0                                                             | Step between each angle of attack |\n",
      "\n",
      "If there are Multiple Values, or complex datatypes, or N/A you should inspect them sepretly by calling the option name\n",
      "\n",
      "Running Solver XFoil:\n",
      "\tAnalysis Airfoil Polar Analysis For a multiple Reynolds using aseq...\n"
     ]
    },
    {
     "name": "stderr",
     "output_type": "stream",
     "text": [
      "/home/tryfonas/anaconda3/envs/aero/lib/python3.12/multiprocessing/popen_fork.py:66: RuntimeWarning: os.fork() was called. os.fork() is incompatible with multithreaded code, and JAX is multithreaded, so this will likely lead to a deadlock.\n",
      "  self.pid = os.fork()\n"
     ]
    },
    {
     "data": {
      "application/vnd.jupyter.widget-view+json": {
       "model_id": "43a72de294b64140b6dc35b34b85fac8",
       "version_major": 2,
       "version_minor": 0
      },
      "text/plain": [
       "\t\tTotal Progres   0%|                              | 0/1 [00:00<?, ?it/s]"
      ]
     },
     "metadata": {},
     "output_type": "display_data"
    },
    {
     "name": "stdout",
     "output_type": "stream",
     "text": [
      "Repaneling Airfoil with 120\n",
      "\n",
      " Number of input coordinate points: 500\n",
      " Counterclockwise ordering\n",
      " Max thickness =     0.150452  at x =   0.292\n",
      " Max camber    =    -0.071340  at x =   0.757\n",
      "\n",
      "  LE  x,y  =  -0.00041   0.00176  |   Chord =   0.98848\n",
      "  TE  x,y  =   0.97989   0.12864  |\n",
      "\n",
      " Current airfoil nodes set from buffer airfoil nodes ( 499 )\n",
      "Adding NACA4415_FLAPPED_HINGE_0.75_DEFLECTION_30.00 to the database\n",
      "Analysis Completed\n",
      "\tCould not compute polar for naca4415_flapped_hinge_0.75_deflection_30.00\n",
      "\tPolar for naca4415_flapped_hinge_0.75_deflection_30.00 not found in database. Trying to recompute\n",
      "Airfoil Polar Analysis For a multiple Reynolds using aseq\n",
      "Available Options of Xfoil for Airfoil Polar Analysis For a multiple Reynolds using aseq: \n",
      "\n",
      "| VarName   | Value                                                           | Description                       |\n",
      "|-----------|-----------------------------------------------------------------|-----------------------------------|\n",
      "| airfoil   | Complex Datatype (naca4415_flapped_hinge_0.75_deflection_30.00) | Airfoil Object                    |\n",
      "| mach      | 0.0                                                             | Mach number                       |\n",
      "| reynolds  | Complex Datatype                                                | List of Reynold's numbers to run  |\n",
      "| min_aoa   | -10.0                                                           | Minimum angle of attack           |\n",
      "| max_aoa   | 20.0                                                            | Maximum angle of attack           |\n",
      "| aoa_step  | 1.0                                                             | Step between each angle of attack |\n",
      "\n",
      "If there are Multiple Values, or complex datatypes, or N/A you should inspect them sepretly by calling the option name\n",
      "\n",
      "Running Solver XFoil:\n",
      "\tAnalysis Airfoil Polar Analysis For a multiple Reynolds using aseq...\n"
     ]
    },
    {
     "name": "stderr",
     "output_type": "stream",
     "text": [
      "/home/tryfonas/anaconda3/envs/aero/lib/python3.12/multiprocessing/popen_fork.py:66: RuntimeWarning: os.fork() was called. os.fork() is incompatible with multithreaded code, and JAX is multithreaded, so this will likely lead to a deadlock.\n",
      "  self.pid = os.fork()\n"
     ]
    },
    {
     "data": {
      "application/vnd.jupyter.widget-view+json": {
       "model_id": "ed3bbf2676cb4bbdbc1e2b5ccc3d6155",
       "version_major": 2,
       "version_minor": 0
      },
      "text/plain": [
       "\t\tTotal Progres   0%|                              | 0/1 [00:00<?, ?it/s]"
      ]
     },
     "metadata": {},
     "output_type": "display_data"
    },
    {
     "name": "stdout",
     "output_type": "stream",
     "text": [
      "Repaneling Airfoil with 120\n",
      "\n",
      " Number of input coordinate points: 500\n",
      " Counterclockwise ordering\n",
      " Max thickness =     0.150452  at x =   0.292\n",
      " Max camber    =    -0.071340  at x =   0.757\n",
      "\n",
      "  LE  x,y  =  -0.00041   0.00176  |   Chord =   0.98848\n",
      "  TE  x,y  =   0.97989   0.12864  |\n",
      "\n",
      " Current airfoil nodes set from buffer airfoil nodes ( 499 )\n",
      "Adding NACA4415_FLAPPED_HINGE_0.75_DEFLECTION_30.00 to the database\n",
      "Analysis Completed\n",
      "\tCould not compute polar for naca4415_flapped_hinge_0.75_deflection_30.00\n",
      "\tPolar for naca4415_flapped_hinge_0.75_deflection_30.00 not found in database. Trying to recompute\n",
      "Airfoil Polar Analysis For a multiple Reynolds using aseq\n",
      "Available Options of Xfoil for Airfoil Polar Analysis For a multiple Reynolds using aseq: \n",
      "\n",
      "| VarName   | Value                                                           | Description                       |\n",
      "|-----------|-----------------------------------------------------------------|-----------------------------------|\n",
      "| airfoil   | Complex Datatype (naca4415_flapped_hinge_0.75_deflection_30.00) | Airfoil Object                    |\n",
      "| mach      | 0.0                                                             | Mach number                       |\n",
      "| reynolds  | Complex Datatype                                                | List of Reynold's numbers to run  |\n",
      "| min_aoa   | -10.0                                                           | Minimum angle of attack           |\n",
      "| max_aoa   | 20.0                                                            | Maximum angle of attack           |\n",
      "| aoa_step  | 1.0                                                             | Step between each angle of attack |\n",
      "\n",
      "If there are Multiple Values, or complex datatypes, or N/A you should inspect them sepretly by calling the option name\n",
      "\n",
      "Running Solver XFoil:\n",
      "\tAnalysis Airfoil Polar Analysis For a multiple Reynolds using aseq...\n"
     ]
    },
    {
     "name": "stderr",
     "output_type": "stream",
     "text": [
      "/home/tryfonas/anaconda3/envs/aero/lib/python3.12/multiprocessing/popen_fork.py:66: RuntimeWarning: os.fork() was called. os.fork() is incompatible with multithreaded code, and JAX is multithreaded, so this will likely lead to a deadlock.\n",
      "  self.pid = os.fork()\n"
     ]
    },
    {
     "data": {
      "application/vnd.jupyter.widget-view+json": {
       "model_id": "325142862d5e44bdb6d41ad4a656b512",
       "version_major": 2,
       "version_minor": 0
      },
      "text/plain": [
       "\t\tTotal Progres   0%|                              | 0/1 [00:00<?, ?it/s]"
      ]
     },
     "metadata": {},
     "output_type": "display_data"
    },
    {
     "name": "stdout",
     "output_type": "stream",
     "text": [
      "Repaneling Airfoil with 120\n",
      "\n",
      " Number of input coordinate points: 500\n",
      " Counterclockwise ordering\n",
      " Max thickness =     0.150452  at x =   0.292\n",
      " Max camber    =    -0.071340  at x =   0.757\n",
      "\n",
      "  LE  x,y  =  -0.00041   0.00176  |   Chord =   0.98848\n",
      "  TE  x,y  =   0.97989   0.12864  |\n",
      "\n",
      " Current airfoil nodes set from buffer airfoil nodes ( 499 )\n",
      "Adding NACA4415_FLAPPED_HINGE_0.75_DEFLECTION_30.00 to the database\n",
      "Analysis Completed\n",
      "\tCould not compute polar for naca4415_flapped_hinge_0.75_deflection_30.00\n",
      "\tPolar for naca4415_flapped_hinge_0.75_deflection_30.00 not found in database. Trying to recompute\n",
      "Airfoil Polar Analysis For a multiple Reynolds using aseq\n",
      "Available Options of Xfoil for Airfoil Polar Analysis For a multiple Reynolds using aseq: \n",
      "\n",
      "| VarName   | Value                                                           | Description                       |\n",
      "|-----------|-----------------------------------------------------------------|-----------------------------------|\n",
      "| airfoil   | Complex Datatype (naca4415_flapped_hinge_0.75_deflection_30.00) | Airfoil Object                    |\n",
      "| mach      | 0.0                                                             | Mach number                       |\n",
      "| reynolds  | Complex Datatype                                                | List of Reynold's numbers to run  |\n",
      "| min_aoa   | -10.0                                                           | Minimum angle of attack           |\n",
      "| max_aoa   | 20.0                                                            | Maximum angle of attack           |\n",
      "| aoa_step  | 1.0                                                             | Step between each angle of attack |\n",
      "\n",
      "If there are Multiple Values, or complex datatypes, or N/A you should inspect them sepretly by calling the option name\n",
      "\n",
      "Running Solver XFoil:\n",
      "\tAnalysis Airfoil Polar Analysis For a multiple Reynolds using aseq...\n"
     ]
    },
    {
     "name": "stderr",
     "output_type": "stream",
     "text": [
      "/home/tryfonas/anaconda3/envs/aero/lib/python3.12/multiprocessing/popen_fork.py:66: RuntimeWarning: os.fork() was called. os.fork() is incompatible with multithreaded code, and JAX is multithreaded, so this will likely lead to a deadlock.\n",
      "  self.pid = os.fork()\n"
     ]
    },
    {
     "data": {
      "application/vnd.jupyter.widget-view+json": {
       "model_id": "620f5566453f49c1b2faec5726d655bf",
       "version_major": 2,
       "version_minor": 0
      },
      "text/plain": [
       "\t\tTotal Progres   0%|                              | 0/1 [00:00<?, ?it/s]"
      ]
     },
     "metadata": {},
     "output_type": "display_data"
    },
    {
     "name": "stdout",
     "output_type": "stream",
     "text": [
      "Repaneling Airfoil with 120\n",
      "\n",
      " Number of input coordinate points: 500\n",
      " Counterclockwise ordering\n",
      " Max thickness =     0.150452  at x =   0.292\n",
      " Max camber    =    -0.071340  at x =   0.757\n",
      "\n",
      "  LE  x,y  =  -0.00041   0.00176  |   Chord =   0.98848\n",
      "  TE  x,y  =   0.97989   0.12864  |\n",
      "\n",
      " Current airfoil nodes set from buffer airfoil nodes ( 499 )\n",
      "Adding NACA4415_FLAPPED_HINGE_0.75_DEFLECTION_30.00 to the database\n",
      "Analysis Completed\n",
      "\tCould not compute polar for naca4415_flapped_hinge_0.75_deflection_30.00\n",
      "Controling wing with {'delta_f': 40}\n",
      "Controling elevator with {'delta_e': 0}\n",
      "Controling rudder with {}\n"
     ]
    }
   ],
   "source": [
    "planes = []\n",
    "plane = Airplane(f\"test_plane\",lifting_surfaces)\n",
    "plane.add_point_masses(point_masses)\n",
    "UINF = 20\n",
    "state = State(\n",
    "        name=\"Unstick\",\n",
    "        airplane=plane,\n",
    "        environment=EARTH_ISA,\n",
    "        u_freestream= UINF,\n",
    ")\n",
    "\n",
    "for d in [0, 10, 20, 30 , 40]:\n",
    "    solver2D = \"Xfoil\"\n",
    "    angles = np.linspace(-10, 10, 11)\n",
    "\n",
    "\n",
    "    epsilons = {\n",
    "        \"u\": 0.01,\n",
    "        \"w\": 0.01,\n",
    "        \"q\": 0.1,\n",
    "        \"theta\": 0.01,\n",
    "        \"v\": 0.01,\n",
    "        \"p\": 0.1,\n",
    "        \"r\": 0.1,\n",
    "        \"phi\": 0.01,\n",
    "    }\n",
    "    # print(state.control_vars)\n",
    "    state.set_control(\n",
    "        {\n",
    "            \"delta_f\" : d,\n",
    "            \"delta_e\" : 0,  \n",
    "        }\n",
    "    )\n",
    "\n",
    "    state.add_all_pertrubations(\"Central\", epsilons)\n",
    "    avl_angle_run(\n",
    "        plane = plane,\n",
    "        state = state,\n",
    "        solver2D= \"Xfoil\",\n",
    "        angles=angles\n",
    "    )"
   ]
  },
  {
   "cell_type": "code",
   "execution_count": 8,
   "metadata": {},
   "outputs": [
    {
     "data": {
      "text/plain": [
       "(array([[<Axes: title={'center': 'CL vs AoA'}, xlabel='AoA', ylabel='CL'>,\n",
       "         <Axes: title={'center': 'CD vs AoA'}, xlabel='AoA', ylabel='CD'>],\n",
       "        [<Axes: title={'center': 'Cm vs AoA'}, xlabel='AoA', ylabel='Cm'>,\n",
       "         <Axes: title={'center': 'CD vs CL'}, xlabel='CL', ylabel='CD'>],\n",
       "        [<Axes: >, <Axes: >]], dtype=object),\n",
       " <Figure size 1000x1000 with 4 Axes>)"
      ]
     },
     "execution_count": 8,
     "metadata": {},
     "output_type": "execute_result"
    }
   ],
   "source": [
    "from ICARUS.visualization.airplane.db_polars import plot_airplane_polars as plot\n",
    "# plot([plane.name], solvers = ['AVL'])"
   ]
  },
  {
   "cell_type": "code",
   "execution_count": null,
   "metadata": {},
   "outputs": [],
   "source": []
  }
 ],
 "metadata": {
  "kernelspec": {
   "display_name": "Python 3",
   "language": "python",
   "name": "python3"
  },
  "language_info": {
   "codemirror_mode": {
    "name": "ipython",
    "version": 3
   },
   "file_extension": ".py",
   "mimetype": "text/x-python",
   "name": "python",
   "nbconvert_exporter": "python",
   "pygments_lexer": "ipython3",
   "version": "3.12.2"
  }
 },
 "nbformat": 4,
 "nbformat_minor": 2
}
