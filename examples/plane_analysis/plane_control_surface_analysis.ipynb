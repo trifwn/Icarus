{
 "cells": [
  {
   "cell_type": "code",
   "execution_count": null,
   "metadata": {},
   "outputs": [],
   "source": [
    "%load_ext autoreload\n",
    "%autoreload 2\n",
    "%matplotlib qt"
   ]
  },
  {
   "cell_type": "code",
   "execution_count": null,
   "metadata": {},
   "outputs": [],
   "source": [
    "import numpy as np\n",
    "\n",
    "from ICARUS.core.types import FloatArray\n",
    "from ICARUS.vehicle import SymmetryAxes\n",
    "from ICARUS.vehicle import Airplane\n",
    "from ICARUS.vehicle import WingSegment\n",
    "from ICARUS.airfoils import NACA4\n",
    "from ICARUS.computation.solvers.AVL import avl_polars\n",
    "from ICARUS.environment import EARTH_ISA\n",
    "from ICARUS.flight_dynamics import State\n",
    "from ICARUS.vehicle import Elevator, Flap"
   ]
  },
  {
   "cell_type": "code",
   "execution_count": null,
   "metadata": {},
   "outputs": [],
   "source": [
    "from ICARUS.database import Database\n",
    "\n",
    "# CHANGE THIS TO YOUR DATABASE FOLDER\n",
    "database_folder = \"E:\\\\Icarus\\\\Data\"\n",
    "\n",
    "# Load the database\n",
    "DB = Database(database_folder)"
   ]
  },
  {
   "cell_type": "code",
   "execution_count": null,
   "metadata": {},
   "outputs": [],
   "source": [
    "origin = np.array([0.0, 0.0, 0.0], dtype=float)\n",
    "\n",
    "wing_position = np.array(\n",
    "    [0.0, 0.0, 0.0],\n",
    "    dtype=float,\n",
    ")\n",
    "wing_orientation = np.array(\n",
    "    [-1.0, 1.0, 0.0],\n",
    "    dtype=float,\n",
    ")\n",
    "\n",
    "main_wing_flap = Flap(\n",
    "    span_positions=(0.0, 0.35),\n",
    "    hinge_chord_percentages=(0.75, 0.75),\n",
    "    chord_extension=1.0,\n",
    ")\n",
    "\n",
    "\n",
    "main_wing = WingSegment(\n",
    "    name=\"wing\",\n",
    "    root_airfoil=NACA4.from_digits(\"4415\"),\n",
    "    origin=origin + wing_position,\n",
    "    orientation=wing_orientation,\n",
    "    symmetries=SymmetryAxes.Y,\n",
    "    span=2 * 1.130,\n",
    "    sweep_offset=0,\n",
    "    root_chord=0.159,\n",
    "    tip_chord=0.072,\n",
    "    twist_root=0,\n",
    "    twist_tip=0,\n",
    "    N=15,\n",
    "    M=5,\n",
    "    mass=0.670,\n",
    "    controls=[main_wing_flap],\n",
    ")"
   ]
  },
  {
   "cell_type": "code",
   "execution_count": null,
   "metadata": {},
   "outputs": [],
   "source": [
    "elevator_pos: FloatArray = np.array(\n",
    "    [0.54, 0.0, 0.0],\n",
    "    dtype=float,\n",
    ")\n",
    "elevator_orientantion: FloatArray = np.array(\n",
    "    [0.0, 0.0, 0.0],\n",
    "    dtype=float,\n",
    ")\n",
    "\n",
    "elevator = Elevator(span_positions=(0.0, 1.0), hinge_chord_percentages=(0.5, 0.5))\n",
    "\n",
    "hor_stabilizer = WingSegment(\n",
    "    name=\"elevator\",\n",
    "    root_airfoil=NACA4.from_digits(\"0008\"),\n",
    "    origin=origin + elevator_pos,\n",
    "    orientation=elevator_orientantion,\n",
    "    symmetries=SymmetryAxes.Y,\n",
    "    span=2 * 0.169,\n",
    "    sweep_offset=0,\n",
    "    root_dihedral_angle=0,\n",
    "    root_chord=0.130,\n",
    "    tip_chord=0.03,\n",
    "    N=15,\n",
    "    M=5,\n",
    "    mass=0.06,\n",
    "    controls=[elevator],\n",
    ")"
   ]
  },
  {
   "cell_type": "code",
   "execution_count": null,
   "metadata": {},
   "outputs": [],
   "source": [
    "rudder_position: FloatArray = np.array(\n",
    "    [0.47, 0.0, 0.01],\n",
    "    dtype=float,\n",
    ")\n",
    "rudder_orientation: FloatArray = np.array(\n",
    "    [0.0, 0.0, 90.0],\n",
    "    dtype=float,\n",
    ")\n",
    "\n",
    "vertical_stabilizer = WingSegment(\n",
    "    name=\"rudder\",\n",
    "    root_airfoil=NACA4.from_digits(\"0008\"),\n",
    "    origin=origin + rudder_position,\n",
    "    orientation=rudder_orientation,\n",
    "    symmetries=SymmetryAxes.NONE,\n",
    "    span=0.160,\n",
    "    sweep_offset=0.1,\n",
    "    root_dihedral_angle=0,\n",
    "    root_chord=0.2,\n",
    "    tip_chord=0.1,\n",
    "    N=15,\n",
    "    M=5,\n",
    "    mass=0.04,\n",
    ")\n",
    "\n",
    "plane = Airplane(\"test\", main_wing = main_wing, other_surfaces= [hor_stabilizer, vertical_stabilizer])"
   ]
  },
  {
   "cell_type": "code",
   "execution_count": null,
   "metadata": {},
   "outputs": [],
   "source": [
    "from ICARUS.vehicle import Mass\n",
    "point_masses = [\n",
    "    Mass(mass= 0.500, position = np.array([-0.40, 0.0, 0.0], dtype=float), name = \"engine\"),  # Engine\n",
    "    Mass(mass= 1.000, position = np.array([0.090, 0.0, 0.0], dtype=float), name = \"structure\"),  # Structure\n",
    "    Mass(mass= 1.000, position = np.array([0.090, 0.0, 0.0], dtype=float), name = \"battery\"),  # Battery\n",
    "    Mass(mass= 0.900, position = np.array([0.130, 0.0, 0.0], dtype=float), name = \"payload\"),  # Payload\n",
    "]\n",
    "plane.add_point_masses(point_masses)"
   ]
  },
  {
   "cell_type": "code",
   "execution_count": null,
   "metadata": {},
   "outputs": [],
   "source": [
    "plane.wing_segments[2][1].airfoils[0].plot()"
   ]
  },
  {
   "cell_type": "code",
   "execution_count": null,
   "metadata": {},
   "outputs": [],
   "source": [
    "from ICARUS.flight_dynamics import TrimNotPossible\n",
    "from ICARUS.flight_dynamics.trim import TrimOutsidePolars\n",
    "\n",
    "UINF = 20\n",
    "state = State(\n",
    "    name=\"Unstick\",\n",
    "    airplane=plane,\n",
    "    environment=EARTH_ISA,\n",
    "    u_freestream=UINF,\n",
    ")\n",
    "\n",
    "for d in [0, 10, 20, 30, 40]:\n",
    "    solver2D = \"Xfoil\"\n",
    "    angles = np.linspace(-10, 10, 11)\n",
    "\n",
    "    epsilons = {\n",
    "        \"u\": 0.01,\n",
    "        \"w\": 0.01,\n",
    "        \"q\": 0.1,\n",
    "        \"theta\": 0.01,\n",
    "        \"v\": 0.01,\n",
    "        \"p\": 0.1,\n",
    "        \"r\": 0.1,\n",
    "        \"phi\": 0.01,\n",
    "    }\n",
    "    # print(state.control_vars)\n",
    "    state.set_control(\n",
    "        {\n",
    "            \"delta_f\": d,\n",
    "            \"delta_e\": 0,\n",
    "        }\n",
    "    )\n",
    "\n",
    "    state.add_all_pertrubations(\"Central\", epsilons)\n",
    "    try:\n",
    "        avl_polars(plane=plane, state=state, solver2D=\"Xfoil\", angles=angles)\n",
    "    except (TrimNotPossible , TrimOutsidePolars):\n",
    "        continue"
   ]
  },
  {
   "cell_type": "code",
   "execution_count": null,
   "metadata": {},
   "outputs": [],
   "source": [
    "from ICARUS.visualization.airplane import plot_airplane_polars \n",
    "plot_airplane_polars([plane.name], prefixes=[\"AVL\"])"
   ]
  },
  {
   "cell_type": "code",
   "execution_count": null,
   "metadata": {},
   "outputs": [],
   "source": []
  }
 ],
 "metadata": {
  "kernelspec": {
   "display_name": "aero",
   "language": "python",
   "name": "python3"
  },
  "language_info": {
   "codemirror_mode": {
    "name": "ipython",
    "version": 3
   },
   "file_extension": ".py",
   "mimetype": "text/x-python",
   "name": "python",
   "nbconvert_exporter": "python",
   "pygments_lexer": "ipython3",
   "version": "3.13.1"
  }
 },
 "nbformat": 4,
 "nbformat_minor": 2
}
