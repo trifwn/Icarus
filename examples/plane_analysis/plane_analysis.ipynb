{
    "cells": [
        {
            "cell_type": "code",
            "execution_count": null,
            "metadata": {},
            "outputs": [],
            "source": [
                "%load_ext autoreload\n",
                "%autoreload 2\n",
                "%matplotlib qt"
            ]
        },
        {
            "cell_type": "code",
            "execution_count": null,
            "metadata": {},
            "outputs": [],
            "source": [
                "import numpy as np"
            ]
        },
        {
            "attachments": {},
            "cell_type": "markdown",
            "metadata": {},
            "source": [
                "# Load Foil Data"
            ]
        },
        {
            "cell_type": "code",
            "execution_count": null,
            "metadata": {},
            "outputs": [],
            "source": [
                "from ICARUS.computation.solvers.XFLR5.polars import read_polars_2d\n",
                "from ICARUS.database import DB\n",
                "from ICARUS.core.struct import Struct\n",
                "from ICARUS.database import EXTERNAL_DB"
            ]
        },
        {
            "attachments": {},
            "cell_type": "markdown",
            "metadata": {},
            "source": [
                "# Get Plane"
            ]
        },
        {
            "cell_type": "code",
            "execution_count": null,
            "metadata": {},
            "outputs": [],
            "source": [
                "# from vehicles.Planes.hermes import hermes\n",
                "# airplane = hermes(\"Hermes\")\n",
                "\n",
                "# from ICARUS.computation.solvers.XFLR5.parser import parse_xfl_project\n",
                "# filename: str = f\"{EXTERNAL_DB}/plane_1.xml\"\n",
                "# airplane = parse_xfl_project(filename)\n",
                "# airplane.name = \"Embraer_E190_Cruise\"\n",
                "# airplane.visualize()\n",
                "\n",
                "\n",
                "# airplane = DB.vehicles_db.planes['hermes_3']\n",
                "# airplane.save()"
            ]
        },
        {
            "cell_type": "code",
            "execution_count": null,
            "metadata": {},
            "outputs": [],
            "source": [
                "from Planes.hermes import hermes\n",
                "airplane = hermes(\"hermes\")"
            ]
        },
        {
            "attachments": {},
            "cell_type": "markdown",
            "metadata": {},
            "source": [
                "# Import Environment and Set State"
            ]
        },
        {
            "cell_type": "code",
            "execution_count": null,
            "metadata": {},
            "outputs": [],
            "source": [
                "from ICARUS.environment.definition import EARTH_ISA\n",
                "from ICARUS.flight_dynamics.state import State\n",
                "\n",
                "u_freestream = 20\n",
                "unstick = State(\n",
                "    name= \"unstick\",\n",
                "    airplane= airplane,\n",
                "    environment= EARTH_ISA,\n",
                "    u_freestream= u_freestream\n",
                ")"
            ]
        },
        {
            "attachments": {},
            "cell_type": "markdown",
            "metadata": {},
            "source": [
                "# Get Solver"
            ]
        },
        {
            "cell_type": "code",
            "execution_count": null,
            "metadata": {},
            "outputs": [],
            "source": [
                "from ICARUS.computation.solvers.GenuVP.gnvp3 import GenuVP3\n",
                "gnvp3 = GenuVP3()\n",
                "\n",
                "from ICARUS.computation.solvers.GenuVP.gnvp7 import GenuVP7\n",
                "gnvp7 = GenuVP7()\n",
                "\n",
                "from ICARUS.computation.solvers.Icarus_LSPT.wing_lspt import LSPT\n",
                "lspt = LSPT()\n",
                "\n",
                "# print(lspt)\n",
                "print(gnvp3)\n",
                "# print(gnvp7)"
            ]
        },
        {
            "attachments": {},
            "cell_type": "markdown",
            "metadata": {},
            "source": [
                "## AoA Run"
            ]
        },
        {
            "cell_type": "code",
            "execution_count": null,
            "metadata": {},
            "outputs": [],
            "source": [
                "analysis: str = gnvp3.get_analyses_names()[0]\n",
                "print(f\"Selecting Analysis: {analysis}\")\n",
                "gnvp3.select_analysis(analysis)"
            ]
        },
        {
            "cell_type": "code",
            "execution_count": null,
            "metadata": {},
            "outputs": [],
            "source": [
                "options: Struct = gnvp3.get_analysis_options(verbose=True)\n",
                "solver_parameters: Struct = gnvp3.get_solver_parameters(verbose=True)"
            ]
        },
        {
            "cell_type": "code",
            "execution_count": null,
            "metadata": {},
            "outputs": [],
            "source": [
                "AoAmin = -6\n",
                "AoAmax = 8\n",
                "NoAoA = (AoAmax - AoAmin) + 1\n",
                "angles = np.linspace(AoAmin, AoAmax, NoAoA, dtype= float)\n",
                "# airplane.define_dynamic_pressure(u_freestream, EARTH.air_density)\n",
                "\n",
                "options.plane         = airplane\n",
                "options.state         = unstick\n",
                "options.solver2D      = 'Xfoil'\n",
                "options.maxiter       = 100\n",
                "options.timestep      = 0.001\n",
                "options.angles        = angles\n",
                "\n",
                "solver_parameters.Use_Grid = 0\n",
                "\n",
                "gnvp3.define_analysis(options, solver_parameters)\n",
                "gnvp3.print_analysis_options()\n",
                "gnvp3.execute(parallel = False)\n",
                "polars = gnvp3.get_results()\n",
                "airplane.save()"
            ]
        },
        {
            "attachments": {},
            "cell_type": "markdown",
            "metadata": {},
            "source": [
                "# Dynamics"
            ]
        },
        {
            "attachments": {},
            "cell_type": "markdown",
            "metadata": {},
            "source": [
                "### Define and Trim Plane"
            ]
        },
        {
            "cell_type": "code",
            "execution_count": null,
            "metadata": {},
            "outputs": [],
            "source": [
                "from ICARUS.flight_dynamics.state import State\n",
                "if isinstance(polars,int):\n",
                "    raise Exception(\"No Polars\")\n",
                "unstick = State(\"Unstick\",airplane,environment= EARTH_ISA, u_freestream= u_freestream)\n",
                "unstick.add_polar(polars)"
            ]
        },
        {
            "attachments": {},
            "cell_type": "markdown",
            "metadata": {},
            "source": [
                "### Pertrubations"
            ]
        },
        {
            "cell_type": "code",
            "execution_count": null,
            "metadata": {},
            "outputs": [],
            "source": [
                "unstick.add_all_pertrubations(\"Central\")\n",
                "unstick.get_pertrub()"
            ]
        },
        {
            "cell_type": "code",
            "execution_count": null,
            "metadata": {},
            "outputs": [],
            "source": [
                "analysis = gnvp3.get_analyses_names(verbose=True)[1] # ANGLES PARALLEL\n",
                "print(f\"Selecting Analysis: {analysis}\")\n",
                "gnvp3.select_analysis(analysis)\n",
                "options = gnvp3.get_analysis_options(verbose=True)"
            ]
        },
        {
            "cell_type": "code",
            "execution_count": null,
            "metadata": {},
            "outputs": [],
            "source": [
                "options.plane         = airplane\n",
                "options.state         = unstick\n",
                "options.solver2D      = 'XFLR'\n",
                "options.maxiter       = 200\n",
                "options.timestep      = 5e-3\n",
                "\n",
                "gnvp3.print_analysis_options()\n",
                "gnvp3.define_analysis(options, solver_parameters)\n",
                "gnvp3.execute(parallel=True)\n",
                "gnvp3.get_results()"
            ]
        }
    ],
    "metadata": {
        "kernelspec": {
            "display_name": "aero",
            "language": "python",
            "name": "python3"
        },
        "language_info": {
            "codemirror_mode": {
                "name": "ipython",
                "version": 3
            },
            "file_extension": ".py",
            "mimetype": "text/x-python",
            "name": "python",
            "nbconvert_exporter": "python",
            "pygments_lexer": "ipython3",
            "version": "3.12.0"
        },
        "vscode": {
            "interpreter": {
                "hash": "8acd08952dc410be23279ea6eab1a080d514a48a01ad47827aa392f9fbd61ae4"
            }
        }
    },
    "nbformat": 4,
    "nbformat_minor": 2
}
