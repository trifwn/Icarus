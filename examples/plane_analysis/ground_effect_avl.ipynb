{
    "cells": [
        {
            "cell_type": "code",
            "execution_count": null,
            "metadata": {},
            "outputs": [],
            "source": [
                "%load_ext autoreload\n",
                "%autoreload 2\n",
                "%matplotlib qt"
            ]
        },
        {
            "cell_type": "code",
            "execution_count": null,
            "metadata": {},
            "outputs": [],
            "source": [
                "import numpy as np\n",
                "from ICARUS.database import DB"
            ]
        },
        {
            "attachments": {},
            "cell_type": "markdown",
            "metadata": {},
            "source": [
                "# Get Plane"
            ]
        },
        {
            "cell_type": "code",
            "execution_count": null,
            "metadata": {},
            "outputs": [],
            "source": [
                "from Planes.box_wing_nondimensional import get_box_wing\n",
                "airplane = get_box_wing(name = 'ge_box', AR=9, naca = \"0012\")"
            ]
        },
        {
            "attachments": {},
            "cell_type": "markdown",
            "metadata": {},
            "source": [
                "# Import Environment and Set State"
            ]
        },
        {
            "cell_type": "code",
            "execution_count": null,
            "metadata": {},
            "outputs": [],
            "source": [
                "from ICARUS.environment.definition import EARTH_ISA\n",
                "from ICARUS.flight_dynamics.state import State\n",
                "\n",
                "u_freestream = 20\n",
                "unstick = State(\n",
                "    name= \"unstick\",\n",
                "    airplane= airplane,\n",
                "    environment= EARTH_ISA,\n",
                "    u_freestream= u_freestream\n",
                ")"
            ]
        },
        {
            "attachments": {},
            "cell_type": "markdown",
            "metadata": {},
            "source": [
                "# Get Solver"
            ]
        },
        {
            "cell_type": "code",
            "execution_count": null,
            "metadata": {},
            "outputs": [],
            "source": [
                "from ICARUS.computation.solvers.AVL.avl import AVL\n",
                "avl = AVL()\n",
                "print(avl)"
            ]
        },
        {
            "attachments": {},
            "cell_type": "markdown",
            "metadata": {},
            "source": [
                "## AoA Run"
            ]
        },
        {
            "cell_type": "code",
            "execution_count": null,
            "metadata": {},
            "outputs": [],
            "source": [
                "analysis: str = avl.get_analyses_names()[0]\n",
                "print(f\"Selecting Analysis: {analysis}\")\n",
                "avl.select_analysis(analysis)"
            ]
        },
        {
            "cell_type": "code",
            "execution_count": null,
            "metadata": {},
            "outputs": [],
            "source": [
                "options = avl.get_analysis_options(verbose=True)\n",
                "solver_parameters = avl.get_solver_parameters(verbose=True)"
            ]
        },
        {
            "cell_type": "code",
            "execution_count": null,
            "metadata": {},
            "outputs": [],
            "source": [
                "AoAmin = -6\n",
                "AoAmax = 8\n",
                "NoAoA = (AoAmax - AoAmin) + 1\n",
                "angles = np.linspace(AoAmin, AoAmax, NoAoA, dtype= float)\n",
                "# airplane.define_dynamic_pressure(u_freestream, EARTH.air_density)\n",
                "\n",
                "options.plane         = airplane\n",
                "options.state         = unstick\n",
                "options.solver2D      = 'Xfoil'\n",
                "options.angles        = angles\n",
                "\n",
                "solver_parameters.inviscid = True\n",
                "\n",
                "hs = np.linspace(0, 10*airplane.span, 100)\n",
                "\n",
                "for h in hs:\n",
                "    unstick.environment._set_altitude(h)\n",
                "    airplane.name = f\"ge_box_{h}\"\n",
                "    avl.define_analysis(options, solver_parameters)\n",
                "    avl.print_analysis_options()\n",
                "    avl.execute(parallel = False)\n",
                "    polars = avl.get_results()\n",
                "    airplane.save()"
            ]
        },
        {
            "cell_type": "markdown",
            "metadata": {},
            "source": [
                "# Post Process"
            ]
        },
        {
            "cell_type": "code",
            "execution_count": null,
            "metadata": {},
            "outputs": [],
            "source": [
                "import matplotlib.pyplot as plt\n",
                "from matplotlib import colors\n",
                "\n",
                "\n",
                "cdict = {\n",
                "    'red': ((0.0, 0.22, 0.0), (0.5, 1.0, 1.0), (1.0, 0.89, 1.0)),\n",
                "    'green': ((0.0, 0.49, 0.0), (0.5, 1.0, 1.0), (1.0, 0.12, 1.0)),\n",
                "    'blue': ((0.0, 0.72, 0.0), (0.5, 0.0, 0.0), (1.0, 0.11, 1.0)),\n",
                "}\n",
                "\n",
                "colors_ = colors.LinearSegmentedColormap('custom', cdict)\n",
                "\n",
                "\n",
                "db3d = DB.vehicles_db\n",
                "planenames: list[str] = db3d.get_planenames()\n",
                "fig = plt.figure(figsize=(10,10))\n",
                "axs = fig.subplots(2,1)  # type: ignore\n",
                "\n",
                "\n",
                "axs[0].set_xlabel(\"h [m]\")\n",
                "axs[0].set_ylabel(\"CL\")\n",
                "axs[0].grid(True)\n",
                "\n",
                "axs[1].set_xlabel(\"h [m]\")\n",
                "axs[1].set_ylabel(\"CD\")\n",
                "axs[1].grid(True)\n",
                "\n",
                "polars = {}\n",
                "for planename in planenames:\n",
                "    if not planename.startswith(\"ge_box\"):\n",
                "        continue\n",
                "    # Get h from the name\n",
                "    h = float(planename.split(\"_\")[-1])\n",
                "\n",
                "    polar = DB.vehicles_db.polars[planename]\n",
                "    # Get the dataframe where AoA is between -3 and 3\n",
                "    polar = polar[(polar['AoA'] >= -3) & (polar['AoA'] <= 3)]\n",
                "\n",
                "    polars[h] = (polar[\"AVL CL\"], polar[\"AVL CD\"], polar['AoA'])\n",
                "    \n",
                "# plot the polars in the same plot.\n",
                "# We want the keys to be the x axis and the aoa values to be different lines\n",
                "# For the first plot, we want the CL values\n",
                "# For the second plot, we want the CD values\n",
                "    \n",
                "for i,(h, polar) in enumerate(polars.items()):\n",
                "    if h == 0:\n",
                "        h = \"Infinity\"\n",
                "    else:\n",
                "        h = f\"{h:.4f}\"\n",
                "    axs[0].plot(polar[2], polar[0],color = colors_(i/len(polars.keys())) , label = f\"h = {h} m\")\n",
                "    axs[1].plot(polar[2], polar[1],color = colors_(i/len(polars.keys())) , label = f\"h = {h} m\")\n",
                "\n",
                "axs[0].legend()"
            ]
        },
        {
            "cell_type": "code",
            "execution_count": null,
            "metadata": {},
            "outputs": [],
            "source": []
        }
    ],
    "metadata": {
        "kernelspec": {
            "display_name": "aero",
            "language": "python",
            "name": "python3"
        },
        "language_info": {
            "codemirror_mode": {
                "name": "ipython",
                "version": 3
            },
            "file_extension": ".py",
            "mimetype": "text/x-python",
            "name": "python",
            "nbconvert_exporter": "python",
            "pygments_lexer": "ipython3",
            "version": "3.12.0"
        },
        "vscode": {
            "interpreter": {
                "hash": "8acd08952dc410be23279ea6eab1a080d514a48a01ad47827aa392f9fbd61ae4"
            }
        }
    },
    "nbformat": 4,
    "nbformat_minor": 2
}
