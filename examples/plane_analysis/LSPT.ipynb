{
 "cells": [
  {
   "cell_type": "code",
   "execution_count": null,
   "metadata": {},
   "outputs": [],
   "source": [
    "%load_ext autoreload\n",
    "%autoreload 2\n",
    "%matplotlib qt"
   ]
  },
  {
   "cell_type": "code",
   "execution_count": null,
   "metadata": {},
   "outputs": [],
   "source": [
    "import numpy as np"
   ]
  },
  {
   "attachments": {},
   "cell_type": "markdown",
   "metadata": {},
   "source": [
    "# Get Plane"
   ]
  },
  {
   "cell_type": "code",
   "execution_count": null,
   "metadata": {},
   "outputs": [],
   "source": [
    "from Planes.hermes import  hermes\n",
    "airplane = hermes(\"hermes\")\n",
    "airplane.visualize()"
   ]
  },
  {
   "cell_type": "code",
   "execution_count": null,
   "metadata": {},
   "outputs": [],
   "source": [
    "airplane.span"
   ]
  },
  {
   "attachments": {},
   "cell_type": "markdown",
   "metadata": {},
   "source": [
    "# Import Environment and Set State"
   ]
  },
  {
   "cell_type": "code",
   "execution_count": null,
   "metadata": {},
   "outputs": [],
   "source": [
    "from ICARUS.environment.definition import EARTH_ISA\n",
    "from ICARUS.flight_dynamics.state import State\n",
    "\n",
    "u_freestream = 20\n",
    "unstick = State(\n",
    "    name= \"unstick\",\n",
    "    airplane= airplane,\n",
    "    environment= EARTH_ISA,\n",
    "    u_freestream= u_freestream\n",
    ")"
   ]
  },
  {
   "attachments": {},
   "cell_type": "markdown",
   "metadata": {},
   "source": [
    "# Get Solver"
   ]
  },
  {
   "cell_type": "code",
   "execution_count": null,
   "metadata": {},
   "outputs": [],
   "source": [
    "from ICARUS.computation.solvers.Icarus_LSPT.wing_lspt import LSPT\n",
    "lspt = LSPT()\n",
    "\n",
    "print(lspt)\n"
   ]
  },
  {
   "attachments": {},
   "cell_type": "markdown",
   "metadata": {},
   "source": [
    "## AoA Run"
   ]
  },
  {
   "cell_type": "code",
   "execution_count": null,
   "metadata": {},
   "outputs": [],
   "source": [
    "analysis: str = lspt.get_analyses_names()[0]\n",
    "print(f\"Selecting Analysis: {analysis}\")\n",
    "lspt.select_analysis(analysis)"
   ]
  },
  {
   "cell_type": "code",
   "execution_count": null,
   "metadata": {},
   "outputs": [],
   "source": [
    "options = lspt.get_analysis_options(verbose=True)\n",
    "solver_parameters = lspt.get_solver_parameters(verbose=True)"
   ]
  },
  {
   "cell_type": "code",
   "execution_count": null,
   "metadata": {},
   "outputs": [],
   "source": [
    "from ICARUS.aerodynamics.wing_lspt import LSPT_Plane\n",
    "plane_LSPT = LSPT_Plane(plane = airplane)\n",
    "plane_LSPT.alpha = 5"
   ]
  },
  {
   "cell_type": "code",
   "execution_count": null,
   "metadata": {},
   "outputs": [],
   "source": [
    "import matplotlib.pyplot as plt\n",
    "from mpl_toolkits.mplot3d import Axes3D\n",
    "fig = plt.figure()\n",
    "ax: Axes3D = fig.add_subplot(111, projection='3d') # type: ignore\n",
    "plane_LSPT.plot_panels(ax = ax)"
   ]
  },
  {
   "cell_type": "code",
   "execution_count": null,
   "metadata": {},
   "outputs": [],
   "source": [
    "plane_LSPT.surface_dict['rudder']"
   ]
  },
  {
   "cell_type": "code",
   "execution_count": null,
   "metadata": {},
   "outputs": [],
   "source": [
    "plane_LSPT.aseq(\n",
    "    state = unstick,\n",
    "    angles = np.linspace(-10, 10, 20),\n",
    ")"
   ]
  },
  {
   "cell_type": "code",
   "execution_count": null,
   "metadata": {},
   "outputs": [],
   "source": [
    "plane_LSPT.plot_surface_gamma_distribution()"
   ]
  },
  {
   "cell_type": "code",
   "execution_count": null,
   "metadata": {},
   "outputs": [],
   "source": [
    "# Plot the panels and lift\n",
    "plane_LSPT.plot_L_pan()\n",
    "plane_LSPT.plot_D_pan()"
   ]
  },
  {
   "cell_type": "code",
   "execution_count": null,
   "metadata": {},
   "outputs": [],
   "source": [
    "plane_LSPT.L_pan"
   ]
  },
  {
   "cell_type": "code",
   "execution_count": null,
   "metadata": {},
   "outputs": [],
   "source": [
    "AoAmin = -6\n",
    "AoAmax = 8\n",
    "NoAoA = (AoAmax - AoAmin) + 1\n",
    "angles = np.linspace(AoAmin, AoAmax, NoAoA, dtype= float)\n",
    "# airplane.define_dynamic_pressure(u_freestream, EARTH.air_density)\n",
    "\n",
    "options.plane         = airplane\n",
    "options.state         = unstick\n",
    "options.solver2D      = 'Xfoil'\n",
    "# options.maxiter       = 100\n",
    "# options.timestep      = 0.001\n",
    "options.angles        = angles\n",
    "\n",
    "solver_parameters.Use_Grid = 0\n",
    "\n",
    "lspt.define_analysis(options, solver_parameters)\n",
    "lspt.print_analysis_options()\n",
    "lspt.execute(parallel = False)\n",
    "polars = lspt.get_results()\n",
    "airplane.save()"
   ]
  },
  {
   "attachments": {},
   "cell_type": "markdown",
   "metadata": {},
   "source": [
    "# Dynamics"
   ]
  },
  {
   "attachments": {},
   "cell_type": "markdown",
   "metadata": {},
   "source": [
    "### Define and Trim Plane"
   ]
  },
  {
   "cell_type": "code",
   "execution_count": null,
   "metadata": {},
   "outputs": [],
   "source": [
    "from ICARUS.flight_dynamics.state import State\n",
    "if isinstance(polars,int):\n",
    "    raise Exception(\"No Polars\")\n",
    "unstick = State(\"Unstick\",airplane,environment= EARTH_ISA, u_freestream= u_freestream)\n",
    "unstick.add_polar(polars)"
   ]
  },
  {
   "attachments": {},
   "cell_type": "markdown",
   "metadata": {},
   "source": [
    "### Pertrubations"
   ]
  },
  {
   "cell_type": "code",
   "execution_count": null,
   "metadata": {},
   "outputs": [],
   "source": [
    "unstick.add_all_pertrubations(\"Central\")\n",
    "unstick.get_pertrub()"
   ]
  },
  {
   "cell_type": "code",
   "execution_count": null,
   "metadata": {},
   "outputs": [],
   "source": [
    "analysis = lspt.get_analyses_names(verbose=True)[1] # ANGLES PARALLEL\n",
    "print(f\"Selecting Analysis: {analysis}\")\n",
    "lspt.select_analysis(analysis)\n",
    "options = lspt.get_analysis_options(verbose=True)"
   ]
  },
  {
   "cell_type": "code",
   "execution_count": null,
   "metadata": {},
   "outputs": [],
   "source": [
    "options.plane         = airplane\n",
    "options.state         = unstick\n",
    "options.solver2D      = 'XFLR'\n",
    "options.maxiter       = 200\n",
    "options.timestep      = 5e-3\n",
    "\n",
    "lspt.print_analysis_options()\n",
    "lspt.define_analysis(options, solver_parameters)\n",
    "lspt.execute(parallel=True)\n",
    "lspt.get_results()"
   ]
  }
 ],
 "metadata": {
  "kernelspec": {
   "display_name": "aero",
   "language": "python",
   "name": "python3"
  },
  "language_info": {
   "codemirror_mode": {
    "name": "ipython",
    "version": 3
   },
   "file_extension": ".py",
   "mimetype": "text/x-python",
   "name": "python",
   "nbconvert_exporter": "python",
   "pygments_lexer": "ipython3",
   "version": "3.12.2"
  },
  "vscode": {
   "interpreter": {
    "hash": "8acd08952dc410be23279ea6eab1a080d514a48a01ad47827aa392f9fbd61ae4"
   }
  }
 },
 "nbformat": 4,
 "nbformat_minor": 2
}
