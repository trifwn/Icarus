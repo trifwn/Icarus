{
 "cells": [
  {
   "cell_type": "code",
   "execution_count": null,
   "metadata": {},
   "outputs": [],
   "source": [
    "%load_ext autoreload\n",
    "%autoreload 2\n",
    "%matplotlib qt"
   ]
  },
  {
   "cell_type": "code",
   "execution_count": null,
   "metadata": {},
   "outputs": [],
   "source": [
    "import numpy as np\n",
    "import os"
   ]
  },
  {
   "cell_type": "code",
   "execution_count": null,
   "metadata": {},
   "outputs": [],
   "source": [
    "from ICARUS.database import Database\n",
    "from ICARUS import INSTALL_DIR\n",
    "database_folder = os.path.join(INSTALL_DIR, \"Data\")\n",
    "DB = Database(database_folder)"
   ]
  },
  {
   "attachments": {},
   "cell_type": "markdown",
   "metadata": {},
   "source": [
    "# Get Plane"
   ]
  },
  {
   "cell_type": "code",
   "execution_count": null,
   "metadata": {},
   "outputs": [],
   "source": [
    "from Planes.hermes import hermes\n",
    "from ICARUS.aero import LSPT_Plane\n",
    "\n",
    "airplane = hermes(\"hermes\")\n",
    "plane_LSPT = LSPT_Plane(airplane)\n",
    "# airplane.plot()\n"
   ]
  },
  {
   "attachments": {},
   "cell_type": "markdown",
   "metadata": {},
   "source": [
    "# Import Environment and Set State"
   ]
  },
  {
   "cell_type": "code",
   "execution_count": null,
   "metadata": {},
   "outputs": [],
   "source": [
    "from ICARUS.environment import EARTH_ISA\n",
    "from ICARUS.flight_dynamics import State\n",
    "\n",
    "u_freestream = 20\n",
    "unstick = State(\n",
    "    name=\"unstick\", airplane=airplane, environment=EARTH_ISA, u_freestream=u_freestream\n",
    ")"
   ]
  },
  {
   "cell_type": "code",
   "execution_count": null,
   "metadata": {},
   "outputs": [],
   "source": [
    "DB.DB2D"
   ]
  },
  {
   "cell_type": "code",
   "execution_count": null,
   "metadata": {},
   "outputs": [],
   "source": [
    "from ICARUS.aero.vlm import run_vlm_polar_analysis\n",
    "\n",
    "results = run_vlm_polar_analysis(\n",
    "    plane=plane_LSPT,\n",
    "    state= unstick,\n",
    "    angles = np.linspace(-10, 15, 26),\n",
    ")\n",
    "\n",
    "# plane_LSPT.plot_surface_gamma_distribution()\n",
    "# plane_LSPT.plot_L_pan()\n",
    "# plane_LSPT.plot_D_pan()\n"
   ]
  },
  {
   "cell_type": "code",
   "execution_count": null,
   "metadata": {},
   "outputs": [],
   "source": [
    "mode = 'viscous'\n",
    "results.plot_polar(x_coeff= 'AoA', y_coeff='CL', title='Lift Coefficient Polar', calculation= mode)\n",
    "results.plot_polar(x_coeff= 'AoA', y_coeff='CD', title='Drag Coefficient Polar', calculation= mode)\n",
    "results.plot_polar(x_coeff= 'AoA', y_coeff='Cm', title='Moment Coefficient Polar', calculation= mode)\n",
    "results.plot_polar(x_coeff= 'CL', y_coeff='CD', title='Drag Polar', calculation= mode)"
   ]
  },
  {
   "attachments": {},
   "cell_type": "markdown",
   "metadata": {},
   "source": [
    "# Get Solver"
   ]
  },
  {
   "cell_type": "code",
   "execution_count": null,
   "metadata": {},
   "outputs": [],
   "source": [
    "from ICARUS.solvers.Icarus_LSPT import LSPT\n",
    "\n",
    "lspt = LSPT()\n",
    "\n",
    "print(lspt)"
   ]
  },
  {
   "attachments": {},
   "cell_type": "markdown",
   "metadata": {},
   "source": [
    "## AoA Run"
   ]
  },
  {
   "cell_type": "code",
   "execution_count": null,
   "metadata": {},
   "outputs": [],
   "source": [
    "analysis = lspt.aseq\n",
    "inputs = analysis.get_analysis_input(verbose=True)\n",
    "solver_parameters = lspt.get_solver_parameters(verbose=True)"
   ]
  },
  {
   "cell_type": "code",
   "execution_count": null,
   "metadata": {},
   "outputs": [],
   "source": [
    "AoAmin = -6\n",
    "AoAmax = 8\n",
    "NoAoA = (AoAmax - AoAmin) + 1\n",
    "angles = np.linspace(AoAmin, AoAmax, NoAoA, dtype=float)\n",
    "\n",
    "inputs.plane = airplane\n",
    "inputs.state = unstick\n",
    "inputs.angles = angles\n",
    "\n",
    "# solver_parameters.Use_Grid = 0\n",
    "# solver_parameters.solver2D = \"Xfoil\"\n",
    "\n",
    "res = lspt.execute(\n",
    "    analysis=analysis,\n",
    "    inputs= inputs,\n",
    "    solver_parameters= None #solver_parameters,\n",
    "    )"
   ]
  }
 ],
 "metadata": {
  "kernelspec": {
   "display_name": "aero",
   "language": "python",
   "name": "python3"
  },
  "language_info": {
   "codemirror_mode": {
    "name": "ipython",
    "version": 3
   },
   "file_extension": ".py",
   "mimetype": "text/x-python",
   "name": "python",
   "nbconvert_exporter": "python",
   "pygments_lexer": "ipython3",
   "version": "3.13.5"
  },
  "vscode": {
   "interpreter": {
    "hash": "8acd08952dc410be23279ea6eab1a080d514a48a01ad47827aa392f9fbd61ae4"
   }
  }
 },
 "nbformat": 4,
 "nbformat_minor": 2
}
