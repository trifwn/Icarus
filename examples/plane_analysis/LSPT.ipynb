{
 "cells": [
  {
   "cell_type": "code",
   "execution_count": 1,
   "metadata": {},
   "outputs": [],
   "source": [
    "%load_ext autoreload\n",
    "%autoreload 2\n",
    "%matplotlib qt"
   ]
  },
  {
   "cell_type": "code",
   "execution_count": 2,
   "metadata": {},
   "outputs": [],
   "source": [
    "import numpy as np"
   ]
  },
  {
   "attachments": {},
   "cell_type": "markdown",
   "metadata": {},
   "source": [
    "# Get Plane"
   ]
  },
  {
   "cell_type": "code",
   "execution_count": 3,
   "metadata": {},
   "outputs": [],
   "source": [
    "from Planes.hermes import hermes\n",
    "\n",
    "airplane = hermes(\"hermes\")\n",
    "# airplane.plot()"
   ]
  },
  {
   "attachments": {},
   "cell_type": "markdown",
   "metadata": {},
   "source": [
    "# Import Environment and Set State"
   ]
  },
  {
   "cell_type": "code",
   "execution_count": 4,
   "metadata": {},
   "outputs": [],
   "source": [
    "from ICARUS.environment import EARTH_ISA\n",
    "from ICARUS.flight_dynamics import State\n",
    "\n",
    "u_freestream = 20\n",
    "unstick = State(\n",
    "    name=\"unstick\", airplane=airplane, environment=EARTH_ISA, u_freestream=u_freestream\n",
    ")"
   ]
  },
  {
   "cell_type": "code",
   "execution_count": 35,
   "metadata": {},
   "outputs": [],
   "source": [
    "import jax\n",
    "import jax.numpy as jnp\n",
    "from ICARUS.aero import LSPT_Plane, AerodynamicState\n",
    "from ICARUS.aero.vlm import get_RHS, get_LHS\n",
    "\n",
    "plane_LSPT = LSPT_Plane(plane=airplane)\n",
    "# plane_LSPT.plot_panels(plot_wake= True)\n",
    "\n",
    "aerodynamic_state = AerodynamicState(\n",
    "    airspeed=20,\n",
    "    altitude=0.,\n",
    "    density= 1.225,\n",
    "    mach=0.0,  # Assuming incompressible flow\n",
    "    # Positional State\n",
    "    alpha=0.0,\n",
    "    beta=0.0,\n",
    "    rate_P=0.0,\n",
    "    rate_Q=0.0,\n",
    "    rate_R=0.0,\n",
    ")\n",
    "\n",
    "Q = aerodynamic_state.velocity_vector_jax\n",
    "RHS = get_RHS(plane_LSPT, Q)\n",
    "\n",
    "A, A_star = get_LHS(plane_LSPT)\n",
    "A_LU, A_piv = jax.scipy.linalg.lu_factor(A)\n",
    "\n",
    "gammas = jax.scipy.linalg.lu_solve((A_LU, A_piv), RHS)\n",
    "w_induced = jnp.matmul(A_star, gammas)\n"
   ]
  },
  {
   "cell_type": "code",
   "execution_count": 38,
   "metadata": {},
   "outputs": [
    {
     "data": {
      "text/plain": [
       "(565,)"
      ]
     },
     "execution_count": 38,
     "metadata": {},
     "output_type": "execute_result"
    }
   ],
   "source": [
    "w_induced.shape"
   ]
  },
  {
   "cell_type": "code",
   "execution_count": 39,
   "metadata": {},
   "outputs": [
    {
     "data": {
      "text/plain": [
       "[<matplotlib.lines.Line2D at 0x23b9115b890>]"
      ]
     },
     "execution_count": 39,
     "metadata": {},
     "output_type": "execute_result"
    }
   ],
   "source": [
    "\n",
    "\n",
    "plt.plot(w_induced)"
   ]
  },
  {
   "cell_type": "code",
   "execution_count": 26,
   "metadata": {},
   "outputs": [],
   "source": [
    "from ICARUS.aero import AerodynamicLoads\n",
    "\n",
    "aero_loads = AerodynamicLoads(\n",
    "    plane=plane_LSPT,\n",
    ")\n",
    "\n",
    "strip = aero_loads.strips[0]\n"
   ]
  },
  {
   "cell_type": "code",
   "execution_count": 41,
   "metadata": {},
   "outputs": [
    {
     "name": "stdout",
     "output_type": "stream",
     "text": [
      "Angle of Attack: -5.0 degrees\n",
      "\tTotal Lift (Potential): -3.05 N\n",
      "\tTotal Drag (Potential): 1369957793775024.50 N\n",
      "\tTotal Moment (Potential): 0.00 Nm\n",
      "\tTotal Lift (Viscous): 0.00 N\n",
      "\tTotal Drag (Viscous): 0.00 N\n",
      "\tTotal Moment (Viscous): 0.00 Nm\n",
      "Angle of Attack: -4.0 degrees\n",
      "\tTotal Lift (Potential): -2.55 N\n",
      "\tTotal Drag (Potential): 1634608813358772.25 N\n",
      "\tTotal Moment (Potential): 0.00 Nm\n",
      "\tTotal Lift (Viscous): 0.00 N\n",
      "\tTotal Drag (Viscous): 0.00 N\n",
      "\tTotal Moment (Viscous): 0.00 Nm\n",
      "Angle of Attack: -3.0 degrees\n",
      "\tTotal Lift (Potential): -1.56 N\n",
      "\tTotal Drag (Potential): 1716016513495843.00 N\n",
      "\tTotal Moment (Potential): 0.00 Nm\n",
      "\tTotal Lift (Viscous): 0.00 N\n",
      "\tTotal Drag (Viscous): 0.00 N\n",
      "\tTotal Moment (Viscous): 0.00 Nm\n",
      "Angle of Attack: -2.0 degrees\n",
      "\tTotal Lift (Potential): -0.56 N\n",
      "\tTotal Drag (Potential): 1102946944441981.50 N\n",
      "\tTotal Moment (Potential): 0.00 Nm\n",
      "\tTotal Lift (Viscous): 0.00 N\n",
      "\tTotal Drag (Viscous): 0.00 N\n",
      "\tTotal Moment (Viscous): 0.00 Nm\n",
      "Angle of Attack: -1.0 degrees\n",
      "\tTotal Lift (Potential): 0.68 N\n",
      "\tTotal Drag (Potential): 386859621250396.12 N\n",
      "\tTotal Moment (Potential): 0.00 Nm\n",
      "\tTotal Lift (Viscous): 0.00 N\n",
      "\tTotal Drag (Viscous): 0.00 N\n",
      "\tTotal Moment (Viscous): 0.00 Nm\n",
      "Angle of Attack: 0.0 degrees\n",
      "\tTotal Lift (Potential): 1.36 N\n",
      "\tTotal Drag (Potential): 268402321803970.91 N\n",
      "\tTotal Moment (Potential): 0.00 Nm\n",
      "\tTotal Lift (Viscous): 0.00 N\n",
      "\tTotal Drag (Viscous): 0.00 N\n",
      "\tTotal Moment (Viscous): 0.00 Nm\n",
      "Angle of Attack: 1.0 degrees\n",
      "\tTotal Lift (Potential): 2.42 N\n",
      "\tTotal Drag (Potential): 31549674581174.41 N\n",
      "\tTotal Moment (Potential): 0.00 Nm\n",
      "\tTotal Lift (Viscous): 0.00 N\n",
      "\tTotal Drag (Viscous): 0.00 N\n",
      "\tTotal Moment (Viscous): 0.00 Nm\n",
      "Angle of Attack: 2.0 degrees\n",
      "\tTotal Lift (Potential): 3.41 N\n",
      "\tTotal Drag (Potential): -523351021513.96 N\n",
      "\tTotal Moment (Potential): 0.00 Nm\n",
      "\tTotal Lift (Viscous): 0.00 N\n",
      "\tTotal Drag (Viscous): 0.00 N\n",
      "\tTotal Moment (Viscous): 0.00 Nm\n",
      "Angle of Attack: 3.0 degrees\n",
      "\tTotal Lift (Potential): 4.41 N\n",
      "\tTotal Drag (Potential): 81594386430696.94 N\n",
      "\tTotal Moment (Potential): 0.00 Nm\n",
      "\tTotal Lift (Viscous): 0.00 N\n",
      "\tTotal Drag (Viscous): 0.00 N\n",
      "\tTotal Moment (Viscous): 0.00 Nm\n",
      "Angle of Attack: 4.0 degrees\n",
      "\tTotal Lift (Potential): 5.40 N\n",
      "\tTotal Drag (Potential): 250902240211251.06 N\n",
      "\tTotal Moment (Potential): 0.00 Nm\n",
      "\tTotal Lift (Viscous): 0.00 N\n",
      "\tTotal Drag (Viscous): 0.00 N\n",
      "\tTotal Moment (Viscous): 0.00 Nm\n",
      "Angle of Attack: 5.0 degrees\n",
      "\tTotal Lift (Potential): 6.39 N\n",
      "\tTotal Drag (Potential): 339070127379762.69 N\n",
      "\tTotal Moment (Potential): 0.00 Nm\n",
      "\tTotal Lift (Viscous): 0.00 N\n",
      "\tTotal Drag (Viscous): 0.00 N\n",
      "\tTotal Moment (Viscous): 0.00 Nm\n"
     ]
    },
    {
     "data": {
      "application/vnd.microsoft.datawrangler.viewer.v0+json": {
       "columns": [
        {
         "name": "index",
         "rawType": "object",
         "type": "string"
        },
        {
         "name": "AoA",
         "rawType": "float64",
         "type": "float"
        },
        {
         "name": "Lift_Potential",
         "rawType": "float64",
         "type": "float"
        },
        {
         "name": "Drag_Potential",
         "rawType": "float64",
         "type": "float"
        },
        {
         "name": "Lift_Viscous",
         "rawType": "float64",
         "type": "float"
        },
        {
         "name": "Drag_Viscous",
         "rawType": "float64",
         "type": "float"
        },
        {
         "name": "CL",
         "rawType": "float64",
         "type": "float"
        },
        {
         "name": "CD",
         "rawType": "float64",
         "type": "float"
        },
        {
         "name": "CL_2D",
         "rawType": "float64",
         "type": "float"
        },
        {
         "name": "CD_2D",
         "rawType": "float64",
         "type": "float"
        },
        {
         "name": "Beta",
         "rawType": "float64",
         "type": "float"
        },
        {
         "name": "Airspeed",
         "rawType": "float64",
         "type": "float"
        },
        {
         "name": "Density",
         "rawType": "float64",
         "type": "float"
        },
        {
         "name": "Mach",
         "rawType": "float64",
         "type": "float"
        }
       ],
       "ref": "f7e376f1-78c7-4fe5-aacb-b6217b88d86f",
       "rows": [
        [
         "AerodynamicLoads_-5.00deg",
         "-5.0",
         "-1.5234474308029817",
         "684978896887512.2",
         "0.0",
         "0.0",
         "-0.023822048217922675",
         "10710970382032.209",
         "0.0",
         "0.0",
         "0.0",
         "20.0",
         "1.224977055877323",
         "0.0"
        ],
        [
         "AerodynamicLoads_-4.00deg",
         "-4.0",
         "-1.2772049334770013",
         "817304406679386.1",
         "0.0",
         "0.0",
         "-0.01997157033073405",
         "12780135757211.395",
         "0.0",
         "0.0",
         "0.0",
         "20.0",
         "1.224977055877323",
         "0.0"
        ],
        [
         "AerodynamicLoads_-3.00deg",
         "-3.0",
         "-0.779746312629471",
         "858008256747921.5",
         "0.0",
         "0.0",
         "-0.012192842287584571",
         "13416619208745.17",
         "0.0",
         "0.0",
         "0.0",
         "20.0",
         "1.224977055877323",
         "0.0"
        ],
        [
         "AerodynamicLoads_-2.00deg",
         "-2.0",
         "-0.28208338730347476",
         "551473472220990.75",
         "0.0",
         "0.0",
         "-0.00441091954861642",
         "8623354754833.44",
         "0.0",
         "0.0",
         "0.0",
         "20.0",
         "1.224977055877323",
         "0.0"
        ],
        [
         "AerodynamicLoads_-1.00deg",
         "-1.0",
         "0.3402928224905513",
         "193429810625198.06",
         "0.0",
         "0.0",
         "0.00532113669410315",
         "3024649346166.3994",
         "0.0",
         "0.0",
         "0.0",
         "20.0",
         "1.224977055877323",
         "0.0"
        ],
        [
         "AerodynamicLoads_0.00deg",
         "0.0",
         "0.6815003080810665",
         "134201160901985.45",
         "0.0",
         "0.0",
         "0.010656575915507166",
         "2098494809383.2444",
         "0.0",
         "0.0",
         "0.0",
         "20.0",
         "1.224977055877323",
         "0.0"
        ],
        [
         "AerodynamicLoads_1.00deg",
         "1.0",
         "1.2098862911809427",
         "15774837290587.203",
         "0.0",
         "0.0",
         "0.01891891310717857",
         "246670102931.07486",
         "0.0",
         "0.0",
         "0.0",
         "20.0",
         "1.224977055877323",
         "0.0"
        ],
        [
         "AerodynamicLoads_2.00deg",
         "2.0",
         "1.7047368720852258",
         "-261675510756.98166",
         "0.0",
         "0.0",
         "0.02665685939965776",
         "-4091802912.6982856",
         "0.0",
         "0.0",
         "0.0",
         "20.0",
         "1.224977055877323",
         "0.0"
        ],
        [
         "AerodynamicLoads_3.00deg",
         "3.0",
         "2.2030549079635966",
         "40797193215348.47",
         "0.0",
         "0.0",
         "0.03444902605965081",
         "637943052238.8832",
         "0.0",
         "0.0",
         "0.0",
         "20.0",
         "1.224977055877323",
         "0.0"
        ],
        [
         "AerodynamicLoads_4.00deg",
         "4.0",
         "2.6987758706053095",
         "125451120105625.53",
         "0.0",
         "0.0",
         "0.04220058245465",
         "1961670991544.1152",
         "0.0",
         "0.0",
         "0.0",
         "20.0",
         "1.224977055877323",
         "0.0"
        ],
        [
         "AerodynamicLoads_5.00deg",
         "5.0",
         "3.1934044390915663",
         "169535063689881.34",
         "0.0",
         "0.0",
         "0.049935057153413336",
         "2651008745159.151",
         "0.0",
         "0.0",
         "0.0",
         "20.0",
         "1.224977055877323",
         "0.0"
        ]
       ],
       "shape": {
        "columns": 13,
        "rows": 11
       }
      },
      "text/html": [
       "<div>\n",
       "<style scoped>\n",
       "    .dataframe tbody tr th:only-of-type {\n",
       "        vertical-align: middle;\n",
       "    }\n",
       "\n",
       "    .dataframe tbody tr th {\n",
       "        vertical-align: top;\n",
       "    }\n",
       "\n",
       "    .dataframe thead th {\n",
       "        text-align: right;\n",
       "    }\n",
       "</style>\n",
       "<table border=\"1\" class=\"dataframe\">\n",
       "  <thead>\n",
       "    <tr style=\"text-align: right;\">\n",
       "      <th></th>\n",
       "      <th>AoA</th>\n",
       "      <th>Lift_Potential</th>\n",
       "      <th>Drag_Potential</th>\n",
       "      <th>Lift_Viscous</th>\n",
       "      <th>Drag_Viscous</th>\n",
       "      <th>CL</th>\n",
       "      <th>CD</th>\n",
       "      <th>CL_2D</th>\n",
       "      <th>CD_2D</th>\n",
       "      <th>Beta</th>\n",
       "      <th>Airspeed</th>\n",
       "      <th>Density</th>\n",
       "      <th>Mach</th>\n",
       "    </tr>\n",
       "  </thead>\n",
       "  <tbody>\n",
       "    <tr>\n",
       "      <th>AerodynamicLoads_-5.00deg</th>\n",
       "      <td>-5.0</td>\n",
       "      <td>-1.523447</td>\n",
       "      <td>6.849789e+14</td>\n",
       "      <td>0.0</td>\n",
       "      <td>0.0</td>\n",
       "      <td>-0.023822</td>\n",
       "      <td>1.071097e+13</td>\n",
       "      <td>0.0</td>\n",
       "      <td>0.0</td>\n",
       "      <td>0.0</td>\n",
       "      <td>20.0</td>\n",
       "      <td>1.224977</td>\n",
       "      <td>0.0</td>\n",
       "    </tr>\n",
       "    <tr>\n",
       "      <th>AerodynamicLoads_-4.00deg</th>\n",
       "      <td>-4.0</td>\n",
       "      <td>-1.277205</td>\n",
       "      <td>8.173044e+14</td>\n",
       "      <td>0.0</td>\n",
       "      <td>0.0</td>\n",
       "      <td>-0.019972</td>\n",
       "      <td>1.278014e+13</td>\n",
       "      <td>0.0</td>\n",
       "      <td>0.0</td>\n",
       "      <td>0.0</td>\n",
       "      <td>20.0</td>\n",
       "      <td>1.224977</td>\n",
       "      <td>0.0</td>\n",
       "    </tr>\n",
       "    <tr>\n",
       "      <th>AerodynamicLoads_-3.00deg</th>\n",
       "      <td>-3.0</td>\n",
       "      <td>-0.779746</td>\n",
       "      <td>8.580083e+14</td>\n",
       "      <td>0.0</td>\n",
       "      <td>0.0</td>\n",
       "      <td>-0.012193</td>\n",
       "      <td>1.341662e+13</td>\n",
       "      <td>0.0</td>\n",
       "      <td>0.0</td>\n",
       "      <td>0.0</td>\n",
       "      <td>20.0</td>\n",
       "      <td>1.224977</td>\n",
       "      <td>0.0</td>\n",
       "    </tr>\n",
       "    <tr>\n",
       "      <th>AerodynamicLoads_-2.00deg</th>\n",
       "      <td>-2.0</td>\n",
       "      <td>-0.282083</td>\n",
       "      <td>5.514735e+14</td>\n",
       "      <td>0.0</td>\n",
       "      <td>0.0</td>\n",
       "      <td>-0.004411</td>\n",
       "      <td>8.623355e+12</td>\n",
       "      <td>0.0</td>\n",
       "      <td>0.0</td>\n",
       "      <td>0.0</td>\n",
       "      <td>20.0</td>\n",
       "      <td>1.224977</td>\n",
       "      <td>0.0</td>\n",
       "    </tr>\n",
       "    <tr>\n",
       "      <th>AerodynamicLoads_-1.00deg</th>\n",
       "      <td>-1.0</td>\n",
       "      <td>0.340293</td>\n",
       "      <td>1.934298e+14</td>\n",
       "      <td>0.0</td>\n",
       "      <td>0.0</td>\n",
       "      <td>0.005321</td>\n",
       "      <td>3.024649e+12</td>\n",
       "      <td>0.0</td>\n",
       "      <td>0.0</td>\n",
       "      <td>0.0</td>\n",
       "      <td>20.0</td>\n",
       "      <td>1.224977</td>\n",
       "      <td>0.0</td>\n",
       "    </tr>\n",
       "    <tr>\n",
       "      <th>AerodynamicLoads_0.00deg</th>\n",
       "      <td>0.0</td>\n",
       "      <td>0.681500</td>\n",
       "      <td>1.342012e+14</td>\n",
       "      <td>0.0</td>\n",
       "      <td>0.0</td>\n",
       "      <td>0.010657</td>\n",
       "      <td>2.098495e+12</td>\n",
       "      <td>0.0</td>\n",
       "      <td>0.0</td>\n",
       "      <td>0.0</td>\n",
       "      <td>20.0</td>\n",
       "      <td>1.224977</td>\n",
       "      <td>0.0</td>\n",
       "    </tr>\n",
       "    <tr>\n",
       "      <th>AerodynamicLoads_1.00deg</th>\n",
       "      <td>1.0</td>\n",
       "      <td>1.209886</td>\n",
       "      <td>1.577484e+13</td>\n",
       "      <td>0.0</td>\n",
       "      <td>0.0</td>\n",
       "      <td>0.018919</td>\n",
       "      <td>2.466701e+11</td>\n",
       "      <td>0.0</td>\n",
       "      <td>0.0</td>\n",
       "      <td>0.0</td>\n",
       "      <td>20.0</td>\n",
       "      <td>1.224977</td>\n",
       "      <td>0.0</td>\n",
       "    </tr>\n",
       "    <tr>\n",
       "      <th>AerodynamicLoads_2.00deg</th>\n",
       "      <td>2.0</td>\n",
       "      <td>1.704737</td>\n",
       "      <td>-2.616755e+11</td>\n",
       "      <td>0.0</td>\n",
       "      <td>0.0</td>\n",
       "      <td>0.026657</td>\n",
       "      <td>-4.091803e+09</td>\n",
       "      <td>0.0</td>\n",
       "      <td>0.0</td>\n",
       "      <td>0.0</td>\n",
       "      <td>20.0</td>\n",
       "      <td>1.224977</td>\n",
       "      <td>0.0</td>\n",
       "    </tr>\n",
       "    <tr>\n",
       "      <th>AerodynamicLoads_3.00deg</th>\n",
       "      <td>3.0</td>\n",
       "      <td>2.203055</td>\n",
       "      <td>4.079719e+13</td>\n",
       "      <td>0.0</td>\n",
       "      <td>0.0</td>\n",
       "      <td>0.034449</td>\n",
       "      <td>6.379431e+11</td>\n",
       "      <td>0.0</td>\n",
       "      <td>0.0</td>\n",
       "      <td>0.0</td>\n",
       "      <td>20.0</td>\n",
       "      <td>1.224977</td>\n",
       "      <td>0.0</td>\n",
       "    </tr>\n",
       "    <tr>\n",
       "      <th>AerodynamicLoads_4.00deg</th>\n",
       "      <td>4.0</td>\n",
       "      <td>2.698776</td>\n",
       "      <td>1.254511e+14</td>\n",
       "      <td>0.0</td>\n",
       "      <td>0.0</td>\n",
       "      <td>0.042201</td>\n",
       "      <td>1.961671e+12</td>\n",
       "      <td>0.0</td>\n",
       "      <td>0.0</td>\n",
       "      <td>0.0</td>\n",
       "      <td>20.0</td>\n",
       "      <td>1.224977</td>\n",
       "      <td>0.0</td>\n",
       "    </tr>\n",
       "    <tr>\n",
       "      <th>AerodynamicLoads_5.00deg</th>\n",
       "      <td>5.0</td>\n",
       "      <td>3.193404</td>\n",
       "      <td>1.695351e+14</td>\n",
       "      <td>0.0</td>\n",
       "      <td>0.0</td>\n",
       "      <td>0.049935</td>\n",
       "      <td>2.651009e+12</td>\n",
       "      <td>0.0</td>\n",
       "      <td>0.0</td>\n",
       "      <td>0.0</td>\n",
       "      <td>20.0</td>\n",
       "      <td>1.224977</td>\n",
       "      <td>0.0</td>\n",
       "    </tr>\n",
       "  </tbody>\n",
       "</table>\n",
       "</div>"
      ],
      "text/plain": [
       "                           AoA  Lift_Potential  Drag_Potential  Lift_Viscous  \\\n",
       "AerodynamicLoads_-5.00deg -5.0       -1.523447    6.849789e+14           0.0   \n",
       "AerodynamicLoads_-4.00deg -4.0       -1.277205    8.173044e+14           0.0   \n",
       "AerodynamicLoads_-3.00deg -3.0       -0.779746    8.580083e+14           0.0   \n",
       "AerodynamicLoads_-2.00deg -2.0       -0.282083    5.514735e+14           0.0   \n",
       "AerodynamicLoads_-1.00deg -1.0        0.340293    1.934298e+14           0.0   \n",
       "AerodynamicLoads_0.00deg   0.0        0.681500    1.342012e+14           0.0   \n",
       "AerodynamicLoads_1.00deg   1.0        1.209886    1.577484e+13           0.0   \n",
       "AerodynamicLoads_2.00deg   2.0        1.704737   -2.616755e+11           0.0   \n",
       "AerodynamicLoads_3.00deg   3.0        2.203055    4.079719e+13           0.0   \n",
       "AerodynamicLoads_4.00deg   4.0        2.698776    1.254511e+14           0.0   \n",
       "AerodynamicLoads_5.00deg   5.0        3.193404    1.695351e+14           0.0   \n",
       "\n",
       "                           Drag_Viscous        CL            CD  CL_2D  CD_2D  \\\n",
       "AerodynamicLoads_-5.00deg           0.0 -0.023822  1.071097e+13    0.0    0.0   \n",
       "AerodynamicLoads_-4.00deg           0.0 -0.019972  1.278014e+13    0.0    0.0   \n",
       "AerodynamicLoads_-3.00deg           0.0 -0.012193  1.341662e+13    0.0    0.0   \n",
       "AerodynamicLoads_-2.00deg           0.0 -0.004411  8.623355e+12    0.0    0.0   \n",
       "AerodynamicLoads_-1.00deg           0.0  0.005321  3.024649e+12    0.0    0.0   \n",
       "AerodynamicLoads_0.00deg            0.0  0.010657  2.098495e+12    0.0    0.0   \n",
       "AerodynamicLoads_1.00deg            0.0  0.018919  2.466701e+11    0.0    0.0   \n",
       "AerodynamicLoads_2.00deg            0.0  0.026657 -4.091803e+09    0.0    0.0   \n",
       "AerodynamicLoads_3.00deg            0.0  0.034449  6.379431e+11    0.0    0.0   \n",
       "AerodynamicLoads_4.00deg            0.0  0.042201  1.961671e+12    0.0    0.0   \n",
       "AerodynamicLoads_5.00deg            0.0  0.049935  2.651009e+12    0.0    0.0   \n",
       "\n",
       "                           Beta  Airspeed   Density  Mach  \n",
       "AerodynamicLoads_-5.00deg   0.0      20.0  1.224977   0.0  \n",
       "AerodynamicLoads_-4.00deg   0.0      20.0  1.224977   0.0  \n",
       "AerodynamicLoads_-3.00deg   0.0      20.0  1.224977   0.0  \n",
       "AerodynamicLoads_-2.00deg   0.0      20.0  1.224977   0.0  \n",
       "AerodynamicLoads_-1.00deg   0.0      20.0  1.224977   0.0  \n",
       "AerodynamicLoads_0.00deg    0.0      20.0  1.224977   0.0  \n",
       "AerodynamicLoads_1.00deg    0.0      20.0  1.224977   0.0  \n",
       "AerodynamicLoads_2.00deg    0.0      20.0  1.224977   0.0  \n",
       "AerodynamicLoads_3.00deg    0.0      20.0  1.224977   0.0  \n",
       "AerodynamicLoads_4.00deg    0.0      20.0  1.224977   0.0  \n",
       "AerodynamicLoads_5.00deg    0.0      20.0  1.224977   0.0  "
      ]
     },
     "execution_count": 41,
     "metadata": {},
     "output_type": "execute_result"
    }
   ],
   "source": [
    "from ICARUS.aero.vlm import run_vlm_analysis\n",
    "\n",
    "run_vlm_analysis(\n",
    "    plane=plane_LSPT,\n",
    "    state= unstick,\n",
    "    angles = np.linspace(-5, 5, 11),\n",
    ")"
   ]
  },
  {
   "attachments": {},
   "cell_type": "markdown",
   "metadata": {},
   "source": [
    "# Get Solver"
   ]
  },
  {
   "cell_type": "code",
   "execution_count": 8,
   "metadata": {},
   "outputs": [
    {
     "name": "stdout",
     "output_type": "stream",
     "text": [
      "3D VLM Solver LSPT:\n",
      "Available Analyses Are: \n",
      "------------------- \n",
      "0) Aiplane Polar Analysis \n",
      "\n"
     ]
    }
   ],
   "source": [
    "from ICARUS.computation.solvers.Icarus_LSPT import LSPT\n",
    "\n",
    "lspt = LSPT()\n",
    "\n",
    "print(lspt)"
   ]
  },
  {
   "attachments": {},
   "cell_type": "markdown",
   "metadata": {},
   "source": [
    "## AoA Run"
   ]
  },
  {
   "cell_type": "code",
   "execution_count": 9,
   "metadata": {},
   "outputs": [
    {
     "name": "stdout",
     "output_type": "stream",
     "text": [
      "Selecting Analysis: Aiplane Polar Analysis\n"
     ]
    }
   ],
   "source": [
    "analysis: str = lspt.get_analyses_names()[0]\n",
    "print(f\"Selecting Analysis: {analysis}\")\n",
    "lspt.select_analysis(analysis)"
   ]
  },
  {
   "cell_type": "code",
   "execution_count": 10,
   "metadata": {},
   "outputs": [
    {
     "name": "stdout",
     "output_type": "stream",
     "text": [
      "Aiplane Polar Analysis\n",
      "Available Options of LSPT for Aiplane Polar Analysis: \n",
      "\n",
      "| VarName   | Value   | Description                                         |\n",
      "|-----------|---------|-----------------------------------------------------|\n",
      "| plane     | None    | Vehicle Airplane Object                             |\n",
      "| state     | None    | State Object                                        |\n",
      "| solver2D  | None    | Name of 2D Solver from which to use computed polars |\n",
      "| angles    | None    | List of angles to run polars                        |\n",
      "\n",
      "If there are Multiple Values, or complex datatypes, or N/A you should inspect them sepretly by calling the option name\n",
      "\n",
      "Available Solver Parameters of LSPT for LSPT: \n",
      "\n",
      "| VarName        | Value           | Description                                                                        |\n",
      "|----------------|-----------------|------------------------------------------------------------------------------------|\n",
      "| Ground_Effect  | None            | Distance From Ground (m). None for no ground effect                                |\n",
      "| Wake_Geom_Type | Multiple Values | Type of wake geometry. The options are: -TE-Geometrical -Inflow-Uniform -Inflow-TE |\n",
      "\n",
      "If there are multiple values you should inspect them sepretly by calling the option name\n",
      "\n"
     ]
    }
   ],
   "source": [
    "options = lspt.get_analysis_options(verbose=True)\n",
    "solver_parameters = lspt.get_solver_parameters(verbose=True)"
   ]
  },
  {
   "cell_type": "code",
   "execution_count": null,
   "metadata": {},
   "outputs": [],
   "source": []
  },
  {
   "cell_type": "code",
   "execution_count": null,
   "metadata": {},
   "outputs": [],
   "source": [
    "plane_LSPT.plot_surface_gamma_distribution()"
   ]
  },
  {
   "cell_type": "code",
   "execution_count": null,
   "metadata": {},
   "outputs": [],
   "source": [
    "# Plot the panels and lift\n",
    "plane_LSPT.plot_L_pan()\n",
    "plane_LSPT.plot_D_pan()"
   ]
  },
  {
   "cell_type": "code",
   "execution_count": null,
   "metadata": {},
   "outputs": [],
   "source": [
    "plane_LSPT.L_pan"
   ]
  },
  {
   "cell_type": "code",
   "execution_count": null,
   "metadata": {},
   "outputs": [],
   "source": [
    "AoAmin = -6\n",
    "AoAmax = 8\n",
    "NoAoA = (AoAmax - AoAmin) + 1\n",
    "angles = np.linspace(AoAmin, AoAmax, NoAoA, dtype=float)\n",
    "# airplane.define_dynamic_pressure(u_freestream, EARTH.air_density)\n",
    "\n",
    "options.plane = airplane\n",
    "options.state = unstick\n",
    "options.solver2D = \"Xfoil\"\n",
    "# options.maxiter       = 100\n",
    "# options.timestep      = 0.001\n",
    "options.angles = angles\n",
    "\n",
    "solver_parameters.Use_Grid = 0\n",
    "\n",
    "lspt.define_analysis(options, solver_parameters)\n",
    "lspt.print_analysis_options()\n",
    "lspt.execute(parallel=False)\n",
    "polars = lspt.get_results()\n",
    "airplane.save()"
   ]
  },
  {
   "attachments": {},
   "cell_type": "markdown",
   "metadata": {},
   "source": [
    "# Dynamics"
   ]
  },
  {
   "attachments": {},
   "cell_type": "markdown",
   "metadata": {},
   "source": [
    "### Define and Trim Plane"
   ]
  },
  {
   "cell_type": "code",
   "execution_count": null,
   "metadata": {},
   "outputs": [],
   "source": [
    "from ICARUS.flight_dynamics import State\n",
    "\n",
    "if isinstance(polars, int):\n",
    "    raise Exception(\"No Polars\")\n",
    "unstick = State(\"Unstick\", airplane, environment=EARTH_ISA, u_freestream=u_freestream)\n",
    "unstick.add_polar(polars)"
   ]
  },
  {
   "attachments": {},
   "cell_type": "markdown",
   "metadata": {},
   "source": [
    "### Pertrubations"
   ]
  },
  {
   "cell_type": "code",
   "execution_count": null,
   "metadata": {},
   "outputs": [],
   "source": [
    "unstick.add_all_pertrubations(\"Central\")\n",
    "unstick.get_pertrub()"
   ]
  },
  {
   "cell_type": "code",
   "execution_count": null,
   "metadata": {},
   "outputs": [],
   "source": [
    "analysis = lspt.get_analyses_names(verbose=True)[1]  # ANGLES PARALLEL\n",
    "print(f\"Selecting Analysis: {analysis}\")\n",
    "lspt.select_analysis(analysis)\n",
    "options = lspt.get_analysis_options(verbose=True)"
   ]
  },
  {
   "cell_type": "code",
   "execution_count": null,
   "metadata": {},
   "outputs": [],
   "source": [
    "options.plane = airplane\n",
    "options.state = unstick\n",
    "options.solver2D = \"XFLR\"\n",
    "options.maxiter = 200\n",
    "options.timestep = 5e-3\n",
    "\n",
    "lspt.print_analysis_options()\n",
    "lspt.define_analysis(options, solver_parameters)\n",
    "lspt.execute(parallel=True)\n",
    "lspt.get_results()"
   ]
  }
 ],
 "metadata": {
  "kernelspec": {
   "display_name": "aero",
   "language": "python",
   "name": "python3"
  },
  "language_info": {
   "codemirror_mode": {
    "name": "ipython",
    "version": 3
   },
   "file_extension": ".py",
   "mimetype": "text/x-python",
   "name": "python",
   "nbconvert_exporter": "python",
   "pygments_lexer": "ipython3",
   "version": "3.13.1"
  },
  "vscode": {
   "interpreter": {
    "hash": "8acd08952dc410be23279ea6eab1a080d514a48a01ad47827aa392f9fbd61ae4"
   }
  }
 },
 "nbformat": 4,
 "nbformat_minor": 2
}
