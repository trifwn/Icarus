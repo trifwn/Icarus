{
 "cells": [
  {
   "cell_type": "code",
   "execution_count": null,
   "metadata": {},
   "outputs": [],
   "source": [
    "import numpy as np\n",
    "\n",
    "def calculate_ratio(cl, h, b, AR):\n",
    "    beta = np.sqrt(1 + (2*h/b)**2) - 2*h/b\n",
    "    ratio = (1 - np.exp(-2.48 * (2*h/b)**0.768)) / (1 - beta* cl / (4 * np.pi * AR * h/b))\n",
    "    return ratio\n",
    "\n",
    "def calculate_lift_coefficient_ratio(h, b, ar):\n",
    "    ratio = 1 + (288 * (h/b)**0.787 * np.exp(-9.14 * (h/b)**0.327)) / ar**0.882\n",
    "    return ratio\n",
    "\n",
    "b = 2.\n",
    "AR = 9 \n",
    "h = 0.1 + np.linspace(0. + 1e-10,10, 100)\n",
    "cl_orig = 1.1\n",
    "cd_orig = 0.09 * cl_orig**2\n",
    "\n",
    "# Calculate new CL\n",
    "inc_cl = calculate_lift_coefficient_ratio( h, b, AR)\n",
    "cl_new = cl_orig * inc_cl\n",
    "\n",
    "ratio_inc = calculate_ratio(cl_orig, h,b,AR)\n",
    "cd_i_new = (cd_orig / cl_orig**2) * ratio_inc * (cl_new)**2\n",
    "\n",
    "\n",
    "# plot\n",
    "import matplotlib.pyplot as plt\n",
    "\n",
    "plt.plot(h,cl_new/cd_i_new)\n",
    "plt.axhline(cl_orig/cd_orig, color = 'k')\n",
    "# plt.plot(h,(cl_orig*inc_cl))\n",
    "plt.grid()\n",
    "plt.show()\n",
    "\n",
    "\n",
    "plt.plot(h,cl_new)\n",
    "plt.axhline(cl_orig, color = 'k')\n",
    "plt.grid()\n",
    "\n",
    "plt.show()\n",
    "\n",
    "plt.plot(h,cd_i_new)\n",
    "plt.grid()\n",
    "plt.axhline(cd_orig, color = 'k')"
   ]
  },
  {
   "cell_type": "code",
   "execution_count": null,
   "metadata": {},
   "outputs": [],
   "source": [
    "AR = 9\n",
    "h = np.linspace(0.0001, 10, 10000)\n",
    "clh_clinf = 1\n",
    "b = 2.\n",
    "cl = 1\n",
    "cdi = 0.1 * cl ** 2\n",
    "\n",
    "clh_clinf = 1 + (288 * (h / b) ** 0.787 * np.exp(-9.14 * (h / b) ** 0.327) / AR ** 0.882)\n",
    "beta = np.sqrt(1 + (2 * h / b) ** 2) - 2 * h / b\n",
    "\n",
    "cdicl2h_cdicl2inf = (1 - np.exp(-2.48 * (2 * h / b) ** 0.768)) / (1 - beta * cl / (4 * np.pi * AR * h / b))\n",
    "cdicl2h = cdicl2h_cdicl2inf * (cdi / cl ** 2)\n",
    "\n",
    "# update cl, cdi\n",
    "cl = clh_clinf * cl\n",
    "cdi = cdicl2h * cl ** 2\n",
    "\n",
    "import matplotlib.pyplot as plt\n",
    "# plt.plot(h, clh_clinf)\n",
    "# plt.plot(h,cdi)\n",
    "plt.plot(h,cl/cdi)\n",
    "# plt.axhline(1, color='k', linestyle='--')"
   ]
  }
 ],
 "metadata": {
  "kernelspec": {
   "display_name": "aero",
   "language": "python",
   "name": "python3"
  },
  "language_info": {
   "codemirror_mode": {
    "name": "ipython",
    "version": 3
   },
   "file_extension": ".py",
   "mimetype": "text/x-python",
   "name": "python",
   "nbconvert_exporter": "python",
   "pygments_lexer": "ipython3",
   "version": "3.12.0"
  }
 },
 "nbformat": 4,
 "nbformat_minor": 2
}
