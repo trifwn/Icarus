{
    "cells": [
        {
            "cell_type": "code",
            "execution_count": 12,
            "metadata": {},
            "outputs": [
                {
                    "name": "stdout",
                    "output_type": "stream",
                    "text": [
                        "The autoreload extension is already loaded. To reload it, use:\n",
                        "  %reload_ext autoreload\n"
                    ]
                }
            ],
            "source": [
                "%matplotlib qt\n",
                "%load_ext autoreload\n",
                "%autoreload 2"
            ]
        },
        {
            "cell_type": "code",
            "execution_count": 13,
            "metadata": {},
            "outputs": [],
            "source": [
                "from ICARUS.database import EXTERNAL_DB\n",
                "from ICARUS.vehicle.plane import Airplane\n",
                "from typing import Any\n",
                "import numpy as np\n",
                "from ICARUS.computation.solvers.XFLR5.polars import read_polars_2d"
            ]
        },
        {
            "cell_type": "code",
            "execution_count": 14,
            "metadata": {},
            "outputs": [],
            "source": [
                "# # DB CONNECTION\n",
                "read_polars_2d(EXTERNAL_DB)\n",
                "\n",
                "# # Get Plane\n",
                "planes: list[Airplane] = []\n",
                "UINF: dict[str, Any] = {}\n",
                "ALTITUDE: dict[str, Any] = {}\n",
                "\n",
                "# OUR ATMOSPHERIC MODEL IS NOT COMPLETE TO HANDLE TEMPERATURE VS ALTITUDE\n",
                "TEMPERATURE: dict[str, Any] = {}\n",
                "\n",
                "from ICARUS.computation.solvers.XFLR5.parser import parse_xfl_project\n",
                "\n",
                "filename: str = \"Data/3D_Party/plane_1.xml\"\n",
                "airplane = parse_xfl_project(filename)"
            ]
        },
        {
            "cell_type": "code",
            "execution_count": 16,
            "metadata": {},
            "outputs": [],
            "source": [
                "from ICARUS.environment.definition import EARTH_ISA\n",
                "EARTH_ISA._set_pressure_from_altitude_and_temperature(0,273)\n",
                "\n",
                "from ICARUS.flight_dynamics.state import State\n",
                "state = State(\n",
                "    name=\"Unstick\",\n",
                "    airplane=airplane,\n",
                "    environment=EARTH_ISA,\n",
                "    u_freestream=20,\n",
                ")"
            ]
        },
        {
            "cell_type": "code",
            "execution_count": 17,
            "metadata": {},
            "outputs": [],
            "source": [
                "from ICARUS.aerodynamics.potential.lifting_surfaces import run_lstp_angles"
            ]
        },
        {
            "cell_type": "code",
            "execution_count": null,
            "metadata": {},
            "outputs": [],
            "source": [
                "\n",
                "from ICARUS.aerodynamics.potential.vorticity import voring"
            ]
        },
        {
            "cell_type": "code",
            "execution_count": null,
            "metadata": {},
            "outputs": [],
            "source": []
        }
    ],
    "metadata": {
        "kernelspec": {
            "display_name": "aero",
            "language": "python",
            "name": "python3"
        },
        "language_info": {
            "codemirror_mode": {
                "name": "ipython",
                "version": 3
            },
            "file_extension": ".py",
            "mimetype": "text/x-python",
            "name": "python",
            "nbconvert_exporter": "python",
            "pygments_lexer": "ipython3",
            "version": "3.12.0"
        }
    },
    "nbformat": 4,
    "nbformat_minor": 2
}
