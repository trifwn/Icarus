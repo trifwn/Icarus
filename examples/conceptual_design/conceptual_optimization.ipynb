{
 "cells": [
  {
   "cell_type": "code",
   "execution_count": null,
   "metadata": {},
   "outputs": [],
   "source": [
    "%load_ext autoreload\n",
    "%autoreload 2\n",
    "# %matplotlib qt"
   ]
  },
  {
   "cell_type": "code",
   "execution_count": null,
   "metadata": {},
   "outputs": [],
   "source": [
    "import numpy as np\n",
    "import matplotlib.pyplot as plt\n",
    "from scipy.optimize import minimize"
   ]
  },
  {
   "attachments": {},
   "cell_type": "markdown",
   "metadata": {},
   "source": [
    "# Check the aircraft"
   ]
  },
  {
   "cell_type": "code",
   "execution_count": null,
   "metadata": {},
   "outputs": [],
   "source": [
    "from Conceptual_Planes.embraer_E190 import embraer_E190\n",
    "from Conceptual_Planes.boeing_737_100 import boeing_737_100"
   ]
  },
  {
   "attachments": {},
   "cell_type": "markdown",
   "metadata": {},
   "source": [
    "Since we have set all the data, there are no missing parameters"
   ]
  },
  {
   "cell_type": "code",
   "execution_count": null,
   "metadata": {},
   "outputs": [],
   "source": [
    "embraer_E190.get_missing_parameters()"
   ]
  },
  {
   "attachments": {},
   "cell_type": "markdown",
   "metadata": {},
   "source": [
    "This is the Matching plot"
   ]
  },
  {
   "cell_type": "code",
   "execution_count": null,
   "metadata": {},
   "outputs": [],
   "source": [
    "embraer_E190.WEIGHT_RATIO = 0.86"
   ]
  },
  {
   "cell_type": "code",
   "execution_count": null,
   "metadata": {},
   "outputs": [],
   "source": [
    "res = embraer_E190.far_criteria(plot=True, start_plot=True, show_plot=True, clip=[1,150])"
   ]
  },
  {
   "cell_type": "markdown",
   "metadata": {},
   "source": [
    "# Optimization"
   ]
  },
  {
   "cell_type": "code",
   "execution_count": null,
   "metadata": {},
   "outputs": [],
   "source": [
    "def deviation_from_actual(\n",
    "    plane,\n",
    "    landing_curve,\n",
    "    failed_approach_curve,\n",
    "    takeoff_curve,\n",
    "    climb_curve,\n",
    "    cruise_curve,\n",
    "    est_weight,\n",
    "    est_area,\n",
    "    est_thrust,\n",
    "    OP_THRUST_LOADING,\n",
    "    OP_WING_LOADING,\n",
    "):\n",
    "    AREA: float  = plane.AREA # 995.983667 ft^2\n",
    "    MTOW : float = plane.MTOW # 105358.78 lb\n",
    "    THRUST: float  = plane.THRUST # 40720 lb\n",
    "        \n",
    "    flag: float= 1\n",
    "    if plane.MTOW/plane.AREA > landing_curve[0][0]:\n",
    "        flag *= 10\n",
    "        print(\"WARNING: MTOW/AREA\")\n",
    "    deviation = flag*(\n",
    "        np.abs((est_weight- MTOW)/MTOW) + \n",
    "        np.abs((est_area-AREA)/AREA) + \n",
    "        np.abs((est_thrust-THRUST)/THRUST)\n",
    "    )\n",
    "    if plane.RANGE < 1000:\n",
    "        flag *= 1000\n",
    "    print(f\"ARGS: {plane.ASPECT_RATIO=}, {plane.WEIGHT_RATIO=}, {plane.CL_MAX=}, \\n{deviation=}\")\n",
    "    # print the takeoff curve slope \n",
    "    print(f\"-------------------------\")\n",
    "    print(f\"Wing Loading= {OP_WING_LOADING}, Thrust Loading = {OP_THRUST_LOADING}\")\n",
    "    print(f\"-------------------------\")\n",
    "    print(f\"{(est_weight-MTOW)/MTOW=},  {(est_area-AREA)/AREA=} ,  {(est_thrust-THRUST)/THRUST=}\")\n",
    "    print(f\"-------------------------\")\n",
    "    print(f\"{est_thrust=}, {THRUST=}\")\n",
    "    print(f\"-------------------------\")\n",
    "    print(f\"{est_area=}, {AREA=}\")\n",
    "    print(f\"-------------------------\")\n",
    "    print(f\"{est_weight=}, {MTOW=}\")\n",
    "    print(f\"-------------------------\")\n",
    "    print(f\"{plane.RANGE=}\")\n",
    "\n",
    "    return deviation \n"
   ]
  },
  {
   "cell_type": "code",
   "execution_count": null,
   "metadata": {},
   "outputs": [],
   "source": [
    "min_fun = embraer_E190.partial_fun_factory(\n",
    "    deviation_from_actual,\n",
    "    ['ASPECT_RATIO', \"CL_MAX\", \"WEIGHT_RATIO\"],\n",
    "    # plot=True, start_plot=True, show_plot=True, clip=[1,200]\n",
    ")"
   ]
  },
  {
   "cell_type": "code",
   "execution_count": null,
   "metadata": {},
   "outputs": [],
   "source": [
    "opt = minimize(\n",
    "    min_fun,\n",
    "    x0 = [9.2, 2.2 , 0.86],\n",
    "    # bounds=[(6, 15), (1.5, 3.5), (0.6, 0.9)],\n",
    "    method = 'Nelder-Mead',\n",
    "    options = {'disp':True, 'maxiter':1000}\n",
    ")"
   ]
  },
  {
   "cell_type": "markdown",
   "metadata": {},
   "source": [
    "## Display the results"
   ]
  },
  {
   "cell_type": "code",
   "execution_count": null,
   "metadata": {},
   "outputs": [],
   "source": [
    "min_fun(opt.x, plot=True, start_plot=True, show_plot=True, clip=[1,200])"
   ]
  },
  {
   "cell_type": "code",
   "execution_count": null,
   "metadata": {},
   "outputs": [],
   "source": [
    "embraer_E190.MLW/ embraer_E190.MTOW"
   ]
  }
 ],
 "metadata": {
  "kernelspec": {
   "display_name": "aero",
   "language": "python",
   "name": "python3"
  },
  "language_info": {
   "codemirror_mode": {
    "name": "ipython",
    "version": 3
   },
   "file_extension": ".py",
   "mimetype": "text/x-python",
   "name": "python",
   "nbconvert_exporter": "python",
   "pygments_lexer": "ipython3",
   "version": "3.12.2"
  }
 },
 "nbformat": 4,
 "nbformat_minor": 2
}
