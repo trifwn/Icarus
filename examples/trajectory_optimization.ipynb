{
 "cells": [
  {
   "cell_type": "code",
   "execution_count": 1,
   "metadata": {},
   "outputs": [],
   "source": [
    "%load_ext autoreload\n",
    "%autoreload 2\n",
    "%matplotlib qt"
   ]
  },
  {
   "cell_type": "markdown",
   "metadata": {},
   "source": [
    "# Notes\n",
    "- Remove Thrust from the angular momentum calculation\n",
    "- Add PID controler to maintain a constan angle of attack\n",
    "- Try to follow course with Thrust only. If not possible, use the elevator to change AoA and follow the course"
   ]
  },
  {
   "cell_type": "markdown",
   "metadata": {},
   "source": [
    "# Imports"
   ]
  },
  {
   "cell_type": "code",
   "execution_count": 7,
   "metadata": {},
   "outputs": [],
   "source": [
    "import numpy as np\n",
    "from ICARUS.Propulsion.engine import Engine\n",
    "from ICARUS.Database import DB"
   ]
  },
  {
   "cell_type": "markdown",
   "metadata": {},
   "source": [
    "#  Load Plane and Engine"
   ]
  },
  {
   "cell_type": "code",
   "execution_count": 8,
   "metadata": {},
   "outputs": [],
   "source": [
    "engine_dir = \"../Data/Engine/Motor_1/\"\n",
    "\n",
    "engine = Engine()\n",
    "engine.load_data_from_df(engine_dir)\n",
    "# engine.plot_thrust_curve()"
   ]
  },
  {
   "cell_type": "code",
   "execution_count": 13,
   "metadata": {},
   "outputs": [
    {
     "name": "stdout",
     "output_type": "stream",
     "text": [
      "('bmark', <ICARUS.Vehicle.plane.Airplane object at 0x000001568C2E9610>)\n"
     ]
    }
   ],
   "source": [
    "from ICARUS.Vehicle.plane import Airplane\n",
    "from ICARUS.Mission.mission_vehicle import Mission_Vehicle\n",
    "\n",
    "for p in DB.vehicles_db.planes.items():\n",
    "    print(p)\n",
    "\n",
    "plane: Airplane = DB.get_vehicle('bmark')\n",
    "mission_plane = Mission_Vehicle(\n",
    "    plane,\n",
    "    engine,\n",
    ")"
   ]
  },
  {
   "cell_type": "markdown",
   "metadata": {},
   "source": [
    "# Compute Trajectory"
   ]
  },
  {
   "cell_type": "code",
   "execution_count": 14,
   "metadata": {},
   "outputs": [],
   "source": [
    "from ICARUS.Geometry.cubic_splines import CubicSpline_factory\n",
    "from ICARUS.Geometry.polynomial import h_polynomial_factory\n",
    "from ICARUS.Mission.Trajectory.trajectory import Trajectory\n",
    "from ICARUS.Mission.Trajectory.integrators import RK4systems, RK45_scipy_integrator"
   ]
  },
  {
   "cell_type": "code",
   "execution_count": 15,
   "metadata": {},
   "outputs": [],
   "source": [
    "t0 = 0\n",
    "tend = 90\n",
    "x0 =  [0, 20]\n",
    "operating_floor = 12.5\n",
    "elevator_max_deflection = 15\n",
    "v_mag_0 = 17.38"
   ]
  },
  {
   "cell_type": "markdown",
   "metadata": {},
   "source": [
    "# Polynomial Trajectory"
   ]
  },
  {
   "cell_type": "code",
   "execution_count": 20,
   "metadata": {},
   "outputs": [
    {
     "name": "stdout",
     "output_type": "stream",
     "text": [
      "Simulation Completed Successfully at time 90       Max Distance: 247.07774139857437\n"
     ]
    }
   ],
   "source": [
    "traj_fun_1 = h_polynomial_factory(\n",
    "    [\n",
    "        x0[1],\n",
    "        0.2,\n",
    "        -1/300\n",
    "    ]\n",
    ")\n",
    "trajectory_1 = Trajectory(\"SomeTrajectory\", traj_fun_1)\n",
    "\n",
    "\n",
    "# velocity is in the same direction as the derivative of the polynomial\n",
    "g1 = np.arctan(\n",
    "    trajectory_1.first_derivative_x_fd(x0[0])\n",
    ")\n",
    "v0_1 = np.array([np.cos(g1), np.sin(g1)]) * v_mag_0\n",
    "\n",
    "dt = 1\n",
    "t, xs, vs = RK45_scipy_integrator(t0, tend, dt, x0, v0_1, trajectory_1 , mission_plane, verbosity=0)\n",
    "\n",
    "# Plot Trajectory\n"
   ]
  },
  {
   "cell_type": "code",
   "execution_count": 25,
   "metadata": {},
   "outputs": [
    {
     "data": {
      "text/plain": [
       "[<matplotlib.lines.Line2D at 0x1568ebfd100>]"
      ]
     },
     "execution_count": 25,
     "metadata": {},
     "output_type": "execute_result"
    }
   ],
   "source": [
    "import matplotlib.pyplot as plt\n",
    "\n",
    "plt.plot(xs[:, 0], xs[:, 1])\n",
    "# Plot the trajectory\n",
    "x = np.linspace(0, 200, 100)\n",
    "y = traj_fun_1(x)\n",
    "plt.plot(x, y)"
   ]
  },
  {
   "cell_type": "markdown",
   "metadata": {},
   "source": [
    "# Optimization"
   ]
  },
  {
   "cell_type": "code",
   "execution_count": null,
   "metadata": {},
   "outputs": [],
   "source": [
    "from scipy.optimize import minimize\n",
    "\n",
    "def objective_goal_poly(a,fig,axs, dt=0.1, plotting = True):\n",
    "    x0 =  [0, 20]\n",
    "    polynomial_i = h_polynomial_factory([\n",
    "        x0[1],\n",
    "        *[x for x in a]\n",
    "    ])\n",
    "\n",
    "    # Make trajectory name be the latex representation of the polynomial\n",
    "    title = \"$h(x) = \"\n",
    "    for i, c in enumerate(a):\n",
    "        if i == 0:\n",
    "            title += f\"{c}\"\n",
    "        else:\n",
    "            title += f\" + {c}x^{i}\"\n",
    "\n",
    "    trajectory = Trajectory(title, polynomial_i)\n",
    "    gamma = np.arctan(trajectory.first_derivative_x_fd(x0[0]))\n",
    "    v0 = np.array([np.cos(gamma), np.sin(gamma)]) * v_mag_0\n",
    " \n",
    "    t, xs, vs = RK45_scipy_integrator(t0, tend, dt, x0, v0, trajectory, mission_plane, verbosity=0)\n",
    "    if plotting:\n",
    "        update_plot([trajectory], [t], [xs], [vs], fig, axs)\n",
    "    x = [x[0] for x in xs]\n",
    "    return - max(x)\n",
    "\n",
    "def objective_goal_splines(y, fig, axs, dt = 0.01, plotting = True):\n",
    "    x =  np.linspace(0, 2000, len(y)+2)\n",
    "    y = [x0[1], *y, operating_floor]\n",
    "\n",
    "    spline_i, title = CubicSpline_factory(x,y)\n",
    "\n",
    "\n",
    "    trajectory = Trajectory(title, spline_i)\n",
    "    gamma = np.arctan(trajectory.first_derivative_x_fd(x0[0]))\n",
    "    v0 = np.array([np.cos(gamma), np.sin(gamma)]) * v_mag_0\n",
    "\n",
    "    t, xs, vs = RK45_scipy_integrator(t0, tend, dt, x0, v0, trajectory, mission_plane, verbosity=0)\n",
    "    if plotting:\n",
    "        update_plot([trajectory], [t], [xs], [vs], fig, axs)\n",
    "    x = [x[0] for x in xs]\n",
    "    return - max(x)"
   ]
  },
  {
   "cell_type": "code",
   "execution_count": null,
   "metadata": {},
   "outputs": [],
   "source": [
    "fig, axs = setup_plot()\n",
    "\n",
    "res_splines = minimize(\n",
    "    objective_goal_splines,\n",
    "    x0 = [20, 20 , 20, 20, 20, 20,],\n",
    "    method='BFGS',\n",
    "    options={'disp': True, 'maxiter' : 3000},\n",
    "    args=(\n",
    "        fig,\n",
    "        axs,\n",
    "    )\n",
    ")\n",
    "\n",
    "\n",
    "y  = res_splines.x\n",
    "x = np.linspace(0, 2000, len(y)+2)\n",
    "\n",
    "spline_best, title = CubicSpline_factory(x,y)\n",
    "trajectory_best = Trajectory(title, spline_best)\n",
    "\n",
    "gamma = np.arctan(trajectory_best.first_derivative_x_fd(x0[0]))\n",
    "v0 = np.array([np.cos(gamma), np.sin(gamma)]) * v_mag_0\n",
    "\n",
    "t, xs, vs = RK4systems(t0, tend, dt, x0, v0, trajectory_best, mission_plane, verbosity=0)\n",
    "update_plot([trajectory_1], [t], [xs] ,[vs] , fig, axs)\n"
   ]
  }
 ],
 "metadata": {
  "kernelspec": {
   "display_name": "aero",
   "language": "python",
   "name": "python3"
  },
  "language_info": {
   "codemirror_mode": {
    "name": "ipython",
    "version": 3
   },
   "file_extension": ".py",
   "mimetype": "text/x-python",
   "name": "python",
   "nbconvert_exporter": "python",
   "pygments_lexer": "ipython3",
   "version": "3.12.0"
  }
 },
 "nbformat": 4,
 "nbformat_minor": 2
}
