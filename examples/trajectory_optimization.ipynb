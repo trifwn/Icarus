{
    "cells": [
        {
            "cell_type": "code",
            "execution_count": null,
            "metadata": {},
            "outputs": [],
            "source": [
                "%load_ext autoreload\n",
                "%autoreload 2\n",
                "%matplotlib qt"
            ]
        },
        {
            "cell_type": "markdown",
            "metadata": {},
            "source": [
                "# Imports"
            ]
        },
        {
            "cell_type": "code",
            "execution_count": null,
            "metadata": {},
            "outputs": [],
            "source": [
                "import jax\n",
                "# Get the percision of the jax library\n",
                "jax.config.update(\"jax_enable_x64\", True)\n",
                "jax.config.update('jax_platform_name', 'cpu')\n",
                "print('Jax has been configured to use the following devices: ', jax.devices())\n",
                "# Global flag to set a specific platform, must be used at startup.\n",
                "print(jax.numpy.ones(3).devices()) # TFRT_CPU_0"
            ]
        },
        {
            "cell_type": "code",
            "execution_count": null,
            "metadata": {},
            "outputs": [],
            "source": [
                "import numpy as np\n",
                "from ICARUS.propulsion.engine import Engine\n",
                "from ICARUS.database import DB"
            ]
        },
        {
            "cell_type": "markdown",
            "metadata": {},
            "source": [
                "#  Load Plane and Engine"
            ]
        },
        {
            "cell_type": "code",
            "execution_count": null,
            "metadata": {},
            "outputs": [],
            "source": [
                "engine_dir = \"../Data/Engine/Motor_1/\"\n",
                "\n",
                "engine = Engine()\n",
                "engine.load_data_from_df(engine_dir)\n",
                "engine.plot_engine_map()"
            ]
        },
        {
            "cell_type": "markdown",
            "metadata": {},
            "source": [
                "# Vehicle"
            ]
        },
        {
            "cell_type": "code",
            "execution_count": 5,
            "metadata": {},
            "outputs": [],
            "source": [
                "from ICARUS.vehicle.plane import Airplane\n",
                "from ICARUS.mission.mission_vehicle import MissionVehicle"
            ]
        },
        {
            "cell_type": "code",
            "execution_count": 6,
            "metadata": {},
            "outputs": [
                {
                    "name": "stdout",
                    "output_type": "stream",
                    "text": [
                        "Loaded Plane Plane Object: final_design\n"
                    ]
                }
            ],
            "source": [
                "plane: Airplane = DB.get_vehicle('final_design')\n",
                "# plane.visualize(annotate=True)\n",
                "\n",
                "from ICARUS.visualization.airplane.db_polars import plot_airplane_polars\n",
                "# plot_airplane_polars([plane.name])\n",
                "\n",
                "mission_plane = MissionVehicle(\n",
                "    plane,\n",
                "    engine,\n",
                "    solver= \"AVL\"\n",
                ")"
            ]
        },
        {
            "cell_type": "code",
            "execution_count": 9,
            "metadata": {},
            "outputs": [
                {
                    "data": {
                        "text/plain": [
                            "ICARUS.mission.mission_vehicle.MissionVehicle"
                        ]
                    },
                    "execution_count": 9,
                    "metadata": {},
                    "output_type": "execute_result"
                }
            ],
            "source": [
                "mission_plane.__class__"
            ]
        },
        {
            "cell_type": "markdown",
            "metadata": {},
            "source": [
                "# Compute Trajectory"
            ]
        },
        {
            "cell_type": "code",
            "execution_count": null,
            "metadata": {},
            "outputs": [],
            "source": [
                "from ICARUS.mission.trajectory.trajectory import MissionTrajectory\n",
                "from ICARUS.geometry.cubic_splines import CubicSpline_factory\n",
                "from ICARUS.mission.trajectory.integrate import RK4systems\n",
                "import jax.numpy as jnp\n",
                "from jax.debug import print as jprint\n",
                "import matplotlib.pyplot as plt"
            ]
        },
        {
            "cell_type": "code",
            "execution_count": null,
            "metadata": {},
            "outputs": [],
            "source": [
                "from diffrax import diffeqsolve, ODETerm, SaveAt, Tsit5,Dopri8, PIDController, DiscreteTerminatingEvent, DirectAdjoint, BacksolveAdjoint"
            ]
        },
        {
            "cell_type": "code",
            "execution_count": null,
            "metadata": {},
            "outputs": [],
            "source": [
                "operating_floor = 12.5\n",
                "T0 = 0.\n",
                "X0 =  jnp.array([0., 60.])\n",
                "V0_MAG = 25.\n",
                "TEND = 90.\n",
                "TRAJECTORY_MAX_DIST = 3000.\n",
                "NUM_SPLINE_CONTROL_POINTS = 100\n"
            ]
        },
        {
            "cell_type": "code",
            "execution_count": null,
            "metadata": {},
            "outputs": [],
            "source": [
                "solver = Dopri8(scan_kind=\"bounded\")\n",
                "ts = jnp.linspace(T0, TEND, 1001)\n",
                "saveat = SaveAt(ts=ts)\n",
                "stepsize_controller = PIDController(rtol=1e-5, atol=1e-5, dtmin= 1e-4)\n",
                "\n",
                "def default_terminating_event_fxn(state, **kwargs):\n",
                "    terms = kwargs.get(\"terms\", lambda a, x, b: x)\n",
                "    return jnp.any(jnp.isnan(terms.vf(state.tnext, state.y, 0)))\n",
                "terminating_event =  DiscreteTerminatingEvent(default_terminating_event_fxn)\n",
                "\n",
                "\n",
                "@jax.jit\n",
                "def fun(y, *args):\n",
                "    x0 = X0 \n",
                "    x =  jnp.linspace(0, TRAJECTORY_MAX_DIST, y.shape[0] + 1)\n",
                "    y = jnp.hstack([x0[1], y])\n",
                "    spline_i = CubicSpline_factory(x,y)\n",
                "\n",
                "    traj_spl = MissionTrajectory(\n",
                "        \"CubicSpline\", \n",
                "        spline_i, \n",
                "        vehicle=mission_plane,\n",
                "        verbosity= 2,\n",
                "        operating_floor= operating_floor\n",
                "    )\n",
                "\n",
                "    g1 = jnp.arctan(\n",
                "        traj_spl.dy_dx(x0[0])\n",
                "    )\n",
                "\n",
                "    v0 = jnp.array([jnp.cos(g1), jnp.sin(g1)]) * V0_MAG\n",
                "    y0 = jnp.hstack([x0, v0])\n",
                "    term = ODETerm(traj_spl.timestep)\n",
                "\n",
                "    solution = diffeqsolve(term, solver, t0=T0, t1=TEND, dt0=0.1, y0=y0,\n",
                "                saveat=saveat,\n",
                "                stepsize_controller=stepsize_controller,\n",
                "                discrete_terminating_event= terminating_event,\n",
                "                max_steps= 10000,\n",
                "                adjoint= DirectAdjoint() \n",
                "        )\n",
                "    ts = jnp.array(solution.ts)\n",
                "    ys = jnp.array(solution.ys)\n",
                "    jprint(\"Control Point X {}\", x)\n",
                "    jprint(\"Control Point Y {}\", y)\n",
                "    x = jnp.nan_to_num(ys[:,0], nan = 0 , posinf= 0, neginf= 0)\n",
                "    y = jnp.nan_to_num(ys[:,1], nan = 0 , posinf= 0, neginf= 0)\n",
                "    u = jnp.nan_to_num(ys[:,2], nan = 0 , posinf= 0, neginf= 0)\n",
                "    v = jnp.nan_to_num(ys[:,3], nan = 0 , posinf= 0, neginf= 0)\n",
                "    # jprint(\"X: {}\", x)\n",
                "    # jprint(\"Y: {}\", y)\n",
                "    # jprint(\"t: {}\", ts)\n",
                "    jprint(\"\\033[92mReturning {} \\033[0m\", -jnp.max(x))\n",
                "    return -x[-1]/ TRAJECTORY_MAX_DIST\n",
                "\n",
                "@jax.jit\n",
                "def jacobian(y, *args):\n",
                "    J =  jax.jacrev(fun, argnums=0)(y)\n",
                "    jprint(\"\\033[91mJacobian: {} \\033[0m\", J)\n",
                "    return J "
            ]
        },
        {
            "cell_type": "code",
            "execution_count": null,
            "metadata": {},
            "outputs": [],
            "source": [
                "def compute_and_plot(y):\n",
                "    x0 = X0 \n",
                "    x =  jnp.linspace(0, TRAJECTORY_MAX_DIST, y.shape[0] + 1)\n",
                "    y = jnp.hstack([x0[1], y])\n",
                "\n",
                "    some_spl = CubicSpline_factory(x,y)\n",
                "    trajectory_best =  MissionTrajectory(\n",
                "            \"Optimized CubicSpline\", \n",
                "            some_spl, \n",
                "            vehicle=mission_plane,\n",
                "            verbosity= 2,\n",
                "            operating_floor= operating_floor\n",
                "        )\n",
                "    gamma = jnp.arctan( trajectory_best.dy_dx(X0[0]) )\n",
                "    v0 = jnp.array([jnp.cos(gamma), jnp.sin(gamma)]) * V0_MAG\n",
                "\n",
                "    t, xs, vs, states = RK4systems(T0, TEND, 0.1, X0, v0, trajectory_best)\n",
                "\n",
                "    trajectory_best.clear_history()\n",
                "    for statei, xi, vi, ti in zip(states, xs, vs, t):\n",
                "        trajectory_best.record_state(ti, xi, vi, *statei)\n",
                "    # Plot Trajectory\n",
                "    trajectory_best.plot_history()\n",
                "    plt.show(block = True)"
            ]
        },
        {
            "cell_type": "markdown",
            "metadata": {},
            "source": [
                "# Function Call"
            ]
        },
        {
            "cell_type": "code",
            "execution_count": null,
            "metadata": {},
            "outputs": [],
            "source": [
                "print(\"Compiling the function. First Call will be slow.\")\n",
                "import time\n",
                "time_s = time.time() \n",
                "\n",
                "y_test = jnp.repeat(60., NUM_SPLINE_CONTROL_POINTS)\n",
                "solution = fun(y = y_test)\n",
                "\n",
                "# Calculate the jacrev for the arg y\n",
                "\n",
                "print(f\"Time taken to compile: {time.time() - time_s}\")\n",
                "\n",
                "time_s = time.time()\n",
                "solution = fun(y = y_test)\n",
                "print(f\"Time taken to run: {time.time() - time_s}\")"
            ]
        },
        {
            "cell_type": "code",
            "execution_count": null,
            "metadata": {},
            "outputs": [],
            "source": [
                "print(\"Compiling and Calculating the Jacobian. First Call will be slow.\")\n",
                "time_s = time.time()\n",
                "\n",
                "\n",
                "\n",
                "y_test = jnp.repeat(60., NUM_SPLINE_CONTROL_POINTS)\n",
                "JAC= jacobian(y = y_test)\n",
                "print(f\"Time taken: {time.time() - time_s}\")\n",
                "\n",
                "time_s = time.time()\n",
                "y_test = jnp.repeat(60., NUM_SPLINE_CONTROL_POINTS)\n",
                "solution = fun(y = y_test)\n",
                "\n",
                "print(f\"Time taken to run: {time.time() - time_s}\")"
            ]
        },
        {
            "cell_type": "code",
            "execution_count": null,
            "metadata": {},
            "outputs": [],
            "source": [
                "# print(\"Using Non Jax Function to compute anpd plot the trajectory.\")\n",
                "# compute_and_plot(y_test)"
            ]
        },
        {
            "cell_type": "markdown",
            "metadata": {},
            "source": [
                "# Optimization JAX"
            ]
        },
        {
            "cell_type": "code",
            "execution_count": null,
            "metadata": {},
            "outputs": [],
            "source": [
                "import optimistix as optx\n",
                "import optax # \n",
                "\n",
                "solver_optimistix = optx.BestSoFarMinimiser(\n",
                "    optx.GradientDescent(\n",
                "        rtol=1e-12, \n",
                "        atol=1e-12,\n",
                "        learning_rate=1e-1,\n",
                "        # search = optx.BacktrackingArmijo(decrease_factor=0.9, slope=0.1, step_init=1.)\n",
                "    ),\n",
                ")\n",
                "\n",
                "solver_optax = optx.BestSoFarMinimiser(\n",
                "    optx.OptaxMinimiser(\n",
                "        optax.adam(1e-3), rtol=1e-9, atol=1e-9\n",
                "    )\n",
                ")\n",
                "\n",
                "print(\"Optimizing with Optimistix.\")\n",
                "res_splines = optx.minimise(\n",
                "    fn = fun,\n",
                "    y0 = jnp.repeat(60., NUM_SPLINE_CONTROL_POINTS),\n",
                "    solver = solver_optax,\n",
                "    max_steps= 300000,\n",
                "    throw = False,\n",
                ")\n",
                "\n",
                "print(res_splines.stats)\n",
                "y = res_splines.value"
            ]
        },
        {
            "cell_type": "code",
            "execution_count": null,
            "metadata": {},
            "outputs": [],
            "source": [
                "\n",
                "compute_and_plot(y)\n"
            ]
        },
        {
            "cell_type": "markdown",
            "metadata": {},
            "source": [
                "# Optimization Scipy"
            ]
        },
        {
            "cell_type": "code",
            "execution_count": null,
            "metadata": {},
            "outputs": [],
            "source": [
                "from scipy.optimize import minimize\n",
                " \n",
                "res_splines = minimize(\n",
                "    fun =fun,\n",
                "    jac = jacobian,\n",
                "    x0 = np.array([20, 20 , 20, 20, 20, 20,20, 20, 20,20, 20, 20,]),\n",
                "    method='COBYLA',\n",
                "    options={'disp': True, 'maxiter' : 3000},\n",
                ")\n",
                "\n",
                "\n",
                "print(res_splines.x)\n",
                "y = res_splines.x\n",
                "compute_and_plot(y)"
            ]
        }
    ],
    "metadata": {
        "kernelspec": {
            "display_name": "aero",
            "language": "python",
            "name": "python3"
        },
        "language_info": {
            "codemirror_mode": {
                "name": "ipython",
                "version": 3
            },
            "file_extension": ".py",
            "mimetype": "text/x-python",
            "name": "python",
            "nbconvert_exporter": "python",
            "pygments_lexer": "ipython3",
            "version": "3.12.0"
        }
    },
    "nbformat": 4,
    "nbformat_minor": 2
}
