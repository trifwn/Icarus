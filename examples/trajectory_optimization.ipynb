{
    "cells": [
        {
            "cell_type": "code",
            "execution_count": 2,
            "metadata": {},
            "outputs": [],
            "source": [
                "%load_ext autoreload\n",
                "%autoreload 2\n",
                "%matplotlib qt"
            ]
        },
        {
            "cell_type": "markdown",
            "metadata": {},
            "source": [
                "# Imports"
            ]
        },
        {
            "cell_type": "code",
            "execution_count": 3,
            "metadata": {},
            "outputs": [
                {
                    "name": "stderr",
                    "output_type": "stream",
                    "text": [
                        "An NVIDIA GPU may be present on this machine, but a CUDA-enabled jaxlib is not installed. Falling back to cpu.\n"
                    ]
                },
                {
                    "name": "stdout",
                    "output_type": "stream",
                    "text": [
                        "\n",
                        "Jax has been configured to use the following devices:  [CpuDevice(id=0)]\n"
                    ]
                }
            ],
            "source": [
                "import jax\n",
                "\n",
                "# Get the percision of the jax library\n",
                "print()\n",
                "print('Jax has been configured to use the following devices: ', jax.devices())\n",
                "jax.config.update(\"jax_enable_x64\", True)"
            ]
        },
        {
            "cell_type": "code",
            "execution_count": 4,
            "metadata": {},
            "outputs": [],
            "source": [
                "import numpy as np\n",
                "from ICARUS.propulsion.engine import Engine\n",
                "from ICARUS.database import DB"
            ]
        },
        {
            "cell_type": "markdown",
            "metadata": {},
            "source": [
                "#  Load Plane and Engine"
            ]
        },
        {
            "cell_type": "code",
            "execution_count": 5,
            "metadata": {},
            "outputs": [],
            "source": [
                "engine_dir = \"../Data/Engine/Motor_1/\"\n",
                "\n",
                "engine = Engine()\n",
                "engine.load_data_from_df(engine_dir)\n",
                "# engine.plot_engine_map()"
            ]
        },
        {
            "cell_type": "markdown",
            "metadata": {},
            "source": [
                "# Vehicle"
            ]
        },
        {
            "cell_type": "code",
            "execution_count": 6,
            "metadata": {},
            "outputs": [],
            "source": [
                "from ICARUS.vehicle.plane import Airplane\n",
                "from ICARUS.mission.mission_vehicle import MissionVehicle"
            ]
        },
        {
            "cell_type": "code",
            "execution_count": 7,
            "metadata": {},
            "outputs": [
                {
                    "name": "stdout",
                    "output_type": "stream",
                    "text": [
                        "Loaded Plane Plane Object: final_design\n",
                        "Run Doesn't Exist: final_design,'GNVP3 Potential CL' \n",
                        "Run Doesn't Exist: final_design,'GNVP3 2D CL' \n",
                        "Run Doesn't Exist: final_design,'GNVP7 Potential CL' \n",
                        "Run Doesn't Exist: final_design,'GNVP7 2D CL' \n",
                        "Run Doesn't Exist: final_design,'LSPT Potential CL' \n",
                        "Run Doesn't Exist: final_design,'LSPT 2D CL' \n"
                    ]
                },
                {
                    "data": {
                        "text/plain": [
                            "(array([[<Axes: title={'center': 'CL vs AoA'}, xlabel='AoA', ylabel='CL'>,\n",
                            "         <Axes: title={'center': 'CD vs AoA'}, xlabel='AoA', ylabel='CD'>],\n",
                            "        [<Axes: title={'center': 'Cm vs AoA'}, xlabel='AoA', ylabel='Cm'>,\n",
                            "         <Axes: title={'center': 'CD vs CL'}, xlabel='CL', ylabel='CD'>],\n",
                            "        [<Axes: >, <Axes: >]], dtype=object),\n",
                            " <Figure size 1000x1000 with 4 Axes>)"
                        ]
                    },
                    "execution_count": 7,
                    "metadata": {},
                    "output_type": "execute_result"
                }
            ],
            "source": [
                "plane: Airplane = DB.get_vehicle('final_design')\n",
                "# plane.visualize(annotate=True)\n",
                "# plane.main_wing.symmetries\n",
                "\n",
                "mission_plane = MissionVehicle(\n",
                "    plane,\n",
                "    engine,\n",
                "    solver= \"AVL\"\n",
                ")\n",
                "\n",
                "from ICARUS.visualization.airplane.db_polars import plot_airplane_polars\n",
                "plot_airplane_polars([plane.name])"
            ]
        },
        {
            "cell_type": "markdown",
            "metadata": {},
            "source": [
                "# Compute Trajectory"
            ]
        },
        {
            "cell_type": "code",
            "execution_count": null,
            "metadata": {},
            "outputs": [],
            "source": [
                "from ICARUS.geometry.polynomial import h_polynomial_factory\n",
                "from ICARUS.mission.trajectory.trajectory import MissionTrajectory\n",
                "from ICARUS.mission.trajectory.integrate import RK45_scipy_integrator\n",
                "from ICARUS.geometry.cubic_splines import CubicSpline_factory\n",
                "import jax.numpy as jnp"
            ]
        },
        {
            "cell_type": "code",
            "execution_count": null,
            "metadata": {},
            "outputs": [],
            "source": [
                "operating_floor = 12.5\n",
                "t0 = 0\n",
                "x0 =  jnp.array([0., 20.])\n",
                "\n",
                "# Polynomial Trajectory\n",
                "coeffs = jnp.array(\n",
                "    [\n",
                "        x0[1],\n",
                "        0.2,\n",
                "        -1/300\n",
                "    ]\n",
                ")\n",
                "traj_fun_1 = h_polynomial_factory(coeffs)\n",
                "\n",
                "traj_poly  = MissionTrajectory(\n",
                "    \"Polynomial Trajectory\", \n",
                "    traj_fun_1, \n",
                "    vehicle=mission_plane,\n",
                "    verbosity= 2,\n",
                "    operating_floor= 12.4\n",
                ")\n",
                "\n",
                "# Spline Trajectory\n",
                "# y= [20.34201669, 18.79171704 ,20.01380251 ,20.70916841, 20.42523286 ,19.08487198]\n",
                "y = [20, 20 , 20, 20, 20, 20,20, 20, 20,20, 20, 20]\n",
                "# y = [20, 20 , 20, 20, 20, 20,]\n",
                "x =  jnp.linspace(0, 10000, len(y)+2)\n",
                "y = jnp.array([x0[1], *y, operating_floor])\n",
                "\n",
                "cub_spl = jax.jit(CubicSpline_factory)\n",
                "\n",
                "spline_i = cub_spl(x,y)\n",
                "\n",
                "traj_spl = MissionTrajectory(\n",
                "    \"Spline Trajectory\", \n",
                "    spline_i, \n",
                "    vehicle=mission_plane,\n",
                "    verbosity= 2,\n",
                "    operating_floor= 12.4\n",
                ")\n",
                "gamma = jnp.arctan(traj_spl.dy_dx(x0[0]))\n"
            ]
        },
        {
            "cell_type": "code",
            "execution_count": null,
            "metadata": {},
            "outputs": [],
            "source": []
        },
        {
            "cell_type": "code",
            "execution_count": null,
            "metadata": {},
            "outputs": [],
            "source": [
                "traj_spl.get_control(y0[:2], y0[2:])"
            ]
        },
        {
            "cell_type": "code",
            "execution_count": null,
            "metadata": {},
            "outputs": [],
            "source": [
                "x0 =  jnp.array([0., 20.])\n",
                "g1 = jnp.arctan(\n",
                "    traj_spl.dy_dx(x0[0])\n",
                ")\n",
                "v0_mag = 20.\n",
                "v0 = jnp.array([jnp.cos(g1), jnp.sin(g1)]) * v0_mag\n",
                "y0 = jnp.hstack([x0, v0])\n",
                "print(y0)\n",
                "\n",
                "traj_spl.timestep(0.1, y0)\n",
                "state = traj_spl.get_control()\n",
                "traj_spl.dvdt(\n",
                "    0.1,\n",
                "    y0[:2],\n",
                "    y0[2:],\n",
                "    state\n",
                ")"
            ]
        },
        {
            "cell_type": "code",
            "execution_count": null,
            "metadata": {},
            "outputs": [],
            "source": [
                "%timeit traj_spl.get_control()"
            ]
        },
        {
            "cell_type": "code",
            "execution_count": null,
            "metadata": {},
            "outputs": [],
            "source": [
                "%timeit traj_spl.dvdt(0.1,y0[:2],y0[2:],state)"
            ]
        },
        {
            "cell_type": "code",
            "execution_count": null,
            "metadata": {},
            "outputs": [],
            "source": [
                "%timeit traj_spl.timestep(0.1, y0)"
            ]
        },
        {
            "cell_type": "code",
            "execution_count": null,
            "metadata": {},
            "outputs": [],
            "source": [
                "y = jnp.hstack([x0, y, operating_floor])\n"
            ]
        },
        {
            "cell_type": "code",
            "execution_count": null,
            "metadata": {},
            "outputs": [],
            "source": [
                "y"
            ]
        },
        {
            "cell_type": "code",
            "execution_count": null,
            "metadata": {},
            "outputs": [],
            "source": [
                "# Compare 8.16 µs to   45.7 ms\n",
                "# 45.7 ms / 8.16 µs = 5600\n",
                "45.7e-3 / 8.16e-6"
            ]
        },
        {
            "cell_type": "code",
            "execution_count": null,
            "metadata": {},
            "outputs": [],
            "source": [
                "from diffrax import diffeqsolve, ODETerm, SaveAt, Dopri5, PIDController\n",
                "\n",
                "term = ODETerm(traj_spl.timestep)\n",
                "solver = Dopri5()\n",
                "ts = jnp.linspace(0, 100, 101)\n",
                "saveat = SaveAt(ts=ts)\n",
                "stepsize_controller = PIDController(rtol=1e-5, atol=1e-5)\n",
                "\n",
                "solution = diffeqsolve(term, solver, t0=0., t1=ts[-1], dt0=0.0001, y0=y0, saveat=saveat,\n",
                "                    stepsize_controller=stepsize_controller, throw=False)"
            ]
        },
        {
            "cell_type": "code",
            "execution_count": null,
            "metadata": {},
            "outputs": [],
            "source": [
                "solution.ys"
            ]
        },
        {
            "cell_type": "code",
            "execution_count": null,
            "metadata": {},
            "outputs": [],
            "source": [
                "l = jax.grad(traj_spl.dvdt)\n",
                "\n",
                "# Get the signature of lambda function\n",
                "import inspect\n",
                "inspect.signature(l).parameters\n",
                "l( \n",
                "    jnp.array(0.1), \n",
                "    jnp.array([0., 0.]), \n",
                "    jnp.array([20., 0.]), \n",
                "    prev_state= jnp.array([0., 0., 0., 0.,0., 0.,0., 0.])\n",
                ")"
            ]
        },
        {
            "cell_type": "code",
            "execution_count": null,
            "metadata": {},
            "outputs": [],
            "source": [
                "import jax.numpy as jnp\n",
                "\n",
                "from ICARUS.mission.trajectory.integrate import RK4systems\n",
                "# velocity is in the same direction as the derivative of the polynomial\n",
                "g1 = jnp.arctan(\n",
                "    traj_spl.dy_dx(x0[0])\n",
                ")\n",
                "v0_mag = 20.\n",
                "v0 = jnp.array([jnp.cos(g1), jnp.sin(g1)]) * v0_mag\n",
                "\n",
                "dt = 0.01\n",
                "tend = 200\n",
                "t, xs, vs, states = RK4systems(t0, tend, dt, x0, v0, traj_spl )\n"
            ]
        },
        {
            "cell_type": "code",
            "execution_count": null,
            "metadata": {},
            "outputs": [],
            "source": [
                "traj_spl.clear_history()\n",
                "for statei, xi, vi, ti in zip(states, xs, vs, t):\n",
                "    traj_spl.record_state(ti, xi, vi, *statei)\n",
                "traj_spl.plot_history()"
            ]
        },
        {
            "cell_type": "markdown",
            "metadata": {},
            "source": [
                "# Optimization"
            ]
        },
        {
            "cell_type": "code",
            "execution_count": null,
            "metadata": {},
            "outputs": [],
            "source": [
                "import matplotlib.pyplot as plt\n",
                "import matplotlib\n",
                "matplotlib.use('Qt5Agg')\n",
                "\n",
                "\n",
                "# fig = plt.figure()\n",
                "# axs = fig.subplots(3, 2, squeeze=False).flatten().tolist()\n",
                "# # plt.show(block=True)\n",
                "\n",
                "def objective_goal_splines(y, dt = 0.05):\n",
                "    x =  jnp.linspace(0, 10000, len(y)+2)\n",
                "    y = jnp.hstack([x0[1], y, operating_floor])\n",
                "\n",
                "    spline_i, title = CubicSpline_factory(x,y)\n",
                "\n",
                "    trajectory = MissionTrajectory(\n",
                "        title, \n",
                "        spline_i, \n",
                "        vehicle=mission_plane,\n",
                "        verbosity= 2,\n",
                "        operating_floor= 12.4\n",
                "    )\n",
                "    gamma = jnp.arctan(trajectory.dy_dx(x0[0]))\n",
                "    v0 = jnp.array([np.cos(gamma), np.sin(gamma)]) * v0_mag\n",
                "\n",
                "\n",
                "    t, xs, vs, _  = RK4systems(t0, tend, dt, x0, v0, trajectory)\n",
                "    # trajectory.plot_history(axs,fig)\n",
                "    # x = [x[0] for x in xs]\n",
                "    # Remove nan values\n",
                "    x = xs[:, 0]\n",
                "    x = x[~jnp.isnan(x)]\n",
                "    print(f\"Max x: {jnp.max(x)}\")\n",
                "    return - jnp.max(x)"
            ]
        },
        {
            "cell_type": "code",
            "execution_count": null,
            "metadata": {},
            "outputs": [],
            "source": [
                "from scipy.optimize import minimize\n",
                " \n",
                "res_splines = minimize(\n",
                "    objective_goal_splines,\n",
                "    x0 = np.array([20, 20 , 20, 20, 20, 20,20, 20, 20,20, 20, 20,]),\n",
                "    method='COBYLA',\n",
                "    options={'disp': True, 'maxiter' : 3000},\n",
                ")\n",
                "\n"
            ]
        },
        {
            "cell_type": "code",
            "execution_count": null,
            "metadata": {},
            "outputs": [],
            "source": [
                "print(res_splines.x)\n",
                "x0 = np.array([20, 20 , 20, 20, 20, 20,20, 20, 20,20, 20, 20,]),"
            ]
        },
        {
            "cell_type": "code",
            "execution_count": null,
            "metadata": {},
            "outputs": [],
            "source": [
                "y  = res_splines.x\n",
                "x = jnp.linspace(0, 10000, len(y)+2)\n",
                "y = jnp.hstack([x0[1], y, operating_floor])\n",
                "\n",
                "spline_best, title = CubicSpline_factory(x,y)\n",
                "trajectory_best =  MissionTrajectory(\n",
                "        title, \n",
                "        spline_best, \n",
                "        vehicle=mission_plane,\n",
                "        verbosity= 2,\n",
                "        operating_floor= 12.4\n",
                "    )\n",
                "gamma = jnp.arctan( trajectory_best.dy_dx(x0[0]) )\n",
                "v0 = jnp.array([np.cos(gamma), np.sin(gamma)]) * v0_mag\n",
                "\n",
                "t, xs, vs, states = RK4systems(t0, tend, dt, x0, v0, trajectory_best)\n",
                "\n",
                "for statei, xi, vi, ti in zip(states, xs, vs, t):\n",
                "    trajectory_best.record_state(ti, xi, vi, *statei)\n",
                "# Plot Trajectory\n",
                "trajectory_best.clear_history()\n",
                "for statei, xi, vi, ti in zip(states, xs, vs, t):\n",
                "    trajectory_best.record_state(ti, xi, vi, *statei)\n",
                "\n",
                "trajectory_best.plot_history()"
            ]
        },
        {
            "cell_type": "code",
            "execution_count": null,
            "metadata": {},
            "outputs": [],
            "source": []
        },
        {
            "cell_type": "code",
            "execution_count": null,
            "metadata": {},
            "outputs": [],
            "source": []
        }
    ],
    "metadata": {
        "kernelspec": {
            "display_name": "aero",
            "language": "python",
            "name": "python3"
        },
        "language_info": {
            "codemirror_mode": {
                "name": "ipython",
                "version": 3
            },
            "file_extension": ".py",
            "mimetype": "text/x-python",
            "name": "python",
            "nbconvert_exporter": "python",
            "pygments_lexer": "ipython3",
            "version": "3.12.2"
        }
    },
    "nbformat": 4,
    "nbformat_minor": 2
}
