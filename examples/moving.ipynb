{
 "cells": [
  {
   "cell_type": "code",
   "execution_count": 1,
   "metadata": {},
   "outputs": [],
   "source": [
    "import numpy as np\n",
    "import os\n",
    "from ICARUS.core.types import FloatArray\n",
    "from ICARUS.vehicle.plane import Airplane\n",
    "from ICARUS.vehicle.surface import WingSurface\n",
    "from ICARUS.vehicle.utils import SymmetryAxes\n",
    "from ICARUS.vehicle.plane import Airplane\n",
    "from ICARUS.vehicle.wing_segment import WingSegment\n",
    "from ICARUS.computation.solvers.AVL.files.input import avl_geo\n",
    "from ICARUS.computation.solvers.AVL.analyses.pertrubations import avl_dynamic_analysis_fd\n",
    "from ICARUS.computation.solvers.AVL.analyses.pertrubations import process_avl_fd_res\n",
    "from ICARUS.environment.definition import EARTH_ISA\n",
    "from ICARUS.flight_dynamics.state import State\n",
    "from ICARUS.database import DB3D\n"
   ]
  },
  {
   "cell_type": "code",
   "execution_count": 2,
   "metadata": {},
   "outputs": [],
   "source": [
    "from typing import Union\n",
    "import copy"
   ]
  },
  {
   "cell_type": "code",
   "execution_count": 9,
   "metadata": {},
   "outputs": [],
   "source": [
    "origin= np.array([0.0, 0.0, 0.0], dtype=float)\n",
    "\n",
    "wing_position= np.array(\n",
    "    [0.0, 0.0, 0.0],\n",
    "    dtype=float,\n",
    ")\n",
    "wing_orientation=np.array(\n",
    "    [0, 5.0, 0.0],\n",
    "    dtype=float,\n",
    ")\n",
    "move_surf_w = {\n",
    "    \"names\":[\"flap\"],\n",
    "    \"hinges\" : [0.7],\n",
    "    \"local_axes\":[np.array([0,1.0,0.])],\n",
    "    \"span_percs\" : [0.3],\n",
    "    \"rotation\" : [1],\n",
    "    \"gains\":[1.]\n",
    "\n",
    "}\n",
    "move_surf_el = {\n",
    "    \"names\":[\"elev\"],\n",
    "    \"hinges\" : [0.5],\n",
    "    \"local_axes\":[np.array([0,1.0,0.])],\n",
    "    \"span_percs\" : [1],\n",
    "    \"rotation\" : [1],\n",
    "    \"gains\":[1.]\n",
    "\n",
    "}\n",
    "\n",
    "main_wing = WingSegment(\n",
    "    name=\"wing\",\n",
    "    root_airfoil=\"4415\",\n",
    "    origin=origin + wing_position,\n",
    "    orientation=wing_orientation,\n",
    "    symmetries=SymmetryAxes.Y,\n",
    "    span=2 * 1.130,\n",
    "    sweep_offset=0,\n",
    "    root_chord=0.159,\n",
    "    tip_chord=0.072,\n",
    "    twist_root=0,\n",
    "    twist_tip=0,\n",
    "    N=15,\n",
    "    M=5,\n",
    "    mass=0.670,\n",
    "    moving_surfs= move_surf_w\n",
    ")\n",
    "\n",
    "elevator_pos: FloatArray = np.array(\n",
    "    [0.54, 0.0, 0.0],\n",
    "    dtype=float,\n",
    ")\n",
    "elevator_orientantion: FloatArray = np.array(\n",
    "    [0.0, 0.0, 0.0],\n",
    "    dtype=float,\n",
    ")\n",
    "\n",
    "elevator = WingSegment(\n",
    "    name=\"elevator\",\n",
    "    root_airfoil=\"NACA0008\",\n",
    "    origin=origin + elevator_pos,\n",
    "    orientation=elevator_orientantion,\n",
    "    symmetries=SymmetryAxes.Y,\n",
    "    span=2 * 0.169,\n",
    "    sweep_offset=0,\n",
    "    root_dihedral_angle=0,\n",
    "    root_chord=0.130,\n",
    "    tip_chord=0.03,\n",
    "    N=15,\n",
    "    M=5,\n",
    "    mass=0.06,\n",
    "    moving_surfs=move_surf_el\n",
    ")\n",
    "\n",
    "rudder_position: FloatArray = np.array(\n",
    "    [0.47, 0.0, 0.01],\n",
    "    dtype=float,\n",
    ")\n",
    "rudder_orientation: FloatArray = np.array(\n",
    "    [0.0, 0.0, 90.0],\n",
    "    dtype=float,\n",
    ")\n",
    "\n",
    "rudder = WingSegment(\n",
    "    name=\"rudder\",\n",
    "    root_airfoil=\"NACA0008\",\n",
    "    origin=origin + rudder_position,\n",
    "    orientation=rudder_orientation,\n",
    "    symmetries=SymmetryAxes.NONE,\n",
    "    span=0.160,\n",
    "    sweep_offset=0.1,\n",
    "    root_dihedral_angle=0,\n",
    "    root_chord=0.2,\n",
    "    tip_chord=0.1,\n",
    "    N=15,\n",
    "    M=5,\n",
    "    mass=0.04,\n",
    ")\n",
    "\n",
    "lifting_surfaces: list[WingSurface] = [main_wing, elevator, rudder]\n",
    "\n",
    "point_masses = [\n",
    "    (0.500, np.array([-0.40, 0.0, 0.0], dtype=float), \"engine\"),  # Engine\n",
    "    (1.000, np.array([0.090, 0.0, 0.0], dtype=float), \"structure\"),  # Structure\n",
    "    # (1.000, np.array([0.090, 0.0, 0.0], dtype=float), \"battery\"),  # Battery\n",
    "    (0.900, np.array([0.130, 0.0, 0.0], dtype=float), \"payload\"),  # Payload\n",
    "]"
   ]
  },
  {
   "cell_type": "code",
   "execution_count": 10,
   "metadata": {},
   "outputs": [],
   "source": [
    "plane = Airplane(\"flapped_wing\",lifting_surfaces)\n",
    "plane.add_point_masses(point_masses)\n"
   ]
  },
  {
   "cell_type": "code",
   "execution_count": 11,
   "metadata": {},
   "outputs": [
    {
     "data": {
      "text/plain": [
       "'flapped_wing'"
      ]
     },
     "execution_count": 11,
     "metadata": {},
     "output_type": "execute_result"
    }
   ],
   "source": [
    "plane.directory"
   ]
  },
  {
   "cell_type": "code",
   "execution_count": 12,
   "metadata": {},
   "outputs": [],
   "source": [
    "\n",
    "UINF = 20\n",
    "solver2D = \"Xfoil\"\n",
    "angles = np.linspace(-10, 10, 11)\n",
    "\n",
    "state = State(\n",
    "        name=\"Unstick\",\n",
    "        airplane=plane,\n",
    "        environment=EARTH_ISA,\n",
    "        u_freestream= UINF\n",
    ")\n",
    "\n",
    "epsilons = {\n",
    "    \"u\": 0.01,\n",
    "    \"w\": 0.01,\n",
    "    \"q\": 0.1,\n",
    "    \"theta\": 0.01,\n",
    "    \"v\": 0.01,\n",
    "    \"p\": 0.1,\n",
    "    \"r\": 0.1,\n",
    "    \"phi\": 0.01,\n",
    "}\n"
   ]
  },
  {
   "cell_type": "code",
   "execution_count": 13,
   "metadata": {},
   "outputs": [
    {
     "name": "stdout",
     "output_type": "stream",
     "text": [
      "Trimming the plane\n",
      "Searching for airfoil naca0008 in DB2D\n",
      "Loading airfoil naca0008 from DB2D\n"
     ]
    },
    {
     "ename": "TrimOutsidePolars",
     "evalue": "",
     "output_type": "error",
     "traceback": [
      "\u001b[1;31m---------------------------------------------------------------------------\u001b[0m",
      "\u001b[1;31mValueError\u001b[0m                                Traceback (most recent call last)",
      "File \u001b[1;32m~\\Desktop\\Icarus_euro\\Icarus\\ICARUS\\flight_dynamics\\trim.py:47\u001b[0m, in \u001b[0;36mtrim_state\u001b[1;34m(state, verbose)\u001b[0m\n\u001b[0;32m     46\u001b[0m     \u001b[38;5;66;03m# Find the index of the closest negative value to zero\u001b[39;00m\n\u001b[1;32m---> 47\u001b[0m     trim_loc2: \u001b[38;5;28mint\u001b[39m \u001b[38;5;241m=\u001b[39m \u001b[38;5;28mint\u001b[39m(\u001b[43m(\u001b[49m\u001b[38;5;241;43m-\u001b[39;49m\u001b[43mCm\u001b[49m\u001b[43m[\u001b[49m\u001b[43mCm\u001b[49m\u001b[43m \u001b[49m\u001b[38;5;241;43m<\u001b[39;49m\u001b[43m \u001b[49m\u001b[38;5;241;43m0\u001b[39;49m\u001b[43m]\u001b[49m\u001b[43m \u001b[49m\u001b[38;5;241;43m-\u001b[39;49m\u001b[43m \u001b[49m\u001b[38;5;241;43m0\u001b[39;49m\u001b[43m)\u001b[49m\u001b[38;5;241;43m.\u001b[39;49m\u001b[43midxmin\u001b[49m\u001b[43m(\u001b[49m\u001b[43m)\u001b[49m)\n\u001b[0;32m     48\u001b[0m \u001b[38;5;28;01mexcept\u001b[39;00m \u001b[38;5;167;01mValueError\u001b[39;00m \u001b[38;5;28;01mas\u001b[39;00m e:\n",
      "File \u001b[1;32m~\\AppData\\Local\\Packages\\PythonSoftwareFoundation.Python.3.11_qbz5n2kfra8p0\\LocalCache\\local-packages\\Python311\\site-packages\\pandas\\core\\series.py:2557\u001b[0m, in \u001b[0;36mSeries.idxmin\u001b[1;34m(self, axis, skipna, *args, **kwargs)\u001b[0m\n\u001b[0;32m   2556\u001b[0m     warnings\u001b[38;5;241m.\u001b[39msimplefilter(\u001b[38;5;124m\"\u001b[39m\u001b[38;5;124mignore\u001b[39m\u001b[38;5;124m\"\u001b[39m)\n\u001b[1;32m-> 2557\u001b[0m     i \u001b[38;5;241m=\u001b[39m \u001b[38;5;28;43mself\u001b[39;49m\u001b[38;5;241;43m.\u001b[39;49m\u001b[43margmin\u001b[49m\u001b[43m(\u001b[49m\u001b[43maxis\u001b[49m\u001b[43m,\u001b[49m\u001b[43m \u001b[49m\u001b[43mskipna\u001b[49m\u001b[43m,\u001b[49m\u001b[43m \u001b[49m\u001b[38;5;241;43m*\u001b[39;49m\u001b[43margs\u001b[49m\u001b[43m,\u001b[49m\u001b[43m \u001b[49m\u001b[38;5;241;43m*\u001b[39;49m\u001b[38;5;241;43m*\u001b[39;49m\u001b[43mkwargs\u001b[49m\u001b[43m)\u001b[49m\n\u001b[0;32m   2559\u001b[0m \u001b[38;5;28;01mif\u001b[39;00m i \u001b[38;5;241m==\u001b[39m \u001b[38;5;241m-\u001b[39m\u001b[38;5;241m1\u001b[39m:\n\u001b[0;32m   2560\u001b[0m     \u001b[38;5;66;03m# GH#43587 give correct NA value for Index.\u001b[39;00m\n",
      "File \u001b[1;32m~\\AppData\\Local\\Packages\\PythonSoftwareFoundation.Python.3.11_qbz5n2kfra8p0\\LocalCache\\local-packages\\Python311\\site-packages\\pandas\\core\\base.py:785\u001b[0m, in \u001b[0;36mIndexOpsMixin.argmin\u001b[1;34m(self, axis, skipna, *args, **kwargs)\u001b[0m\n\u001b[0;32m    784\u001b[0m \u001b[38;5;28;01melse\u001b[39;00m:\n\u001b[1;32m--> 785\u001b[0m     result \u001b[38;5;241m=\u001b[39m \u001b[43mnanops\u001b[49m\u001b[38;5;241;43m.\u001b[39;49m\u001b[43mnanargmin\u001b[49m\u001b[43m(\u001b[49m\u001b[43mdelegate\u001b[49m\u001b[43m,\u001b[49m\u001b[43m \u001b[49m\u001b[43mskipna\u001b[49m\u001b[38;5;241;43m=\u001b[39;49m\u001b[43mskipna\u001b[49m\u001b[43m)\u001b[49m\n\u001b[0;32m    786\u001b[0m     \u001b[38;5;28;01mif\u001b[39;00m result \u001b[38;5;241m==\u001b[39m \u001b[38;5;241m-\u001b[39m\u001b[38;5;241m1\u001b[39m:\n",
      "File \u001b[1;32m~\\AppData\\Local\\Packages\\PythonSoftwareFoundation.Python.3.11_qbz5n2kfra8p0\\LocalCache\\local-packages\\Python311\\site-packages\\pandas\\core\\nanops.py:1188\u001b[0m, in \u001b[0;36mnanargmin\u001b[1;34m(values, axis, skipna, mask)\u001b[0m\n\u001b[0;32m   1187\u001b[0m \u001b[38;5;66;03m# error: Need type annotation for 'result'\u001b[39;00m\n\u001b[1;32m-> 1188\u001b[0m result \u001b[38;5;241m=\u001b[39m values\u001b[38;5;241m.\u001b[39margmin(axis)  \u001b[38;5;66;03m# type: ignore[var-annotated]\u001b[39;00m\n\u001b[0;32m   1189\u001b[0m result \u001b[38;5;241m=\u001b[39m _maybe_arg_null_out(result, axis, mask, skipna)\n",
      "\u001b[1;31mValueError\u001b[0m: attempt to get argmin of an empty sequence",
      "\nDuring handling of the above exception, another exception occurred:\n",
      "\u001b[1;31mTrimOutsidePolars\u001b[0m                         Traceback (most recent call last)",
      "Cell \u001b[1;32mIn[13], line 2\u001b[0m\n\u001b[0;32m      1\u001b[0m state\u001b[38;5;241m.\u001b[39madd_all_pertrubations(\u001b[38;5;124m\"\u001b[39m\u001b[38;5;124mCentral\u001b[39m\u001b[38;5;124m\"\u001b[39m, epsilons)\n\u001b[1;32m----> 2\u001b[0m \u001b[43mavl_dynamic_analysis_fd\u001b[49m\u001b[43m(\u001b[49m\u001b[43mplane\u001b[49m\u001b[43m,\u001b[49m\u001b[43m \u001b[49m\u001b[43mstate\u001b[49m\u001b[43m,\u001b[49m\u001b[43m \u001b[49m\u001b[43msolver2D\u001b[49m\u001b[43m)\u001b[49m\n\u001b[0;32m      3\u001b[0m df \u001b[38;5;241m=\u001b[39m process_avl_fd_res(plane, state)\n\u001b[0;32m      4\u001b[0m state\u001b[38;5;241m.\u001b[39mset_pertrubation_results(df)\n",
      "File \u001b[1;32m~\\Desktop\\Icarus_euro\\Icarus\\ICARUS\\computation\\solvers\\AVL\\analyses\\pertrubations.py:37\u001b[0m, in \u001b[0;36mavl_dynamic_analysis_fd\u001b[1;34m(plane, state, solver2D, solver_options)\u001b[0m\n\u001b[0;32m     35\u001b[0m     avl_angle_run(plane\u001b[38;5;241m=\u001b[39mplane, state\u001b[38;5;241m=\u001b[39mstate, solver2D\u001b[38;5;241m=\u001b[39msolver2D, angles\u001b[38;5;241m=\u001b[39mangles)\n\u001b[0;32m     36\u001b[0m     polar_df \u001b[38;5;241m=\u001b[39m process_avl_angles_run(plane, state, angles)\n\u001b[1;32m---> 37\u001b[0m     \u001b[43mstate\u001b[49m\u001b[38;5;241;43m.\u001b[39;49m\u001b[43madd_polar\u001b[49m\u001b[43m(\u001b[49m\u001b[43mpolar_df\u001b[49m\u001b[43m,\u001b[49m\u001b[43m \u001b[49m\u001b[43mpolar_prefix\u001b[49m\u001b[38;5;241;43m=\u001b[39;49m\u001b[38;5;124;43m\"\u001b[39;49m\u001b[38;5;124;43mAVL\u001b[39;49m\u001b[38;5;124;43m\"\u001b[39;49m\u001b[43m,\u001b[49m\u001b[43m \u001b[49m\u001b[43mis_dimensional\u001b[49m\u001b[38;5;241;43m=\u001b[39;49m\u001b[38;5;28;43;01mTrue\u001b[39;49;00m\u001b[43m,\u001b[49m\u001b[43m \u001b[49m\u001b[43mverbose\u001b[49m\u001b[38;5;241;43m=\u001b[39;49m\u001b[38;5;28;43;01mFalse\u001b[39;49;00m\u001b[43m)\u001b[49m\n\u001b[0;32m     39\u001b[0m finite_difs(plane\u001b[38;5;241m=\u001b[39mplane, state\u001b[38;5;241m=\u001b[39mstate, solver2D\u001b[38;5;241m=\u001b[39msolver2D)\n",
      "File \u001b[1;32m~\\Desktop\\Icarus_euro\\Icarus\\ICARUS\\flight_dynamics\\state.py:115\u001b[0m, in \u001b[0;36mState.add_polar\u001b[1;34m(self, polar, polar_prefix, is_dimensional, verbose)\u001b[0m\n\u001b[0;32m    112\u001b[0m     \u001b[38;5;28mself\u001b[39m\u001b[38;5;241m.\u001b[39mpolar \u001b[38;5;241m=\u001b[39m polar\n\u001b[0;32m    114\u001b[0m \u001b[38;5;66;03m# GET TRIM STATE\u001b[39;00m\n\u001b[1;32m--> 115\u001b[0m \u001b[38;5;28mself\u001b[39m\u001b[38;5;241m.\u001b[39mtrim \u001b[38;5;241m=\u001b[39m \u001b[43mtrim_state\u001b[49m\u001b[43m(\u001b[49m\u001b[38;5;28;43mself\u001b[39;49m\u001b[43m,\u001b[49m\u001b[43m \u001b[49m\u001b[43mverbose\u001b[49m\u001b[38;5;241;43m=\u001b[39;49m\u001b[43mverbose\u001b[49m\u001b[43m)\u001b[49m\n\u001b[0;32m    116\u001b[0m \u001b[38;5;28mself\u001b[39m\u001b[38;5;241m.\u001b[39mtrim_dynamic_pressure \u001b[38;5;241m=\u001b[39m \u001b[38;5;241m0.5\u001b[39m \u001b[38;5;241m*\u001b[39m \u001b[38;5;28mself\u001b[39m\u001b[38;5;241m.\u001b[39menvironment\u001b[38;5;241m.\u001b[39mair_density \u001b[38;5;241m*\u001b[39m \u001b[38;5;28mself\u001b[39m\u001b[38;5;241m.\u001b[39mtrim[\u001b[38;5;124m\"\u001b[39m\u001b[38;5;124mU\u001b[39m\u001b[38;5;124m\"\u001b[39m] \u001b[38;5;241m*\u001b[39m\u001b[38;5;241m*\u001b[39m \u001b[38;5;241m2.0\u001b[39m\n",
      "File \u001b[1;32m~\\Desktop\\Icarus_euro\\Icarus\\ICARUS\\flight_dynamics\\trim.py:52\u001b[0m, in \u001b[0;36mtrim_state\u001b[1;34m(state, verbose)\u001b[0m\n\u001b[0;32m     50\u001b[0m     logging\u001b[38;5;241m.\u001b[39mdebug(e)\n\u001b[0;32m     51\u001b[0m     logging\u001b[38;5;241m.\u001b[39mdebug(Cm)\n\u001b[1;32m---> 52\u001b[0m     \u001b[38;5;28;01mraise\u001b[39;00m TrimOutsidePolars()\n\u001b[0;32m     54\u001b[0m \u001b[38;5;66;03m# from trimLoc1 and trimLoc2, interpolate the angle where Cm = 0\u001b[39;00m\n\u001b[0;32m     55\u001b[0m d_aoa \u001b[38;5;241m=\u001b[39m state\u001b[38;5;241m.\u001b[39mpolar[\u001b[38;5;124m\"\u001b[39m\u001b[38;5;124mAoA\u001b[39m\u001b[38;5;124m\"\u001b[39m][trim_loc2] \u001b[38;5;241m-\u001b[39m state\u001b[38;5;241m.\u001b[39mpolar[\u001b[38;5;124m\"\u001b[39m\u001b[38;5;124mAoA\u001b[39m\u001b[38;5;124m\"\u001b[39m][trim_loc1]\n",
      "\u001b[1;31mTrimOutsidePolars\u001b[0m: "
     ]
    }
   ],
   "source": [
    "state.add_all_pertrubations(\"Central\", epsilons)\n",
    "avl_dynamic_analysis_fd(plane, state, solver2D)\n",
    "df = process_avl_fd_res(plane, state)\n",
    "state.set_pertrubation_results(df)\n",
    "state.stability_fd()"
   ]
  },
  {
   "cell_type": "code",
   "execution_count": null,
   "metadata": {},
   "outputs": [],
   "source": []
  }
 ],
 "metadata": {
  "kernelspec": {
   "display_name": "Python 3",
   "language": "python",
   "name": "python3"
  },
  "language_info": {
   "codemirror_mode": {
    "name": "ipython",
    "version": 3
   },
   "file_extension": ".py",
   "mimetype": "text/x-python",
   "name": "python",
   "nbconvert_exporter": "python",
   "pygments_lexer": "ipython3",
   "version": "3.11.9"
  }
 },
 "nbformat": 4,
 "nbformat_minor": 2
}
