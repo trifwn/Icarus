{
 "cells": [
  {
   "cell_type": "code",
   "execution_count": 1,
   "metadata": {},
   "outputs": [],
   "source": [
    "%load_ext autoreload\n",
    "%autoreload 2\n",
    "%matplotlib qt5"
   ]
  },
  {
   "cell_type": "code",
   "execution_count": 2,
   "metadata": {},
   "outputs": [
    {
     "name": "stdout",
     "output_type": "stream",
     "text": [
      "\n",
      "---------General dimensions--------------\n",
      "total mass 5.143999999999999\n",
      "total wing area 0.4912440451128119\n",
      "wingspan 2.102664121065299 <  2.5949999999999998 \n",
      "\n"
     ]
    }
   ],
   "source": [
    "import numpy as np\n",
    "import matplotlib.pyplot as plt\n",
    "from ICARUS.Computation.Solvers.AVL.analyses.pertrubations import avl_dynamic_analysis_fd, process_avl_fd_res\n",
    "from ICARUS.Environment.definition import EARTH_ISA\n",
    "from ICARUS.Flight_Dynamics.state import State\n",
    "\n",
    "from Vehicles.Planes.hermes_449_parameterized import hermes_449\n",
    "from ICARUS.Database import DB\n"
   ]
  },
  {
   "cell_type": "code",
   "execution_count": 3,
   "metadata": {},
   "outputs": [
    {
     "name": "stdout",
     "output_type": "stream",
     "text": [
      "CONSTRAINT ERROR: length's percentages are not correct...\n",
      "ERROR: SOS CONTRAINTS ARE NOT MET \n",
      "constraints are met\n",
      "CHECK :: segments surface 0.24562202255640592 / 0.24562202255640594 \n",
      "\n",
      "CHECK :: segment mass total 0.35 / 0.35\n",
      "\n",
      "vtail_AR 1.654878241250561\n",
      "vtail span:chord 0.6747233374879649 : 0.4077178131111863\n",
      "elev volume 0.5295824882080187 rudder volume 0.16176731378301692\n",
      "\n",
      "num_of_front_rows 5.748296578385307 -> 6 \n",
      "\n",
      "total mass:  0.85 / 5.143999999999999\n",
      "main wing LE x 0.1925336234063713\n",
      "tail_pos_x 0.8413542106554258\n",
      "SURFACE: 0.4912406835262648 compared with 0.4912440451128119\n",
      "MASS: 5.145999999999997 compared with 5.143999999999999\n"
     ]
    }
   ],
   "source": [
    "# origin at chargo_start\n",
    "const_cargo_length = 0.565\n",
    "const_cargo_width = 0.160\n",
    "const_node_offset_max = 0.3 #ask if its okay to use nose_x_max as fixed for wingspan_max\n",
    "const_mass_per_wing = 0.35\n",
    "const_total_rows = 9 #this gives the payload\n",
    "const_payload_ydist = 0.04\n",
    "const_payload_xdist = 0.06\n",
    "const_payload_offset = 0.025 #offset of front / back payload\n",
    "mass_tail = 0.15\n",
    "mass_wing = 0.7 \n",
    "masses_point = 3.6740 #TODO CHECK ME simiakes mazes\n",
    "AR = 9\n",
    "WCL = 14.9213\n",
    "m = mass_tail + mass_wing + masses_point\n",
    "S =(144e0 / 1550e0) * pow(((m * 35.27) / WCL), 2e0 / 3)\n",
    "S=0.5\n",
    "wingspan = np.sqrt(AR*S)\n",
    "\n",
    "\n",
    "bounds = {\n",
    "    \"motor_x_clearance\" : np.array([0.050, 0.220]),\n",
    "    \"nose_x\" :np.array([-0.18 - const_payload_xdist/2, -const_node_offset_max - const_payload_xdist/2]),#xdist is because of where origin is \n",
    "    #tail\n",
    "    \"tail_pos_x\" : np.array([const_cargo_length +  0.200, const_cargo_length + 0.800]),\n",
    "    \"vtail_elev_volume\" : np.array([0.5, 0.6]), #\n",
    "    \"vtail_AR\" : np.array([1., 2.]),\n",
    "    \"vtail_angle\" : np.array([40, 60]),   \n",
    "    #main wing\n",
    "    \"main_wing_LE_x_perc\" : np.array([0., 1.]),\n",
    "    \"chord_1\" : np.array([0.25, 0.4]),\n",
    "    \"chord_3\" :np.array([0.1, 0.2]),\n",
    "    \"length_1_perc\" : np.array([0.1, 0.7]),\n",
    "    \"length_3_perc\": np.array([0.1, 0.7]),  #constraint for these 2\n",
    "    \"incidence_angle\" : np.array([-2.,2.]),\n",
    "    \"twist\" : np.array([-2., 0.]),\n",
    "    \"dihedral\" : np.array([0., 2.]),\n",
    "    \"offset_perc\": np.array([0., 1.]),\n",
    "    #control surfaces\n",
    "    \"flap_L_perc\" : np.array([0.1, 0.6]), \n",
    "    \"flap_area_perc\": np.array([0.05, 0.2]),\n",
    "    \"ail_area_perc\" :np.array([0.05, 0.15]),\n",
    "}\n",
    "\n",
    "from numpy import random\n",
    "\n",
    "i = 0 \n",
    "while True:\n",
    "    # Randomly sample the parameters\n",
    "    params = {}\n",
    "    for key in bounds.keys():\n",
    "        params[key] = random.uniform(bounds[key][0], bounds[key][1])\n",
    "\n",
    "    try:\n",
    "        # Create the plane\n",
    "        plane = hermes_449(\n",
    "            name = 'name',\n",
    "            motor_x_clearance = params[\"motor_x_clearance\"],\n",
    "            nose_x = params[\"nose_x\"],\n",
    "            tail_pos_x = params[\"tail_pos_x\"],\n",
    "            vtail_elev_volume = params[\"vtail_elev_volume\"],\n",
    "            vtail_AR = params[\"vtail_AR\"],\n",
    "            vtail_angle = params[\"vtail_angle\"],\n",
    "            main_wing_LE_x_perc = params[\"main_wing_LE_x_perc\"],\n",
    "            chord_1 = params[\"chord_1\"],\n",
    "            chord_3 = params[\"chord_3\"],\n",
    "            length_1_perc = params[\"length_1_perc\"],\n",
    "            length_3_perc = params[\"length_3_perc\"],\n",
    "            incidence_angle = params[\"incidence_angle\"],\n",
    "            twist = params[\"twist\"],\n",
    "            dihedral = params[\"dihedral\"],\n",
    "            offset_perc = params[\"offset_perc\"],\n",
    "            flap_L_perc = params[\"flap_L_perc\"],\n",
    "            flap_area_perc = params[\"flap_area_perc\"],\n",
    "            ail_area_perc = params[\"ail_area_perc\"],\n",
    "        )\n",
    "        break\n",
    "    except:\n",
    "        i+= 1\n",
    "    \n"
   ]
  },
  {
   "cell_type": "code",
   "execution_count": 17,
   "metadata": {},
   "outputs": [],
   "source": [
    "from ICARUS.Airfoils.airfoil import Airfoil\n",
    "\n",
    "fig, ax = plt.subplots()\n",
    "\n",
    "airf = DB.get_airfoil(\"DAE31\")\n",
    "airf2 = DB.get_airfoil(\"NACA0012\")\n",
    "\n",
    "airfmid = Airfoil.morph_new_from_two_foils(airf, airf2, 0.5, n_points=200)\n",
    "# airfmid.plot(ax= ax)\n",
    "# airf.plot(ax=ax)\n",
    "airf2.plot(ax=ax, camber=True)"
   ]
  },
  {
   "cell_type": "code",
   "execution_count": 23,
   "metadata": {},
   "outputs": [
    {
     "data": {
      "text/plain": [
       "'NACA0012'"
      ]
     },
     "execution_count": 23,
     "metadata": {},
     "output_type": "execute_result"
    }
   ],
   "source": [
    "af = Airfoil.naca(\"0012\")\n",
    "af.name"
   ]
  },
  {
   "cell_type": "code",
   "execution_count": 9,
   "metadata": {},
   "outputs": [],
   "source": [
    "from ICARUS.Vehicle.utils import SymmetryAxes\n",
    "from ICARUS.Vehicle.wing_segment import Wing_Segment\n",
    "\n",
    "segment = Wing_Segment(\n",
    "    name='test',\n",
    "    root_airfoil=\"NACA4415\",\n",
    "    origin= np.array([0,0,0]),\n",
    "    symmetries=SymmetryAxes.Y,\n",
    "    orientation= np.array([0,0,0]),\n",
    "    span = 2*2,\n",
    "    sweep_offset= 0.,\n",
    "    root_chord=1.,\n",
    "    tip_chord=0.5,\n",
    "    twist_root=0,  \n",
    "    twist_tip=-40.,   \n",
    "    N=10,\n",
    "    M=5,\n",
    "    mass=10 #TODO CHANGE THIS \n",
    ")\n",
    "segment.plot()"
   ]
  },
  {
   "cell_type": "markdown",
   "metadata": {},
   "source": [
    "# Optimization"
   ]
  },
  {
   "cell_type": "markdown",
   "metadata": {},
   "source": [
    "## Define Parameters"
   ]
  },
  {
   "cell_type": "code",
   "execution_count": null,
   "metadata": {},
   "outputs": [],
   "source": [
    "from ICARUS.Core.types import ComplexArray, FloatArray\n",
    "\n",
    "UINF = 20\n",
    "solver2D = \"Xfoil\"\n",
    "angles = np.linspace(-10, 10, 11)\n",
    "\n",
    "plane = hermes(\"hermes\")\n",
    "state = State(\n",
    "        name=\"Unstick\",\n",
    "        airplane=plane,\n",
    "        environment=EARTH_ISA,\n",
    "        u_freestream= UINF\n",
    ")\n",
    "\n",
    "epsilons = {\n",
    "    \"u\": 0.01,\n",
    "    \"w\": 0.01,\n",
    "    \"q\": 0.1,\n",
    "    \"theta\": 0.01,\n",
    "    \"v\": 0.01,\n",
    "    \"p\": 0.1,\n",
    "    \"r\": 0.1,\n",
    "    \"phi\": 0.01,\n",
    "}\n",
    "\n",
    "state.add_all_pertrubations(\"Central\", epsilons)\n",
    "avl_dynamic_analysis_fd(plane, state, solver2D)\n",
    "df = process_avl_fd_res(plane, state)\n",
    "state.set_pertrubation_results(df)\n",
    "state.stability_fd()\n",
    "target_cl_cd = state.trim[\"CL/CD\"]\n",
    "print(target_cl_cd)\n",
    "\n",
    "initial_longitudal_modes: ComplexArray = state.state_space.longitudal.eigenvalues\n",
    "initial_lateral_modes: ComplexArray = state.state_space.lateral.eigenvalues\n",
    "\n",
    "desired_lateral_modes: ComplexArray = np.array([\n",
    "    -30. + 0.j,\n",
    "    -1.0 + 4.j,\n",
    "    -1.0 - 4.j,\n",
    "    -0.5 + 0.j\n",
    "], dtype=complex)\n",
    "desired_lateral_omegas: FloatArray = np.abs(desired_lateral_modes)\n",
    "desired_lateral_zetas: FloatArray = - desired_lateral_modes.real / desired_lateral_omegas\n",
    "\n",
    "\n",
    "desired_longitudal_modes: ComplexArray = np.array([\n",
    "    -1.0 - 4.j,\n",
    "    -1.0 + 4.j,\n",
    "    -0.1 - 0.4j,\n",
    "    -0.1 + 0.4j\n",
    "], dtype=complex\n",
    ")\n",
    "desired_longitudal_omegas: FloatArray = np.abs(desired_longitudal_modes)\n",
    "desired_longitudal_zetas: FloatArray = - desired_longitudal_modes.real / desired_longitudal_omegas"
   ]
  },
  {
   "cell_type": "markdown",
   "metadata": {},
   "source": [
    "## Define the optimization problem"
   ]
  },
  {
   "cell_type": "code",
   "execution_count": null,
   "metadata": {},
   "outputs": [],
   "source": [
    "design_variables = [\n",
    "    # Point Masses\n",
    "    \"payload_position_x\",\n",
    "    # Elevator\n",
    "    \"elevator_position_x\",\n",
    "    \"elevator_root_chord\",\n",
    "    \"elevator_tip_chord\",\n",
    "    \"elevator_pitch\",\n",
    "    # Rudder\n",
    "    \"rudder_position_x\",\n",
    "    \"rudder_root_chord\",\n",
    "    \"rudder_tip_chord\",\n",
    "]\n",
    "\n",
    "bounds = {\n",
    "    # Point Masses\n",
    "    \"payload_position_x\": (0., 0.5),\n",
    "    # Elevator\n",
    "    \"elevator_position_x\": (0.4, 0.8),\n",
    "    \"elevator_root_chord\": (0.05, 0.4),\n",
    "    \"elevator_tip_chord\": (0.01, 0.1),\n",
    "    \"elevator_pitch\": (-3, 3),    \n",
    "    # Rudder\n",
    "    \"rudder_position_x\": (0.4, 0.8),\n",
    "    \"rudder_root_chord\": (0.05, 0.4),\n",
    "    \"rudder_tip_chord\": (0.05, 0.2),\n",
    "}\n",
    "\n",
    "desing_constants = {\n",
    "    \"state\": state,\n",
    "}"
   ]
  },
  {
   "cell_type": "markdown",
   "metadata": {},
   "source": [
    "## Define Objective Function"
   ]
  },
  {
   "cell_type": "code",
   "execution_count": null,
   "metadata": {},
   "outputs": [],
   "source": [
    "from ICARUS.Flight_Dynamics.trim import TrimNotPossible, TrimOutsidePolars\n",
    "from ICARUS.Vehicle.plane import Airplane\n",
    "\n",
    "def obj_fun(\n",
    "    plane: Airplane,\n",
    "    state: State,\n",
    "):\n",
    "\n",
    "    ## ACC CODE\n",
    "    # PLANE\n",
    "    # VRISKEIS \n",
    "    # PISTA\n",
    "    # ACC SCORE\n",
    "    # PENALTIES\n",
    "\n",
    "    state.update_plane(plane)\n",
    "    state.add_all_pertrubations(\"Central\")\n",
    "    try:\n",
    "        avl_dynamic_analysis_fd(plane, state, \"Xfoil\")\n",
    "    except (TrimNotPossible, TrimOutsidePolars):\n",
    "        return np.inf\n",
    "\n",
    "    df = process_avl_fd_res(plane, state)\n",
    "    state.set_pertrubation_results(df)\n",
    "    state.stability_fd()\n",
    "\n",
    "    # longitudal_eigs: ComplexArray = unstick.state_space.longitudal.eigenvalues\n",
    "    # lateral_eigs: ComplexArray = unstick.state_space.lateral.eigenvalues\n",
    "\n",
    "    # Get the eigenvalues and the damping ratios for the longitudinal modes\n",
    "    longitudal_omegas = state.state_space.longitudal.omegas\n",
    "    longitudal_zetas = state.state_space.longitudal.zetas\n",
    "    lateral_omegas = state.state_space.lateral.omegas\n",
    "    lateral_zetas = state.state_space.lateral.zetas\n",
    "  \n",
    "    # Compute the fitness function\n",
    "    fitness = 0.\n",
    "    for i in range(len(desired_longitudal_modes)):\n",
    "        fitness += (longitudal_omegas[i] - desired_longitudal_omegas[i])**2\n",
    "        fitness += (longitudal_zetas[i] - desired_longitudal_zetas[i])**2\n",
    "\n",
    "    return fitness\n",
    "\n",
    "def constraint_cl_over_cd(\n",
    "    state: State\n",
    "):\n",
    "    return state.trim[\"CL/CD\"] - target_cl_cd + 1\n",
    "\n",
    "def constraint_cm_a_pos(\n",
    "    state: State\n",
    "):\n",
    "    if \"Cm0\" not in state.trim.keys():\n",
    "        return np.inf\n",
    "    return state.trim[\"Cm0\"]\n",
    "\n",
    "def wing_cuble_loading(\n",
    "    plane: Airplane,\n",
    "    state: State\n",
    "):\n",
    "    # Calculate the wing cube loading\n",
    "    WCL = plane.mass / plane.main_wing.S**2\n",
    "    return WCL\n",
    "\n",
    "def constraint_rudder_position(\n",
    "    plane: Airplane,\n",
    "):\n",
    "    # Set the position of the elevator and rudder\n",
    "    eleve_position_x = plane.__getattribute__(\"elevator_position_x\")\n",
    "    plane.__setattr__(\"rudder_position_x\", eleve_position_x)"
   ]
  },
  {
   "cell_type": "code",
   "execution_count": null,
   "metadata": {},
   "outputs": [],
   "source": [
    "# plane.__setattr__(\"elevator_pitch\", 90.0)\n",
    "# plane.visualize()"
   ]
  },
  {
   "cell_type": "markdown",
   "metadata": {},
   "source": [
    "## Run Optimizer"
   ]
  },
  {
   "cell_type": "code",
   "execution_count": null,
   "metadata": {},
   "outputs": [],
   "source": [
    "from ICARUS.Optimization.Callbacks.design_variables_vis import DesignVariableVisualizer\n",
    "from ICARUS.Optimization.Callbacks.eigenvalue_opt_vis import EigenvalueOptimizationVisualizer\n",
    "from ICARUS.Optimization.Callbacks.optimization_progress_vis import OptimizationProgress\n",
    "from ICARUS.Optimization.Callbacks.plane_geometry_vis import PlaneGeometryVisualization\n",
    "from ICARUS.Optimization.Callbacks.plane_polars_vis import AirplanePolarOptimizationVisualizert\n",
    "from ICARUS.Optimization.Optimizers.Airplane.airplane_dynamics_optimizer import Airplane_Dynamics_Optimizer\n",
    "\n",
    "# Design variable callback\n",
    "design_variable_callback = DesignVariableVisualizer(\n",
    "    plane = plane,\n",
    "    design_variables= design_variables,\n",
    "    bounds= bounds,\n",
    ")\n",
    "\n",
    "# Progress callback\n",
    "progress_callback = OptimizationProgress()\n",
    "\n",
    "# Plane geometry callback\n",
    "plane_geometry_callback = PlaneGeometryVisualization(plane = plane)\n",
    "\n",
    "# Eigenvalue callback\n",
    "eigenvalue_callback = EigenvalueOptimizationVisualizer(\n",
    "    goal_longitudal= desired_longitudal_modes,\n",
    "    goal_lateral= desired_lateral_modes,\n",
    "    initial_longitudal= initial_longitudal_modes,\n",
    "    initial_lateral= initial_lateral_modes\n",
    ")\n",
    "\n",
    "polar_callback = AirplanePolarOptimizationVisualizert(\n",
    "    initial_state=state,\n",
    ")\n",
    "\n",
    "optimizer = Airplane_Dynamics_Optimizer(\n",
    "    design_variables= design_variables,\n",
    "    design_constants= desing_constants,\n",
    "    plane= plane,\n",
    "    state = state,\n",
    "    f= obj_fun,\n",
    "    non_linear_constraints = [\n",
    "        {\n",
    "            \"type\": \"ineq\",\n",
    "            \"fun\": constraint_cl_over_cd,\n",
    "            \"lb\": -1.,\n",
    "            \"ub\": 1.\n",
    "        },\n",
    "        {\n",
    "            \"type\": \"ineq\",\n",
    "            \"fun\": constraint_cm_a_pos,\n",
    "            \"lb\": 0.,\n",
    "            \"ub\": np.inf\n",
    "        },\n",
    "        {\n",
    "            \"type\": \"ineq\",\n",
    "            \"fun\": wing_cuble_loading,\n",
    "            \"lb\": 0.,\n",
    "            \"ub\": 10.\n",
    "        },\n",
    "    ],\n",
    "    bounds= bounds,\n",
    "    jac= None,\n",
    "    # jac_fun= jac_fun,\n",
    "    callback_list= [\n",
    "        eigenvalue_callback,\n",
    "        design_variable_callback,\n",
    "        progress_callback,\n",
    "        polar_callback,\n",
    "        # plane_geometry_callback\n",
    "    ]\n",
    ")"
   ]
  },
  {
   "cell_type": "code",
   "execution_count": null,
   "metadata": {},
   "outputs": [],
   "source": [
    "res = optimizer(\"Nelder-Mead\", options={\"maxiter\": 1000})"
   ]
  },
  {
   "cell_type": "markdown",
   "metadata": {},
   "source": [
    "# Get Results"
   ]
  },
  {
   "cell_type": "code",
   "execution_count": null,
   "metadata": {},
   "outputs": [],
   "source": [
    "fig = plt.figure()\n",
    "ax = fig.add_subplot(111, projection = '3d')\n",
    "\n",
    "optimizer.current_obj.visualize(fig, ax) # type: ignore\n",
    "optimizer.current_obj.visualize(fig, ax) # type: ignore"
   ]
  },
  {
   "cell_type": "code",
   "execution_count": null,
   "metadata": {},
   "outputs": [],
   "source": [
    "plane_1: Airplane = optimizer.initial_obj\n",
    "plane_2: Airplane = optimizer.current_obj\n",
    "\n",
    "unstick_1 = State(name=\"Unstick\", airplane=plane_1, environment=EARTH_ISA, u_freestream=UINF)\n",
    "unstick_1.add_all_pertrubations(\"Central\")\n",
    "avl_dynamic_analysis_fd(plane_1, unstick_1, solver2D='Xfoil')\n",
    "df = process_avl_fd_res(plane_1, unstick_1)\n",
    "unstick_1.set_pertrubation_results(df)\n",
    "unstick_1.stability_fd()"
   ]
  },
  {
   "cell_type": "code",
   "execution_count": null,
   "metadata": {},
   "outputs": [],
   "source": [
    "unstick_2 = State(name=\"Unstick\", airplane=plane_2, environment=EARTH_ISA, u_freestream=UINF)\n",
    "unstick_2.add_all_pertrubations(\"Central\")\n",
    "avl_dynamic_analysis_fd(plane_2, unstick_2, solver2D=\"Xfoil\")\n",
    "df = process_avl_fd_res(plane_2, unstick_2)\n",
    "unstick_2.set_pertrubation_results(df)\n",
    "unstick_2.stability_fd()"
   ]
  },
  {
   "cell_type": "code",
   "execution_count": null,
   "metadata": {},
   "outputs": [],
   "source": [
    "initial = (unstick_1.state_space.longitudal.zetas, unstick_1.state_space.longitudal.omegas)\n",
    "current = (unstick_2.state_space.longitudal.zetas, unstick_2.state_space.longitudal.omegas)"
   ]
  },
  {
   "cell_type": "code",
   "execution_count": null,
   "metadata": {},
   "outputs": [],
   "source": [
    "plt.scatter(initial[0], initial[1], label=\"initial\")\n",
    "plt.scatter(current[0],current[1], label=\"current\")\n",
    "plt.scatter(desired_longitudal_zetas,desired_longitudal_omegas,label=\"desired\")\n",
    "plt.grid()\n",
    "plt.legend()\n",
    "plt.show()"
   ]
  },
  {
   "cell_type": "code",
   "execution_count": null,
   "metadata": {},
   "outputs": [],
   "source": []
  }
 ],
 "metadata": {
  "kernelspec": {
   "display_name": "myp",
   "language": "python",
   "name": "python3"
  },
  "language_info": {
   "codemirror_mode": {
    "name": "ipython",
    "version": 3
   },
   "file_extension": ".py",
   "mimetype": "text/x-python",
   "name": "python",
   "nbconvert_exporter": "python",
   "pygments_lexer": "ipython3",
   "version": "3.12.0"
  }
 },
 "nbformat": 4,
 "nbformat_minor": 2
}
