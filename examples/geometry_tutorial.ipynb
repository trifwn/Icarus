{
    "cells": [
        {
            "cell_type": "code",
            "execution_count": null,
            "metadata": {},
            "outputs": [],
            "source": [
                "%load_ext autoreload\n",
                "%autoreload 2\n",
                "%matplotlib qt\n"
            ]
        },
        {
            "cell_type": "markdown",
            "metadata": {},
            "source": [
                "# ICARUS Geometry Modelling"
            ]
        },
        {
            "cell_type": "markdown",
            "metadata": {},
            "source": [
                "In ICARUS there are several modules that enable us to model geometries found in most aerial vehicles. These modules are found in the packages:\n",
                "- Airfoils\n",
                "- vehicles\n",
                "\n"
            ]
        },
        {
            "cell_type": "markdown",
            "metadata": {},
            "source": [
                "## Airfoils\n",
                "The airfoils package allows us to model 2D geometries. The basic module is the airfoils module which we can import by the following command:\n",
                "\n",
                "```python"
            ]
        },
        {
            "cell_type": "code",
            "execution_count": null,
            "metadata": {},
            "outputs": [],
            "source": [
                "from ICARUS.airfoils.airfoil import Airfoil"
            ]
        },
        {
            "cell_type": "markdown",
            "metadata": {},
            "source": [
                "To create an airfoil using the naca abbreviation we can use the following command:\n"
            ]
        },
        {
            "cell_type": "code",
            "execution_count": null,
            "metadata": {},
            "outputs": [],
            "source": [
                "airfoil = Airfoil.naca(\"2412\")"
            ]
        },
        {
            "cell_type": "markdown",
            "metadata": {},
            "source": [
                "We can now plot our airfoil using the following command:"
            ]
        },
        {
            "cell_type": "code",
            "execution_count": null,
            "metadata": {},
            "outputs": [],
            "source": [
                "airfoil.plot()"
            ]
        },
        {
            "cell_type": "markdown",
            "metadata": {},
            "source": [
                "We can also load an airfoil from the selig database using the following command:\n"
            ]
        },
        {
            "cell_type": "code",
            "execution_count": null,
            "metadata": {},
            "outputs": [],
            "source": [
                "airfoil.load_from_web()"
            ]
        },
        {
            "cell_type": "markdown",
            "metadata": {},
            "source": [
                "Or we can load an airfoil from a file using the following command:"
            ]
        },
        {
            "cell_type": "code",
            "execution_count": null,
            "metadata": {},
            "outputs": [],
            "source": [
                "# airfoil.load_from_file(\"airfoil.dat\")"
            ]
        },
        {
            "cell_type": "markdown",
            "metadata": {},
            "source": [
                "To create a new flapped version of our airfoil:"
            ]
        },
        {
            "cell_type": "code",
            "execution_count": null,
            "metadata": {},
            "outputs": [],
            "source": [
                "airfoil_flapped = airfoil.flap_airfoil(\n",
                "    flap_hinge= 0.7,\n",
                "    chord_extension= 1.3,\n",
                "    flap_angle= 20,\n",
                ")\n",
                "airfoil_flapped.plot()"
            ]
        },
        {
            "cell_type": "markdown",
            "metadata": {},
            "source": [
                "## vehicles"
            ]
        },
        {
            "cell_type": "markdown",
            "metadata": {},
            "source": [
                "The most basic 3D geometry we can generate is a strip"
            ]
        },
        {
            "cell_type": "code",
            "execution_count": null,
            "metadata": {},
            "outputs": [],
            "source": [
                "from ICARUS.vehicle.strip import Strip"
            ]
        },
        {
            "cell_type": "code",
            "execution_count": null,
            "metadata": {},
            "outputs": [],
            "source": [
                "my_strip = Strip(\n",
                "    start_airfoil= airfoil,\n",
                "    end_airfoil= airfoil_flapped,\n",
                "    start_chord= 1.,\n",
                "    end_chord= 1.4,\n",
                "    start_leading_edge= [0., 0., 0.],\n",
                "    end_leading_edge= [0., 1., 0.],\n",
                ")"
            ]
        },
        {
            "cell_type": "code",
            "execution_count": null,
            "metadata": {},
            "outputs": [],
            "source": [
                "my_strip.plot()"
            ]
        },
        {
            "cell_type": "code",
            "execution_count": null,
            "metadata": {},
            "outputs": [],
            "source": []
        },
        {
            "cell_type": "code",
            "execution_count": null,
            "metadata": {},
            "outputs": [],
            "source": []
        }
    ],
    "metadata": {
        "kernelspec": {
            "display_name": "aero",
            "language": "python",
            "name": "python3"
        },
        "language_info": {
            "codemirror_mode": {
                "name": "ipython",
                "version": 3
            },
            "file_extension": ".py",
            "mimetype": "text/x-python",
            "name": "python",
            "nbconvert_exporter": "python",
            "pygments_lexer": "ipython3",
            "version": "3.11.4"
        }
    },
    "nbformat": 4,
    "nbformat_minor": 2
}
