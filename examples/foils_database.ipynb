{
 "cells": [
  {
   "cell_type": "code",
   "execution_count": null,
   "metadata": {},
   "outputs": [],
   "source": [
    "%load_ext autoreload\n",
    "%autoreload 2\n",
    "%matplotlib qt"
   ]
  },
  {
   "cell_type": "code",
   "execution_count": null,
   "metadata": {},
   "outputs": [],
   "source": [
    "from ICARUS.solvers.XFLR5.read_xflr5_polars import read_XFLR5_airfoil_polars\n",
    "from ICARUS.database import Database\n",
    "import os\n",
    "\n",
    "# CHANGE THIS TO YOUR DATABASE FOLDER\n",
    "from ICARUS import INSTALL_DIR\n",
    "database_folder = os.path.join(\n",
    "    INSTALL_DIR,\n",
    "    \"Data\",\n",
    ")\n",
    "\n",
    "# Load the database\n",
    "DB = Database(database_folder)"
   ]
  },
  {
   "attachments": {},
   "cell_type": "markdown",
   "metadata": {},
   "source": [
    "# Load Database"
   ]
  },
  {
   "cell_type": "code",
   "execution_count": null,
   "metadata": {},
   "outputs": [],
   "source": [
    "index = 1\n",
    "DB.foils_db.load_all_data()\n",
    "airfoil_names: list[str] = DB.get_airfoil_names()\n",
    "print(f\"We have a total of {len(airfoil_names)} airfoils\")"
   ]
  },
  {
   "cell_type": "markdown",
   "metadata": {},
   "source": [
    "## Import XFLR5 computed polars"
   ]
  },
  {
   "cell_type": "code",
   "execution_count": null,
   "metadata": {},
   "outputs": [],
   "source": [
    "XFLR_directory = os.path.join(DB.EXTERNAL_DB, '2D')\n",
    "read_XFLR5_airfoil_polars(XFLR_directory)"
   ]
  },
  {
   "cell_type": "code",
   "execution_count": null,
   "metadata": {},
   "outputs": [],
   "source": [
    "naca_airfoils = [\n",
    "    airfoil_name for airfoil_name in airfoil_names if airfoil_name.upper().startswith(\"NACA\")\n",
    "]\n",
    "naca_airfoils = ['NACA4415', \"NACA0008\"]"
   ]
  },
  {
   "attachments": {},
   "cell_type": "markdown",
   "metadata": {},
   "source": [
    "# Visualize Airfoil Polars"
   ]
  },
  {
   "cell_type": "code",
   "execution_count": null,
   "metadata": {},
   "outputs": [],
   "source": [
    "from ICARUS.visualization.airfoil import plot_airfoil_polars"
   ]
  },
  {
   "cell_type": "code",
   "execution_count": null,
   "metadata": {},
   "outputs": [],
   "source": [
    "axs, fig = plot_airfoil_polars(\n",
    "    airfoil_name = naca_airfoils[0],\n",
    "    solvers=[\"XFLR\"],\n",
    "    plots=[[\"AoA\", \"CL\"], [\"AoA\", \"CD\"], [\"AoA\", \"Cm\"], [\"AoA\", \"CL/CD\"]],\n",
    "    size=(10, 9),\n",
    ")"
   ]
  },
  {
   "cell_type": "markdown",
   "metadata": {},
   "source": [
    "# Compare Airfoils"
   ]
  },
  {
   "cell_type": "code",
   "execution_count": null,
   "metadata": {},
   "outputs": [],
   "source": [
    "from ICARUS.visualization.airfoil import plot_airfoils_at_reynolds"
   ]
  },
  {
   "cell_type": "code",
   "execution_count": null,
   "metadata": {},
   "outputs": [],
   "source": [
    "axs, fig = plot_airfoils_at_reynolds(\n",
    "    airfoil_names= naca_airfoils,\n",
    "    solvers=[\"Xfoil\"],\n",
    "    # reynolds=1e6,\n",
    "    plots=[[\"AoA\", \"CL\"], [\"AoA\", \"CD\"], [\"AoA\", \"Cm\"], [\"AoA\", \"CL/CD\"]],\n",
    "    size=(10, 9),\n",
    ")\n",
    "# axs[0].axvline(x=1.1, color='b', linestyle='-')\n",
    "# axs[0].axhline(y=1.52, color='b', linestyle='-')"
   ]
  },
  {
   "cell_type": "code",
   "execution_count": null,
   "metadata": {},
   "outputs": [],
   "source": [
    "from ICARUS.airfoils import AirfoilPolars\n",
    "import os\n",
    "\n",
    "DB.load_all_data()\n",
    "s_polars = [polar for k, polar in DB.airfoil_polars.items()]\n",
    "for p in s_polars:\n",
    "    try:\n",
    "        polar: AirfoilPolars = p.get_polars(\"Xfoil\")\n",
    "        # polar.plot()\n",
    "        airfoil_folder = os.path.join(DB.HOMEDIR, \"Data\", \"images\")\n",
    "        polar.save_polar_plot_img(airfoil_folder, desc=\"xfoil\")\n",
    "    except Exception as e:\n",
    "        print(e)\n",
    "        continue"
   ]
  },
  {
   "attachments": {},
   "cell_type": "markdown",
   "metadata": {},
   "source": [
    "# Select Reynolds number "
   ]
  },
  {
   "cell_type": "code",
   "execution_count": null,
   "metadata": {},
   "outputs": [],
   "source": [
    "reynolds = DB.get_airfoil_polars(airfoil_names[0], \"Xfoil\").reynolds_keys\n",
    "if reynolds is not None:\n",
    "    print(f\"For NACA {airfoil_names[0][4:]} these Reynolds were Computed:\")\n",
    "    print(*[f\"{i}:\\t{reyn}\\n\" for i, reyn in enumerate(reynolds)])\n",
    "    index = int(input(\"Select Reynolds: \"))\n",
    "    reyn_to_plot = reynolds[index]\n",
    "else:\n",
    "    raise ValueError(f\"Reynolds for {airfoil_names[0]} were not computed\")"
   ]
  },
  {
   "attachments": {},
   "cell_type": "markdown",
   "metadata": {},
   "source": [
    "# Plot Reynolds"
   ]
  },
  {
   "cell_type": "code",
   "execution_count": null,
   "metadata": {},
   "outputs": [],
   "source": [
    "axs, fig = plot_airfoils_at_reynolds(\n",
    "    airfoil_names= naca_airfoils,\n",
    "    solvers=[\"Xfoil\"],\n",
    "    # reynolds=1e6,\n",
    "    plots=[[\"AoA\", \"CL\"], [\"AoA\", \"CD\"], [\"AoA\", \"Cm\"], [\"AoA\", \"CL/CD\"]],\n",
    "    size=(10, 9),\n",
    ")\n",
    "# axs[0].axvline(x=1.1, color='b', linestyle='-')\n",
    "# axs[0].axhline(y=1.52, color='b', linestyle='-')"
   ]
  },
  {
   "cell_type": "code",
   "execution_count": null,
   "metadata": {},
   "outputs": [],
   "source": []
  }
 ],
 "metadata": {
  "kernelspec": {
   "display_name": "aero",
   "language": "python",
   "name": "python3"
  },
  "language_info": {
   "codemirror_mode": {
    "name": "ipython",
    "version": 3
   },
   "file_extension": ".py",
   "mimetype": "text/x-python",
   "name": "python",
   "nbconvert_exporter": "python",
   "pygments_lexer": "ipython3",
   "version": "3.13.1"
  },
  "vscode": {
   "interpreter": {
    "hash": "8acd08952dc410be23279ea6eab1a080d514a48a01ad47827aa392f9fbd61ae4"
   }
  }
 },
 "nbformat": 4,
 "nbformat_minor": 2
}
