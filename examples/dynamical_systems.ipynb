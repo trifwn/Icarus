{
 "cells": [
  {
   "cell_type": "code",
   "execution_count": 8,
   "metadata": {},
   "outputs": [
    {
     "name": "stdout",
     "output_type": "stream",
     "text": [
      "The autoreload extension is already loaded. To reload it, use:\n",
      "  %reload_ext autoreload\n"
     ]
    }
   ],
   "source": [
    "%matplotlib qt\n",
    "%load_ext autoreload\n",
    "%autoreload 2"
   ]
  },
  {
   "cell_type": "markdown",
   "metadata": {},
   "source": [
    "# Pitching Airfoil "
   ]
  },
  {
   "cell_type": "code",
   "execution_count": 9,
   "metadata": {},
   "outputs": [
    {
     "name": "stderr",
     "output_type": "stream",
     "text": [
      "C:\\Users\\tryfo\\AppData\\Local\\Temp\\ipykernel_11840\\2405514880.py:8: DeprecationWarning: Accessing jax.config via the jax.config submodule is deprecated.\n",
      "  from jax.config import config\n"
     ]
    }
   ],
   "source": [
    "import jax.numpy as jnp\n",
    "import numpy as np\n",
    "import matplotlib.pyplot as plt\n",
    "from scipy.integrate import solve_ivp\n",
    "from time import time\n",
    "\n",
    "# Jax 64-bit\n",
    "from jax.config import config\n",
    "config.update(\"jax_enable_x64\", True)"
   ]
  },
  {
   "cell_type": "markdown",
   "metadata": {},
   "source": [
    "# Dynamical Systems"
   ]
  },
  {
   "cell_type": "code",
   "execution_count": 10,
   "metadata": {},
   "outputs": [],
   "source": [
    "from ICARUS.Systems.first_order_system import NonLinearSystem\n",
    "from ICARUS.Systems.second_order_system import SecondOrderSystem\n",
    "from ICARUS.Systems.integrate import BackwardEulerIntegrator, ForwardEulerIntegrator, RK4Integrator, RK45Integrator, CrankNicolsonIntegrator, GaussLegendreIntegrator, NewmarkIntegrator"
   ]
  },
  {
   "cell_type": "code",
   "execution_count": 11,
   "metadata": {},
   "outputs": [],
   "source": [
    "def plot_results(x_data, t_data):\n",
    "    # Plot the results\n",
    "    fig = plt.figure(figsize=(10, 10))\n",
    "    ax = fig.add_subplot(111)\n",
    "    ax.set_title(\"Simulation Results\")\n",
    "    for key in list(x_data.keys()):\n",
    "        # Compute cap so that we plot 1000 points at most\n",
    "        cap = max(1, int(len(t_data[key]) / 1000))\n",
    "        ax.plot(t_data[key][::cap], x_data[key][:,0][::cap] * 180/np.pi, label=key)\n",
    "    ax.set_xlabel(\"Time (s)\")\n",
    "    ax.set_ylabel(\"Angle (deg)\")\n",
    "    ax.legend()\n",
    "\n",
    "\n",
    "def test_all_integrators(system,x0, t0, t_end, dt0, compare_with_scipy = False):\n",
    "    if isinstance(system, SecondOrderSystem):\n",
    "        system2 = system.convert_to_first_order()\n",
    "        newmark = NewmarkIntegrator(dt0, system, gamma=0.5, beta=0.25)\n",
    "    else:\n",
    "        system2 = system\n",
    "    \n",
    "    integrator_rk4 = RK4Integrator(dt0, system2)\n",
    "    integrator_feuler = ForwardEulerIntegrator(dt0, system2)\n",
    "    integrator_beuler = BackwardEulerIntegrator(dt0, system2)\n",
    "    integrator_rk45 = RK45Integrator(dt0, system2)\n",
    "    integrator_gauss_legendre = GaussLegendreIntegrator(dt0, system2, n = 4)\n",
    "    integrator_crank_nicolson = CrankNicolsonIntegrator(dt0, system2)\n",
    "\n",
    "    integrators = [\n",
    "        integrator_feuler,\n",
    "        integrator_rk4,\n",
    "        integrator_rk45,\n",
    "        integrator_beuler,\n",
    "        integrator_gauss_legendre,\n",
    "        # integrator_crank_nicolson\n",
    "     ]\n",
    "    \n",
    "    if isinstance(system, SecondOrderSystem):\n",
    "        integrators.append(newmark)\n",
    "\n",
    "    # Simulate the system using all the integrators\n",
    "    x_data = {}\n",
    "    t_data = {}\n",
    "\n",
    "\n",
    "    for integrator in integrators:\n",
    "        print(f\"Simulating using {integrator.name} integrator\")\n",
    "        time_s = time()\n",
    "        t_data[integrator.name], x_data[integrator.name] = integrator.simulate(x0, t0, t_end)\n",
    "        time_e = time()\n",
    "        print(f\"\\tSimulated using {integrator.name} integrator\")\n",
    "        print(f\"\\tTime taken: {time_e - time_s} seconds\")\n",
    "\n",
    "    if compare_with_scipy:\n",
    "        print(\"Simulating using scipy RK45\")\n",
    "        time_s = time()\n",
    "        sol = solve_ivp(system, [t0, t_end], x0, method='RK45', t_eval=np.linspace(0, t_end, 1000),  rtol=1e-6, atol=1e-6)\n",
    "        t_data[\"scipy_rk45\"] = sol.t\n",
    "        x_data[\"scipy_rk45\"] = sol.y.T\n",
    "        time_e = time()\n",
    "        print(f\"\\tSimulated using scipy RK45\")\n",
    "        print(f\"\\tTime taken: {time_e - time_s} seconds\")\n",
    "\n",
    "    plot_results(x_data, t_data)\n",
    "    return x_data, t_data"
   ]
  },
  {
   "cell_type": "code",
   "execution_count": 12,
   "metadata": {},
   "outputs": [
    {
     "name": "stdout",
     "output_type": "stream",
     "text": [
      "0.0\n"
     ]
    }
   ],
   "source": [
    "# Define a simple m-c-k system\n",
    "L = 8\n",
    "I = 1\n",
    "R = 2.0\n",
    "K = 10\n",
    "d= .5\n",
    "rho = 1.225\n",
    "U = 0.5\n",
    "c = 2\n",
    "\n",
    "\n",
    "theta_0 = 1 * np.pi / 180\n",
    "crank_y = R * np.cos(theta_0)\n",
    "crank_x = R * np.sin(theta_0)\n",
    "y_equilibrium = np.sqrt(L**2 - R**2 * np.cos(theta_0)**2) + R*np.sin(theta_0)\n",
    "\n",
    "DL = np.sqrt(\n",
    "    (\n",
    "        y_equilibrium - R*np.sin(theta_0)\n",
    "     )**2 + R**2*np.cos(theta_0)**2\n",
    "    ) - L\n",
    "print(DL)"
   ]
  },
  {
   "cell_type": "code",
   "execution_count": 13,
   "metadata": {},
   "outputs": [
    {
     "data": {
      "text/plain": [
       "7.78095014878384"
      ]
     },
     "execution_count": 13,
     "metadata": {},
     "output_type": "execute_result"
    }
   ],
   "source": [
    "y_equilibrium"
   ]
  },
  {
   "cell_type": "code",
   "execution_count": 15,
   "metadata": {},
   "outputs": [
    {
     "name": "stderr",
     "output_type": "stream",
     "text": [
      "ERROR:root:Airfoil 0024 not found in DB2D or EXTERNAL DB\n"
     ]
    },
    {
     "name": "stdout",
     "output_type": "stream",
     "text": [
      "Airfoil 0024 not found in DB2D or EXTERNAL DB\n",
      "Error in interpolating the airfoil data\n",
      "Lower xs:\n",
      "[0.000000e+00 6.870000e-05 7.181000e-04 1.878700e-03 3.843900e-03\n",
      " 6.322100e-03 8.814300e-03 1.181410e-02 1.782690e-02 2.154460e-02\n",
      " 2.756840e-02 3.359530e-02 3.962520e-02 4.565700e-02 5.169020e-02\n",
      " 5.973630e-02 6.979530e-02 7.985710e-02 8.991900e-02 9.998280e-02\n",
      " 1.100465e-01 1.251442e-01 1.402415e-01 1.553399e-01 1.704383e-01\n",
      " 1.855357e-01 2.006342e-01 2.157315e-01 2.308300e-01 2.459284e-01\n",
      " 2.610257e-01 2.761242e-01 2.912235e-01 3.113556e-01 3.314900e-01\n",
      " 3.516258e-01 3.717628e-01 3.919010e-01 4.120401e-01 4.321793e-01\n",
      " 4.523206e-01 4.724628e-01 4.926062e-01 5.127506e-01 5.328960e-01\n",
      " 5.530424e-01 5.731888e-01 5.933372e-01 6.134868e-01 6.336375e-01\n",
      " 6.537892e-01 6.739418e-01 6.940945e-01 7.142490e-01 7.344044e-01\n",
      " 7.545605e-01 7.747174e-01 7.948748e-01 8.150318e-01 8.351902e-01\n",
      " 8.553490e-01 8.755080e-01 8.956673e-01 9.158267e-01 9.259060e-01\n",
      " 9.359855e-01 9.460661e-01 9.561460e-01 9.662273e-01 9.762995e-01\n",
      " 9.863726e-01 9.964448e-01 1.000000e+00]\n",
      "Upper xs:\n",
      "[0.000000e+00 1.000000e-07 1.326000e-04 9.025000e-04 2.177700e-03\n",
      " 4.270500e-03 6.861700e-03 9.439600e-03 1.252280e-02 1.866720e-02\n",
      " 2.245200e-02 2.857120e-02 3.467730e-02 4.077250e-02 4.685900e-02\n",
      " 5.293850e-02 6.103660e-02 7.114840e-02 8.125340e-02 9.135140e-02\n",
      " 1.014458e-01 1.115353e-01 1.266648e-01 1.417878e-01 1.569077e-01\n",
      " 1.720245e-01 1.871373e-01 2.022481e-01 2.173548e-01 2.324597e-01\n",
      " 2.475623e-01 2.626617e-01 2.777603e-01 2.928576e-01 3.129842e-01\n",
      " 3.331099e-01 3.532338e-01 3.733560e-01 3.934767e-01 4.135959e-01\n",
      " 4.337125e-01 4.538288e-01 4.739435e-01 4.940568e-01 5.141689e-01\n",
      " 5.342793e-01 5.543886e-01 5.744953e-01 5.946016e-01 6.147066e-01\n",
      " 6.348101e-01 6.549124e-01 6.750130e-01 6.951115e-01 7.152095e-01\n",
      " 7.353065e-01 7.554021e-01 7.754967e-01 7.955904e-01 8.156822e-01\n",
      " 8.357743e-01 8.558658e-01 8.759568e-01 8.960472e-01 9.161372e-01\n",
      " 9.261814e-01 9.362255e-01 9.462701e-01 9.563136e-01 9.663576e-01\n",
      " 9.764083e-01 9.864605e-01 9.965117e-01 1.000000e+00 1.000000e+00]\n",
      "i: 74, x: 1.0, x-1: 1.0\n",
      "Error loading airfoil from C:\\Users\\tryfo\\Desktop\\Software\\Icarus\\Data\\2D\\SC1094R8\\sc1094r8\n",
      "Error loading airfoil SC1094R8 from DB2D. Got error: `x` must be strictly increasing sequence.\n",
      "Error in interpolating the airfoil data\n",
      "Lower xs:\n",
      "[-9.7045e-03 -7.0500e-04  2.2950e-03  8.2950e-03  1.2000e-02  1.8000e-02\n",
      "  2.4000e-02  3.0000e-02  3.6000e-02  4.2000e-02  5.0000e-02  6.0000e-02\n",
      "  7.0000e-02  8.0000e-02  9.0000e-02  1.0000e-01  1.1500e-01  1.3000e-01\n",
      "  1.4500e-01  1.6000e-01  1.7500e-01  1.9000e-01  2.0500e-01  2.2000e-01\n",
      "  2.3500e-01  2.5000e-01  2.6500e-01  2.8000e-01  3.0000e-01  3.2000e-01\n",
      "  3.4000e-01  3.6000e-01  3.8000e-01  4.0000e-01  4.2000e-01  4.4000e-01\n",
      "  4.6000e-01  4.8000e-01  5.0000e-01  5.2000e-01  5.4000e-01  5.6000e-01\n",
      "  5.8000e-01  6.0000e-01  6.2000e-01  6.4000e-01  6.6000e-01  6.8000e-01\n",
      "  7.0000e-01  7.2000e-01  7.4000e-01  7.6000e-01  7.8000e-01  8.0000e-01\n",
      "  8.2000e-01  8.4000e-01  8.6000e-01  8.8000e-01  9.0000e-01  9.1000e-01\n",
      "  9.2000e-01  9.3000e-01  9.4000e-01  9.5000e-01  9.6000e-01  9.7000e-01\n",
      "  9.8000e-01  9.8350e-01]\n",
      "Upper xs:\n",
      "[-9.7045e-03 -9.6050e-03 -9.6050e-03 -8.9050e-03 -8.9050e-03 -7.7050e-03\n",
      " -7.7050e-03 -5.7050e-03 -5.7050e-03 -3.2050e-03 -3.2050e-03 -7.0500e-04\n",
      "  2.2950e-03  8.2950e-03  1.2000e-02  1.8000e-02  2.4000e-02  3.0000e-02\n",
      "  3.6000e-02  4.2000e-02  5.0000e-02  6.0000e-02  7.0000e-02  8.0000e-02\n",
      "  9.0000e-02  1.0000e-01  1.1500e-01  1.3000e-01  1.4500e-01  1.6000e-01\n",
      "  1.7500e-01  1.9000e-01  2.0500e-01  2.2000e-01  2.3500e-01  2.5000e-01\n",
      "  2.6500e-01  2.8000e-01  3.0000e-01  3.2000e-01  3.4000e-01  3.6000e-01\n",
      "  3.8000e-01  4.0000e-01  4.2000e-01  4.4000e-01  4.6000e-01  4.8000e-01\n",
      "  5.0000e-01  5.2000e-01  5.4000e-01  5.6000e-01  5.8000e-01  6.0000e-01\n",
      "  6.2000e-01  6.4000e-01  6.6000e-01  6.8000e-01  7.0000e-01  7.2000e-01\n",
      "  7.4000e-01  7.6000e-01  7.8000e-01  8.0000e-01  8.2000e-01  8.4000e-01\n",
      "  8.6000e-01  8.8000e-01  9.0000e-01  9.1000e-01  9.2000e-01  9.3000e-01\n",
      "  9.4000e-01  9.5000e-01  9.6000e-01  9.7000e-01  9.8000e-01  9.8350e-01\n",
      "  9.8350e-01]\n",
      "i: 2, x: -0.009605, x-1: -0.009605\n",
      "i: 4, x: -0.008905, x-1: -0.008905\n",
      "i: 6, x: -0.007705, x-1: -0.007705\n",
      "i: 8, x: -0.005705, x-1: -0.005705\n",
      "i: 10, x: -0.003205, x-1: -0.003205\n",
      "i: 78, x: 0.9835, x-1: 0.9835\n",
      "Error loading airfoil from C:\\Users\\tryfo\\Desktop\\Software\\Icarus\\Data\\2D\\SC1095R8\\sc1095r8\n",
      "Error loading airfoil SC1095R8 from DB2D. Got error: `x` must be strictly increasing sequence.\n",
      "Error in interpolating the airfoil data\n",
      "Lower xs:\n",
      "[0.     0.0125 0.025  0.05   0.075  0.1    0.125  0.15   0.175  0.175\n",
      " 0.225  0.25   0.275  0.3    0.35   0.4    0.45   0.5    0.55   0.6\n",
      " 0.65   0.7    0.75   0.8    0.85   0.9    0.95   1.    ]\n",
      "i: 9, x: 0.175, x-1: 0.175\n",
      "Upper xs:\n",
      "[0.     0.0125 0.025  0.05   0.075  0.1    0.125  0.15   0.175  0.2\n",
      " 0.225  0.25   0.275  0.3    0.35   0.4    0.45   0.5    0.55   0.6\n",
      " 0.65   0.7    0.75   0.8    0.85   0.9    0.95   1.    ]\n",
      "Error loading airfoil from C:\\Users\\tryfo\\Desktop\\Software\\Icarus\\Data\\2D\\WB140\\wb140\n",
      "Error loading airfoil WB140 from DB2D. Got error: `x` must be strictly increasing sequence.\n",
      "3.3514237e-08\n"
     ]
    }
   ],
   "source": [
    "from ICARUS.Database import DB\n",
    "DB.load_data()\n",
    "airf = DB.get_airfoil(\"NACA0024\")\n",
    "polar = DB.foils_db.get_polars(\"NACA0024\", \"Xfoil\")\n",
    "cl, cd, cm = polar.get_aero_coefficients(polar.reynolds_nums[0], 0.)\n",
    "a_0 = polar.get_reynolds_zero_lift_angle(polar.reynolds_nums[0])\n",
    "print(a_0)\n",
    "a_0 = 0"
   ]
  },
  {
   "cell_type": "code",
   "execution_count": 16,
   "metadata": {},
   "outputs": [],
   "source": [
    "xs = {}\n",
    "ts = {}"
   ]
  },
  {
   "cell_type": "code",
   "execution_count": 17,
   "metadata": {},
   "outputs": [
    {
     "name": "stdout",
     "output_type": "stream",
     "text": [
      "Simulating using Forward Euler integrator\n",
      "\tSimulated using Forward Euler integrator\n",
      "\tTime taken: 6.83450722694397 seconds\n",
      "Simulating using RK4 integrator\n",
      "\tSimulated using RK4 integrator\n",
      "\tTime taken: 21.13376235961914 seconds\n",
      "Simulating using RK45 integrator\n",
      "\tSimulated using RK45 integrator\n",
      "\tTime taken: 10.084479331970215 seconds\n",
      "Simulating using Backward Euler integrator\n",
      "\tSimulated using Backward Euler integrator\n",
      "\tTime taken: 44.038068532943726 seconds\n",
      "Simulating using Gauss-Legendre integrator\n",
      "\tSimulated using Gauss-Legendre integrator\n",
      "\tTime taken: 67.22828817367554 seconds\n",
      "Simulating using scipy RK45\n",
      "\tSimulated using scipy RK45\n",
      "\tTime taken: 1.3761770725250244 seconds\n"
     ]
    }
   ],
   "source": [
    "def y_input(t:float) -> jnp.ndarray:\n",
    "    return y_equilibrium + 0.2 * jnp.sin(2 * jnp.pi / 10 *t)\n",
    "\n",
    "\n",
    "from jax.debug import print as jprint\n",
    "def f(t:float, x: jnp.ndarray) -> jnp.ndarray:\n",
    "    y = y_input(t)\n",
    "    th = x[0]\n",
    "    v = x[1]                            # x' = v\n",
    "\n",
    "    sin = jnp.sin(th)\n",
    "    cos = jnp.cos(th)\n",
    "        \n",
    "    a = -(\n",
    "        L * R * K * y * cos / jnp.sqrt(R**2 - y * (2 * R * sin - y)) - R * K * y * cos\n",
    "    )\n",
    "\n",
    "    # # Theodorsen method for the lift coefficient\n",
    "    l_ec = 1/2\n",
    "    ksi = (l_ec -3/4)*c\n",
    "\n",
    "    th_th = th\n",
    "    v_th =  v\n",
    "    a_th =  a\n",
    "\n",
    "    W_eff2 = (\n",
    "        (-U * jnp.cos(0) + jnp.sin(th_th) * ksi * v_th)**2 + (U * jnp.sin(0) + jnp.cos(-th_th) * ksi * v_th)**2\n",
    "    )       \n",
    "    W_eff = jnp.sqrt(W_eff2) \n",
    "    a_eff = -jnp.arctan(\n",
    "        (\n",
    "            U * jnp.sin(0) + jnp.cos(th_th)* ksi * v_th\n",
    "        )/(\n",
    "            -U * jnp.cos(0) + jnp.sin(th_th)* ksi * v_th\n",
    "        )\n",
    "    ) - th_th\n",
    "\n",
    "    A1 = 0.165\n",
    "    A2 = 0.335\n",
    "    b1 = 0.0455\n",
    "    b2 = 0.3\n",
    "    \n",
    "    y1 = x[2]                           \n",
    "    y2 = x[3]\n",
    "\n",
    "    C_k_epi_a = a_eff * ( 1 - A1 - A2) + y1 + y2 \n",
    "    cl = 2* jnp.pi * (C_k_epi_a - a_0) + jnp.pi*c / (2*W_eff2) * (-W_eff * v_th - (1/2 - l_ec)*a_th *c)\n",
    "    cm = (4*l_ec -1)*jnp.pi/2 * C_k_epi_a - jnp.pi/ (2*W_eff2) * (-(3/4 - l_ec)*W_eff * v_th * c - 1/4 * (9/8 + 4*l_ec**2 -4*l_ec)*a_th *c**2)\n",
    "    \n",
    "    a_y1 = - (\n",
    "        b1 * 2 * W_eff /c * y1 - b1*A1 *2*W_eff/c * a_eff\n",
    "    )\n",
    "    a_y2 = - (\n",
    "        b2 * 2 * W_eff /c * y2 - b2*A2 *2*W_eff/c * a_eff\n",
    "    )\n",
    "    cl, cd, cm = polar.get_aero_coefficients(polar.reynolds_nums[0], a_eff * 180 / jnp.pi)\n",
    "\n",
    "    # PRINT\n",
    "    # jprint(\"t= {time}\", time = t)\n",
    "    # jprint(\"W_eff = {x}\", x=W_eff)\n",
    "    # jprint('Th = {x}', x=th*180/jnp.pi)\n",
    "    # jprint('A_eff = {x}', x=a_eff*180/jnp.pi)\n",
    "    # jprint('a = {x}', x=a)\n",
    "    # jprint('v = {x}', x=v)\n",
    "    # jprint(\"CL = {x}\",x=cl)\n",
    "    # jprint('cm = {x}', x=cm)\n",
    "    # jprint('')\n",
    "\n",
    "    # # Q is the aerodynamic moment\n",
    "    # Q = 0.5 * rho * W_eff**2 * c * (cm)\n",
    "    Q = 0.5 * rho * W_eff**2 * c * (cl *d + cm)\n",
    "    return jnp.array([\n",
    "        v,              # x' = v\n",
    "        a +0* Q/I,        # v' = a = f(t, x)/ m\n",
    "        a_y1,           # y1\n",
    "        a_y2            # y2\n",
    "    ])\n",
    "\n",
    "# Create the system\n",
    "system = NonLinearSystem(f)\n",
    "\n",
    "# Test the integrators\n",
    "dt = 1e-6*5\n",
    "x0 = jnp.array([theta_0, 0.0])\n",
    "x0 = jnp.array([theta_0, 0.0,0.,0.])\n",
    "x_data, t_data = test_all_integrators(system, x0, 0.0, 40, dt, compare_with_scipy = True)"
   ]
  },
  {
   "cell_type": "code",
   "execution_count": 18,
   "metadata": {},
   "outputs": [],
   "source": [
    "xs['pol_cl_cm'] = x_data['Gauss-Legendre']\n",
    "ts['pol_cl_cm'] = t_data['Gauss-Legendre']"
   ]
  },
  {
   "cell_type": "code",
   "execution_count": 19,
   "metadata": {},
   "outputs": [],
   "source": [
    "xs3 = {k:v for k,v in xs.items() if k in ['theo_cl_cm', 'pol_cl_cm',]}\n",
    "ts3 = {k:v for k,v in ts.items() if k in ['theo_cl_cm', 'pol_cl_cm',]}\n",
    "\n",
    "plot_results(xs3, ts3)"
   ]
  },
  {
   "cell_type": "code",
   "execution_count": 20,
   "metadata": {},
   "outputs": [
    {
     "data": {
      "text/plain": [
       "dict_keys(['pol_cl_cm'])"
      ]
     },
     "execution_count": 20,
     "metadata": {},
     "output_type": "execute_result"
    }
   ],
   "source": [
    "xs.keys()"
   ]
  },
  {
   "cell_type": "code",
   "execution_count": 21,
   "metadata": {},
   "outputs": [],
   "source": [
    "x = x_data[list(x_data.keys())[0]][:,0].tolist()\n",
    "t = t_data[list(x_data.keys())[0]][:].tolist()\n",
    "\n",
    "from scipy.fft import fft, fftfreq\n",
    "\n",
    "# Perform FFT\n",
    "fft_result = fft(x)\n",
    "freqs = fftfreq(len(x), t[1] - t[0])\n",
    "\n",
    "# Find dominating frequencies\n",
    "n = len(x)\n",
    "mask = freqs > 0\n",
    "fft_result_magnitude = 2.0/n * np.abs(fft_result)\n",
    "dominant_freqs = freqs[mask][np.argsort(fft_result_magnitude[mask])][::-1]\n",
    "\n",
    "# Plot original time series data\n",
    "# plt.figure(figsize=(10, 5))\n",
    "# plt.subplot(1, 2, 1)\n",
    "# plt.plot(t, x)\n",
    "# plt.title(\"Original Time Series Data\")\n",
    "# plt.xlabel(\"Time\")\n",
    "# plt.ylabel(\"Amplitude\")\n",
    "\n",
    "# Plot FFT result\n",
    "plt.subplot(1, 2, 2)\n",
    "plt.plot(freqs[mask], fft_result_magnitude[mask])\n",
    "plt.title(\"FFT Analysis\")\n",
    "plt.xlabel(\"Frequency\")\n",
    "plt.ylabel(\"Magnitude\")\n",
    "plt.xlim(0, max(dominant_freqs)*2)  # Adjust x-axis limit for better visualization\n",
    "\n",
    "# Mark dominating frequencies\n",
    "# for freq in dominant_freqs:\n",
    "#     plt.axvline(x=freq, color='r', linestyle='--')\n",
    "\n",
    "plt.show()\n",
    "\n",
    "# Print dominating frequencies\n",
    "# print(\"Dominant Frequencies:\")\n",
    "# for freq in dominant_freqs:\n",
    "#     print(\"{:.2f} Hz\".format(freq))"
   ]
  },
  {
   "cell_type": "markdown",
   "metadata": {},
   "source": [
    "# Simple Mass-Damper System"
   ]
  },
  {
   "cell_type": "code",
   "execution_count": null,
   "metadata": {},
   "outputs": [],
   "source": []
  },
  {
   "cell_type": "code",
   "execution_count": null,
   "metadata": {},
   "outputs": [],
   "source": [
    "# Define a simple m-c-k system\n",
    "m = 1.0\n",
    "c = 0.1\n",
    "k = 1.0\n",
    "\n",
    "\n",
    "def f(t:float, x: jnp.ndarray) -> jnp.ndarray:\n",
    "    return jnp.array([\n",
    "        x[1],                            # x' = v\n",
    "        -c /m * x[1] - k/m * x[0]        # v' = a = -c/m * v - k/m * x\n",
    "    ])\n",
    "\n",
    "# Create the system\n",
    "system = NonLinearSystem(f)\n",
    "\n",
    "# Test the integrators\n",
    "test_all_integrators(system, jnp.array([1.0, 0.0]), 0.0, 100.0, 0.0001, compare_with_scipy = True)"
   ]
  },
  {
   "cell_type": "markdown",
   "metadata": {},
   "source": [
    "# Higher Order"
   ]
  },
  {
   "cell_type": "code",
   "execution_count": null,
   "metadata": {},
   "outputs": [],
   "source": [
    "x = jnp.array([0.1, 0.0])\n",
    "y = y_input(0)\n",
    "\n",
    "th = x[0]\n",
    "v = x[1]                            # x' = v\n",
    "\n",
    "a = jnp.sin(th)* R * K * y * (\n",
    "    1 - L / jnp.sqrt(\n",
    "        R**2 - 2*R*y*jnp.cos(th) + y**2\n",
    "        )\n",
    ") / I \n",
    "\n",
    "print(jnp.sin(th)* R * K * y)"
   ]
  },
  {
   "cell_type": "code",
   "execution_count": null,
   "metadata": {},
   "outputs": [],
   "source": [
    "jnp.sin(th)"
   ]
  },
  {
   "cell_type": "markdown",
   "metadata": {},
   "source": [
    "# Second Order Systems"
   ]
  },
  {
   "cell_type": "code",
   "execution_count": null,
   "metadata": {},
   "outputs": [],
   "source": [
    "# Define a 2nd order system \n",
    "m1 = 1.0\n",
    "c1 = 0.1\n",
    "k1 = 1.0\n",
    "\n",
    "m2 = 1.0\n",
    "c2 = 0.1\n",
    "k2 = 1.0\n",
    "\n",
    "def M(t,x):\n",
    "    return jnp.array(\n",
    "    [\n",
    "        [m1, 0],\n",
    "        [0, m2]\n",
    "    ])\n",
    "# M = jnp.array([m])\n",
    "def C(t,x):\n",
    "    return jnp.array(\n",
    "    [\n",
    "        [0.023, 1.024], #[c1, 0],\n",
    "        [-0.364, 3.31]  #[0, c2]\n",
    "    ])\n",
    "# C = jnp.array([c])\n",
    "\n",
    "def f_int(t,x):\n",
    "    return jnp.array(\n",
    "    [\n",
    "        [1.97, 0.034],  #[k1, -k1],\n",
    "        [0.034, 3.95]   #[-k1, k1 + k2]\n",
    "    ])\n",
    "# f_int = jnp.array([k])\n",
    "\n",
    "def f_ext(t: float, x: jnp.ndarray) -> jnp.ndarray:\n",
    "    return jnp.array([\n",
    "        0.078,# 0.0,\n",
    "        10*0.466*jnp.sin(t)\n",
    "    ])\n",
    "# f_ext = lambda t, x: jnp.array([0.0])\n",
    "\n",
    "system = SecondOrderSystem(M, C, f_int, f_ext)"
   ]
  },
  {
   "cell_type": "code",
   "execution_count": null,
   "metadata": {},
   "outputs": [],
   "source": [
    "# Test the integrators\n",
    "test_all_integrators(system, jnp.array([0.0, 0.0, 0.0, 0.0]), 0.0, 100.0, 1e-4, compare_with_scipy = True)"
   ]
  },
  {
   "cell_type": "markdown",
   "metadata": {},
   "source": [
    "# Another Example"
   ]
  },
  {
   "cell_type": "code",
   "execution_count": null,
   "metadata": {},
   "outputs": [],
   "source": [
    "# Create two finite elements\n",
    "E = 1#235e9\n",
    "A = 1#np.pi * (0.3**2) / 4\n",
    "L = 1.0\n",
    "I = 1#30e-2\n",
    "rho = 1#5490\n"
   ]
  },
  {
   "cell_type": "code",
   "execution_count": null,
   "metadata": {},
   "outputs": [],
   "source": [
    "num_elems  = 6\n",
    "\n",
    "l = L / num_elems\n",
    "Cm = rho*A\n",
    "Ck = E*I\n",
    "# element mass and stiffness matrices\n",
    "m = np.array([\n",
    "    # [140,       0,               0,             70,         0,              0           ], # x1\n",
    "    [           156,             22*l,                    54,             -13*l       ], # y1\n",
    "    [           22*l,            4*l**2,                  13*l,           -3*l**2     ], # Theta1\n",
    "    # [70,         0,              0,             140,        0,              0           ], # x2\n",
    "    [           54,              13*l,                    156,            -22*l       ], # y2\n",
    "    [           -13*l,          -3*l**2,                  -22*l,          4*l**2      ]  # Theta2\n",
    "]) * rho * A * l / 420\n",
    "\n",
    "\n",
    "k = np.array([\n",
    "    # [E*A/l,     0,               0,             -E*A/l,     0,              0           ], # x1\n",
    "    [            12*E*I/L**3,     6*E*I/L**2,                -12*E*I/L**3,   6*E*I/L**2  ],  # y1\n",
    "    [            6*E*I/L**2,      4*E*I/L,                   -6*E*I/L**2,    2*E*I/L     ],  # Theta1\n",
    "    # [-E*A/l,    0,               0,             E*A/l,      0,              0           ], # x2\n",
    "    [           -12*E*I/L**3,    -6*E*I/L**2,                 12*E*I/L**3,    -6*E*I/L**2 ], # y2\n",
    "    [           6*E*I/L**2,      2*E*I/L,                     -6*E*I/L**2,    4*E*I/L     ]  # Theta2\n",
    "])\n",
    "\n",
    "p = 1 / num_elems / l\n",
    "q = 0.0\n",
    "f_load = np.array(\n",
    "       [\n",
    "            # 0*l/2,      # x1\n",
    "            p*l/2,      # y1\n",
    "            p*l**2/12,  # Theta1\n",
    "            # 0*l/2,      # x2\n",
    "            p*l/2,      # y2\n",
    "            -p*l**2/12  # Theta2\n",
    "       ]\n",
    ")\n",
    "# construct global mass and stiffness matrices\n",
    "dof_per_elem = 2\n",
    "M = np.zeros((dof_per_elem*(num_elems+1), dof_per_elem*(num_elems+1)))\n",
    "K = np.zeros((dof_per_elem*(num_elems+1), dof_per_elem*(num_elems+1)))\n",
    "C = np.zeros((dof_per_elem*(num_elems+1), dof_per_elem*(num_elems+1)))\n",
    "f_ext = np.zeros((dof_per_elem*(num_elems+1)))\n",
    "\n",
    "# for each element, change to global coordinates\n",
    "for i in range(num_elems):\n",
    "    M_temp = np.zeros((dof_per_elem*(num_elems+1),dof_per_elem*(num_elems+1)))\n",
    "    K_temp = np.zeros((dof_per_elem*(num_elems+1),dof_per_elem*(num_elems+1)))\n",
    "    F_temp = np.zeros((dof_per_elem*(num_elems+1)))\n",
    "\n",
    "    # start = i:dof_per_elem\n",
    "    # end = (i+2)*dof_per_elem\n",
    "    M_temp[i*dof_per_elem  :  (i+2)*dof_per_elem, i*dof_per_elem  :  (i+2)*dof_per_elem] = m\n",
    "    K_temp[i*dof_per_elem  :  (i+2)*dof_per_elem, i*dof_per_elem  :  (i+2)*dof_per_elem] = k\n",
    "    F_temp[i*dof_per_elem  :  (i+2)*dof_per_elem] = f_load\n",
    "    M += M_temp\n",
    "    K += K_temp\n",
    "    f_ext += F_temp\n",
    "\n",
    "restrained_dofs = [1, 0, ]\n",
    "# remove the fixed degrees of freedom\n",
    "for dof in restrained_dofs:\n",
    "    for i in [0,1]:\n",
    "        M = np.delete(M, dof, axis=i)\n",
    "        K = np.delete(K, dof, axis=i)\n",
    "        C = np.delete(C, dof, axis=i)\n",
    "    f_ext = np.delete(f_ext, dof)          \n",
    "\n",
    "system = SecondOrderSystem(M, C, K, f_ext)\n",
    "# test_all_integrators(system, jnp.zeros((2*M.shape[0])), 0.0, 100.0, 1e-4, compare_with_scipy = False)"
   ]
  },
  {
   "cell_type": "code",
   "execution_count": null,
   "metadata": {},
   "outputs": [],
   "source": [
    "from scipy.linalg import eigh\n",
    "\n",
    "evals, evecs = eigh(K,M)\n",
    "freq = np.sqrt(evals)\n",
    "print(evals)\n",
    "print(freq[0])"
   ]
  },
  {
   "cell_type": "code",
   "execution_count": null,
   "metadata": {},
   "outputs": [],
   "source": [
    "# # Newmark integrator\n",
    "dt0 = 0.0001\n",
    "newmark = NewmarkIntegrator(dt0, system, gamma=0.5, beta=0.25)\n",
    "x0 = jnp.zeros((2*M.shape[0]))\n",
    "t0 = 0.0\n",
    "t_end = 30.\n",
    "t_data, x_data = newmark.simulate(x0, t0, t_end)"
   ]
  },
  {
   "cell_type": "code",
   "execution_count": null,
   "metadata": {},
   "outputs": [],
   "source": [
    "import matplotlib.pyplot as plt\n",
    "\n",
    "clip = 1000\n",
    "\n",
    "fig, ax = plt.subplots(2, 1, figsize=(10, 10))\n",
    "\n",
    "# Clip the data to only sample 1000 points\n",
    "clip = jnp.maximum(1, int(len(t_data) / 1000))\n",
    "\n",
    "ax[0].set_title(\"Displacement of node 1\")\n",
    "ax[0].plot(t_data[::clip], x_data[:,0][::clip], label=\"x1\")\n",
    "ax[0].plot(t_data[::clip], x_data[:,1][::clip], label=\"y1\")\n",
    "ax[0].plot(t_data[::clip], x_data[:,2][::clip], label=\"theta1\")\n",
    "ax[0].legend()\n",
    "\n",
    "ax[1].set_title(\"Displacement of node 2\")\n",
    "ax[1].plot(t_data[::clip], x_data[:,3][::clip], label=\"x2\")\n",
    "ax[1].plot(t_data[::clip], x_data[:,4][::clip], label=\"y2\")\n",
    "ax[1].plot(t_data[::clip], x_data[:,5][::clip], label=\"theta2\")\n",
    "ax[1].legend()"
   ]
  },
  {
   "cell_type": "code",
   "execution_count": null,
   "metadata": {},
   "outputs": [],
   "source": [
    "# FFt of the displacement\n",
    "from scipy.fft import fft, fftfreq\n",
    "x = x_data[:,1].tolist()\n",
    "t = t_data.tolist()\n",
    "T = t[1] - t[0]\n",
    "\n",
    "N = len(x)\n",
    "yf = fft(x)\n",
    "xf = fftfreq(N, T)[:N//2]\n",
    "# Remove the DC component\n",
    "yf[0] = 0\n",
    "\n",
    "# Find the peak \n",
    "idx = np.argmax(np.abs(yf[0:N//2]))\n",
    "fig, ax = plt.subplots(1, 1, figsize=(10, 10))\n",
    "ax.plot(xf, 2.0/N * np.abs(yf[0:N//2]))\n",
    "# Add a vertical line at the peak\n",
    "ax.axvline(xf[idx], color='r', linestyle='--')\n",
    "ax.set_title(\"FFT of the displacement\")\n",
    "ax.set_xlabel(\"Frequency (Hz)\")\n",
    "# Add text to the plot\n",
    "ax.text(xf[idx], 2.0/N * np.abs(yf[idx]), f\"Peak at {xf[idx]*(2*np.pi)} Hz\", verticalalignment='bottom')"
   ]
  },
  {
   "cell_type": "code",
   "execution_count": null,
   "metadata": {},
   "outputs": [],
   "source": []
  }
 ],
 "metadata": {
  "kernelspec": {
   "display_name": "aero",
   "language": "python",
   "name": "python3"
  },
  "language_info": {
   "codemirror_mode": {
    "name": "ipython",
    "version": 3
   },
   "file_extension": ".py",
   "mimetype": "text/x-python",
   "name": "python",
   "nbconvert_exporter": "python",
   "pygments_lexer": "ipython3",
   "version": "3.12.0"
  }
 },
 "nbformat": 4,
 "nbformat_minor": 2
}
