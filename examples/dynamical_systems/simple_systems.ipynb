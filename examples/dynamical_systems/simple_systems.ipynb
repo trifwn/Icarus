{
 "cells": [
  {
   "cell_type": "code",
   "execution_count": null,
   "metadata": {},
   "outputs": [],
   "source": [
    "%matplotlib qt\n",
    "%load_ext autoreload\n",
    "%autoreload 2"
   ]
  },
  {
   "cell_type": "code",
   "execution_count": null,
   "metadata": {},
   "outputs": [],
   "source": [
    "import jax.numpy as jnp\n",
    "import numpy as np\n",
    "import matplotlib.pyplot as plt\n",
    "from scipy.integrate import solve_ivp\n",
    "from time import time\n",
    "\n",
    "# Jax 64-bit\n",
    "import jax\n",
    "\n",
    "jax.config.update(\"jax_enable_x64\", True)"
   ]
  },
  {
   "cell_type": "code",
   "execution_count": null,
   "metadata": {},
   "outputs": [],
   "source": [
    "from ICARUS.dynamical_systems import NonLinearSystem\n",
    "from ICARUS.dynamical_systems import SecondOrderSystem\n",
    "from ICARUS.dynamical_systems.integrate import (\n",
    "    BackwardEulerIntegrator,\n",
    "    ForwardEulerIntegrator,\n",
    "    RK4Integrator,\n",
    "    RK45Integrator,\n",
    "    CrankNicolsonIntegrator,\n",
    "    GaussLegendreIntegrator,\n",
    "    NewmarkIntegrator,\n",
    ")"
   ]
  },
  {
   "cell_type": "code",
   "execution_count": null,
   "metadata": {},
   "outputs": [],
   "source": [
    "from test_integrators import test_all_integrators "
   ]
  },
  {
   "cell_type": "markdown",
   "metadata": {},
   "source": [
    "# Simple Mass-Damper System"
   ]
  },
  {
   "cell_type": "code",
   "execution_count": null,
   "metadata": {},
   "outputs": [],
   "source": [
    "# Define a simple m-c-k system\n",
    "m = 1.0\n",
    "c = 0.1\n",
    "k = 1.0\n",
    "\n",
    "\n",
    "def f(t: float, x: jnp.ndarray) -> jnp.ndarray:\n",
    "    return jnp.array(\n",
    "        [\n",
    "            x[1],  # x' = v\n",
    "            -c / m * x[1] - k / m * x[0],  # v' = a = -c/m * v - k/m * x\n",
    "        ]\n",
    "    )\n",
    "\n",
    "\n",
    "# Create the system\n",
    "system = NonLinearSystem(f)\n",
    "\n",
    "# Test the integrators\n",
    "x_data, t_data = test_all_integrators(\n",
    "    system, jnp.array([1.0, 0.0]), 0.0, 100.0, 0.0001, compare_with_scipy=True\n",
    ")\n",
    "\n"
   ]
  },
  {
   "cell_type": "markdown",
   "metadata": {},
   "source": [
    "# Higher Order"
   ]
  },
  {
   "cell_type": "markdown",
   "metadata": {},
   "source": [
    "# Second Order Systems"
   ]
  },
  {
   "cell_type": "code",
   "execution_count": null,
   "metadata": {},
   "outputs": [],
   "source": [
    "# Define a 2nd order system\n",
    "m1 = 1.0\n",
    "c1 = 0.1\n",
    "k1 = 1.0\n",
    "\n",
    "m2 = 1.0\n",
    "c2 = 0.1\n",
    "k2 = 1.0\n",
    "\n",
    "\n",
    "def M(t, x):\n",
    "    return jnp.array([[m1, 0], [0, m2]])\n",
    "\n",
    "\n",
    "# M = jnp.array([m])\n",
    "def C(t, x):\n",
    "    return jnp.array(\n",
    "        [\n",
    "            [0.023, 1.024],  # [c1, 0],\n",
    "            [-0.364, 3.31],  # [0, c2]\n",
    "        ]\n",
    "    )\n",
    "\n",
    "\n",
    "# C = jnp.array([c])\n",
    "\n",
    "\n",
    "def f_int(t, x):\n",
    "    return jnp.array(\n",
    "        [\n",
    "            [1.97, 0.034],  # [k1, -k1],\n",
    "            [0.034, 3.95],  # [-k1, k1 + k2]\n",
    "        ]\n",
    "    )\n",
    "\n",
    "\n",
    "# f_int = jnp.array([k])\n",
    "\n",
    "\n",
    "def f_ext(t: float, x: jnp.ndarray) -> jnp.ndarray:\n",
    "    return jnp.array(\n",
    "        [\n",
    "            0.078,  # 0.0,\n",
    "            10 * 0.466 * jnp.sin(t),\n",
    "        ]\n",
    "    )\n",
    "\n",
    "\n",
    "# f_ext = lambda t, x: jnp.array([0.0])\n",
    "\n",
    "system = SecondOrderSystem(M, C, f_int, f_ext)"
   ]
  },
  {
   "cell_type": "code",
   "execution_count": null,
   "metadata": {},
   "outputs": [],
   "source": [
    "# Test the integrators\n",
    "test_all_integrators(\n",
    "    system, jnp.array([0.0, 0.0, 0.0, 0.0]), 0.0, 100.0, 1e-4, compare_with_scipy=True\n",
    ")"
   ]
  }
 ],
 "metadata": {
  "kernelspec": {
   "display_name": "aero",
   "language": "python",
   "name": "python3"
  },
  "language_info": {
   "codemirror_mode": {
    "name": "ipython",
    "version": 3
   },
   "file_extension": ".py",
   "mimetype": "text/x-python",
   "name": "python",
   "nbconvert_exporter": "python",
   "pygments_lexer": "ipython3",
   "version": "3.13.1"
  }
 },
 "nbformat": 4,
 "nbformat_minor": 2
}
