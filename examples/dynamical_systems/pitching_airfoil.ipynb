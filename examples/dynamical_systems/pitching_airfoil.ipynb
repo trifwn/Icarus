{
 "cells": [
  {
   "cell_type": "code",
   "execution_count": 1,
   "metadata": {},
   "outputs": [],
   "source": [
    "%matplotlib qt\n",
    "%load_ext autoreload\n",
    "%autoreload 2"
   ]
  },
  {
   "cell_type": "markdown",
   "metadata": {},
   "source": [
    "# Pitching Airfoil "
   ]
  },
  {
   "cell_type": "code",
   "execution_count": 2,
   "metadata": {},
   "outputs": [],
   "source": [
    "import jax.numpy as jnp\n",
    "import numpy as np\n",
    "import matplotlib.pyplot as plt\n",
    "from scipy.integrate import solve_ivp\n",
    "from time import time\n",
    "from jax.debug import print as jprint\n",
    "\n",
    "# Jax 64-bit\n",
    "import jax\n",
    "\n",
    "jax.config.update(\"jax_enable_x64\", True)"
   ]
  },
  {
   "cell_type": "code",
   "execution_count": 3,
   "metadata": {},
   "outputs": [],
   "source": [
    "from test_integrators import test_all_integrators, plot_results"
   ]
  },
  {
   "cell_type": "markdown",
   "metadata": {},
   "source": [
    "# Dynamical Systems"
   ]
  },
  {
   "cell_type": "code",
   "execution_count": 4,
   "metadata": {},
   "outputs": [],
   "source": [
    "from ICARUS.dynamical_systems.first_order_system import NonLinearSystem\n",
    "from ICARUS.dynamical_systems.second_order_system import SecondOrderSystem\n",
    "from ICARUS.dynamical_systems.integrate import (\n",
    "    BackwardEulerIntegrator,\n",
    "    ForwardEulerIntegrator,\n",
    "    RK4Integrator,\n",
    "    RK45Integrator,\n",
    "    CrankNicolsonIntegrator,\n",
    "    GaussLegendreIntegrator,\n",
    "    NewmarkIntegrator,\n",
    ")"
   ]
  },
  {
   "cell_type": "code",
   "execution_count": null,
   "metadata": {},
   "outputs": [],
   "source": [
    "# Define a simple m-c-k system\n",
    "L = 8\n",
    "I = 1\n",
    "R = 2.0\n",
    "K = 10\n",
    "d = 0.5\n",
    "rho = 1.225\n",
    "U = 0.5\n",
    "c = 2\n",
    "\n",
    "\n",
    "theta_0 = 1 * np.pi / 180\n",
    "crank_y = R * np.cos(theta_0)\n",
    "crank_x = R * np.sin(theta_0)\n",
    "y_equilibrium = np.sqrt(L**2 - R**2 * np.cos(theta_0) ** 2) + R * np.sin(theta_0)\n",
    "\n",
    "DL = (\n",
    "    np.sqrt((y_equilibrium - R * np.sin(theta_0)) ** 2 + R**2 * np.cos(theta_0) ** 2)\n",
    "    - L\n",
    ")\n",
    "print(DL)"
   ]
  },
  {
   "cell_type": "code",
   "execution_count": null,
   "metadata": {},
   "outputs": [],
   "source": [
    "y_equilibrium"
   ]
  },
  {
   "cell_type": "code",
   "execution_count": null,
   "metadata": {},
   "outputs": [],
   "source": [
    "from ICARUS.database import Database\n",
    "\n",
    "# CHANGE THIS TO YOUR DATABASE FOLDER\n",
    "database_folder = \"E:\\\\Icarus\\\\Data\"\n",
    "\n",
    "# Load the database\n",
    "DB = Database(database_folder)\n",
    "\n",
    "airf = DB.get_airfoil(\"S3010\")\n",
    "polar = DB.foils_db.get_polars(\"S3010\", \"Xfoil\")\n",
    "cl, cd, cm = polar.get_aero_coefficients(polar.reynolds_nums[0], 0.0)\n",
    "a_0 = polar.get_reynolds_zero_lift_angle(polar.reynolds_nums[0])\n",
    "print(a_0)\n",
    "a_0 = 0"
   ]
  },
  {
   "cell_type": "code",
   "execution_count": null,
   "metadata": {},
   "outputs": [],
   "source": [
    "xs = {}\n",
    "ts = {}"
   ]
  },
  {
   "cell_type": "code",
   "execution_count": null,
   "metadata": {},
   "outputs": [],
   "source": [
    "def y_input(t: float) -> jnp.ndarray:\n",
    "    return y_equilibrium + 0.2 * jnp.sin(2 * jnp.pi / 10 * t)\n",
    "\n",
    "\n",
    "def f(t: float, x: jnp.ndarray) -> jnp.ndarray:\n",
    "    y = y_input(t)\n",
    "    th = x[0]\n",
    "    v = x[1]  # x' = v\n",
    "\n",
    "    sin = jnp.sin(th)\n",
    "    cos = jnp.cos(th)\n",
    "\n",
    "    a = -(\n",
    "        L * R * K * y * cos / jnp.sqrt(R**2 - y * (2 * R * sin - y)) - R * K * y * cos\n",
    "    )\n",
    "\n",
    "    # # Theodorsen method for the lift coefficient\n",
    "    l_ec = 1 / 2\n",
    "    ksi = (l_ec - 3 / 4) * c\n",
    "\n",
    "    th_th = th\n",
    "    v_th = v\n",
    "    a_th = a\n",
    "\n",
    "    W_eff2 = (-U * jnp.cos(0) + jnp.sin(th_th) * ksi * v_th) ** 2 + (\n",
    "        U * jnp.sin(0) + jnp.cos(-th_th) * ksi * v_th\n",
    "    ) ** 2\n",
    "    W_eff = jnp.sqrt(W_eff2)\n",
    "    a_eff = (\n",
    "        -jnp.arctan(\n",
    "            (U * jnp.sin(0) + jnp.cos(th_th) * ksi * v_th)\n",
    "            / (-U * jnp.cos(0) + jnp.sin(th_th) * ksi * v_th)\n",
    "        )\n",
    "        - th_th\n",
    "    )\n",
    "\n",
    "    A1 = 0.165\n",
    "    A2 = 0.335\n",
    "    b1 = 0.0455\n",
    "    b2 = 0.3\n",
    "\n",
    "    y1 = x[2]\n",
    "    y2 = x[3]\n",
    "\n",
    "    C_k_epi_a = a_eff * (1 - A1 - A2) + y1 + y2\n",
    "    cl = 2 * jnp.pi * (C_k_epi_a - a_0) + jnp.pi * c / (2 * W_eff2) * (\n",
    "        -W_eff * v_th - (1 / 2 - l_ec) * a_th * c\n",
    "    )\n",
    "    cm = (4 * l_ec - 1) * jnp.pi / 2 * C_k_epi_a - jnp.pi / (2 * W_eff2) * (\n",
    "        -(3 / 4 - l_ec) * W_eff * v_th * c\n",
    "        - 1 / 4 * (9 / 8 + 4 * l_ec**2 - 4 * l_ec) * a_th * c**2\n",
    "    )\n",
    "\n",
    "    a_y1 = -(b1 * 2 * W_eff / c * y1 - b1 * A1 * 2 * W_eff / c * a_eff)\n",
    "    a_y2 = -(b2 * 2 * W_eff / c * y2 - b2 * A2 * 2 * W_eff / c * a_eff)\n",
    "    cl, cd, cm = polar.get_aero_coefficients(\n",
    "        polar.reynolds_nums[0], a_eff * 180 / jnp.pi\n",
    "    )\n",
    "\n",
    "    # PRINT\n",
    "    # jprint(\"t= {time}\", time = t)\n",
    "    # jprint(\"W_eff = {x}\", x=W_eff)\n",
    "    # jprint('Th = {x}', x=th*180/jnp.pi)\n",
    "    # jprint('A_eff = {x}', x=a_eff*180/jnp.pi)\n",
    "    # jprint('a = {x}', x=a)\n",
    "    # jprint('v = {x}', x=v)\n",
    "    # jprint(\"CL = {x}\",x=cl)\n",
    "    # jprint('cm = {x}', x=cm)\n",
    "    # jprint('')\n",
    "\n",
    "    # # Q is the aerodynamic moment\n",
    "    # Q = 0.5 * rho * W_eff**2 * c * (cm)\n",
    "    Q = 0.5 * rho * W_eff**2 * c * (cl * d + cm)\n",
    "    return jnp.array(\n",
    "        [\n",
    "            v,  # x' = v\n",
    "            a + 0 * Q / I,  # v' = a = f(t, x)/ m\n",
    "            a_y1,  # y1\n",
    "            a_y2,  # y2\n",
    "        ]\n",
    "    )\n",
    "\n",
    "\n",
    "# Create the system\n",
    "system = NonLinearSystem(f)\n",
    "\n",
    "# Test the integrators\n",
    "dt = 1e-6 * 5\n",
    "x0 = jnp.array([theta_0, 0.0])\n",
    "x0 = jnp.array([theta_0, 0.0, 0.0, 0.0])\n",
    "x_data, t_data = test_all_integrators(system, x0, 0.0, 40, dt, compare_with_scipy=True)"
   ]
  },
  {
   "cell_type": "code",
   "execution_count": null,
   "metadata": {},
   "outputs": [],
   "source": [
    "xs[\"pol_cl_cm\"] = x_data[\"Gauss-Legendre\"]\n",
    "ts[\"pol_cl_cm\"] = t_data[\"Gauss-Legendre\"]"
   ]
  },
  {
   "cell_type": "code",
   "execution_count": null,
   "metadata": {},
   "outputs": [],
   "source": [
    "xs3 = {\n",
    "    k: v\n",
    "    for k, v in xs.items()\n",
    "    if k\n",
    "    in [\n",
    "        \"theo_cl_cm\",\n",
    "        \"pol_cl_cm\",\n",
    "    ]\n",
    "}\n",
    "ts3 = {\n",
    "    k: v\n",
    "    for k, v in ts.items()\n",
    "    if k\n",
    "    in [\n",
    "        \"theo_cl_cm\",\n",
    "        \"pol_cl_cm\",\n",
    "    ]\n",
    "}\n",
    "\n",
    "plot_results(xs3, ts3)"
   ]
  },
  {
   "cell_type": "code",
   "execution_count": null,
   "metadata": {},
   "outputs": [],
   "source": [
    "xs.keys()"
   ]
  },
  {
   "cell_type": "code",
   "execution_count": null,
   "metadata": {},
   "outputs": [],
   "source": [
    "x = jnp.array([0.1, 0.0])\n",
    "y = y_input(0)\n",
    "\n",
    "th = x[0]\n",
    "v = x[1]  # x' = v\n",
    "\n",
    "a = (\n",
    "    jnp.sin(th)\n",
    "    * R\n",
    "    * K\n",
    "    * y\n",
    "    * (1 - L / jnp.sqrt(R**2 - 2 * R * y * jnp.cos(th) + y**2))\n",
    "    / I\n",
    ")\n",
    "\n",
    "print(jnp.sin(th) * R * K * y)"
   ]
  },
  {
   "cell_type": "markdown",
   "metadata": {},
   "source": [
    "# Frequency Analysis"
   ]
  },
  {
   "cell_type": "code",
   "execution_count": null,
   "metadata": {},
   "outputs": [],
   "source": [
    "from scipy.fft import fft, fftfreq"
   ]
  },
  {
   "cell_type": "code",
   "execution_count": null,
   "metadata": {},
   "outputs": [],
   "source": [
    "x = x_data[list(x_data.keys())[0]][:, 0].tolist()\n",
    "t = t_data[list(x_data.keys())[0]][:].tolist()\n",
    "\n",
    "\n",
    "# Perform FFT\n",
    "fft_result = fft(x)\n",
    "freqs = fftfreq(len(x), t[1] - t[0])\n",
    "\n",
    "# Find dominating frequencies\n",
    "n = len(x)\n",
    "mask = freqs > 0\n",
    "fft_result_magnitude = 2.0 / n * np.abs(fft_result)\n",
    "dominant_freqs = freqs[mask][np.argsort(fft_result_magnitude[mask])][::-1]\n",
    "\n",
    "# Plot original time series data\n",
    "# plt.figure(figsize=(10, 5))\n",
    "# plt.subplot(1, 2, 1)\n",
    "# plt.plot(t, x)\n",
    "# plt.title(\"Original Time Series Data\")\n",
    "# plt.xlabel(\"Time\")\n",
    "# plt.ylabel(\"Amplitude\")\n",
    "\n",
    "# Plot FFT result\n",
    "plt.subplot(1, 2, 2)\n",
    "plt.plot(freqs[mask], fft_result_magnitude[mask])\n",
    "plt.title(\"FFT Analysis\")\n",
    "plt.xlabel(\"Frequency\")\n",
    "plt.ylabel(\"Magnitude\")\n",
    "plt.xlim(0, max(dominant_freqs) * 2)  # Adjust x-axis limit for better visualization\n",
    "\n",
    "# Mark dominating frequencies\n",
    "# for freq in dominant_freqs:\n",
    "#     plt.axvline(x=freq, color='r', linestyle='--')\n",
    "\n",
    "plt.show()\n",
    "\n",
    "# Print dominating frequencies\n",
    "# print(\"Dominant Frequencies:\")\n",
    "# for freq in dominant_freqs:\n",
    "#     print(\"{:.2f} Hz\".format(freq))"
   ]
  },
  {
   "cell_type": "code",
   "execution_count": null,
   "metadata": {},
   "outputs": [],
   "source": [
    "# FFt of the displacement\n",
    "x = x_data[:, 1].tolist()\n",
    "t = t_data.tolist()\n",
    "T = t[1] - t[0]\n",
    "\n",
    "N = len(x)\n",
    "yf = fft(x)\n",
    "xf = fftfreq(N, T)[: N // 2]\n",
    "# Remove the DC component\n",
    "yf[0] = 0\n",
    "\n",
    "# Find the peak\n",
    "idx = np.argmax(np.abs(yf[0 : N // 2]))\n",
    "fig, ax = plt.subplots(1, 1, figsize=(10, 10))\n",
    "ax.plot(xf, 2.0 / N * np.abs(yf[0 : N // 2]))\n",
    "# Add a vertical line at the peak\n",
    "ax.axvline(xf[idx], color=\"r\", linestyle=\"--\")\n",
    "ax.set_title(\"FFT of the displacement\")\n",
    "ax.set_xlabel(\"Frequency (Hz)\")\n",
    "# Add text to the plot\n",
    "ax.text(\n",
    "    xf[idx],\n",
    "    2.0 / N * np.abs(yf[idx]),\n",
    "    f\"Peak at {xf[idx]*(2*np.pi)} Hz\",\n",
    "    verticalalignment=\"bottom\",\n",
    ")"
   ]
  },
  {
   "cell_type": "code",
   "execution_count": null,
   "metadata": {},
   "outputs": [],
   "source": []
  }
 ],
 "metadata": {
  "kernelspec": {
   "display_name": "aero",
   "language": "python",
   "name": "python3"
  },
  "language_info": {
   "codemirror_mode": {
    "name": "ipython",
    "version": 3
   },
   "file_extension": ".py",
   "mimetype": "text/x-python",
   "name": "python",
   "nbconvert_exporter": "python",
   "pygments_lexer": "ipython3",
   "version": "3.13.1"
  }
 },
 "nbformat": 4,
 "nbformat_minor": 2
}
