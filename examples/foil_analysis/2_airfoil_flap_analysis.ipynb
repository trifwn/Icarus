{
 "cells": [
  {
   "cell_type": "markdown",
   "metadata": {},
   "source": [
    "# Airfoil Flap Calculations Notebook"
   ]
  },
  {
   "cell_type": "code",
   "execution_count": null,
   "metadata": {},
   "outputs": [],
   "source": [
    "%load_ext autoreload\n",
    "%autoreload 2\n",
    "%matplotlib qt"
   ]
  },
  {
   "cell_type": "code",
   "execution_count": null,
   "metadata": {},
   "outputs": [],
   "source": [
    "from time import sleep\n",
    "\n",
    "from ICARUS.database import DB\n",
    "import matplotlib.pyplot as plt\n",
    "import numpy as np"
   ]
  },
  {
   "cell_type": "code",
   "execution_count": null,
   "metadata": {},
   "outputs": [],
   "source": [
    "airfoil = DB.get_airfoil('NACA0009')\n",
    "\n",
    "fig = plt.figure()\n",
    "ax = fig.add_subplot(111)\n",
    "\n",
    "# airfoil.plot(ax=ax)\n",
    "airfoil_flap = airfoil.flap(\n",
    "    flap_hinge_chord_percentage= 0.63,\n",
    "    flap_angle= 10.,\n",
    "    chord_extension= 1., \n",
    ")\n",
    "\n",
    "# airfoil_flap.plot(ax=ax, overide_color = 'green', scatter = True)\n",
    "airfoil_flap.repanel_from_internal(120, \"cosine\")\n",
    "airfoil_flap.plot(ax=ax, overide_color = 'red', scatter=True)\n",
    "airfoil_flap.repanel_spl(120, 0)\n",
    "airfoil_flap.plot(ax=ax, overide_color = 'blue', scatter=True)"
   ]
  },
  {
   "cell_type": "code",
   "execution_count": null,
   "metadata": {},
   "outputs": [],
   "source": [
    "from ICARUS.core.units import calc_reynolds\n",
    "import numpy as np\n",
    "from ICARUS.core.types import FloatArray\n",
    "\n",
    "# PARAMETERS FOR ESTIMATION\n",
    "chord_max: float = 0.5\n",
    "chord_min: float = 0.1\n",
    "u_max: float = 35.0\n",
    "u_min: float = 5.0\n",
    "viscosity: float = 1.56e-5\n",
    "speed_of_sound: float = 340.3\n",
    "\n",
    "# MACH ESTIMATION\n",
    "mach_max: float = 0.0\n",
    "# mach_min: float = calc_mach(10, speed_of_sound)\n",
    "# mach: FloatArray = np.linspace(mach_max, mach_min, 10)\n",
    "MACH: float = mach_max\n",
    "\n",
    "# REYNOLDS ESTIMATION\n",
    "RE_MIN = 8e4\n",
    "RE_MAX = 1.5e6\n",
    "NUM_BINS = 12\n",
    "REYNOLDS_BINS = np.logspace(-2.2, 0, NUM_BINS) * (RE_MAX - RE_MIN) + RE_MIN\n",
    "reynolds = REYNOLDS_BINS\n",
    "\n",
    "# ANGLE OF ATTACK SETUP\n",
    "aoa_min: float = -10\n",
    "aoa_max: float = 16\n",
    "num_of_angles: int = int((aoa_max - aoa_min) * 2 + 1)\n",
    "angles: FloatArray = np.linspace(\n",
    "    start=aoa_min,\n",
    "    stop=aoa_max,\n",
    "    num=num_of_angles,\n",
    ")\n",
    "\n",
    "# Transition to turbulent Boundary Layer\n",
    "ftrip_up: dict[str, float] = {\"pos\": 0.2, \"neg\": 0.1}\n",
    "ftrip_low: dict[str, float] = {\"pos\": 0.1, \"neg\": 0.2}\n",
    "Ncrit = 9"
   ]
  },
  {
   "cell_type": "code",
   "execution_count": null,
   "metadata": {},
   "outputs": [],
   "source": [
    "from ICARUS.computation.solvers.solver import Solver\n",
    "# # Xfoil\n",
    "from ICARUS.computation.solvers.Xfoil.xfoil import Xfoil\n",
    "\n",
    "print(f\"\\nRunning airfoil {airfoil}\\n\")\n",
    "\n",
    "for flap_angle in np.arange(7.5, 35, 2.5):\n",
    "    fig = plt.figure()\n",
    "    ax = fig.add_subplot(111)\n",
    "\n",
    "    airfoil_flap = airfoil.flap(\n",
    "        flap_hinge_chord_percentage= 0.63,\n",
    "        flap_angle=flap_angle,\n",
    "        chord_extension= 1., \n",
    "    )\n",
    "    airfoil_flap.repanel_from_internal(120, \"cosine\")\n",
    "    airfoil_flap.repanel_spl(120, 1e-6)\n",
    "\n",
    "    airfoil_flap.plot(scatter=True, ax = ax)\n",
    "    airfoil_flap.plot( ax = ax)\n",
    "    plt.show(block=True)\n",
    "    xfoil: Solver = Xfoil()\n",
    "\n",
    "    # Import Analysis\n",
    "    analysis: str = xfoil.get_analyses_names()[1]  # Run\n",
    "    xfoil.select_analysis(analysis)\n",
    "\n",
    "    # Get Options\n",
    "    options = xfoil.get_analysis_options(verbose=False)\n",
    "    solver_parameters = xfoil.get_solver_parameters()\n",
    "\n",
    "    # Set Options\n",
    "    options.airfoil = airfoil_flap\n",
    "    options.mach = MACH\n",
    "    options.reynolds = reynolds\n",
    "    options.min_aoa = aoa_min\n",
    "    options.max_aoa = aoa_max\n",
    "    options.aoa_step = 0.5\n",
    "\n",
    "    # Set Solver Options\n",
    "    solver_parameters.max_iter = 200\n",
    "    solver_parameters.Ncrit = 9\n",
    "    solver_parameters.xtr = (.05, .05)\n",
    "    solver_parameters.print = False\n",
    "    solver_parameters.repanel_n = 120\n",
    "\n",
    "    xfoil.define_analysis(options, solver_parameters)\n",
    "    xfoil.print_analysis_options()\n",
    "\n",
    "    # RUN\n",
    "    xfoil.execute(parallel=False)\n",
    "    # Get polar\n",
    "    polar = DB.foils_db.get_polars(airfoil_flap.name.upper())\n",
    "    fig = polar.plot()\n",
    "    fig.show()\n",
    "    plt.show(block=True)\n"
   ]
  },
  {
   "cell_type": "code",
   "execution_count": null,
   "metadata": {},
   "outputs": [],
   "source": [
    "airfs = []\n",
    "for flap_angle in np.arange(0, 35, 2.5):\n",
    "    try:\n",
    "        airfoil_flap = airfoil.flap(\n",
    "            flap_hinge_chord_percentage= 0.63,\n",
    "            flap_angle=flap_angle,\n",
    "            chord_extension= 1., \n",
    "        )\n",
    "        airfs.append(airfoil_flap)\n",
    "        polar = DB.foils_db.get_polars(airfoil_flap.name.upper())\n",
    "        fig = polar.plot()\n",
    "        fig.show()\n",
    "    except:\n",
    "        pass\n",
    "\n",
    "airf_names = [airf.name for airf in airfs]"
   ]
  },
  {
   "cell_type": "code",
   "execution_count": null,
   "metadata": {},
   "outputs": [],
   "source": [
    "airf_names"
   ]
  },
  {
   "cell_type": "code",
   "execution_count": null,
   "metadata": {},
   "outputs": [],
   "source": [
    "from ICARUS.visualization.airfoil.db_polars import plot_airfoils_polars\n",
    "\n",
    "plot_airfoils_polars(\n",
    "    airf_names[1:],\n",
    "    reynolds= 4e5,\n",
    "    solvers=[\"Xfoil\"]\n",
    ")"
   ]
  },
  {
   "cell_type": "code",
   "execution_count": null,
   "metadata": {},
   "outputs": [],
   "source": []
  }
 ],
 "metadata": {
  "kernelspec": {
   "display_name": "aero",
   "language": "python",
   "name": "python3"
  },
  "language_info": {
   "codemirror_mode": {
    "name": "ipython",
    "version": 3
   },
   "file_extension": ".py",
   "mimetype": "text/x-python",
   "name": "python",
   "nbconvert_exporter": "python",
   "pygments_lexer": "ipython3",
   "version": "3.12.2"
  }
 },
 "nbformat": 4,
 "nbformat_minor": 2
}
