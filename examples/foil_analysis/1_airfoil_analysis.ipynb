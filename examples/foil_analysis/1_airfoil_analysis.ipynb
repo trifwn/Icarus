{
 "cells": [
  {
   "cell_type": "markdown",
   "metadata": {},
   "source": [
    "# Airfoil Analysis Notebook"
   ]
  },
  {
   "cell_type": "markdown",
   "metadata": {},
   "source": [
    "## Setup"
   ]
  },
  {
   "cell_type": "code",
   "execution_count": 1,
   "metadata": {},
   "outputs": [],
   "source": [
    "%load_ext autoreload\n",
    "%autoreload 2\n",
    "%matplotlib qt"
   ]
  },
  {
   "cell_type": "code",
   "execution_count": 2,
   "metadata": {},
   "outputs": [],
   "source": [
    "import numpy as np\n",
    "\n",
    "from ICARUS.core.units import calc_mach, calc_reynolds\n",
    "from ICARUS.airfoils.airfoil import Airfoil\n",
    "from ICARUS.core.struct import Struct\n",
    "from ICARUS.computation.solvers.solver import Solver\n",
    "from ICARUS.computation.solvers.OpenFoam.files.setup_case import MeshType"
   ]
  },
  {
   "cell_type": "markdown",
   "metadata": {},
   "source": [
    "# Load DB"
   ]
  },
  {
   "cell_type": "code",
   "execution_count": 3,
   "metadata": {},
   "outputs": [
    {
     "name": "stdout",
     "output_type": "stream",
     "text": [
      "Error loading airfoil images from self.DB2D. Got error: [Errno 2] No such file or directory: 'E:\\\\Icarus\\\\Data\\\\2D\\\\IMAGES\\\\images'\n"
     ]
    }
   ],
   "source": [
    "from ICARUS.database.db import Database\n",
    "\n",
    "# CHANGE THIS TO YOUR DATABASE FOLDER\n",
    "database_folder = \"E:\\\\Icarus\\\\Data\"\n",
    "\n",
    "# Load the database\n",
    "DB = Database(database_folder)\n",
    "DB.load_data()"
   ]
  },
  {
   "cell_type": "code",
   "execution_count": 4,
   "metadata": {},
   "outputs": [
    {
     "name": "stdout",
     "output_type": "stream",
     "text": [
      "Total number of loaded airfoils 4\n",
      "Total number of computed airfoil data 4\n",
      "Total number of computed airfoil polars 4\n"
     ]
    }
   ],
   "source": [
    "print(f\"Total number of loaded airfoils {len(list(DB.foils_db.airfoils.keys()))}\")\n",
    "print(\n",
    "    f\"Total number of computed airfoil data {len(list(DB.foils_db._raw_data.keys()))}\"\n",
    ")\n",
    "print(f\"Total number of computed airfoil polars {len(list(DB.foils_db.polars.keys()))}\")"
   ]
  },
  {
   "attachments": {},
   "cell_type": "markdown",
   "metadata": {},
   "source": [
    "# Reynolds And Mach and AoA"
   ]
  },
  {
   "cell_type": "code",
   "execution_count": 5,
   "metadata": {},
   "outputs": [
    {
     "name": "stdout",
     "output_type": "stream",
     "text": [
      "Mach range: 0.029385836027034967 - 0.08815750808110491\n",
      "Mach:\n",
      "[0.08815751 0.08162732 0.07509714 0.06856695 0.06203676 0.05550658\n",
      " 0.04897639 0.04244621 0.03591602 0.02938584]\n",
      "\n",
      "Reynolds range: 32051.28205128205 - 1121794.8717948718\n",
      "Re:\n",
      "[  32051.28205128   89406.20782726  146761.13360324  204116.05937922\n",
      "  261470.9851552   318825.91093117  376180.83670715  433535.76248313\n",
      "  490890.68825911  548245.61403509  605600.53981107  662955.46558704\n",
      "  720310.39136302  777665.317139    835020.24291498  892375.16869096\n",
      "  949730.09446694 1007085.02024291 1064439.94601889 1121794.87179487]\n",
      "\n",
      "Angles of attack:\n",
      "[-10.   -9.5  -9.   -8.5  -8.   -7.5  -7.   -6.5  -6.   -5.5  -5.   -4.5\n",
      "  -4.   -3.5  -3.   -2.5  -2.   -1.5  -1.   -0.5   0.    0.5   1.    1.5\n",
      "   2.    2.5   3.    3.5   4.    4.5   5.    5.5   6.    6.5   7.    7.5\n",
      "   8.    8.5   9.    9.5  10.   10.5  11.   11.5  12. ]\n",
      "\n"
     ]
    }
   ],
   "source": [
    "# Assumptions\n",
    "chord_max: float = 0.5\n",
    "chord_min: float = 0.1\n",
    "u_max: float = 35.0\n",
    "u_min: float = 5.0\n",
    "viscosity: float = 1.56e-5\n",
    "speed_of_sound: float = 340.3\n",
    "\n",
    "# MACH ESTIMATION\n",
    "mach_min: float = calc_mach(10, speed_of_sound)\n",
    "mach_max: float = calc_mach(30, speed_of_sound)\n",
    "mach = np.linspace(mach_max, mach_min, 10)\n",
    "MACH: float = mach_max\n",
    "print(f\"Mach range: {mach_min} - {mach_max}\")\n",
    "print(f\"Mach:\\n{mach}\\n\")\n",
    "\n",
    "# REYNOLDS ESTIMATION\n",
    "reynolds_max: float = calc_reynolds(u_max, chord_max, viscosity)\n",
    "reynolds_min: float = calc_reynolds(u_min, chord_min, viscosity)\n",
    "reynolds = np.linspace(reynolds_min, reynolds_max, 20)\n",
    "# reynolds = [1e5, 10e6]\n",
    "\n",
    "REYN = reynolds_max\n",
    "print(f\"Reynolds range: {reynolds_min} - {reynolds_max}\")\n",
    "print(f\"Re:\\n{reynolds}\\n\")\n",
    "# ANGLE OF ATTACK SETUP\n",
    "aoa_max: float = 12\n",
    "aoa_min: float = -10\n",
    "num_of_angles: float = (aoa_max - aoa_min) * 2 + 1\n",
    "angles = np.linspace(\n",
    "    start=aoa_min,\n",
    "    stop=aoa_max,\n",
    "    num=num_of_angles,\n",
    ")\n",
    "\n",
    "print(f\"Angles of attack:\\n{angles}\\n\")\n",
    "\n",
    "ftrip_low: dict[str, float] = {\"pos\": 0.1, \"neg\": 0.2}\n",
    "ftrip_up: dict[str, float] = {\"pos\": 0.2, \"neg\": 0.1}"
   ]
  },
  {
   "cell_type": "code",
   "execution_count": 6,
   "metadata": {},
   "outputs": [],
   "source": [
    "cleaning = False\n",
    "calcF2W = True\n",
    "calcOpenFoam = False\n",
    "calcXFoil = True"
   ]
  },
  {
   "attachments": {},
   "cell_type": "markdown",
   "metadata": {},
   "source": [
    "# Get Airfoils"
   ]
  },
  {
   "cell_type": "code",
   "execution_count": 7,
   "metadata": {},
   "outputs": [
    {
     "name": "stdout",
     "output_type": "stream",
     "text": [
      "2\n"
     ]
    }
   ],
   "source": [
    "all_airfoils = list(DB.foils_db.airfoils.keys())\n",
    "\n",
    "airfoils_to_compute = [\n",
    "    airfoil\n",
    "    for airfoil in all_airfoils\n",
    "    if (\n",
    "        # airfoil.upper().startswith(\"AG\")  # or\n",
    "        # airfoil.upper().startswith('CLARK') or\n",
    "        # airfoil.upper().startswith('DAE') or\n",
    "        # airfoil.upper().startswith('E') or\n",
    "        # airfoil.upper().startswith('H') or\n",
    "        # airfoil.upper().startswith('M') or\n",
    "        # airfoil.upper().startswith('N') or\n",
    "        # airfoil.upper().startswith('O') or\n",
    "        # airfoil.upper().startswith('W')\n",
    "    )\n",
    "]\n",
    "airfoils_to_compute = [\"NACA4415\", \"NACA4412\"]\n",
    "print(len(airfoils_to_compute))"
   ]
  },
  {
   "attachments": {},
   "cell_type": "markdown",
   "metadata": {},
   "source": [
    "# Xfoil"
   ]
  },
  {
   "cell_type": "code",
   "execution_count": 8,
   "metadata": {},
   "outputs": [
    {
     "name": "stdout",
     "output_type": "stream",
     "text": [
      "\n",
      "Running airfoil NACA4415\n",
      "\n",
      "Airfoil Polar Analysis For a multiple Reynolds using aseq\n",
      "Available Options of Xfoil for Airfoil Polar Analysis For a multiple Reynolds using aseq: \n",
      "\n",
      "| VarName   | Value                       | Description                       |\n",
      "|-----------|-----------------------------|-----------------------------------|\n",
      "| airfoil   | Complex Datatype (naca4415) | Airfoil Object                    |\n",
      "| mach      | 0.08815750808110491         | Mach number                       |\n",
      "| reynolds  | Complex Datatype            | List of Reynold's numbers to run  |\n",
      "| min_aoa   | -10                         | Minimum angle of attack           |\n",
      "| max_aoa   | 12                          | Maximum angle of attack           |\n",
      "| aoa_step  | 0.5                         | Step between each angle of attack |\n",
      "\n",
      "If there are Multiple Values, or complex datatypes, or N/A you should inspect them sepretly by calling the option name\n",
      "\n",
      "Running Solver XFoil:\n",
      "\tAnalysis Airfoil Polar Analysis For a multiple Reynolds using aseq...\n"
     ]
    },
    {
     "data": {
      "application/vnd.jupyter.widget-view+json": {
       "model_id": "14938e749e2e495496281af36c6c744b",
       "version_major": 2,
       "version_minor": 0
      },
      "text/plain": [
       "  0%|          | 0/20 [00:00<?, ?it/s]"
      ]
     },
     "metadata": {},
     "output_type": "display_data"
    },
    {
     "name": "stdout",
     "output_type": "stream",
     "text": [
      "Repaneling Airfoil with 100\n",
      "Repaneling Airfoil with 100\n",
      "Repaneling Airfoil with 100\n",
      "Repaneling Airfoil with 100\n",
      "Repaneling Airfoil with 100\n",
      "Repaneling Airfoil with 100\n",
      "Repaneling Airfoil with 100\n",
      "Repaneling Airfoil with 100\n",
      "Repaneling Airfoil with 100\n",
      "Repaneling Airfoil with 100\n",
      "Repaneling Airfoil with 100\n",
      "Repaneling Airfoil with 100\n",
      "Repaneling Airfoil with 100\n",
      "Repaneling Airfoil with 100\n",
      "Repaneling Airfoil with 100\n",
      "Repaneling Airfoil with 100\n",
      "Repaneling Airfoil with 100\n",
      "Repaneling Airfoil with 100\n",
      "Repaneling Airfoil with 100\n",
      "Repaneling Airfoil with 100\n",
      "Adding NACA4415 to the database\n",
      "Analysis Completed\n",
      "\n",
      "Running airfoil NACA4412\n",
      "\n",
      "Airfoil Polar Analysis For a multiple Reynolds using aseq\n",
      "Available Options of Xfoil for Airfoil Polar Analysis For a multiple Reynolds using aseq: \n",
      "\n",
      "| VarName   | Value                       | Description                       |\n",
      "|-----------|-----------------------------|-----------------------------------|\n",
      "| airfoil   | Complex Datatype (naca4412) | Airfoil Object                    |\n",
      "| mach      | 0.08815750808110491         | Mach number                       |\n",
      "| reynolds  | Complex Datatype            | List of Reynold's numbers to run  |\n",
      "| min_aoa   | -10                         | Minimum angle of attack           |\n",
      "| max_aoa   | 12                          | Maximum angle of attack           |\n",
      "| aoa_step  | 0.5                         | Step between each angle of attack |\n",
      "\n",
      "If there are Multiple Values, or complex datatypes, or N/A you should inspect them sepretly by calling the option name\n",
      "\n",
      "Running Solver XFoil:\n",
      "\tAnalysis Airfoil Polar Analysis For a multiple Reynolds using aseq...\n"
     ]
    },
    {
     "name": "stderr",
     "output_type": "stream",
     "text": [
      "E:\\Icarus\\ICARUS\\airfoils\\airfoil_polars.py:429: UserWarning: No artists with labels found to put in legend.  Note that artists whose label start with an underscore are ignored when legend() is called with no argument.\n",
      "  ax.legend().remove()\n"
     ]
    },
    {
     "data": {
      "application/vnd.jupyter.widget-view+json": {
       "model_id": "928bffdb9a154ddaa0fb4edd3948506b",
       "version_major": 2,
       "version_minor": 0
      },
      "text/plain": [
       "  0%|          | 0/20 [00:00<?, ?it/s]"
      ]
     },
     "metadata": {},
     "output_type": "display_data"
    },
    {
     "name": "stdout",
     "output_type": "stream",
     "text": [
      "Repaneling Airfoil with 100\n",
      "Repaneling Airfoil with 100\n",
      "Repaneling Airfoil with 100\n",
      "Repaneling Airfoil with 100\n",
      "Repaneling Airfoil with 100\n",
      "Repaneling Airfoil with 100\n",
      "Repaneling Airfoil with 100\n",
      "Repaneling Airfoil with 100\n",
      "Repaneling Airfoil with 100\n",
      "Repaneling Airfoil with 100\n",
      "Repaneling Airfoil with 100\n",
      "Repaneling Airfoil with 100\n",
      "Repaneling Airfoil with 100\n",
      "Repaneling Airfoil with 100\n",
      "Repaneling Airfoil with 100\n",
      "Repaneling Airfoil with 100\n",
      "Repaneling Airfoil with 100\n",
      "Repaneling Airfoil with 100\n",
      "Repaneling Airfoil with 100\n",
      "Repaneling Airfoil with 100\n",
      "Adding NACA4412 to the database\n",
      "Analysis Completed\n"
     ]
    },
    {
     "name": "stderr",
     "output_type": "stream",
     "text": [
      "E:\\Icarus\\ICARUS\\airfoils\\airfoil_polars.py:429: UserWarning: No artists with labels found to put in legend.  Note that artists whose label start with an underscore are ignored when legend() is called with no argument.\n",
      "  ax.legend().remove()\n"
     ]
    }
   ],
   "source": [
    "if calcXFoil:\n",
    "    from ICARUS.computation.solvers.Xfoil.xfoil import Xfoil\n",
    "\n",
    "    for airfoil in airfoils_to_compute:\n",
    "        print(f\"\\nRunning airfoil {airfoil}\\n\")\n",
    "        # # Get airfoil\n",
    "        airf: Airfoil = DB.get_airfoil(airfoil)\n",
    "        # airf.plot(scatter=True)\n",
    "        # airf.repanel(120, distribution=\"cosine\")\n",
    "        xfoil: Solver = Xfoil()\n",
    "\n",
    "        # Import Analysis\n",
    "        analysis: str = xfoil.get_analyses_names()[1]  # Run\n",
    "        xfoil.select_analysis(analysis)\n",
    "\n",
    "        # Get Options\n",
    "        options = xfoil.get_analysis_options(verbose=False)\n",
    "        solver_parameters = xfoil.get_solver_parameters()\n",
    "\n",
    "        # Set Options\n",
    "        options.airfoil = airf\n",
    "        options.mach = MACH\n",
    "        options.reynolds = reynolds\n",
    "        options.min_aoa = aoa_min\n",
    "        options.max_aoa = aoa_max\n",
    "        options.aoa_step = 0.5\n",
    "\n",
    "        # Set Solver Options\n",
    "        solver_parameters.max_iter = 1000\n",
    "        solver_parameters.Ncrit = 9\n",
    "        solver_parameters.xtr = (0.1, 0.2)\n",
    "        solver_parameters.print = False\n",
    "\n",
    "        xfoil.define_analysis(options, solver_parameters)\n",
    "        xfoil.print_analysis_options()\n",
    "\n",
    "        # RUN\n",
    "        xfoil.execute(parallel=False)\n",
    "        # Get polar\n",
    "        polar = DB.foils_db.get_polars(airf.name.upper(), \"Xfoil\")\n",
    "        polar.plot()"
   ]
  },
  {
   "cell_type": "code",
   "execution_count": 9,
   "metadata": {},
   "outputs": [
    {
     "name": "stderr",
     "output_type": "stream",
     "text": [
      "E:\\Icarus\\ICARUS\\airfoils\\airfoil_polars.py:429: UserWarning: No artists with labels found to put in legend.  Note that artists whose label start with an underscore are ignored when legend() is called with no argument.\n",
      "  ax.legend().remove()\n"
     ]
    }
   ],
   "source": [
    "polar = DB.foils_db.get_polars(airfoils_to_compute[1], \"Xfoil\")\n",
    "ax = polar.plot()"
   ]
  },
  {
   "attachments": {},
   "cell_type": "markdown",
   "metadata": {},
   "source": [
    "# Foil2Wake"
   ]
  },
  {
   "cell_type": "code",
   "execution_count": 10,
   "metadata": {},
   "outputs": [
    {
     "ename": "TypeError",
     "evalue": "type 'tqdm' is not subscriptable",
     "output_type": "error",
     "traceback": [
      "\u001b[1;31m---------------------------------------------------------------------------\u001b[0m",
      "\u001b[1;31mTypeError\u001b[0m                                 Traceback (most recent call last)",
      "Cell \u001b[1;32mIn[10], line 3\u001b[0m\n\u001b[0;32m      1\u001b[0m \u001b[38;5;28;01mif\u001b[39;00m calcF2W:\n\u001b[0;32m      2\u001b[0m     \u001b[38;5;66;03m# Import Solver\u001b[39;00m\n\u001b[1;32m----> 3\u001b[0m     \u001b[38;5;28;01mfrom\u001b[39;00m \u001b[38;5;21;01mICARUS\u001b[39;00m\u001b[38;5;21;01m.\u001b[39;00m\u001b[38;5;21;01mcomputation\u001b[39;00m\u001b[38;5;21;01m.\u001b[39;00m\u001b[38;5;21;01msolvers\u001b[39;00m\u001b[38;5;21;01m.\u001b[39;00m\u001b[38;5;21;01mFoil2Wake\u001b[39;00m\u001b[38;5;21;01m.\u001b[39;00m\u001b[38;5;21;01mf2w_section\u001b[39;00m \u001b[38;5;28;01mimport\u001b[39;00m Foil2Wake\n\u001b[0;32m      5\u001b[0m     f2w_s: Solver \u001b[38;5;241m=\u001b[39m Foil2Wake()\n\u001b[0;32m      7\u001b[0m     \u001b[38;5;28;01mfor\u001b[39;00m airfoil \u001b[38;5;129;01min\u001b[39;00m airfoils_to_compute:\n",
      "File \u001b[1;32mE:\\Icarus\\ICARUS\\computation\\solvers\\Foil2Wake\\f2w_section.py:5\u001b[0m\n\u001b[0;32m      1\u001b[0m \u001b[38;5;28;01mfrom\u001b[39;00m \u001b[38;5;21;01mICARUS\u001b[39;00m\u001b[38;5;21;01m.\u001b[39;00m\u001b[38;5;21;01mcomputation\u001b[39;00m\u001b[38;5;21;01m.\u001b[39;00m\u001b[38;5;21;01manalyses\u001b[39;00m\u001b[38;5;21;01m.\u001b[39;00m\u001b[38;5;21;01mairfoil_polar_analysis\u001b[39;00m \u001b[38;5;28;01mimport\u001b[39;00m (\n\u001b[0;32m      2\u001b[0m     BaseAirfoil_MultiReyn_PolarAnalysis,\n\u001b[0;32m      3\u001b[0m )\n\u001b[0;32m      4\u001b[0m \u001b[38;5;28;01mfrom\u001b[39;00m \u001b[38;5;21;01mICARUS\u001b[39;00m\u001b[38;5;21;01m.\u001b[39;00m\u001b[38;5;21;01mcomputation\u001b[39;00m\u001b[38;5;21;01m.\u001b[39;00m\u001b[38;5;21;01manalyses\u001b[39;00m\u001b[38;5;21;01m.\u001b[39;00m\u001b[38;5;21;01mairfoil_polar_analysis\u001b[39;00m \u001b[38;5;28;01mimport\u001b[39;00m BaseAirfoilPolarAnalysis\n\u001b[1;32m----> 5\u001b[0m \u001b[38;5;28;01mfrom\u001b[39;00m \u001b[38;5;21;01mICARUS\u001b[39;00m\u001b[38;5;21;01m.\u001b[39;00m\u001b[38;5;21;01mcomputation\u001b[39;00m\u001b[38;5;21;01m.\u001b[39;00m\u001b[38;5;21;01msolvers\u001b[39;00m\u001b[38;5;21;01m.\u001b[39;00m\u001b[38;5;21;01mFoil2Wake\u001b[39;00m\u001b[38;5;21;01m.\u001b[39;00m\u001b[38;5;21;01manalyses\u001b[39;00m\u001b[38;5;21;01m.\u001b[39;00m\u001b[38;5;21;01mangles\u001b[39;00m \u001b[38;5;28;01mimport\u001b[39;00m process_f2w_run\n\u001b[0;32m      6\u001b[0m \u001b[38;5;28;01mfrom\u001b[39;00m \u001b[38;5;21;01mICARUS\u001b[39;00m\u001b[38;5;21;01m.\u001b[39;00m\u001b[38;5;21;01mcomputation\u001b[39;00m\u001b[38;5;21;01m.\u001b[39;00m\u001b[38;5;21;01msolvers\u001b[39;00m\u001b[38;5;21;01m.\u001b[39;00m\u001b[38;5;21;01mFoil2Wake\u001b[39;00m\u001b[38;5;21;01m.\u001b[39;00m\u001b[38;5;21;01manalyses\u001b[39;00m\u001b[38;5;21;01m.\u001b[39;00m\u001b[38;5;21;01mangles\u001b[39;00m \u001b[38;5;28;01mimport\u001b[39;00m (\n\u001b[0;32m      7\u001b[0m     run_multiple_reynolds_parallel,\n\u001b[0;32m      8\u001b[0m )\n\u001b[0;32m      9\u001b[0m \u001b[38;5;28;01mfrom\u001b[39;00m \u001b[38;5;21;01mICARUS\u001b[39;00m\u001b[38;5;21;01m.\u001b[39;00m\u001b[38;5;21;01mcomputation\u001b[39;00m\u001b[38;5;21;01m.\u001b[39;00m\u001b[38;5;21;01msolvers\u001b[39;00m\u001b[38;5;21;01m.\u001b[39;00m\u001b[38;5;21;01mFoil2Wake\u001b[39;00m\u001b[38;5;21;01m.\u001b[39;00m\u001b[38;5;21;01manalyses\u001b[39;00m\u001b[38;5;21;01m.\u001b[39;00m\u001b[38;5;21;01mangles\u001b[39;00m \u001b[38;5;28;01mimport\u001b[39;00m (\n\u001b[0;32m     10\u001b[0m     run_multiple_reynolds_sequentially,\n\u001b[0;32m     11\u001b[0m )\n",
      "File \u001b[1;32mE:\\Icarus\\ICARUS\\computation\\solvers\\Foil2Wake\\analyses\\angles.py:13\u001b[0m\n\u001b[0;32m     11\u001b[0m \u001b[38;5;28;01mfrom\u001b[39;00m \u001b[38;5;21;01mICARUS\u001b[39;00m \u001b[38;5;28;01mimport\u001b[39;00m CPU_TO_USE\n\u001b[0;32m     12\u001b[0m \u001b[38;5;28;01mfrom\u001b[39;00m \u001b[38;5;21;01mICARUS\u001b[39;00m\u001b[38;5;21;01m.\u001b[39;00m\u001b[38;5;21;01mairfoils\u001b[39;00m\u001b[38;5;21;01m.\u001b[39;00m\u001b[38;5;21;01mairfoil\u001b[39;00m \u001b[38;5;28;01mimport\u001b[39;00m Airfoil\n\u001b[1;32m---> 13\u001b[0m \u001b[38;5;28;01mfrom\u001b[39;00m \u001b[38;5;21;01mICARUS\u001b[39;00m\u001b[38;5;21;01m.\u001b[39;00m\u001b[38;5;21;01mcomputation\u001b[39;00m\u001b[38;5;21;01m.\u001b[39;00m\u001b[38;5;21;01msolvers\u001b[39;00m\u001b[38;5;21;01m.\u001b[39;00m\u001b[38;5;21;01mFoil2Wake\u001b[39;00m\u001b[38;5;21;01m.\u001b[39;00m\u001b[38;5;21;01manalyses\u001b[39;00m\u001b[38;5;21;01m.\u001b[39;00m\u001b[38;5;21;01mmonitor_progress\u001b[39;00m \u001b[38;5;28;01mimport\u001b[39;00m (\n\u001b[0;32m     14\u001b[0m     parallel_monitor,\n\u001b[0;32m     15\u001b[0m )\n\u001b[0;32m     16\u001b[0m \u001b[38;5;28;01mfrom\u001b[39;00m \u001b[38;5;21;01mICARUS\u001b[39;00m\u001b[38;5;21;01m.\u001b[39;00m\u001b[38;5;21;01mcomputation\u001b[39;00m\u001b[38;5;21;01m.\u001b[39;00m\u001b[38;5;21;01msolvers\u001b[39;00m\u001b[38;5;21;01m.\u001b[39;00m\u001b[38;5;21;01mFoil2Wake\u001b[39;00m\u001b[38;5;21;01m.\u001b[39;00m\u001b[38;5;21;01manalyses\u001b[39;00m\u001b[38;5;21;01m.\u001b[39;00m\u001b[38;5;21;01mmonitor_progress\u001b[39;00m \u001b[38;5;28;01mimport\u001b[39;00m (\n\u001b[0;32m     17\u001b[0m     serial_monitor,\n\u001b[0;32m     18\u001b[0m )\n\u001b[0;32m     19\u001b[0m \u001b[38;5;28;01mfrom\u001b[39;00m \u001b[38;5;21;01mICARUS\u001b[39;00m\u001b[38;5;21;01m.\u001b[39;00m\u001b[38;5;21;01mcomputation\u001b[39;00m\u001b[38;5;21;01m.\u001b[39;00m\u001b[38;5;21;01msolvers\u001b[39;00m\u001b[38;5;21;01m.\u001b[39;00m\u001b[38;5;21;01mFoil2Wake\u001b[39;00m\u001b[38;5;21;01m.\u001b[39;00m\u001b[38;5;21;01mfiles_interface\u001b[39;00m \u001b[38;5;28;01mimport\u001b[39;00m sequential_run\n",
      "File \u001b[1;32mE:\\Icarus\\ICARUS\\computation\\solvers\\Foil2Wake\\analyses\\monitor_progress.py:14\u001b[0m\n\u001b[0;32m      9\u001b[0m \u001b[38;5;28;01mfrom\u001b[39;00m \u001b[38;5;21;01mICARUS\u001b[39;00m \u001b[38;5;28;01mimport\u001b[39;00m CPU_TO_USE\n\u001b[0;32m     10\u001b[0m \u001b[38;5;28;01mfrom\u001b[39;00m \u001b[38;5;21;01mICARUS\u001b[39;00m\u001b[38;5;21;01m.\u001b[39;00m\u001b[38;5;21;01mcomputation\u001b[39;00m\u001b[38;5;21;01m.\u001b[39;00m\u001b[38;5;21;01msolvers\u001b[39;00m\u001b[38;5;21;01m.\u001b[39;00m\u001b[38;5;21;01mFoil2Wake\u001b[39;00m\u001b[38;5;21;01m.\u001b[39;00m\u001b[38;5;21;01mpost_process\u001b[39;00m\u001b[38;5;21;01m.\u001b[39;00m\u001b[38;5;21;01mprogress\u001b[39;00m \u001b[38;5;28;01mimport\u001b[39;00m latest_time\n\u001b[0;32m     13\u001b[0m \u001b[38;5;28;01mdef\u001b[39;00m \u001b[38;5;21mserial_monitor\u001b[39m(\n\u001b[1;32m---> 14\u001b[0m     progress_bars: \u001b[38;5;28mlist\u001b[39m[\u001b[43mtqdm\u001b[49m\u001b[43m[\u001b[49m\u001b[43mNoReturn\u001b[49m\u001b[43m]\u001b[49m],\n\u001b[0;32m     15\u001b[0m     REYNDIR: \u001b[38;5;28mstr\u001b[39m,\n\u001b[0;32m     16\u001b[0m     reyn_str: \u001b[38;5;28mstr\u001b[39m,\n\u001b[0;32m     17\u001b[0m     name: \u001b[38;5;28mstr\u001b[39m,\n\u001b[0;32m     18\u001b[0m     position: \u001b[38;5;28mint\u001b[39m,\n\u001b[0;32m     19\u001b[0m     lock: Lock \u001b[38;5;241m|\u001b[39m \u001b[38;5;28;01mNone\u001b[39;00m,\n\u001b[0;32m     20\u001b[0m     max_iter: \u001b[38;5;28mint\u001b[39m,\n\u001b[0;32m     21\u001b[0m     last: \u001b[38;5;28mfloat\u001b[39m,\n\u001b[0;32m     22\u001b[0m     refresh_progress: \u001b[38;5;28mfloat\u001b[39m \u001b[38;5;241m=\u001b[39m \u001b[38;5;241m2\u001b[39m,\n\u001b[0;32m     23\u001b[0m ) \u001b[38;5;241m-\u001b[39m\u001b[38;5;241m>\u001b[39m \u001b[38;5;28;01mNone\u001b[39;00m:\n\u001b[0;32m     24\u001b[0m     sleep(\u001b[38;5;241m5\u001b[39m \u001b[38;5;241m+\u001b[39m (position \u001b[38;5;241m+\u001b[39m \u001b[38;5;241m1\u001b[39m) \u001b[38;5;241m/\u001b[39m \u001b[38;5;241m10\u001b[39m)\n\u001b[0;32m     25\u001b[0m     angle_prev: \u001b[38;5;28mfloat\u001b[39m \u001b[38;5;241m=\u001b[39m \u001b[38;5;241m0\u001b[39m\n",
      "\u001b[1;31mTypeError\u001b[0m: type 'tqdm' is not subscriptable"
     ]
    }
   ],
   "source": [
    "if calcF2W:\n",
    "    # Import Solver\n",
    "    from ICARUS.computation.solvers.Foil2Wake.f2w_section import Foil2Wake\n",
    "\n",
    "    f2w_s: Solver = Foil2Wake()\n",
    "\n",
    "    for airfoil in airfoils_to_compute:\n",
    "        print(f\"\\nRunning airfoil {airfoil}\\n\")\n",
    "        # Import Analysis\n",
    "        analysis: str = f2w_s.get_analyses_names()[1]  # Run\n",
    "        f2w_s.select_analysis(analysis)\n",
    "\n",
    "        # Get Options\n",
    "        options: Struct = f2w_s.get_analysis_options(verbose=False)\n",
    "        solver_parameters: Struct = f2w_s.get_solver_parameters()\n",
    "\n",
    "        # Set Options\n",
    "        options.airfoil = DB.get_airfoil(airfoil)\n",
    "        options.reynolds = reynolds\n",
    "        options.mach = MACH\n",
    "        options.angles = angles\n",
    "\n",
    "        solver_parameters.f_trip_upper = 0.03\n",
    "        solver_parameters.f_trip_low = 0.1\n",
    "\n",
    "        # RUN\n",
    "        f2w_s.define_analysis(options, solver_parameters)\n",
    "        f2w_s.print_analysis_options()\n",
    "        f2w_s.execute(parallel=True)\n",
    "\n",
    "        # Get Results\n",
    "        polars = f2w_s.get_results()"
   ]
  },
  {
   "cell_type": "code",
   "execution_count": null,
   "metadata": {},
   "outputs": [],
   "source": [
    "print(airfoils_to_compute[1])\n",
    "DB.foils_db.polars[airfoils_to_compute[1]]"
   ]
  },
  {
   "attachments": {},
   "cell_type": "markdown",
   "metadata": {},
   "source": [
    "# Mapflow"
   ]
  },
  {
   "cell_type": "code",
   "execution_count": null,
   "metadata": {},
   "outputs": [],
   "source": [
    "# Not Implemented"
   ]
  },
  {
   "cell_type": "markdown",
   "metadata": {},
   "source": [
    "# OpenFoam (NOT HIGH MACH)"
   ]
  },
  {
   "cell_type": "code",
   "execution_count": null,
   "metadata": {},
   "outputs": [],
   "source": [
    "if calcOpenFoam:\n",
    "    airfoils_to_compute: list[str] = [airf.name]  # [\"0008\"]\n",
    "    from ICARUS.computation.solvers.OpenFoam.open_foam import OpenFoam\n",
    "\n",
    "    for airfoil in airfoils_to_compute:\n",
    "        print(f\"\\nRunning airfoil {airfoil}\\n\")\n",
    "        # # Get Airfoil\n",
    "        airf: Airfoil = Airfoil.naca(airfoil, n_points=200)\n",
    "        # airf.plot()\n",
    "        open_foam: Solver = OpenFoam()\n",
    "\n",
    "        # Import Analysis\n",
    "        analysis: str = open_foam.get_analyses_names()[0]  # Run\n",
    "        open_foam.select_analysis(analysis)\n",
    "\n",
    "        # Get Options\n",
    "        options = open_foam.get_analysis_options(verbose=True)\n",
    "        solver_parameters = open_foam.get_solver_parameters()\n",
    "\n",
    "        # Set Options\n",
    "        options.airfoil = airf\n",
    "        options.angles = angles\n",
    "        options.reynolds = REYN\n",
    "        options.mach = MACH\n",
    "        open_foam.print_analysis_options()\n",
    "\n",
    "        # Set Solver Options\n",
    "        solver_parameters.mesh_type = MeshType.structAirfoilMesher\n",
    "        solver_parameters.max_iterations = 20\n",
    "        solver_parameters.silent = False\n",
    "\n",
    "        # RUN\n",
    "        open_foam.set_analysis_options(options)\n",
    "        open_foam.print_analysis_options()\n",
    "        open_foam.execute()"
   ]
  }
 ],
 "metadata": {
  "kernelspec": {
   "display_name": "aero",
   "language": "python",
   "name": "python3"
  },
  "language_info": {
   "codemirror_mode": {
    "name": "ipython",
    "version": 3
   },
   "file_extension": ".py",
   "mimetype": "text/x-python",
   "name": "python",
   "nbconvert_exporter": "python",
   "pygments_lexer": "ipython3",
   "version": "3.13.1"
  },
  "vscode": {
   "interpreter": {
    "hash": "8acd08952dc410be23279ea6eab1a080d514a48a01ad47827aa392f9fbd61ae4"
   }
  }
 },
 "nbformat": 4,
 "nbformat_minor": 2
}
