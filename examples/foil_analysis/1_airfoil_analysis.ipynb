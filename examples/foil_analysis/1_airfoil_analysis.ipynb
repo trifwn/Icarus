{
 "cells": [
  {
   "cell_type": "markdown",
   "metadata": {},
   "source": [
    "# Airfoil Analysis Notebook"
   ]
  },
  {
   "cell_type": "markdown",
   "metadata": {},
   "source": [
    "## Setup"
   ]
  },
  {
   "cell_type": "code",
   "execution_count": null,
   "metadata": {},
   "outputs": [],
   "source": [
    "%load_ext autoreload\n",
    "%autoreload 2\n",
    "%matplotlib qt"
   ]
  },
  {
   "cell_type": "code",
   "execution_count": null,
   "metadata": {},
   "outputs": [],
   "source": [
    "import numpy as np\n",
    "\n",
    "from ICARUS.core.units import calc_mach, calc_reynolds\n",
    "from ICARUS.airfoils import Airfoil\n",
    "from ICARUS.core.base_types import Struct\n",
    "from ICARUS.computation.solvers import Solver\n",
    "from ICARUS.computation.solvers.OpenFoam.files.setup_case import MeshType"
   ]
  },
  {
   "cell_type": "markdown",
   "metadata": {},
   "source": [
    "# Load DB"
   ]
  },
  {
   "cell_type": "code",
   "execution_count": null,
   "metadata": {},
   "outputs": [],
   "source": [
    "from ICARUS.database import Database\n",
    "\n",
    "# CHANGE THIS TO YOUR DATABASE FOLDER\n",
    "database_folder = \"E:\\\\Icarus\\\\Data\"\n",
    "\n",
    "# Load the database\n",
    "DB = Database(database_folder)\n",
    "DB.load_all_data()"
   ]
  },
  {
   "cell_type": "code",
   "execution_count": null,
   "metadata": {},
   "outputs": [],
   "source": [
    "print(f\"Total number of loaded airfoils {len(list(DB.airfoils.keys()))}\")\n",
    "print(\n",
    "    f\"Total number of computed airfoil data {len(list(DB.foils_db._raw_data.keys()))}\"\n",
    ")\n",
    "print(f\"Total number of computed airfoil polars {len(list(DB.airfoil_polars.keys()))}\")"
   ]
  },
  {
   "attachments": {},
   "cell_type": "markdown",
   "metadata": {},
   "source": [
    "# Reynolds And Mach and AoA"
   ]
  },
  {
   "cell_type": "code",
   "execution_count": null,
   "metadata": {},
   "outputs": [],
   "source": [
    "# Assumptions\n",
    "chord_max: float = 0.5\n",
    "chord_min: float = 0.1\n",
    "u_max: float = 35.0\n",
    "u_min: float = 5.0\n",
    "viscosity: float = 1.56e-5\n",
    "speed_of_sound: float = 340.3\n",
    "\n",
    "# MACH ESTIMATION\n",
    "mach_min: float = calc_mach(10, speed_of_sound)\n",
    "mach_max: float = calc_mach(30, speed_of_sound)\n",
    "mach = np.linspace(mach_max, mach_min, 10)\n",
    "MACH: float = mach_max\n",
    "print(f\"Mach range: {mach_min} - {mach_max}\")\n",
    "print(f\"Mach:\\n{mach}\\n\")\n",
    "\n",
    "# REYNOLDS ESTIMATION\n",
    "reynolds_max: float = calc_reynolds(u_max, chord_max, viscosity)\n",
    "reynolds_min: float = calc_reynolds(u_min, chord_min, viscosity)\n",
    "reynolds = np.linspace(reynolds_min, reynolds_max, 20)\n",
    "# reynolds = [1e5, 10e6]\n",
    "\n",
    "REYN = reynolds_max\n",
    "print(f\"Reynolds range: {reynolds_min} - {reynolds_max}\")\n",
    "print(f\"Re:\\n{reynolds}\\n\")\n",
    "# ANGLE OF ATTACK SETUP\n",
    "aoa_max: float = 12\n",
    "aoa_min: float = -10\n",
    "num_of_angles: float = (aoa_max - aoa_min) * 2 + 1\n",
    "angles = np.linspace(\n",
    "    start=aoa_min,\n",
    "    stop=aoa_max,\n",
    "    num=num_of_angles,\n",
    ")\n",
    "\n",
    "print(f\"Angles of attack:\\n{angles}\\n\")\n",
    "\n",
    "ftrip_low: dict[str, float] = {\"pos\": 0.1, \"neg\": 0.2}\n",
    "ftrip_up: dict[str, float] = {\"pos\": 0.2, \"neg\": 0.1}"
   ]
  },
  {
   "cell_type": "code",
   "execution_count": null,
   "metadata": {},
   "outputs": [],
   "source": [
    "cleaning = False\n",
    "calcF2W = True\n",
    "calcOpenFoam = False\n",
    "calcXFoil = True"
   ]
  },
  {
   "attachments": {},
   "cell_type": "markdown",
   "metadata": {},
   "source": [
    "# Get Airfoils"
   ]
  },
  {
   "cell_type": "code",
   "execution_count": null,
   "metadata": {},
   "outputs": [],
   "source": [
    "all_airfoils = list(DB.airfoils.keys())\n",
    "\n",
    "airfoils_to_compute = [\n",
    "    airfoil\n",
    "    for airfoil in all_airfoils\n",
    "    if (\n",
    "        # airfoil.upper().startswith(\"AG\")  # or\n",
    "        # airfoil.upper().startswith('CLARK') or\n",
    "        # airfoil.upper().startswith('DAE') or\n",
    "        # airfoil.upper().startswith('E') or\n",
    "        # airfoil.upper().startswith('H') or\n",
    "        # airfoil.upper().startswith('M') or\n",
    "        # airfoil.upper().startswith('N') or\n",
    "        # airfoil.upper().startswith('O') or\n",
    "        # airfoil.upper().startswith('W')\n",
    "    )\n",
    "]\n",
    "airfoils_to_compute = [\"NACA4415\", \"NACA4412\"]\n",
    "print(len(airfoils_to_compute))"
   ]
  },
  {
   "attachments": {},
   "cell_type": "markdown",
   "metadata": {},
   "source": [
    "# Xfoil"
   ]
  },
  {
   "cell_type": "code",
   "execution_count": null,
   "metadata": {},
   "outputs": [],
   "source": [
    "if calcXFoil:\n",
    "    from ICARUS.computation.solvers.Xfoil.xfoil import Xfoil\n",
    "\n",
    "    for airfoil in airfoils_to_compute:\n",
    "        print(f\"\\nRunning airfoil {airfoil}\\n\")\n",
    "        # # Get airfoil\n",
    "        airf: Airfoil = DB.get_airfoil(airfoil)\n",
    "        # airf.plot(scatter=True)\n",
    "        # airf.repanel(120, distribution=\"cosine\")\n",
    "        xfoil: Solver = Xfoil()\n",
    "\n",
    "        # Import Analysis\n",
    "        analysis: str = xfoil.get_analyses_names()[1]  # Run\n",
    "        xfoil.select_analysis(analysis)\n",
    "\n",
    "        # Get Options\n",
    "        options = xfoil.get_analysis_options(verbose=False)\n",
    "        solver_parameters = xfoil.get_solver_parameters()\n",
    "\n",
    "        # Set Options\n",
    "        options.airfoil = airf\n",
    "        options.mach = MACH\n",
    "        options.reynolds = reynolds\n",
    "        options.min_aoa = aoa_min\n",
    "        options.max_aoa = aoa_max\n",
    "        options.aoa_step = 0.5\n",
    "\n",
    "        # Set Solver Options\n",
    "        solver_parameters.max_iter = 1000\n",
    "        solver_parameters.Ncrit = 9\n",
    "        solver_parameters.xtr = (0.1, 0.2)\n",
    "        solver_parameters.print = False\n",
    "\n",
    "        xfoil.define_analysis(options, solver_parameters)\n",
    "        xfoil.print_analysis_options()\n",
    "\n",
    "        # RUN\n",
    "        xfoil.execute(parallel=False)\n",
    "        # Get polar\n",
    "        polar = DB.get_airfoil_polars(airf, \"Xfoil\")\n",
    "        polar.plot()"
   ]
  },
  {
   "cell_type": "code",
   "execution_count": null,
   "metadata": {},
   "outputs": [],
   "source": [
    "polar = DB.get_airfoil_polars(airfoils_to_compute[1], \"Xfoil\")\n",
    "ax = polar.plot()"
   ]
  },
  {
   "attachments": {},
   "cell_type": "markdown",
   "metadata": {},
   "source": [
    "# Foil2Wake"
   ]
  },
  {
   "cell_type": "code",
   "execution_count": null,
   "metadata": {},
   "outputs": [],
   "source": [
    "if calcF2W:\n",
    "    # Import Solver\n",
    "    from ICARUS.computation.solvers.Foil2Wake.f2w_section import Foil2Wake\n",
    "\n",
    "    f2w_s: Solver = Foil2Wake()\n",
    "\n",
    "    for airfoil in airfoils_to_compute:\n",
    "        print(f\"\\nRunning airfoil {airfoil}\\n\")\n",
    "        # Import Analysis\n",
    "        analysis: str = f2w_s.get_analyses_names()[1]  # Run\n",
    "        f2w_s.select_analysis(analysis)\n",
    "\n",
    "        # Get Options\n",
    "        options: Struct = f2w_s.get_analysis_options(verbose=False)\n",
    "        solver_parameters: Struct = f2w_s.get_solver_parameters()\n",
    "\n",
    "        # Set Options\n",
    "        options.airfoil = DB.get_airfoil(airfoil)\n",
    "        options.reynolds = reynolds\n",
    "        options.mach = MACH\n",
    "        options.angles = angles\n",
    "\n",
    "        solver_parameters.f_trip_upper = 0.03\n",
    "        solver_parameters.f_trip_low = 0.1\n",
    "\n",
    "        # RUN\n",
    "        f2w_s.define_analysis(options, solver_parameters)\n",
    "        f2w_s.print_analysis_options()\n",
    "        f2w_s.execute(parallel=True)\n",
    "\n",
    "        # Get Results\n",
    "        polars = f2w_s.get_results()"
   ]
  },
  {
   "attachments": {},
   "cell_type": "markdown",
   "metadata": {},
   "source": [
    "# Mapflow"
   ]
  },
  {
   "cell_type": "code",
   "execution_count": null,
   "metadata": {},
   "outputs": [],
   "source": [
    "# Not Implemented"
   ]
  },
  {
   "cell_type": "markdown",
   "metadata": {},
   "source": [
    "# OpenFoam (NOT HIGH MACH)"
   ]
  },
  {
   "cell_type": "code",
   "execution_count": null,
   "metadata": {},
   "outputs": [],
   "source": [
    "if calcOpenFoam:\n",
    "    airfoils_to_compute: list[str] = [airf.name]  # [\"0008\"]\n",
    "    from ICARUS.computation.solvers.OpenFoam.open_foam import OpenFoam\n",
    "\n",
    "    for airfoil in airfoils_to_compute:\n",
    "        print(f\"\\nRunning airfoil {airfoil}\\n\")\n",
    "        # # Get Airfoil\n",
    "        airf: Airfoil = Airfoil.naca(airfoil, n_points=200)\n",
    "        # airf.plot()\n",
    "        open_foam: Solver = OpenFoam()\n",
    "\n",
    "        # Import Analysis\n",
    "        analysis: str = open_foam.get_analyses_names()[0]  # Run\n",
    "        open_foam.select_analysis(analysis)\n",
    "\n",
    "        # Get Options\n",
    "        options = open_foam.get_analysis_options(verbose=True)\n",
    "        solver_parameters = open_foam.get_solver_parameters()\n",
    "\n",
    "        # Set Options\n",
    "        options.airfoil = airf\n",
    "        options.angles = angles\n",
    "        options.reynolds = REYN\n",
    "        options.mach = MACH\n",
    "        open_foam.print_analysis_options()\n",
    "\n",
    "        # Set Solver Options\n",
    "        solver_parameters.mesh_type = MeshType.structAirfoilMesher\n",
    "        solver_parameters.max_iterations = 20\n",
    "        solver_parameters.silent = False\n",
    "\n",
    "        # RUN\n",
    "        open_foam.set_analysis_options(options)\n",
    "        open_foam.print_analysis_options()\n",
    "        open_foam.execute()"
   ]
  }
 ],
 "metadata": {
  "kernelspec": {
   "display_name": "aero",
   "language": "python",
   "name": "python3"
  },
  "language_info": {
   "codemirror_mode": {
    "name": "ipython",
    "version": 3
   },
   "file_extension": ".py",
   "mimetype": "text/x-python",
   "name": "python",
   "nbconvert_exporter": "python",
   "pygments_lexer": "ipython3",
   "version": "3.13.1"
  },
  "vscode": {
   "interpreter": {
    "hash": "8acd08952dc410be23279ea6eab1a080d514a48a01ad47827aa392f9fbd61ae4"
   }
  }
 },
 "nbformat": 4,
 "nbformat_minor": 2
}
