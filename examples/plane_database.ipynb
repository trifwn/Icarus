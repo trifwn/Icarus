{
 "cells": [
  {
   "cell_type": "code",
   "execution_count": null,
   "metadata": {},
   "outputs": [],
   "source": [
    "%load_ext autoreload\n",
    "%autoreload 2\n",
    "%matplotlib qt"
   ]
  },
  {
   "cell_type": "code",
   "execution_count": null,
   "metadata": {},
   "outputs": [],
   "source": [
    "from ICARUS.database import DB\n",
    "from ICARUS.database.database3D import Database_3D\n",
    "from time import sleep"
   ]
  },
  {
   "attachments": {},
   "cell_type": "markdown",
   "metadata": {},
   "source": [
    "# Open Database"
   ]
  },
  {
   "cell_type": "code",
   "execution_count": null,
   "metadata": {},
   "outputs": [],
   "source": [
    "db3d: Database_3D = DB.vehicles_db\n",
    "db3d.load_data()"
   ]
  },
  {
   "attachments": {},
   "cell_type": "markdown",
   "metadata": {},
   "source": [
    "### Select Plane"
   ]
  },
  {
   "cell_type": "code",
   "execution_count": null,
   "metadata": {},
   "outputs": [],
   "source": [
    "planenames: list[str] = db3d.get_planenames()\n",
    "for i, planename in enumerate(planenames):\n",
    "    print(f\"{i} : `{planename}\") \n",
    "sleep(1)\n",
    "\n",
    "indexes = [0]# range(0,len(planenames))\n",
    "print(len(planenames))\n",
    "plane = db3d.planes[planenames[indexes[0]]]\n",
    "# dynplane = db3d.dyn_planes[planenames[index]]\n",
    "planenames = [planenames[i] for i in indexes]"
   ]
  },
  {
   "attachments": {},
   "cell_type": "markdown",
   "metadata": {},
   "source": [
    "# Add XFLR Polars"
   ]
  },
  {
   "cell_type": "code",
   "execution_count": null,
   "metadata": {},
   "outputs": [],
   "source": [
    "from ICARUS.computation.solvers.XFLR5.polars import read_polars_3d\n",
    "from ICARUS.database import EXTERNAL_DB\n",
    "for name in planenames:\n",
    "    if name.startswith(\"XFLR\"):\n",
    "        continue\n",
    "\n",
    "    if f\"XFLR_{name}\" not in planenames: \n",
    "        try:\n",
    "            import os\n",
    "            XFLR5PLANEDIR: str = os.path.join(EXTERNAL_DB,f\"{name}.txt\")\n",
    "            read_polars_3d(XFLR5PLANEDIR, name)\n",
    "            print(f\"Imported XFLR polar for {name}\")\n",
    "            planenames.append(f\"XFLR_{name}\")\n",
    "        except FileNotFoundError:\n",
    "            print(f\"No XFLR polar found for {name}\")\n",
    "            pass\n",
    "        "
   ]
  },
  {
   "attachments": {},
   "cell_type": "markdown",
   "metadata": {},
   "source": [
    "# Airplane Visualization"
   ]
  },
  {
   "cell_type": "code",
   "execution_count": null,
   "metadata": {},
   "outputs": [],
   "source": [
    "# plane.visualize()"
   ]
  },
  {
   "attachments": {},
   "cell_type": "markdown",
   "metadata": {},
   "source": [
    "# Polars"
   ]
  },
  {
   "cell_type": "code",
   "execution_count": null,
   "metadata": {},
   "outputs": [],
   "source": [
    "from ICARUS.visualization.airplane.db_polars import plot_airplane_polars \n",
    "DB.vehicles_db.load_data()\n",
    "solvers = [\n",
    "            #  \"GenuVP3 Potential\",\n",
    "            #  \"GenuVP3 2D\", \n",
    "            # \"GNVP3 ONERA\",\n",
    "            # \"GNVP7 Potential\",\n",
    "            # \"GNVP7 2D\",\n",
    "            #  \"LSPT Potential\",\n",
    "            # \"LSPT 2D\",/'/\n",
    "            \"AVL\"\n",
    "        ]\n",
    "axs, fig = plot_airplane_polars(\n",
    "    planenames,\n",
    "    solvers,\n",
    "    plots = [[\"AoA\", \"CL\"], [\"AoA\", \"CD\"], [\"AoA\", \"Cm\"]],\n",
    "    size=(6,7),\n",
    ")"
   ]
  },
  {
   "cell_type": "code",
   "execution_count": null,
   "metadata": {},
   "outputs": [],
   "source": [
    "from ICARUS.visualization.airplane.cg_investigation import cg_investigation\n",
    "\n",
    "cg_investigation(\n",
    "    planenames[0],\n",
    "    solvers,\n",
    "    size=(10,7),\n",
    ")"
   ]
  },
  {
   "attachments": {},
   "cell_type": "markdown",
   "metadata": {},
   "source": [
    "# Case Convergence"
   ]
  },
  {
   "cell_type": "code",
   "execution_count": null,
   "metadata": {},
   "outputs": [],
   "source": [
    "from ICARUS.visualization.airplane.gnvp_convergence import plot_convergence"
   ]
  },
  {
   "cell_type": "code",
   "execution_count": null,
   "metadata": {},
   "outputs": [],
   "source": [
    "angles2show = [0.]# All\n",
    "# Only Works for unsteady solvers: LSPT, GNVP3, GNVP7\n",
    "plot_convergence(\n",
    "    plane.name,\n",
    "    angles = angles2show,\n",
    "    solvers= [\"All\"],\n",
    "    plot_error = False,\n",
    "    size=(16,7)\n",
    ")"
   ]
  },
  {
   "attachments": {},
   "cell_type": "markdown",
   "metadata": {},
   "source": [
    "# Wake Visualization"
   ]
  },
  {
   "cell_type": "code",
   "execution_count": null,
   "metadata": {},
   "outputs": [],
   "source": [
    "from ICARUS.visualization.airplane.gnvp_wake import plot_gnvp_wake\n",
    "from ICARUS.database.utils  import angle_to_case"
   ]
  },
  {
   "cell_type": "code",
   "execution_count": null,
   "metadata": {},
   "outputs": [],
   "source": [
    "CASE: str = angle_to_case(0.)\n",
    "plane = db3d.planes[plane.name]\n",
    "# plane = db3d.planes['bmark']\n",
    "# plane.visualize()\n",
    "plot_gnvp_wake(3,plane, CASE, scale = True)"
   ]
  },
  {
   "attachments": {},
   "cell_type": "markdown",
   "metadata": {},
   "source": [
    " # Loads Visualization"
   ]
  },
  {
   "cell_type": "code",
   "execution_count": null,
   "metadata": {},
   "outputs": [],
   "source": [
    "from ICARUS.visualization.airplane.gnvp_strips import gnvp_strips_2d, gnvp_strips_3d\n",
    "NBs = [i+1 for i in range(len(plane.surfaces))]\n",
    "print(plane)\n",
    "print(\"NBs to Visualize: \",NBs)\n",
    "\n",
    "stripData = gnvp_strips_2d(plane,CASE, NBs[0], category= 'Wind')"
   ]
  },
  {
   "attachments": {},
   "cell_type": "markdown",
   "metadata": {},
   "source": [
    "# Dynamics"
   ]
  },
  {
   "cell_type": "code",
   "execution_count": null,
   "metadata": {},
   "outputs": [],
   "source": [
    "states = db3d.states['bmark']\n",
    "for i,name in enumerate(states):\n",
    "    print(f\"{i}: {name}\")"
   ]
  },
  {
   "cell_type": "code",
   "execution_count": null,
   "metadata": {},
   "outputs": [],
   "source": [
    "db3d.states['bmark']"
   ]
  },
  {
   "cell_type": "code",
   "execution_count": null,
   "metadata": {},
   "outputs": [],
   "source": [
    "from ICARUS.flight_dynamics.state import State\n",
    "\n",
    "state: State = states['plane_1']\n",
    "state.stability_fd()\n",
    "print(state)\n",
    "state.plot_eigenvalues()"
   ]
  },
  {
   "cell_type": "code",
   "execution_count": null,
   "metadata": {},
   "outputs": [],
   "source": [
    "state.state_space"
   ]
  }
 ],
 "metadata": {
  "kernelspec": {
   "display_name": "aero",
   "language": "python",
   "name": "python3"
  },
  "language_info": {
   "codemirror_mode": {
    "name": "ipython",
    "version": 3
   },
   "file_extension": ".py",
   "mimetype": "text/x-python",
   "name": "python",
   "nbconvert_exporter": "python",
   "pygments_lexer": "ipython3",
   "version": "3.12.0"
  }
 },
 "nbformat": 4,
 "nbformat_minor": 2
}
