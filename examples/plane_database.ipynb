{
 "cells": [
  {
   "cell_type": "code",
   "execution_count": null,
   "metadata": {},
   "outputs": [],
   "source": [
    "%load_ext autoreload\n",
    "%autoreload 2\n",
    "%matplotlib qt"
   ]
  },
  {
   "cell_type": "code",
   "execution_count": null,
   "metadata": {},
   "outputs": [],
   "source": [
    "from ICARUS.environment import EARTH_ISA"
   ]
  },
  {
   "cell_type": "code",
   "execution_count": null,
   "metadata": {},
   "outputs": [],
   "source": [
    "from ICARUS.database import Database\n",
    "\n",
    "# CHANGE THIS TO YOUR DATABASE FOLDER\n",
    "database_folder = \"E:\\\\Icarus\\\\Data\"\n",
    "\n",
    "# Load the database\n",
    "DB = Database(database_folder)\n",
    "EXTERNAL_DB = DB.EXTERNAL_DB"
   ]
  },
  {
   "attachments": {},
   "cell_type": "markdown",
   "metadata": {},
   "source": [
    "# Open Database"
   ]
  },
  {
   "cell_type": "code",
   "execution_count": null,
   "metadata": {},
   "outputs": [],
   "source": [
    "DB.vehicles_db.load_all_data()\n",
    "DB.get_vehicle('hermes').plot()"
   ]
  },
  {
   "attachments": {},
   "cell_type": "markdown",
   "metadata": {},
   "source": [
    "### Select Plane"
   ]
  },
  {
   "cell_type": "code",
   "execution_count": null,
   "metadata": {},
   "outputs": [],
   "source": [
    "planenames: list[str] = DB.get_vehicle_names()\n",
    "for i, planename in enumerate(planenames):\n",
    "    print(f\"{i} : `{planename}\")\n"
   ]
  },
  {
   "cell_type": "code",
   "execution_count": null,
   "metadata": {},
   "outputs": [],
   "source": [
    "from ICARUS.flight_dynamics import State\n",
    "\n",
    "plane = DB.get_vehicle(\"benchmark\")\n",
    "states = DB.get_vehicle_states(plane)\n",
    "for i, state_name in enumerate(states.keys()):\n",
    "    print(f\"{i} : `{state_name}\")\n",
    "state: State = states['Unstick_GenuVP3']"
   ]
  },
  {
   "attachments": {},
   "cell_type": "markdown",
   "metadata": {},
   "source": [
    "# Add XFLR Polars"
   ]
  },
  {
   "cell_type": "code",
   "execution_count": null,
   "metadata": {},
   "outputs": [],
   "source": [
    "from ICARUS.computation.solvers.XFLR5.polars import read_XFLR5_polars\n",
    "EXTERNAL_DB = DB.EXTERNAL_DB\n",
    "\n",
    "for name in planenames:\n",
    "    try:\n",
    "        import os\n",
    "        filename: str = os.path.join(EXTERNAL_DB, f\"{name}_XFLR5_Viscous.txt\")\n",
    "        pol = read_XFLR5_polars(filename, name)\n",
    "        print(f\"Imported XFLR polar for {name}\")\n",
    "    except FileNotFoundError:\n",
    "        print(f\"No XFLR polar found for {name}\")\n",
    "        pass"
   ]
  },
  {
   "attachments": {},
   "cell_type": "markdown",
   "metadata": {},
   "source": [
    "# Airplane Visualization"
   ]
  },
  {
   "cell_type": "code",
   "execution_count": null,
   "metadata": {},
   "outputs": [],
   "source": [
    "# plane.plot()"
   ]
  },
  {
   "attachments": {},
   "cell_type": "markdown",
   "metadata": {},
   "source": [
    "# Polars"
   ]
  },
  {
   "cell_type": "code",
   "execution_count": null,
   "metadata": {},
   "outputs": [],
   "source": [
    "state.airplane.name"
   ]
  },
  {
   "cell_type": "code",
   "execution_count": null,
   "metadata": {},
   "outputs": [],
   "source": [
    "from ICARUS.visualization.airplane import plot_airplane_polars\n",
    "\n",
    "DB.vehicles_db.load_all_data()\n",
    "solvers = [\n",
    "    \"GenuVP3 Potential\",\n",
    "     \"GenuVP3 2D\",\n",
    "    # \"GNVP3 ONERA\",\n",
    "    \"GenuVP7 Potential\",\n",
    "    \"GenuVP7 2D\",\n",
    "    # \"GenuVP7 ONERA\",\n",
    "    #  \"LSPT Potential\",\n",
    "    # \"LSPT 2D\",/'/\n",
    "    \"AVL\",\n",
    "    \"XFLR5\"\n",
    "]\n",
    "axs, fig = plot_airplane_polars(\n",
    "    # planenames[1:],\n",
    "    # [planename for planename in planenames if planename.startswith('hermes')],\n",
    "    # ['hermes'],\n",
    "    # [planename for planename in DB.get_vehicle_names() if planename.startswith('benchmark')],\n",
    "    'benchmark',\n",
    "    solvers,\n",
    "    plots=[[\"AoA\", \"CL\"], [\"AoA\", \"CD\"], [\"AoA\", \"Cm\"], [\"AoA\", \"CL/CD\"]],  \n",
    "    size=(6, 7),\n",
    ")"
   ]
  },
  {
   "cell_type": "code",
   "execution_count": null,
   "metadata": {},
   "outputs": [],
   "source": [
    "fig, axs = state.plot_polars(dimensional=True)"
   ]
  },
  {
   "cell_type": "code",
   "execution_count": null,
   "metadata": {},
   "outputs": [],
   "source": [
    "state.change_polar_prefix('GenuVP3 Potential')\n",
    "state.print_trim()"
   ]
  },
  {
   "cell_type": "code",
   "execution_count": null,
   "metadata": {},
   "outputs": [],
   "source": [
    "from ICARUS.environment import EARTH_ISA\n",
    "import distinctipy\n",
    "\n",
    "axs, fig = plot_airplane_polars(\n",
    "    plane.name,\n",
    "    solvers,\n",
    "    plots=[[\"AoA\", \"CL\"]],\n",
    "    size=(6, 7),\n",
    ")\n",
    "\n",
    "u_inf = 20\n",
    "rho = EARTH_ISA.air_density\n",
    "q_inf = 0.5 * rho * u_inf ** 2\n",
    "visc = EARTH_ISA.air_dynamic_viscosity\n",
    "sim_reyn = rho * u_inf * plane.main_wing.mean_aerodynamic_chord / visc\n",
    "\n",
    "axs = axs.flatten()\n",
    "airfoil = plane.airfoils[0]\n",
    "airfoil = DB.get_airfoil(airfoil)\n",
    "polar = DB.get_airfoil_polars(airfoil.name)\n",
    "\n",
    "correction_factor = 1 + 2 / (plane.aspect_ratio)\n",
    "print(correction_factor)\n",
    "\n",
    "# reynolds_nums = polar.reynolds_nums[::4]\n",
    "reynolds_nums = [polar.reynolds_nums[i] for i in [0,  10, -3]]\n",
    "\n",
    "colors = distinctipy.get_colors(len(reynolds_nums))\n",
    "for i, reyn in enumerate(reynolds_nums):\n",
    "    df = polar.get_reynolds_subtable(reyn)\n",
    "    cl = df['CL'] \n",
    "    cl3d = cl / correction_factor\n",
    "    aoa = df['AoA'] - plane.main_wing.orientation[0]\n",
    "    # Set opacity to 0.5\n",
    "    axs[0].plot(aoa, cl, label=f'{airfoil.name} {reyn:,}', alpha=0.8, linestyle = '--', color=colors[i], linewidth=1)\n",
    "\n",
    "# Clear all previous legends\n",
    "fig.legend([], [], loc=\"lower right\", ncol=2)\n",
    "fig.suptitle(f\"{airfoil.name} Cl vs AoA at Re = {sim_reyn:.2e}\")\n",
    "# Get the figure legend\n",
    "legend = fig.legends[0]\n",
    "legend.remove()\n",
    "\n",
    "handles, labels = axs[0].get_legend_handles_labels()\n",
    "axs[0].legend(handles, labels, loc=\"best\", ncol=2)\n",
    "fig.show()\n"
   ]
  },
  {
   "cell_type": "code",
   "execution_count": null,
   "metadata": {},
   "outputs": [],
   "source": [
    "# from ICARUS.visualization.airplane import cg_investigation\n",
    "\n",
    "# cg_investigation(\n",
    "#     planenames[0],\n",
    "#     solvers,\n",
    "#     size=(10, 7),\n",
    "# )"
   ]
  },
  {
   "attachments": {},
   "cell_type": "markdown",
   "metadata": {},
   "source": [
    "# Case Convergence"
   ]
  },
  {
   "cell_type": "code",
   "execution_count": null,
   "metadata": {},
   "outputs": [],
   "source": [
    "from ICARUS.visualization.gnvp import plot_case_transient\n",
    "angles2show = [0.0]  # All\n",
    "# Only Works for unsteady solvers: GNVP3, GNVP7\n",
    "plot_case_transient(\n",
    "    plane.name, cases= angles2show, metrics=[\"All\"], plot_error=False, size=(16, 7)\n",
    ")"
   ]
  },
  {
   "attachments": {},
   "cell_type": "markdown",
   "metadata": {},
   "source": [
    "# Wake Visualization"
   ]
  },
  {
   "cell_type": "code",
   "execution_count": null,
   "metadata": {},
   "outputs": [],
   "source": [
    "from ICARUS.visualization.gnvp import plot_gnvp_wake\n",
    "from ICARUS.database import angle_to_case\n",
    "CASE: str = angle_to_case(4.0)\n",
    "plot_gnvp_wake(3, plane, state, CASE, scale=True)"
   ]
  },
  {
   "attachments": {},
   "cell_type": "markdown",
   "metadata": {},
   "source": [
    " # Loads Visualization"
   ]
  },
  {
   "cell_type": "code",
   "execution_count": null,
   "metadata": {},
   "outputs": [],
   "source": [
    "from ICARUS.visualization.gnvp import plot_gnvp_strip_data_2D, plot_gnvp_strip_data_3D\n",
    "CASE: str = angle_to_case(0.0)\n",
    "\n",
    "NBs = [i + 1 for i in range(len(plane.surfaces))]\n",
    "print(plane)\n",
    "print(\"NBs to Visualize: \", NBs)\n",
    "\n",
    "strip_data = plot_gnvp_strip_data_2D(plane, state, CASE, [NBs[0]], gnvp_version= 3, category=\"Wind\")\n",
    "# stripData = plot_gnvp_strip_data_3D(plane, state, CASE, [*NBs], gnvp_version= 3, category=\"FSTRDS2DL(3, IST) / ALSPAN(IST)\")"
   ]
  },
  {
   "attachments": {},
   "cell_type": "markdown",
   "metadata": {},
   "source": [
    "# Dynamics"
   ]
  },
  {
   "cell_type": "code",
   "execution_count": null,
   "metadata": {},
   "outputs": [],
   "source": [
    "from ICARUS.flight_dynamics import State\n",
    "\n",
    "states = DB.get_vehicle_states(plane)\n",
    "\n",
    "for i, name in enumerate(states):\n",
    "    print(f\"{i}: {name}\")\n",
    "\n",
    "state: State = states[\"Unstick_AVL\"]\n",
    "# state.pertrubation_results"
   ]
  },
  {
   "cell_type": "code",
   "execution_count": null,
   "metadata": {},
   "outputs": [],
   "source": [
    "# print(state)\n",
    "state.stability_fd()\n",
    "state.plot_eigenvalues()"
   ]
  },
  {
   "cell_type": "code",
   "execution_count": null,
   "metadata": {},
   "outputs": [],
   "source": []
  }
 ],
 "metadata": {
  "kernelspec": {
   "display_name": "aero",
   "language": "python",
   "name": "python3"
  },
  "language_info": {
   "codemirror_mode": {
    "name": "ipython",
    "version": 3
   },
   "file_extension": ".py",
   "mimetype": "text/x-python",
   "name": "python",
   "nbconvert_exporter": "python",
   "pygments_lexer": "ipython3",
   "version": "3.13.1"
  }
 },
 "nbformat": 4,
 "nbformat_minor": 2
}
