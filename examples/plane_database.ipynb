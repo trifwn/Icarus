{
 "cells": [
  {
   "cell_type": "code",
   "execution_count": null,
   "metadata": {},
   "outputs": [],
   "source": [
    "%load_ext autoreload\n",
    "%autoreload 2\n",
    "%matplotlib qt"
   ]
  },
  {
   "cell_type": "code",
   "execution_count": null,
   "metadata": {},
   "outputs": [],
   "source": [
    "from ICARUS.database import Database\n",
    "\n",
    "# CHANGE THIS TO YOUR DATABASE FOLDER\n",
    "database_folder = \"E:\\\\Icarus\\\\Data\"\n",
    "\n",
    "# Load the database\n",
    "DB = Database(database_folder)\n",
    "EXTERNAL_DB = DB.EXTERNAL_DB"
   ]
  },
  {
   "attachments": {},
   "cell_type": "markdown",
   "metadata": {},
   "source": [
    "# Open Database"
   ]
  },
  {
   "cell_type": "code",
   "execution_count": null,
   "metadata": {},
   "outputs": [],
   "source": [
    "db3d = DB.vehicles_db\n",
    "db3d.load_data()\n",
    "\n",
    "# plane = db3d.get_vehicle(\"hermes\")"
   ]
  },
  {
   "attachments": {},
   "cell_type": "markdown",
   "metadata": {},
   "source": [
    "### Select Plane"
   ]
  },
  {
   "cell_type": "code",
   "execution_count": null,
   "metadata": {},
   "outputs": [],
   "source": [
    "from time import sleep\n",
    "\n",
    "planenames: list[str] = db3d.get_planenames()\n",
    "for i, planename in enumerate(planenames):\n",
    "    print(f\"{i} : `{planename}\")\n",
    "sleep(1)\n",
    "\n",
    "indexes = [1]  # range(0,len(planenames))\n",
    "print(len(planenames))\n",
    "plane = db3d.get_vehicle(planenames[indexes[0]])\n",
    "states = db3d.get_states(planenames[indexes[0]])\n",
    "state = states['Unstick']\n",
    "# dynplane = db3d.dyn_planes[planenames[index]]\n",
    "planenames = [planenames[i] for i in indexes]"
   ]
  },
  {
   "attachments": {},
   "cell_type": "markdown",
   "metadata": {},
   "source": [
    "# Add XFLR Polars"
   ]
  },
  {
   "cell_type": "code",
   "execution_count": null,
   "metadata": {},
   "outputs": [],
   "source": [
    "from ICARUS.computation.solvers.XFLR5.polars import read_polars_3d\n",
    "EXTERNAL_DB = DB.EXTERNAL_DB\n",
    "\n",
    "for name in planenames:\n",
    "    if name.startswith(\"XFLR\"):\n",
    "        continue\n",
    "\n",
    "    if f\"XFLR_{name}\" not in planenames:\n",
    "        try:\n",
    "            import os\n",
    "\n",
    "            XFLR5PLANEDIR: str = os.path.join(EXTERNAL_DB, f\"{name}.txt\")\n",
    "            read_polars_3d(DB, XFLR5PLANEDIR, name)\n",
    "            print(f\"Imported XFLR polar for {name}\")\n",
    "            planenames.append(f\"XFLR_{name}\")\n",
    "        except FileNotFoundError:\n",
    "            print(f\"No XFLR polar found for {name}\")\n",
    "            pass"
   ]
  },
  {
   "attachments": {},
   "cell_type": "markdown",
   "metadata": {},
   "source": [
    "# Airplane Visualization"
   ]
  },
  {
   "cell_type": "code",
   "execution_count": null,
   "metadata": {},
   "outputs": [],
   "source": [
    "plane.visualize()"
   ]
  },
  {
   "attachments": {},
   "cell_type": "markdown",
   "metadata": {},
   "source": [
    "# Polars"
   ]
  },
  {
   "cell_type": "code",
   "execution_count": null,
   "metadata": {},
   "outputs": [],
   "source": [
    "# db3d.get_polars(\"hermes\")"
   ]
  },
  {
   "cell_type": "code",
   "execution_count": null,
   "metadata": {},
   "outputs": [],
   "source": [
    "from ICARUS.visualization.airplane.db_polars import plot_airplane_polars\n",
    "\n",
    "DB.vehicles_db.load_data()\n",
    "solvers = [\n",
    "     \"GenuVP3 Potential\",\n",
    "     \"GenuVP3 2D\",\n",
    "    # \"GNVP3 ONERA\",\n",
    "    # \"GenuVP7 Potential\",\n",
    "    # \"GenuVP7 2D\",\n",
    "    #  \"LSPT Potential\",\n",
    "    # \"LSPT 2D\",/'/\n",
    "    \"AVL\"\n",
    "]\n",
    "axs, fig = plot_airplane_polars(\n",
    "    planenames,\n",
    "    solvers,\n",
    "    plots=[[\"AoA\", \"CL\"], [\"AoA\", \"CD\"], [\"AoA\", \"Cm\"]],\n",
    "    size=(6, 7),\n",
    ")"
   ]
  },
  {
   "cell_type": "code",
   "execution_count": null,
   "metadata": {},
   "outputs": [],
   "source": [
    "axs = axs.flatten()\n",
    "polar = DB.foils_db.get_polars('NACA4415')\n",
    "for reyn in polar.reynolds_nums[::3]:\n",
    "    df = polar.get_reynolds_subtable(reyn)\n",
    "\n",
    "    cl = df['CL']\n",
    "    aoa = df['AoA'] - 2.8\n",
    "    cd = df['CD']\n",
    "    cm = df['Cm']\n",
    "\n",
    "    axs[0].plot(aoa, cl, label=f'NACA4415 {reyn}')\n",
    "    axs[1].plot(aoa, cd, label=f'NACA4415 {reyn}')\n",
    "    axs[2].plot(aoa, cm, label=f'NACA4415 {reyn}')\n",
    "\n",
    "for ax in axs:\n",
    "    ax.legend()"
   ]
  },
  {
   "cell_type": "code",
   "execution_count": null,
   "metadata": {},
   "outputs": [],
   "source": [
    "plane.airfoils"
   ]
  },
  {
   "cell_type": "code",
   "execution_count": null,
   "metadata": {},
   "outputs": [],
   "source": [
    "from ICARUS.visualization.airplane.cg_investigation import cg_investigation\n",
    "\n",
    "cg_investigation(\n",
    "    planenames[0],\n",
    "    solvers,\n",
    "    size=(10, 7),\n",
    ")"
   ]
  },
  {
   "attachments": {},
   "cell_type": "markdown",
   "metadata": {},
   "source": [
    "# Case Convergence"
   ]
  },
  {
   "cell_type": "code",
   "execution_count": null,
   "metadata": {},
   "outputs": [],
   "source": [
    "from ICARUS.visualization.airplane.gnvp_convergence import plot_convergence"
   ]
  },
  {
   "cell_type": "code",
   "execution_count": null,
   "metadata": {},
   "outputs": [],
   "source": [
    "angles2show = [0.0]  # All\n",
    "# Only Works for unsteady solvers: LSPT, GNVP3, GNVP7\n",
    "plot_convergence(\n",
    "    plane.name, angles=angles2show, solvers=[\"All\"], plot_error=False, size=(16, 7)\n",
    ")"
   ]
  },
  {
   "attachments": {},
   "cell_type": "markdown",
   "metadata": {},
   "source": [
    "# Wake Visualization"
   ]
  },
  {
   "cell_type": "code",
   "execution_count": null,
   "metadata": {},
   "outputs": [],
   "source": [
    "from ICARUS.visualization.airplane.gnvp_wake import plot_gnvp_wake\n",
    "from ICARUS.database.utils import angle_to_case"
   ]
  },
  {
   "cell_type": "code",
   "execution_count": null,
   "metadata": {},
   "outputs": [],
   "source": [
    "CASE: str = angle_to_case(-5.0)\n",
    "plane = db3d.planes[plane.name]\n",
    "plot_gnvp_wake(3, plane, CASE, scale=True)"
   ]
  },
  {
   "attachments": {},
   "cell_type": "markdown",
   "metadata": {},
   "source": [
    " # Loads Visualization"
   ]
  },
  {
   "cell_type": "code",
   "execution_count": null,
   "metadata": {},
   "outputs": [],
   "source": [
    "from ICARUS.visualization.airplane.gnvp_strips import gnvp_strips_2d, gnvp_strips_3d\n",
    "CASE: str = angle_to_case(-5.0)\n",
    "\n",
    "NBs = [i + 1 for i in range(len(plane.surfaces))]\n",
    "print(plane)\n",
    "print(\"NBs to Visualize: \", NBs)\n",
    "\n",
    "stripData = gnvp_strips_3d(plane, CASE, [NBs[0]],genuvp_version= 3, category=\"Wind\")"
   ]
  },
  {
   "attachments": {},
   "cell_type": "markdown",
   "metadata": {},
   "source": [
    "# Dynamics"
   ]
  },
  {
   "cell_type": "code",
   "execution_count": null,
   "metadata": {},
   "outputs": [],
   "source": [
    "states = db3d.states[\"bmark\"]\n",
    "for i, name in enumerate(states):\n",
    "    print(f\"{i}: {name}\")"
   ]
  },
  {
   "cell_type": "code",
   "execution_count": null,
   "metadata": {},
   "outputs": [],
   "source": [
    "db3d.states[\"bmark\"]"
   ]
  },
  {
   "cell_type": "code",
   "execution_count": null,
   "metadata": {},
   "outputs": [],
   "source": [
    "from ICARUS.flight_dynamics.state import State\n",
    "\n",
    "states: State = states[\"plane_1\"]\n",
    "states.stability_fd()\n",
    "print(states)\n",
    "states.plot_eigenvalues()"
   ]
  },
  {
   "cell_type": "code",
   "execution_count": null,
   "metadata": {},
   "outputs": [],
   "source": [
    "states.state_space"
   ]
  }
 ],
 "metadata": {
  "kernelspec": {
   "display_name": "aero",
   "language": "python",
   "name": "python3"
  },
  "language_info": {
   "codemirror_mode": {
    "name": "ipython",
    "version": 3
   },
   "file_extension": ".py",
   "mimetype": "text/x-python",
   "name": "python",
   "nbconvert_exporter": "python",
   "pygments_lexer": "ipython3",
   "version": "3.13.1"
  }
 },
 "nbformat": 4,
 "nbformat_minor": 2
}
