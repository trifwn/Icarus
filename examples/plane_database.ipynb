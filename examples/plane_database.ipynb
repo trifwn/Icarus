{
 "cells": [
  {
   "cell_type": "code",
   "execution_count": null,
   "metadata": {},
   "outputs": [],
   "source": [
    "%load_ext autoreload\n",
    "%autoreload 2\n",
    "%matplotlib qt"
   ]
  },
  {
   "cell_type": "code",
   "execution_count": null,
   "metadata": {},
   "outputs": [],
   "source": [
    "from ICARUS.database import Database\n",
    "\n",
    "# CHANGE THIS TO YOUR DATABASE FOLDER\n",
    "database_folder = \"E:\\\\Icarus\\\\Data\"\n",
    "\n",
    "# Load the database\n",
    "DB = Database(database_folder)\n",
    "EXTERNAL_DB = DB.EXTERNAL_DB"
   ]
  },
  {
   "attachments": {},
   "cell_type": "markdown",
   "metadata": {},
   "source": [
    "# Open Database"
   ]
  },
  {
   "cell_type": "code",
   "execution_count": null,
   "metadata": {},
   "outputs": [],
   "source": [
    "db3d = DB.vehicles_db\n",
    "db3d.load_all_data()\n",
    "\n",
    "# plane = db3d.get_vehicle(\"hermes\")"
   ]
  },
  {
   "attachments": {},
   "cell_type": "markdown",
   "metadata": {},
   "source": [
    "### Select Plane"
   ]
  },
  {
   "cell_type": "code",
   "execution_count": null,
   "metadata": {},
   "outputs": [],
   "source": [
    "from time import sleep\n",
    "\n",
    "planenames: list[str] = DB.get_vehicle_names()\n",
    "for i, planename in enumerate(planenames):\n",
    "    print(f\"{i} : `{planename}\")\n",
    "sleep(1)\n",
    "\n",
    "indexes = [1]  # range(0,len(planenames))\n",
    "plane = DB.get_vehicle(planenames[indexes[0]])\n",
    "states = DB.get_vehicle_states(planenames[indexes[0]])\n",
    "state = states['Unstick']\n",
    "# dynplane = db3d.dyn_planes[planenames[index]]\n",
    "planenames = [planenames[i] for i in indexes]"
   ]
  },
  {
   "cell_type": "code",
   "execution_count": null,
   "metadata": {},
   "outputs": [],
   "source": [
    "DB.load_all_data()"
   ]
  },
  {
   "attachments": {},
   "cell_type": "markdown",
   "metadata": {},
   "source": [
    "# Add XFLR Polars"
   ]
  },
  {
   "cell_type": "code",
   "execution_count": null,
   "metadata": {},
   "outputs": [],
   "source": [
    "from ICARUS.computation.solvers.XFLR5.polars import read_polars_3d\n",
    "EXTERNAL_DB = DB.EXTERNAL_DB\n",
    "\n",
    "for name in planenames:\n",
    "    if name.startswith(\"XFLR\"):\n",
    "        continue\n",
    "\n",
    "    if f\"XFLR_{name}\" not in planenames:\n",
    "        try:\n",
    "            import os\n",
    "\n",
    "            XFLR5PLANEDIR: str = os.path.join(EXTERNAL_DB, f\"{name}.txt\")\n",
    "            read_polars_3d(DB, XFLR5PLANEDIR, name)\n",
    "            print(f\"Imported XFLR polar for {name}\")\n",
    "            planenames.append(f\"XFLR_{name}\")\n",
    "        except FileNotFoundError:\n",
    "            print(f\"No XFLR polar found for {name}\")\n",
    "            pass"
   ]
  },
  {
   "attachments": {},
   "cell_type": "markdown",
   "metadata": {},
   "source": [
    "# Airplane Visualization"
   ]
  },
  {
   "cell_type": "code",
   "execution_count": null,
   "metadata": {},
   "outputs": [],
   "source": [
    "# plane.visualize()"
   ]
  },
  {
   "attachments": {},
   "cell_type": "markdown",
   "metadata": {},
   "source": [
    "# Polars"
   ]
  },
  {
   "cell_type": "code",
   "execution_count": null,
   "metadata": {},
   "outputs": [],
   "source": [
    "# from ICARUS.computation.solvers.GenuVP.analyses.pertrubations import proccess_pertrubation_res_7\n",
    "# proccess_pertrubation_res_7(plane, unstick)"
   ]
  },
  {
   "cell_type": "code",
   "execution_count": null,
   "metadata": {},
   "outputs": [],
   "source": [
    "from ICARUS.visualization.airplane.db_polars import plot_airplane_polars\n",
    "\n",
    "DB.vehicles_db.load_all_data()\n",
    "solvers = [\n",
    "     \"GenuVP3 Potential\",\n",
    "     \"GenuVP3 2D\",\n",
    "    # \"GNVP3 ONERA\",\n",
    "    \"GenuVP7 Potential\",\n",
    "    \"GenuVP7 2D\",\n",
    "    #  \"LSPT Potential\",\n",
    "    # \"LSPT 2D\",/'/\n",
    "    \"AVL\"\n",
    "]\n",
    "axs, fig = plot_airplane_polars(\n",
    "    planenames,\n",
    "    solvers,\n",
    "    plots=[[\"AoA\", \"CL\"], [\"AoA\", \"CD\"], [\"AoA\", \"Cm\"]],\n",
    "    size=(6, 7),\n",
    ")"
   ]
  },
  {
   "cell_type": "code",
   "execution_count": null,
   "metadata": {},
   "outputs": [],
   "source": [
    "from ICARUS.environment.definition import EARTH_ISA\n",
    "import distinctipy\n",
    "\n",
    "axs, fig = plot_airplane_polars(\n",
    "    planenames,\n",
    "    solvers,\n",
    "    plots=[[\"AoA\", \"CL\"]],\n",
    "    size=(6, 7),\n",
    ")\n",
    "\n",
    "\n",
    "u_inf = 20\n",
    "rho = EARTH_ISA.air_density\n",
    "q_inf = 0.5 * rho * u_inf ** 2\n",
    "visc = EARTH_ISA.air_dynamic_viscosity\n",
    "\n",
    "sim_reyn = rho * u_inf * plane.main_wing.mean_aerodynamic_chord / visc\n",
    "\n",
    "axs = axs.flatten()\n",
    "airfoil = plane.airfoils[0]\n",
    "airfoil = DB.get_airfoil(airfoil)\n",
    "polar = DB.get_airfoil_polars(airfoil.name)\n",
    "\n",
    "correction_factor = 1 + 2 / (plane.aspect_ratio)\n",
    "print(correction_factor)\n",
    "\n",
    "reynolds_nums = polar.reynolds_nums[::3]\n",
    "colors = distinctipy.get_colors(len(reynolds_nums))\n",
    "for i, reyn in enumerate(reynolds_nums):\n",
    "    df = polar.get_reynolds_subtable(reyn)\n",
    "\n",
    "    cl = df['CL'] \n",
    "    cl3d = cl / correction_factor\n",
    "    aoa = df['AoA'] - plane.main_wing.orientation[0]\n",
    "\n",
    "    # Set opacity to 0.5\n",
    "    axs[0].plot(aoa, cl, label=f'{airfoil.name} {reyn:.2e}', alpha=0.8, linestyle = '--', color=colors[i])\n",
    "\n",
    "# Clear all previous legends\n",
    "fig.legend([], [], loc=\"lower right\", ncol=2)\n",
    "fig.suptitle(f\"{airfoil.name} Cl vs AoA at Re = {sim_reyn:.2e}\")\n",
    "# Get the plot legend\n",
    "handles, labels = axs[0].get_legend_handles_labels()\n",
    "fig.legend(handles, labels, loc=\"lower left\", ncol=2)\n",
    "\n",
    "\n",
    "# reynolds = reynolds_nums[0]\n",
    "# polar.plot_avl_drag(reynolds)"
   ]
  },
  {
   "cell_type": "code",
   "execution_count": null,
   "metadata": {},
   "outputs": [],
   "source": [
    "from ICARUS.visualization.airplane.cg_investigation import cg_investigation\n",
    "\n",
    "cg_investigation(\n",
    "    planenames[0],\n",
    "    solvers,\n",
    "    size=(10, 7),\n",
    ")"
   ]
  },
  {
   "attachments": {},
   "cell_type": "markdown",
   "metadata": {},
   "source": [
    "# Case Convergence"
   ]
  },
  {
   "cell_type": "code",
   "execution_count": null,
   "metadata": {},
   "outputs": [],
   "source": [
    "from ICARUS.visualization.airplane.gnvp_convergence import plot_convergence"
   ]
  },
  {
   "cell_type": "code",
   "execution_count": null,
   "metadata": {},
   "outputs": [],
   "source": [
    "angles2show = [0.0]  # All\n",
    "# Only Works for unsteady solvers: LSPT, GNVP3, GNVP7\n",
    "plot_convergence(\n",
    "    plane.name, angles=angles2show, solvers=[\"All\"], plot_error=False, size=(16, 7)\n",
    ")"
   ]
  },
  {
   "attachments": {},
   "cell_type": "markdown",
   "metadata": {},
   "source": [
    "# Wake Visualization"
   ]
  },
  {
   "cell_type": "code",
   "execution_count": null,
   "metadata": {},
   "outputs": [],
   "source": [
    "from ICARUS.visualization.airplane.gnvp_wake import plot_gnvp_wake\n",
    "from ICARUS.database.utils import angle_to_case"
   ]
  },
  {
   "cell_type": "code",
   "execution_count": null,
   "metadata": {},
   "outputs": [],
   "source": [
    "CASE: str = angle_to_case(4.0)\n",
    "plot_gnvp_wake(7, plane, state, CASE, scale=True)"
   ]
  },
  {
   "attachments": {},
   "cell_type": "markdown",
   "metadata": {},
   "source": [
    " # Loads Visualization"
   ]
  },
  {
   "cell_type": "code",
   "execution_count": null,
   "metadata": {},
   "outputs": [],
   "source": [
    "from ICARUS.visualization.airplane.gnvp_strips import gnvp_strips_2d, gnvp_strips_3d\n",
    "CASE: str = angle_to_case(-5.0)\n",
    "\n",
    "NBs = [i + 1 for i in range(len(plane.surfaces))]\n",
    "print(plane)\n",
    "print(\"NBs to Visualize: \", NBs)\n",
    "\n",
    "stripData = gnvp_strips_2d(plane, state, CASE, [NBs[0]], gnvp_version= 3, category=\"Wind\")\n",
    "stripData = gnvp_strips_3d(plane, state, CASE, [*NBs], gnvp_version= 3, category=\"Wind\")"
   ]
  },
  {
   "attachments": {},
   "cell_type": "markdown",
   "metadata": {},
   "source": [
    "# Dynamics"
   ]
  },
  {
   "cell_type": "code",
   "execution_count": null,
   "metadata": {},
   "outputs": [],
   "source": [
    "from ICARUS.flight_dynamics.state import State\n",
    "\n",
    "states = DB.get_vehicle_states(plane)\n",
    "\n",
    "for i, name in enumerate(states):\n",
    "    print(f\"{i}: {name}\")\n",
    "\n",
    "state: State = states[\"Unstick\"]\n",
    "# state.pertrubation_results"
   ]
  },
  {
   "cell_type": "code",
   "execution_count": null,
   "metadata": {},
   "outputs": [],
   "source": [
    "# print(state)\n",
    "state.stability_fd()\n",
    "state.plot_eigenvalues()"
   ]
  },
  {
   "cell_type": "code",
   "execution_count": null,
   "metadata": {},
   "outputs": [],
   "source": [
    "for dst in state.disturbances:\n",
    "    print(dst)"
   ]
  },
  {
   "cell_type": "code",
   "execution_count": null,
   "metadata": {},
   "outputs": [],
   "source": []
  }
 ],
 "metadata": {
  "kernelspec": {
   "display_name": "aero",
   "language": "python",
   "name": "python3"
  },
  "language_info": {
   "codemirror_mode": {
    "name": "ipython",
    "version": 3
   },
   "file_extension": ".py",
   "mimetype": "text/x-python",
   "name": "python",
   "nbconvert_exporter": "python",
   "pygments_lexer": "ipython3",
   "version": "3.13.1"
  }
 },
 "nbformat": 4,
 "nbformat_minor": 2
}
