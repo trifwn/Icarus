{
 "cells": [
  {
   "cell_type": "code",
   "execution_count": 18,
   "metadata": {},
   "outputs": [
    {
     "name": "stdout",
     "output_type": "stream",
     "text": [
      "The autoreload extension is already loaded. To reload it, use:\n",
      "  %reload_ext autoreload\n"
     ]
    }
   ],
   "source": [
    "%matplotlib qt\n",
    "%load_ext autoreload\n",
    "%autoreload 2"
   ]
  },
  {
   "cell_type": "code",
   "execution_count": 2,
   "metadata": {},
   "outputs": [],
   "source": [
    "from ICARUS.Database import DB\n",
    "from ICARUS.Airfoils.airfoil import Airfoil\n",
    "\n",
    "from xfoil import XFoil\n",
    "from xfoil.model import Airfoil as XFAirfoil\n",
    "import matplotlib.pyplot as plt\n",
    "from pandas import DataFrame\n",
    "import numpy as np\n"
   ]
  },
  {
   "cell_type": "code",
   "execution_count": 3,
   "metadata": {},
   "outputs": [],
   "source": [
    "# DB.load_data()"
   ]
  },
  {
   "cell_type": "code",
   "execution_count": 4,
   "metadata": {},
   "outputs": [
    {
     "data": {
      "image/png": "[encoded data removed]",
      "text/plain": [
       "<Figure size 640x480 with 1 Axes>"
      ]
     },
     "metadata": {},
     "output_type": "display_data"
    }
   ],
   "source": [
    "from ICARUS.Database import DB2D\n",
    "import os\n",
    "\n",
    "airf_root = DB.get_airfoil(\"S4062\")\n",
    "aorf_tip = DB.get_airfoil(\"S4320\")\n",
    "\n",
    "# # filename = os.path.join(DB2D, \"S4062\", 'S4062')\n",
    "# # airf = Airfoil.load_from_file(filename)\n",
    "airf_eta = Airfoil.morph_new_from_two_foils(\n",
    "    airf_root, aorf_tip, 0.1, min(airf_root.n_points, aorf_tip.n_points)\n",
    ")\n",
    "\n",
    "# # airf.repanel(160)\n",
    "airf_eta.plot(scatter=True)\n",
    "\n",
    "# airf_root.plot()\n"
   ]
  },
  {
   "cell_type": "code",
   "execution_count": 23,
   "metadata": {},
   "outputs": [
    {
     "data": {
      "text/plain": [
       "array([1.0000e+00, 9.9671e-01, 9.8696e-01, 9.7107e-01, 9.4954e-01,\n",
       "       9.2297e-01, 8.9200e-01, 8.5727e-01, 8.1936e-01, 7.7881e-01,\n",
       "       7.3609e-01, 6.9165e-01, 6.4586e-01, 5.9909e-01, 5.5168e-01,\n",
       "       5.0397e-01, 4.5626e-01, 4.0887e-01, 3.6217e-01, 3.1661e-01,\n",
       "       2.7271e-01, 2.3092e-01, 1.9171e-01, 1.5550e-01, 1.2259e-01,\n",
       "       9.3260e-02, 6.7690e-02, 4.6040e-02, 2.8430e-02, 1.4990e-02,\n",
       "       5.7800e-03, 8.1000e-04, 6.1000e-04])"
      ]
     },
     "execution_count": 23,
     "metadata": {},
     "output_type": "execute_result"
    }
   ],
   "source": [
    "airf_root._x_upper"
   ]
  },
  {
   "cell_type": "code",
   "execution_count": 17,
   "metadata": {},
   "outputs": [
    {
     "data": {
      "text/plain": [
       "array(0.16318639)"
      ]
     },
     "execution_count": 17,
     "metadata": {},
     "output_type": "execute_result"
    }
   ],
   "source": [
    "airf_root.y_upper(0)"
   ]
  },
  {
   "cell_type": "code",
   "execution_count": null,
   "metadata": {},
   "outputs": [],
   "source": [
    "# airf.repanel(500, distribution=\"cosine\")\n",
    "# Reynolds 1e5          3e5 5e5          1e6\n",
    "xf = XFoil()\n",
    "xf.Re = 1e6\n",
    "xf.M = 0.0\n",
    "pts = airf.selig\n",
    "xpts = pts[0]\n",
    "ypts = pts[1]\n",
    "xf_airf_obj = XFAirfoil(x=xpts, y=ypts)\n",
    "xf.airfoil = xf_airf_obj\n",
    "xf.max_iter = 500\n",
    "xf.xtr = (.2, 1.)\n",
    "xf.n_crit = 9\n",
    "xf.print = True\n",
    "xf.filter()\n",
    "xf.repanel(n_nodes=60)\n",
    "\n",
    "\n",
    "aXF, clXF, cdXF, cmXF, cpXF = xf.aseq(0, -10, -1)\n",
    "aXF, clXF, cdXF, cmXF, cpXF = xf.aseq(0, 12, 1)\n",
    "dat = np.array([aXF, clXF, cdXF, cmXF], dtype=float).T\n",
    "df: DataFrame = DataFrame(dat)\n",
    "\n",
    "# Rename columns\n",
    "df.columns = [\"AoA\", \"CL\", \"CD\", \"Cm\"]\n",
    "df.set_index(\"AoA\", inplace=True)\n",
    "\n",
    "\n",
    "# Plor CL/CD\n",
    "fig, ax = plt.subplots(2, 2)\n",
    "aoa = df.index\n",
    "df[\"CL/CD\"] = df[\"CL\"] / df[\"CD\"]\n",
    "\n",
    "ax[0,0].plot(aoa, df[\"CL/CD\"], label=\"CL/CD\")\n",
    "ax[0,0].set_xlabel(\"AoA\")\n",
    "ax[0,0].set_ylabel(\"CL/CD\")\n",
    "\n",
    "ax[0,1].plot(aoa, df[\"CL\"], label=\"CL\")\n",
    "ax[0,1].set_xlabel(\"AoA\")\n",
    "ax[0,1].set_ylabel(\"CL\")\n",
    "\n",
    "ax[1,0].plot(aoa, df[\"CD\"], label=\"CD\")\n",
    "ax[1,0].set_xlabel(\"AoA\")\n",
    "ax[1,0].set_ylabel(\"CD\")\n",
    "\n",
    "ax[1,1].plot(aoa, df[\"Cm\"], label=\"Cm\")\n",
    "ax[1,1].set_xlabel(\"AoA\")\n",
    "ax[1,1].set_ylabel(\"Cm\")"
   ]
  },
  {
   "cell_type": "code",
   "execution_count": null,
   "metadata": {},
   "outputs": [],
   "source": []
  }
 ],
 "metadata": {
  "kernelspec": {
   "display_name": "aero",
   "language": "python",
   "name": "python3"
  },
  "language_info": {
   "codemirror_mode": {
    "name": "ipython",
    "version": 3
   },
   "file_extension": ".py",
   "mimetype": "text/x-python",
   "name": "python",
   "nbconvert_exporter": "python",
   "pygments_lexer": "ipython3",
   "version": "3.12.0"
  }
 },
 "nbformat": 4,
 "nbformat_minor": 2
}
