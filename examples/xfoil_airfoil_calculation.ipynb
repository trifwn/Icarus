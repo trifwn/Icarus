{
 "cells": [
  {
   "cell_type": "code",
   "execution_count": 5,
   "metadata": {},
   "outputs": [
    {
     "name": "stdout",
     "output_type": "stream",
     "text": [
      "The autoreload extension is already loaded. To reload it, use:\n",
      "  %reload_ext autoreload\n"
     ]
    }
   ],
   "source": [
    "%matplotlib qt\n",
    "%load_ext autoreload\n",
    "%autoreload 2"
   ]
  },
  {
   "cell_type": "code",
   "execution_count": 6,
   "metadata": {},
   "outputs": [],
   "source": [
    "import matplotlib.pyplot as plt\n",
    "from pandas import DataFrame\n",
    "import numpy as np"
   ]
  },
  {
   "cell_type": "code",
   "execution_count": 7,
   "metadata": {},
   "outputs": [],
   "source": [
    "# DB.load_data()"
   ]
  },
  {
   "cell_type": "code",
   "execution_count": 8,
   "metadata": {},
   "outputs": [],
   "source": [
    "from ICARUS.Database import DB2D\n",
    "from ICARUS.Database import DB\n",
    "from ICARUS.Airfoils.airfoil import Airfoil\n",
    "import os\n",
    "\n",
    "fig, axs = plt.subplots(3,1)\n",
    "airf_root = DB.get_airfoil(\"S4062\")\n",
    "airf_tip = DB.get_airfoil(\"NACA2412\")\n",
    "\n",
    "\n",
    "ax = axs[0]\n",
    "ax2 = axs[1]\n",
    "ax3 = axs[2]\n",
    "\n",
    "ax.set_title(\"Root\")\n",
    "airf_root.plot(scatter= True, ax = ax)\n",
    "airf_root.repanel_spl(200)\n",
    "airf_root.plot(ax = ax)\n",
    "\n",
    "ax2.set_title(\"Tip\")\n",
    "airf_tip.plot(scatter= True, ax = ax2)\n",
    "# airf_tip.repanel_spl(200)\n",
    "airf_tip.plot(ax = ax2)\n",
    "\n",
    "ax3.set_title(\"Morphed\")\n",
    "airf = Airfoil.morph_new_from_two_foils(\n",
    "    airf_root, airf_tip, 0.0, 100\n",
    ")\n",
    "\n",
    "airf.plot(ax = ax3)\n",
    "airf.repanel_spl(200)\n",
    "airf.plot(camber = True, scatter = True, ax = ax3)"
   ]
  },
  {
   "cell_type": "code",
   "execution_count": 9,
   "metadata": {},
   "outputs": [],
   "source": [
    "airf = Airfoil.morph_new_from_two_foils(\n",
    "    airf_root, airf_tip, 1., 100\n",
    ")\n",
    "fig, ax = plt.subplots()\n",
    "airf.plot(ax = ax)\n",
    "# for i in range(100):\n",
    "airf.repanel_spl(200, smoothing=1e-4)\n",
    "airf.plot(camber = True, scatter = True, ax = ax )"
   ]
  },
  {
   "cell_type": "code",
   "execution_count": 10,
   "metadata": {},
   "outputs": [
    {
     "data": {
      "text/plain": [
       "Text(0, 0.5, 'Cm')"
      ]
     },
     "execution_count": 10,
     "metadata": {},
     "output_type": "execute_result"
    }
   ],
   "source": [
    "from xfoil import XFoil\n",
    "from xfoil.model import Airfoil as XFAirfoil\n",
    "\n",
    "xf = XFoil()\n",
    "xf.Re = 1e6\n",
    "xf.M = 0.0\n",
    "pts = airf.selig\n",
    "xpts = pts[0]\n",
    "ypts = pts[1]\n",
    "xf_airf_obj = XFAirfoil(x=xpts, y=ypts)\n",
    "xf.airfoil = xf_airf_obj\n",
    "xf.max_iter = 500\n",
    "xf.xtr = (1., 1.)\n",
    "xf.n_crit = 9\n",
    "xf.print = True\n",
    "xf.repanel(120)\n",
    "xf.filter()\n",
    "\n",
    "\n",
    "aXF, clXF, cdXF, cmXF, cpXF = xf.aseq(-10, 15, 0.25)\n",
    "dat = np.array([aXF, clXF, cdXF, cmXF], dtype=float).T\n",
    "df: DataFrame = DataFrame(dat)\n",
    "\n",
    "# Rename columns\n",
    "df.columns = [\"AoA\", \"CL\", \"CD\", \"Cm\"]\n",
    "df.set_index(\"AoA\", inplace=True)\n",
    "\n",
    "\n",
    "# Plor CL/CD\n",
    "fig, ax = plt.subplots(2, 2)\n",
    "aoa = df.index\n",
    "df[\"CL/CD\"] = df[\"CL\"] / df[\"CD\"]\n",
    "\n",
    "ax[0,0].plot(aoa, df[\"CL/CD\"], label=\"CL/CD\")\n",
    "ax[0,0].set_xlabel(\"AoA\")\n",
    "ax[0,0].set_ylabel(\"CL/CD\")\n",
    "\n",
    "ax[0,1].plot(aoa, df[\"CL\"], label=\"CL\")\n",
    "ax[0,1].set_xlabel(\"AoA\")\n",
    "ax[0,1].set_ylabel(\"CL\")\n",
    "\n",
    "ax[1,0].plot(aoa, df[\"CD\"], label=\"CD\")\n",
    "ax[1,0].set_xlabel(\"AoA\")\n",
    "ax[1,0].set_ylabel(\"CD\")\n",
    "\n",
    "ax[1,1].plot(aoa, df[\"Cm\"], label=\"Cm\")\n",
    "ax[1,1].set_xlabel(\"AoA\")\n",
    "ax[1,1].set_ylabel(\"Cm\")"
   ]
  },
  {
   "cell_type": "code",
   "execution_count": null,
   "metadata": {},
   "outputs": [],
   "source": []
  }
 ],
 "metadata": {
  "kernelspec": {
   "display_name": "aero",
   "language": "python",
   "name": "python3"
  },
  "language_info": {
   "codemirror_mode": {
    "name": "ipython",
    "version": 3
   },
   "file_extension": ".py",
   "mimetype": "text/x-python",
   "name": "python",
   "nbconvert_exporter": "python",
   "pygments_lexer": "ipython3",
   "version": "3.12.0"
  }
 },
 "nbformat": 4,
 "nbformat_minor": 2
}
