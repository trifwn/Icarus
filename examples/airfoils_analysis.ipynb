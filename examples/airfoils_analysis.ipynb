{
    "cells": [
        {
            "cell_type": "markdown",
            "metadata": {},
            "source": [
                "# AIRFOIL ANALYSIS NOTEBOOK"
            ]
        },
        {
            "cell_type": "markdown",
            "metadata": {},
            "source": [
                "## Setup"
            ]
        },
        {
            "cell_type": "code",
            "execution_count": 1,
            "metadata": {},
            "outputs": [],
            "source": [
                "%load_ext autoreload\n",
                "%autoreload 2\n",
                "%matplotlib qt"
            ]
        },
        {
            "cell_type": "code",
            "execution_count": 2,
            "metadata": {},
            "outputs": [],
            "source": [
                "import numpy as np\n",
                "\n",
                "from ICARUS.Core.units import calc_mach, calc_reynolds\n",
                "from ICARUS.Airfoils.airfoil import Airfoil\n",
                "from ICARUS.Core.struct import Struct\n",
                "from ICARUS.Computation.Solvers.solver import Solver\n",
                "from ICARUS.Computation.Solvers.OpenFoam.files.setup_case import MeshType"
            ]
        },
        {
            "cell_type": "markdown",
            "metadata": {},
            "source": [
                "# Load DB"
            ]
        },
        {
            "cell_type": "code",
            "execution_count": 3,
            "metadata": {},
            "outputs": [
                {
                    "name": "stderr",
                    "output_type": "stream",
                    "text": [
                        "ERROR:root:Airfoil 0024 not found in DB2D or EXTERNAL DB\n"
                    ]
                },
                {
                    "name": "stdout",
                    "output_type": "stream",
                    "text": [
                        "Airfoil 0024 not found in DB2D or EXTERNAL DB\n",
                        "Error in interpolating the airfoil data\n",
                        "Lower xs:\n",
                        "[0.000000e+00 6.870000e-05 7.181000e-04 1.878700e-03 3.843900e-03\n",
                        " 6.322100e-03 8.814300e-03 1.181410e-02 1.782690e-02 2.154460e-02\n",
                        " 2.756840e-02 3.359530e-02 3.962520e-02 4.565700e-02 5.169020e-02\n",
                        " 5.973630e-02 6.979530e-02 7.985710e-02 8.991900e-02 9.998280e-02\n",
                        " 1.100465e-01 1.251442e-01 1.402415e-01 1.553399e-01 1.704383e-01\n",
                        " 1.855357e-01 2.006342e-01 2.157315e-01 2.308300e-01 2.459284e-01\n",
                        " 2.610257e-01 2.761242e-01 2.912235e-01 3.113556e-01 3.314900e-01\n",
                        " 3.516258e-01 3.717628e-01 3.919010e-01 4.120401e-01 4.321793e-01\n",
                        " 4.523206e-01 4.724628e-01 4.926062e-01 5.127506e-01 5.328960e-01\n",
                        " 5.530424e-01 5.731888e-01 5.933372e-01 6.134868e-01 6.336375e-01\n",
                        " 6.537892e-01 6.739418e-01 6.940945e-01 7.142490e-01 7.344044e-01\n",
                        " 7.545605e-01 7.747174e-01 7.948748e-01 8.150318e-01 8.351902e-01\n",
                        " 8.553490e-01 8.755080e-01 8.956673e-01 9.158267e-01 9.259060e-01\n",
                        " 9.359855e-01 9.460661e-01 9.561460e-01 9.662273e-01 9.762995e-01\n",
                        " 9.863726e-01 9.964448e-01 1.000000e+00]\n",
                        "Upper xs:\n",
                        "[0.000000e+00 1.000000e-07 1.326000e-04 9.025000e-04 2.177700e-03\n",
                        " 4.270500e-03 6.861700e-03 9.439600e-03 1.252280e-02 1.866720e-02\n",
                        " 2.245200e-02 2.857120e-02 3.467730e-02 4.077250e-02 4.685900e-02\n",
                        " 5.293850e-02 6.103660e-02 7.114840e-02 8.125340e-02 9.135140e-02\n",
                        " 1.014458e-01 1.115353e-01 1.266648e-01 1.417878e-01 1.569077e-01\n",
                        " 1.720245e-01 1.871373e-01 2.022481e-01 2.173548e-01 2.324597e-01\n",
                        " 2.475623e-01 2.626617e-01 2.777603e-01 2.928576e-01 3.129842e-01\n",
                        " 3.331099e-01 3.532338e-01 3.733560e-01 3.934767e-01 4.135959e-01\n",
                        " 4.337125e-01 4.538288e-01 4.739435e-01 4.940568e-01 5.141689e-01\n",
                        " 5.342793e-01 5.543886e-01 5.744953e-01 5.946016e-01 6.147066e-01\n",
                        " 6.348101e-01 6.549124e-01 6.750130e-01 6.951115e-01 7.152095e-01\n",
                        " 7.353065e-01 7.554021e-01 7.754967e-01 7.955904e-01 8.156822e-01\n",
                        " 8.357743e-01 8.558658e-01 8.759568e-01 8.960472e-01 9.161372e-01\n",
                        " 9.261814e-01 9.362255e-01 9.462701e-01 9.563136e-01 9.663576e-01\n",
                        " 9.764083e-01 9.864605e-01 9.965117e-01 1.000000e+00 1.000000e+00]\n",
                        "i: 74, x: 1.0, x-1: 1.0\n",
                        "Error loading airfoil from C:\\Users\\tryfo\\Desktop\\Software\\Icarus\\Data\\2D\\SC1094R8\\sc1094r8\n",
                        "Error loading airfoil SC1094R8 from DB2D. Got error: `x` must be strictly increasing sequence.\n",
                        "Error in interpolating the airfoil data\n",
                        "Lower xs:\n",
                        "[-9.7045e-03 -7.0500e-04  2.2950e-03  8.2950e-03  1.2000e-02  1.8000e-02\n",
                        "  2.4000e-02  3.0000e-02  3.6000e-02  4.2000e-02  5.0000e-02  6.0000e-02\n",
                        "  7.0000e-02  8.0000e-02  9.0000e-02  1.0000e-01  1.1500e-01  1.3000e-01\n",
                        "  1.4500e-01  1.6000e-01  1.7500e-01  1.9000e-01  2.0500e-01  2.2000e-01\n",
                        "  2.3500e-01  2.5000e-01  2.6500e-01  2.8000e-01  3.0000e-01  3.2000e-01\n",
                        "  3.4000e-01  3.6000e-01  3.8000e-01  4.0000e-01  4.2000e-01  4.4000e-01\n",
                        "  4.6000e-01  4.8000e-01  5.0000e-01  5.2000e-01  5.4000e-01  5.6000e-01\n",
                        "  5.8000e-01  6.0000e-01  6.2000e-01  6.4000e-01  6.6000e-01  6.8000e-01\n",
                        "  7.0000e-01  7.2000e-01  7.4000e-01  7.6000e-01  7.8000e-01  8.0000e-01\n",
                        "  8.2000e-01  8.4000e-01  8.6000e-01  8.8000e-01  9.0000e-01  9.1000e-01\n",
                        "  9.2000e-01  9.3000e-01  9.4000e-01  9.5000e-01  9.6000e-01  9.7000e-01\n",
                        "  9.8000e-01  9.8350e-01]\n",
                        "Upper xs:\n",
                        "[-9.7045e-03 -9.6050e-03 -9.6050e-03 -8.9050e-03 -8.9050e-03 -7.7050e-03\n",
                        " -7.7050e-03 -5.7050e-03 -5.7050e-03 -3.2050e-03 -3.2050e-03 -7.0500e-04\n",
                        "  2.2950e-03  8.2950e-03  1.2000e-02  1.8000e-02  2.4000e-02  3.0000e-02\n",
                        "  3.6000e-02  4.2000e-02  5.0000e-02  6.0000e-02  7.0000e-02  8.0000e-02\n",
                        "  9.0000e-02  1.0000e-01  1.1500e-01  1.3000e-01  1.4500e-01  1.6000e-01\n",
                        "  1.7500e-01  1.9000e-01  2.0500e-01  2.2000e-01  2.3500e-01  2.5000e-01\n",
                        "  2.6500e-01  2.8000e-01  3.0000e-01  3.2000e-01  3.4000e-01  3.6000e-01\n",
                        "  3.8000e-01  4.0000e-01  4.2000e-01  4.4000e-01  4.6000e-01  4.8000e-01\n",
                        "  5.0000e-01  5.2000e-01  5.4000e-01  5.6000e-01  5.8000e-01  6.0000e-01\n",
                        "  6.2000e-01  6.4000e-01  6.6000e-01  6.8000e-01  7.0000e-01  7.2000e-01\n",
                        "  7.4000e-01  7.6000e-01  7.8000e-01  8.0000e-01  8.2000e-01  8.4000e-01\n",
                        "  8.6000e-01  8.8000e-01  9.0000e-01  9.1000e-01  9.2000e-01  9.3000e-01\n",
                        "  9.4000e-01  9.5000e-01  9.6000e-01  9.7000e-01  9.8000e-01  9.8350e-01\n",
                        "  9.8350e-01]\n",
                        "i: 2, x: -0.009605, x-1: -0.009605\n",
                        "i: 4, x: -0.008905, x-1: -0.008905\n",
                        "i: 6, x: -0.007705, x-1: -0.007705\n",
                        "i: 8, x: -0.005705, x-1: -0.005705\n",
                        "i: 10, x: -0.003205, x-1: -0.003205\n",
                        "i: 78, x: 0.9835, x-1: 0.9835\n",
                        "Error loading airfoil from C:\\Users\\tryfo\\Desktop\\Software\\Icarus\\Data\\2D\\SC1095R8\\sc1095r8\n",
                        "Error loading airfoil SC1095R8 from DB2D. Got error: `x` must be strictly increasing sequence.\n",
                        "Error in interpolating the airfoil data\n",
                        "Lower xs:\n",
                        "[0.     0.0125 0.025  0.05   0.075  0.1    0.125  0.15   0.175  0.175\n",
                        " 0.225  0.25   0.275  0.3    0.35   0.4    0.45   0.5    0.55   0.6\n",
                        " 0.65   0.7    0.75   0.8    0.85   0.9    0.95   1.    ]\n",
                        "i: 9, x: 0.175, x-1: 0.175\n",
                        "Upper xs:\n",
                        "[0.     0.0125 0.025  0.05   0.075  0.1    0.125  0.15   0.175  0.2\n",
                        " 0.225  0.25   0.275  0.3    0.35   0.4    0.45   0.5    0.55   0.6\n",
                        " 0.65   0.7    0.75   0.8    0.85   0.9    0.95   1.    ]\n",
                        "Error loading airfoil from C:\\Users\\tryfo\\Desktop\\Software\\Icarus\\Data\\2D\\WB140\\wb140\n",
                        "Error loading airfoil WB140 from DB2D. Got error: `x` must be strictly increasing sequence.\n"
                    ]
                }
            ],
            "source": [
                "from ICARUS.Database import DB\n",
                "DB.load_data()"
            ]
        },
        {
            "cell_type": "code",
            "execution_count": 4,
            "metadata": {},
            "outputs": [
                {
                    "name": "stdout",
                    "output_type": "stream",
                    "text": [
                        "Total number of loaded airfoils 1599\n",
                        "Total number of computed airfoil data 90\n",
                        "Total number of computed airfoil polars 90\n"
                    ]
                }
            ],
            "source": [
                "print(f\"Total number of loaded airfoils {len(list(DB.foils_db.airfoils.keys()))}\")\n",
                "print(f\"Total number of computed airfoil data {len(list(DB.foils_db._data.keys()))}\")\n",
                "print(f\"Total number of computed airfoil polars {len(list(DB.foils_db.polars.keys()))}\")"
            ]
        },
        {
            "attachments": {},
            "cell_type": "markdown",
            "metadata": {},
            "source": [
                "# Reynolds And Mach and AoA"
            ]
        },
        {
            "cell_type": "code",
            "execution_count": 5,
            "metadata": {},
            "outputs": [
                {
                    "name": "stdout",
                    "output_type": "stream",
                    "text": [
                        "Mach range: 0.029385836027034967 - 0.08815750808110491\n",
                        "Mach:\n",
                        "[0.08815751 0.08162732 0.07509714 0.06856695 0.06203676 0.05550658\n",
                        " 0.04897639 0.04244621 0.03591602 0.02938584]\n",
                        "\n",
                        "Reynolds range: 32051.28205128205 - 1121794.8717948718\n",
                        "Re:\n",
                        "[500000.0, 1000000.0]\n",
                        "\n",
                        "Angles of attack:\n",
                        "[-10.   -9.5  -9.   -8.5  -8.   -7.5  -7.   -6.5  -6.   -5.5  -5.   -4.5\n",
                        "  -4.   -3.5  -3.   -2.5  -2.   -1.5  -1.   -0.5   0.    0.5   1.    1.5\n",
                        "   2.    2.5   3.    3.5   4.    4.5   5.    5.5   6.    6.5   7.    7.5\n",
                        "   8.    8.5   9.    9.5  10.   10.5  11.   11.5  12. ]\n",
                        "\n"
                    ]
                }
            ],
            "source": [
                "# Assumptions\n",
                "chord_max: float = 0.5\n",
                "chord_min: float = 0.1\n",
                "u_max: float = 35.0\n",
                "u_min: float = 5.0\n",
                "viscosity: float = 1.56e-5\n",
                "speed_of_sound: float = 340.3\n",
                "\n",
                "# MACH ESTIMATION\n",
                "mach_min: float = calc_mach(10, speed_of_sound)\n",
                "mach_max: float = calc_mach(30, speed_of_sound)\n",
                "mach = np.linspace(mach_max, mach_min, 10)\n",
                "MACH: float = mach_max\n",
                "print(f\"Mach range: {mach_min} - {mach_max}\")\n",
                "print(f\"Mach:\\n{mach}\\n\")\n",
                "\n",
                "# REYNOLDS ESTIMATION\n",
                "reynolds_max: float = calc_reynolds(u_max, chord_max, viscosity)\n",
                "reynolds_min: float = calc_reynolds(u_min, chord_min, viscosity)\n",
                "# reynolds = np.linspace(reynolds_min, reynolds_max, 10)\n",
                "reynolds = [5e5, 1e6]\n",
                "\n",
                "REYN = reynolds_max\n",
                "print(f\"Reynolds range: {reynolds_min} - {reynolds_max}\")\n",
                "print(f\"Re:\\n{reynolds}\\n\")\n",
                "# ANGLE OF ATTACK SETUP\n",
                "aoa_max: float = 12\n",
                "aoa_min: float = -10\n",
                "num_of_angles: float = (aoa_max - aoa_min) * 2 + 1\n",
                "angles = np.linspace(\n",
                "    start=aoa_min,\n",
                "    stop=aoa_max,\n",
                "    num=num_of_angles,\n",
                ")\n",
                "\n",
                "print(f\"Angles of attack:\\n{angles}\\n\")\n",
                "\n",
                "ftrip_low: dict[str, float] = {\"pos\": 0.1, \"neg\": 0.2}\n",
                "ftrip_up: dict[str, float] = {\"pos\": 0.2, \"neg\": 0.1}"
            ]
        },
        {
            "cell_type": "code",
            "execution_count": 6,
            "metadata": {},
            "outputs": [],
            "source": [
                "cleaning = False\n",
                "calcF2W = True\n",
                "calcOpenFoam = False\n",
                "calcXFoil = True"
            ]
        },
        {
            "attachments": {},
            "cell_type": "markdown",
            "metadata": {},
            "source": [
                "# Get Airfoils"
            ]
        },
        {
            "cell_type": "code",
            "execution_count": 7,
            "metadata": {},
            "outputs": [
                {
                    "name": "stdout",
                    "output_type": "stream",
                    "text": [
                        "1\n"
                    ]
                }
            ],
            "source": [
                "all_airfoils = list(DB.foils_db.airfoils.keys())\n",
                "\n",
                "airfoils_to_compute = [airfoil  for airfoil in all_airfoils if \n",
                "            (\n",
                "                airfoil.upper().startswith('NACA0024') \n",
                "                # airfoil.upper().startswith('AG') or \n",
                "                # airfoil.upper().startswith('CLARK') or\n",
                "                # airfoil.upper().startswith('DAE') or\n",
                "                # airfoil.upper().startswith('E') or\n",
                "                # airfoil.upper().startswith('H') or\n",
                "                # airfoil.upper().startswith('M') or\n",
                "                # airfoil.upper().startswith('N') or\n",
                "                # airfoil.upper().startswith('O') or\n",
                "                # airfoil.upper().startswith('W') \n",
                "            )\n",
                "]\n",
                "print(len(airfoils_to_compute[:2]))\n"
            ]
        },
        {
            "attachments": {},
            "cell_type": "markdown",
            "metadata": {},
            "source": [
                "# Xfoil"
            ]
        },
        {
            "cell_type": "code",
            "execution_count": 8,
            "metadata": {},
            "outputs": [
                {
                    "data": {
                        "text/plain": [
                            "'NACA0024'"
                        ]
                    },
                    "execution_count": 8,
                    "metadata": {},
                    "output_type": "execute_result"
                }
            ],
            "source": [
                "airf: Airfoil = DB.get_airfoil(airfoils_to_compute[0])\n",
                "airf.plot()\n",
                "airf.name"
            ]
        },
        {
            "cell_type": "code",
            "execution_count": 12,
            "metadata": {},
            "outputs": [
                {
                    "name": "stdout",
                    "output_type": "stream",
                    "text": [
                        "\n",
                        "Running airfoil NACA0024\n",
                        "\n",
                        "Airfoil Polar Analysis For a multiple Reynolds using aseq\n",
                        "Available Options of Xfoil for Airfoil Polar Analysis For a multiple Reynolds using aseq: \n",
                        "\n",
                        "| VarName   | Value                       | Description                       |\n",
                        "|-----------|-----------------------------|-----------------------------------|\n",
                        "| airfoil   | Complex Datatype (NACA0024) | Airfoil Object                    |\n",
                        "| mach      | Complex Datatype            | Mach number                       |\n",
                        "| reynolds  | Complex Datatype            | List of Reynold's numbers to run  |\n",
                        "| min_aoa   | -10                         | Minimum angle of attack           |\n",
                        "| max_aoa   | 12                          | Maximum angle of attack           |\n",
                        "| aoa_step  | 0.5                         | Step between each angle of attack |\n",
                        "\n",
                        "If there are Multiple Values, or complex datatypes, or N/A you should inspect them sepretly by calling the option name\n",
                        "\n",
                        "Running Solver XFoil:\n",
                        "\tAnalysis Airfoil Polar Analysis For a multiple Reynolds using aseq...\n"
                    ]
                },
                {
                    "data": {
                        "application/vnd.jupyter.widget-view+json": {
                            "model_id": "842f829f1dea4a2d841335ac43648b37",
                            "version_major": 2,
                            "version_minor": 0
                        },
                        "text/plain": [
                            "  0%|          | 0/2 [00:00<?, ?it/s]"
                        ]
                    },
                    "metadata": {},
                    "output_type": "display_data"
                },
                {
                    "name": "stdout",
                    "output_type": "stream",
                    "text": [
                        "Adding NACA0024 to the database\n",
                        "Analysis Completed\n"
                    ]
                }
            ],
            "source": [
                "if calcXFoil:\n",
                "    from ICARUS.Computation.Solvers.Xfoil.xfoil import Xfoil \n",
                "\n",
                "    for airfoil in airfoils_to_compute[:2]:\n",
                "        print(f\"\\nRunning airfoil {airfoil}\\n\")\n",
                "        # # Get airfoil\n",
                "        airf: Airfoil = DB.foils_db.airfoils[airfoil]\n",
                "        airf.plot(scatter=True)\n",
                "        # airf.repanel(120, distribution=\"cosine\")\n",
                "        xfoil: Solver = Xfoil()\n",
                "\n",
                "        # Import Analysis\n",
                "        analysis: str = xfoil.get_analyses_names()[1]  # Run\n",
                "        xfoil.select_analysis(analysis)\n",
                "\n",
                "        # Get Options\n",
                "        options = xfoil.get_analysis_options(verbose=False)\n",
                "        solver_parameters = xfoil.get_solver_parameters()\n",
                "\n",
                "        # Set Options\n",
                "        options.airfoil = airf\n",
                "        options.mach = MACH\n",
                "        options.reynolds = reynolds\n",
                "        options.min_aoa = aoa_min\n",
                "        options.max_aoa = aoa_max\n",
                "        options.aoa_step = 0.5\n",
                "\n",
                "        # Set Solver Options\n",
                "        solver_parameters.max_iter = 100\n",
                "        solver_parameters.Ncrit = 9\n",
                "        solver_parameters.xtr = (1, 1)\n",
                "        solver_parameters.print = False\n",
                "        \n",
                "        xfoil.define_analysis(options, solver_parameters)\n",
                "        xfoil.print_analysis_options()\n",
                "    \n",
                "        # RUN\n",
                "        xfoil.execute(parallel=False)\n",
                "        # Get polar\n",
                "        polar = DB.foils_db.get_polars(airf.name.upper(), \"Xfoil\")\n",
                "        polar.plot()"
            ]
        },
        {
            "cell_type": "code",
            "execution_count": 10,
            "metadata": {},
            "outputs": [
                {
                    "data": {
                        "text/plain": [
                            "Struct(AG03=Struct(Xfoil=<ICARUS.Airfoils.airfoil_polars.Polars object at 0x000001BED648BC50>), AG04=Struct(), AG08=Struct(), AG09=Struct(), AG10=Struct(), AG11=Struct(), AG12=Struct(Xfoil=<ICARUS.Airfoils.airfoil_polars.Polars object at 0x000001BED649BA40>), AG13=Struct(Xfoil=<ICARUS.Airfoils.airfoil_polars.Polars object at 0x000001BED64C5D30>), AG14=Struct(Xfoil=<ICARUS.Airfoils.airfoil_polars.Polars object at 0x000001BED64C6960>), AG16=Struct(), AG17=Struct(), AG18=Struct(), AG19=Struct(), AG23=Struct(), AG24=Struct(Xfoil=<ICARUS.Airfoils.airfoil_polars.Polars object at 0x000001BED64EC890>), AG25=Struct(Xfoil=<ICARUS.Airfoils.airfoil_polars.Polars object at 0x000001BED64EE210>), AG26=Struct(Xfoil=<ICARUS.Airfoils.airfoil_polars.Polars object at 0x000001BED6509FA0>), AG27=Struct(Xfoil=<ICARUS.Airfoils.airfoil_polars.Polars object at 0x000001BED650BE60>), AG35=Struct(), AG36=Struct(), AG37=Struct(Xfoil=<ICARUS.Airfoils.airfoil_polars.Polars object at 0x000001BED651D8E0>), AG38=Struct(), AG44CT02R=Struct(Xfoil=<ICARUS.Airfoils.airfoil_polars.Polars object at 0x000001BED651EE10>), AG455CT02R=Struct(Xfoil=<ICARUS.Airfoils.airfoil_polars.Polars object at 0x000001BED651C4A0>), AG45C03=Struct(), AG45CT02R=Struct(Xfoil=<ICARUS.Airfoils.airfoil_polars.Polars object at 0x000001BED64C1F10>), AG46C03=Struct(), AG46CT02R=Struct(Xfoil=<ICARUS.Airfoils.airfoil_polars.Polars object at 0x000001BED64C3E30>), AG47C03=Struct(), AG47CT02R=Struct(Xfoil=<ICARUS.Airfoils.airfoil_polars.Polars object at 0x000001BED6499FA0>), AG52=Struct(Xfoil=<ICARUS.Airfoils.airfoil_polars.Polars object at 0x000001BED649B050>), AG53=Struct(Xfoil=<ICARUS.Airfoils.airfoil_polars.Polars object at 0x000001BED7530F80>), AG54=Struct(Xfoil=<ICARUS.Airfoils.airfoil_polars.Polars object at 0x000001BED754CE90>), AG55=Struct(Xfoil=<ICARUS.Airfoils.airfoil_polars.Polars object at 0x000001BED754F770>), CLARKK=Struct(Xfoil=<ICARUS.Airfoils.airfoil_polars.Polars object at 0x000001BED650B500>), CLARKV=Struct(Xfoil=<ICARUS.Airfoils.airfoil_polars.Polars object at 0x000001BED755B650>), CLARKW=Struct(Xfoil=<ICARUS.Airfoils.airfoil_polars.Polars object at 0x000001BED7599B80>), CLARKX=Struct(Xfoil=<ICARUS.Airfoils.airfoil_polars.Polars object at 0x000001BED755B350>), CLARKY=Struct(Xfoil=<ICARUS.Airfoils.airfoil_polars.Polars object at 0x000001BED7598440>), CLARKYH=Struct(Xfoil=<ICARUS.Airfoils.airfoil_polars.Polars object at 0x000001BED75BC440>), CLARKYS=Struct(Xfoil=<ICARUS.Airfoils.airfoil_polars.Polars object at 0x000001BED75BF6B0>), CLARKYSM=Struct(Xfoil=<ICARUS.Airfoils.airfoil_polars.Polars object at 0x000001BED75C4D10>), CLARKZ=Struct(Xfoil=<ICARUS.Airfoils.airfoil_polars.Polars object at 0x000001BED75C6060>), DAE11=Struct(Xfoil=<ICARUS.Airfoils.airfoil_polars.Polars object at 0x000001BED75E8AD0>), DAE21=Struct(Xfoil=<ICARUS.Airfoils.airfoil_polars.Polars object at 0x000001BED75EAED0>), DAE31=Struct(Xfoil=<ICARUS.Airfoils.airfoil_polars.Polars object at 0x000001BED75EA8A0>), DAE51=Struct(), E1098=Struct(Xfoil=<ICARUS.Airfoils.airfoil_polars.Polars object at 0x000001BED76060C0>), E1200=Struct(Xfoil=<ICARUS.Airfoils.airfoil_polars.Polars object at 0x000001BED76074A0>), E1210=Struct(Xfoil=<ICARUS.Airfoils.airfoil_polars.Polars object at 0x000001BED7607E60>), E1211=Struct(Xfoil=<ICARUS.Airfoils.airfoil_polars.Polars object at 0x000001BED761CCB0>), E1212=Struct(), E1212MOD=Struct(), E1213=Struct(Xfoil=<ICARUS.Airfoils.airfoil_polars.Polars object at 0x000001BED761E570>), E1214=Struct(Xfoil=<ICARUS.Airfoils.airfoil_polars.Polars object at 0x000001BED8609CD0>), E1230=Struct(), E1233=Struct(Xfoil=<ICARUS.Airfoils.airfoil_polars.Polars object at 0x000001BED650AF30>), E168=Struct(Xfoil=<ICARUS.Airfoils.airfoil_polars.Polars object at 0x000001BED86201A0>), E169=Struct(Xfoil=<ICARUS.Airfoils.airfoil_polars.Polars object at 0x000001BED8620860>), E171=Struct(Xfoil=<ICARUS.Airfoils.airfoil_polars.Polars object at 0x000001BED8622900>), E174=Struct(), E176=Struct(Xfoil=<ICARUS.Airfoils.airfoil_polars.Polars object at 0x000001BED86211F0>), E178=Struct(Xfoil=<ICARUS.Airfoils.airfoil_polars.Polars object at 0x000001BED8642E40>), E180=Struct(Xfoil=<ICARUS.Airfoils.airfoil_polars.Polars object at 0x000001BED8620920>), E182=Struct(), E184=Struct(Xfoil=<ICARUS.Airfoils.airfoil_polars.Polars object at 0x000001BED75BEAE0>), E186=Struct(Xfoil=<ICARUS.Airfoils.airfoil_polars.Polars object at 0x000001BED75BFDD0>), E193=Struct(Xfoil=<ICARUS.Airfoils.airfoil_polars.Polars object at 0x000001BED75C42C0>), E195=Struct(Xfoil=<ICARUS.Airfoils.airfoil_polars.Polars object at 0x000001BED75BC950>), E197=Struct(Xfoil=<ICARUS.Airfoils.airfoil_polars.Polars object at 0x000001BED866E720>), E201=Struct(Xfoil=<ICARUS.Airfoils.airfoil_polars.Polars object at 0x000001BED761F710>), E203=Struct(Xfoil=<ICARUS.Airfoils.airfoil_polars.Polars object at 0x000001BED754C590>), E205=Struct(Xfoil=<ICARUS.Airfoils.airfoil_polars.Polars object at 0x000001BED866E2D0>), E207=Struct(Xfoil=<ICARUS.Airfoils.airfoil_polars.Polars object at 0x000001BED75C79B0>), E209=Struct(Xfoil=<ICARUS.Airfoils.airfoil_polars.Polars object at 0x000001BED868C710>), E210=Struct(Xfoil=<ICARUS.Airfoils.airfoil_polars.Polars object at 0x000001BED761CFB0>), E211=Struct(Xfoil=<ICARUS.Airfoils.airfoil_polars.Polars object at 0x000001BED86A7890>), E212=Struct(), E214=Struct(Xfoil=<ICARUS.Airfoils.airfoil_polars.Polars object at 0x000001BED86B9610>), E216=Struct(), E220=Struct(Xfoil=<ICARUS.Airfoils.airfoil_polars.Polars object at 0x000001BED86BB4A0>), E221=Struct(), E222=Struct(Xfoil=<ICARUS.Airfoils.airfoil_polars.Polars object at 0x000001BED75987D0>), E224=Struct(Xfoil=<ICARUS.Airfoils.airfoil_polars.Polars object at 0x000001BED86098B0>), E226=Struct(), E228=Struct(Xfoil=<ICARUS.Airfoils.airfoil_polars.Polars object at 0x000001BED8623F80>), E230=Struct(), E231=Struct(Xfoil=<ICARUS.Airfoils.airfoil_polars.Polars object at 0x000001BED86D3B60>), E266=Struct(Xfoil=<ICARUS.Airfoils.airfoil_polars.Polars object at 0x000001BED8643590>), NACA0024=Struct(Xfoil=<ICARUS.Airfoils.airfoil_polars.Polars object at 0x000001BEDB413D10>))"
                        ]
                    },
                    "execution_count": 10,
                    "metadata": {},
                    "output_type": "execute_result"
                }
            ],
            "source": [
                "DB.foils_db.polars"
            ]
        },
        {
            "attachments": {},
            "cell_type": "markdown",
            "metadata": {},
            "source": [
                "# Foil2Wake"
            ]
        },
        {
            "cell_type": "code",
            "execution_count": 11,
            "metadata": {},
            "outputs": [
                {
                    "name": "stdout",
                    "output_type": "stream",
                    "text": [
                        "\n",
                        "Running airfoil NACA0024\n",
                        "\n",
                        "Airfoil Polar Analysis for Multiple Reynold's Numbers\n",
                        "Available Options of Foil2Wake for Airfoil Polar Analysis for Multiple Reynold's Numbers: \n",
                        "\n",
                        "| VarName   | Value                       | Description                      |\n",
                        "|-----------|-----------------------------|----------------------------------|\n",
                        "| airfoil   | Complex Datatype (NACA0024) | Airfoil Object                   |\n",
                        "| mach      | Complex Datatype            | Mach number                      |\n",
                        "| reynolds  | Complex Datatype            | List of Reynold's numbers to run |\n",
                        "| angles    | Complex Datatype            | List of angles to run polars     |\n",
                        "\n",
                        "If there are Multiple Values, or complex datatypes, or N/A you should inspect them sepretly by calling the option name\n",
                        "\n",
                        "Running Solver Foil2Wake:\n",
                        "\tAnalysis Airfoil Polar Analysis for Multiple Reynold's Numbers...\n"
                    ]
                },
                {
                    "data": {
                        "application/vnd.jupyter.widget-view+json": {
                            "model_id": "d659b024852c49c7a284f3f1f6273b9b",
                            "version_major": 2,
                            "version_minor": 0
                        },
                        "text/plain": [
                            "\t\t5.000e+05-pos-0.0 Progress::   0%|                              | 0/251 [00:00<?, ?it/s]"
                        ]
                    },
                    "metadata": {},
                    "output_type": "display_data"
                },
                {
                    "data": {
                        "application/vnd.jupyter.widget-view+json": {
                            "model_id": "7b9a543d2bc148418773a02452bf005a",
                            "version_major": 2,
                            "version_minor": 0
                        },
                        "text/plain": [
                            "\t\t5.000e+05-neg-0.0 Progress::   0%|                              | 0/251 [00:00<?, ?it/s]"
                        ]
                    },
                    "metadata": {},
                    "output_type": "display_data"
                },
                {
                    "data": {
                        "application/vnd.jupyter.widget-view+json": {
                            "model_id": "56a9c4034d1d4789a8d909072b88534b",
                            "version_major": 2,
                            "version_minor": 0
                        },
                        "text/plain": [
                            "\t\t1.000e+06-pos-0.0 Progress::   0%|                              | 0/251 [00:00<?, ?it/s]"
                        ]
                    },
                    "metadata": {},
                    "output_type": "display_data"
                },
                {
                    "data": {
                        "application/vnd.jupyter.widget-view+json": {
                            "model_id": "7647070420504f5f9247dba52a3f71a4",
                            "version_major": 2,
                            "version_minor": 0
                        },
                        "text/plain": [
                            "\t\t1.000e+06-neg-0.0 Progress::   0%|                              | 0/251 [00:00<?, ?it/s]"
                        ]
                    },
                    "metadata": {},
                    "output_type": "display_data"
                },
                {
                    "name": "stdout",
                    "output_type": "stream",
                    "text": [
                        "Analysis Finished 1.000e+06 9.0\n",
                        "Analysis Finished 1.000e+06 10.0\n"
                    ]
                },
                {
                    "ename": "",
                    "evalue": "",
                    "output_type": "error",
                    "traceback": [
                        "\u001b[1;31mThe Kernel crashed while executing code in the current cell or a previous cell. \n",
                        "\u001b[1;31mPlease review the code in the cell(s) to identify a possible cause of the failure. \n",
                        "\u001b[1;31mClick <a href='https://aka.ms/vscodeJupyterKernelCrash'>here</a> for more info. \n",
                        "\u001b[1;31mView Jupyter <a href='command:jupyter.viewOutput'>log</a> for further details."
                    ]
                }
            ],
            "source": [
                "if calcF2W :\n",
                "    # Import Solver\n",
                "    from ICARUS.Computation.Solvers.Foil2Wake.f2w_section import Foil2Wake\n",
                "    f2w_s: Solver = Foil2Wake()\n",
                "\n",
                "    for airfoil in airfoils_to_compute[:1]:\n",
                "        print(f\"\\nRunning airfoil {airfoil}\\n\")\n",
                "        # Import Analysis\n",
                "        analysis: str = f2w_s.get_analyses_names()[1]  # Run\n",
                "        f2w_s.select_analysis(analysis)\n",
                "\n",
                "        # Get Options\n",
                "        options: Struct = f2w_s.get_analysis_options(verbose=False)\n",
                "        solver_parameters: Struct = f2w_s.get_solver_parameters()\n",
                "\n",
                "        # Set Options\n",
                "        options.airfoil = DB.foils_db.airfoils[airfoil]\n",
                "        options.reynolds = reynolds\n",
                "        options.mach = MACH\n",
                "        options.angles = angles\n",
                "\n",
                "        solver_parameters.f_trip_upper = 0.03\n",
                "        solver_parameters.f_trip_low = 0.1\n",
                "\n",
                "        # RUN\n",
                "        f2w_s.define_analysis(options, solver_parameters)\n",
                "        f2w_s.print_analysis_options()\n",
                "        f2w_s.execute(parallel=True)\n",
                "\n",
                "        # Get Results\n",
                "        polars = f2w_s.get_results()\n"
            ]
        },
        {
            "cell_type": "code",
            "execution_count": null,
            "metadata": {},
            "outputs": [],
            "source": [
                "print(airfoils_to_compute[1])\n",
                "DB.foils_db.polars[airfoils_to_compute[1]]"
            ]
        },
        {
            "attachments": {},
            "cell_type": "markdown",
            "metadata": {},
            "source": [
                "# Mapflow"
            ]
        },
        {
            "cell_type": "code",
            "execution_count": null,
            "metadata": {},
            "outputs": [],
            "source": [
                "# Not Implemented"
            ]
        },
        {
            "cell_type": "markdown",
            "metadata": {},
            "source": [
                "# OpenFoam (NOT HIGH MACH)"
            ]
        },
        {
            "cell_type": "code",
            "execution_count": null,
            "metadata": {},
            "outputs": [],
            "source": [
                "if calcOpenFoam:\n",
                "    airfoils_to_compute: list[str] = [airf.name]#[\"0008\"]\n",
                "    from ICARUS.Computation.Solvers.OpenFoam.open_foam import OpenFoam\n",
                "\n",
                "    for airfoil in airfoils_to_compute:\n",
                "        print(f\"\\nRunning airfoil {airfoil}\\n\")\n",
                "        # # Get Airfoil\n",
                "        airf: Airfoil = Airfoil.naca(airfoil, n_points=200)\n",
                "        # airf.plot()\n",
                "        open_foam: Solver = OpenFoam()\n",
                "\n",
                "        # Import Analysis\n",
                "        analysis: str = open_foam.get_analyses_names()[0]  # Run\n",
                "        open_foam.select_analysis(analysis)\n",
                "\n",
                "        # Get Options\n",
                "        options = open_foam.get_analysis_options(verbose=True)\n",
                "        solver_parameters = open_foam.get_solver_parameters()\n",
                "\n",
                "        # Set Options\n",
                "        options.airfoil = airf\n",
                "        options.angles = angles\n",
                "        options.reynolds = REYN\n",
                "        options.mach = MACH\n",
                "        open_foam.print_analysis_options()\n",
                "\n",
                "        # Set Solver Options\n",
                "        solver_parameters.mesh_type = MeshType.structAirfoilMesher\n",
                "        solver_parameters.max_iterations = 20\n",
                "        solver_parameters.silent = False\n",
                "        \n",
                "        # RUN\n",
                "        open_foam.set_analysis_options(options)\n",
                "        open_foam.print_analysis_options()\n",
                "        open_foam.execute()"
            ]
        },
        {
            "cell_type": "code",
            "execution_count": null,
            "metadata": {},
            "outputs": [],
            "source": []
        }
    ],
    "metadata": {
        "kernelspec": {
            "display_name": "aero",
            "language": "python",
            "name": "python3"
        },
        "language_info": {
            "codemirror_mode": {
                "name": "ipython",
                "version": 3
            },
            "file_extension": ".py",
            "mimetype": "text/x-python",
            "name": "python",
            "nbconvert_exporter": "python",
            "pygments_lexer": "ipython3",
            "version": "3.12.0"
        },
        "vscode": {
            "interpreter": {
                "hash": "8acd08952dc410be23279ea6eab1a080d514a48a01ad47827aa392f9fbd61ae4"
            }
        }
    },
    "nbformat": 4,
    "nbformat_minor": 2
}
