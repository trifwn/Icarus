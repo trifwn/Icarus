{
 "cells": [
  {
   "cell_type": "code",
   "execution_count": null,
   "metadata": {},
   "outputs": [],
   "source": [
    "%load_ext autoreload\n",
    "%autoreload 2\n",
    "%matplotlib qt5"
   ]
  },
  {
   "cell_type": "code",
   "execution_count": null,
   "metadata": {},
   "outputs": [],
   "source": [
    "import numpy as np\n",
    "from ICARUS.database import DB\n",
    "\n",
    "from ICARUS.computation.solvers.AVL.analyses.pertrubations import avl_dynamic_analysis_fd, process_avl_fd_res\n",
    "from ICARUS.environment.definition import EARTH_ISA\n",
    "from ICARUS.flight_dynamics.state import State"
   ]
  },
  {
   "cell_type": "markdown",
   "metadata": {},
   "source": [
    "# Optimization"
   ]
  },
  {
   "cell_type": "markdown",
   "metadata": {},
   "source": [
    "## Define Parameters"
   ]
  },
  {
   "cell_type": "code",
   "execution_count": null,
   "metadata": {},
   "outputs": [],
   "source": [
    "plane = DB.get_vehicle('hermes')\n",
    "plane.visualize()"
   ]
  },
  {
   "cell_type": "code",
   "execution_count": null,
   "metadata": {},
   "outputs": [],
   "source": [
    "from ICARUS.core.types import ComplexArray, FloatArray\n",
    "\n",
    "UINF = 20\n",
    "solver2D = \"Xfoil\"\n",
    "angles = np.linspace(-10, 10, 11)\n",
    "\n",
    "state = State(\n",
    "        name=\"Unstick\",\n",
    "        airplane=plane,\n",
    "        environment=EARTH_ISA,\n",
    "        u_freestream= UINF\n",
    ")\n",
    "\n",
    "epsilons = {\n",
    "    \"u\": 0.01 * UINF,\n",
    "    \"v\": 0.01 * UINF,\n",
    "    \"w\": 0.01 * UINF,\n",
    "    \"q\": 0.005 * UINF,\n",
    "    \"p\": 0.005 * UINF,\n",
    "    \"r\": 0.005 * UINF,\n",
    "    \"theta\": 0.01,\n",
    "    \"phi\": 0.005 * UINF,\n",
    "}\n",
    "\n",
    "state.add_all_pertrubations(\"Central\", epsilons)\n",
    "avl_dynamic_analysis_fd(plane, state, solver2D, {\"use_avl_control\": True})\n",
    "df = process_avl_fd_res(plane, state)\n",
    "state.set_pertrubation_results(df)\n",
    "state.stability_fd()\n",
    "target_cl_cd = state.trim[\"CL/CD\"]\n",
    "from ICARUS.visualization.airplane import plot_airplane_polars\n",
    "plot_airplane_polars([plane.name])\n",
    "state.plot_eigenvalues()\n",
    "\n",
    "initial_longitudal_modes: ComplexArray = state.state_space.longitudal.eigenvalues\n",
    "initial_lateral_modes: ComplexArray = state.state_space.lateral.eigenvalues\n",
    "\n",
    "desired_lateral_modes: ComplexArray = np.array([\n",
    "    -30. + 0.j,\n",
    "    -1.0 + 4.j,\n",
    "    -1.0 - 4.j,\n",
    "    -0.5 + 0.j\n",
    "], dtype=complex)\n",
    "desired_lateral_omegas: FloatArray = np.abs(desired_lateral_modes)\n",
    "desired_lateral_zetas: FloatArray = - desired_lateral_modes.real / desired_lateral_omegas\n",
    "\n",
    "\n",
    "desired_longitudal_modes: ComplexArray = np.array([\n",
    "    -1.0 - 4.j,\n",
    "    -1.0 + 4.j,\n",
    "    -0.1 - 0.4j,\n",
    "    -0.1 + 0.4j\n",
    "], dtype=complex\n",
    ")\n",
    "desired_longitudal_omegas: FloatArray = np.abs(desired_longitudal_modes)\n",
    "desired_longitudal_zetas: FloatArray = - desired_longitudal_modes.real / desired_longitudal_omegas"
   ]
  },
  {
   "cell_type": "markdown",
   "metadata": {},
   "source": [
    "## Define the optimization problem"
   ]
  },
  {
   "cell_type": "code",
   "execution_count": null,
   "metadata": {},
   "outputs": [],
   "source": [
    "design_variables = [\n",
    "    # Point Masses\n",
    "    \"payload_position_x\",\n",
    "    # Elevator\n",
    "    \"elevator_position_x\",\n",
    "    \"elevator_root_chord\",\n",
    "    \"elevator_tip_chord\",\n",
    "    \"elevator_pitch\",\n",
    "    # Rudder\n",
    "    \"rudder_position_x\",\n",
    "    \"rudder_root_chord\",\n",
    "    \"rudder_tip_chord\",\n",
    "]\n",
    "\n",
    "bounds = {\n",
    "    # Point Masses\n",
    "    \"payload_position_x\": (0., 0.5),\n",
    "    # Elevator\n",
    "    \"elevator_position_x\": (0.4, 0.8),\n",
    "    \"elevator_root_chord\": (0.05, 0.4),\n",
    "    \"elevator_tip_chord\": (0.01, 0.1),\n",
    "    \"elevator_pitch\": (-3, 3),    \n",
    "    # Rudder\n",
    "    \"rudder_position_x\": (0.4, 0.8),\n",
    "    \"rudder_root_chord\": (0.05, 0.4),\n",
    "    \"rudder_tip_chord\": (0.05, 0.2),\n",
    "}\n",
    "\n",
    "desing_constants = {\n",
    "    \"state\": state,\n",
    "}"
   ]
  },
  {
   "cell_type": "markdown",
   "metadata": {},
   "source": [
    "## Define Objective Function"
   ]
  },
  {
   "cell_type": "code",
   "execution_count": null,
   "metadata": {},
   "outputs": [],
   "source": [
    "from ICARUS.flight_dynamics.trim import TrimNotPossible, TrimOutsidePolars\n",
    "from ICARUS.vehicle.plane import Airplane\n",
    "\n",
    "def obj_fun(\n",
    "    plane: Airplane,\n",
    "    state: State,\n",
    "):\n",
    "\n",
    "    ## ACC CODE\n",
    "    # PLANE\n",
    "    # VRISKEIS \n",
    "    # PISTA\n",
    "    # ACC SCORE\n",
    "    # PENALTIES\n",
    "\n",
    "    state.update_plane(plane)\n",
    "    state.add_all_pertrubations(\"Central\")\n",
    "    try:\n",
    "        avl_dynamic_analysis_fd(plane, state, \"Xfoil\")\n",
    "    except (TrimNotPossible, TrimOutsidePolars):\n",
    "        return np.inf\n",
    "\n",
    "    df = process_avl_fd_res(plane, state)\n",
    "    state.set_pertrubation_results(df)\n",
    "    state.stability_fd()\n",
    "\n",
    "    # longitudal_eigs: ComplexArray = unstick.state_space.longitudal.eigenvalues\n",
    "    # lateral_eigs: ComplexArray = unstick.state_space.lateral.eigenvalues\n",
    "\n",
    "    # Get the eigenvalues and the damping ratios for the longitudinal modes\n",
    "    longitudal_omegas = state.state_space.longitudal.omegas\n",
    "    longitudal_zetas = state.state_space.longitudal.zetas\n",
    "    lateral_omegas = state.state_space.lateral.omegas\n",
    "    lateral_zetas = state.state_space.lateral.zetas\n",
    "  \n",
    "    # Compute the fitness function\n",
    "    fitness = 0.\n",
    "    for i in range(len(desired_longitudal_modes)):\n",
    "        fitness += (longitudal_omegas[i] - desired_longitudal_omegas[i])**2\n",
    "        fitness += (longitudal_zetas[i] - desired_longitudal_zetas[i])**2\n",
    "\n",
    "    return fitness\n",
    "\n",
    "def constraint_cl_over_cd(\n",
    "    state: State\n",
    "):\n",
    "    return state.trim[\"CL/CD\"] - target_cl_cd + 1\n",
    "\n",
    "def constraint_cm_a_pos(\n",
    "    state: State\n",
    "):\n",
    "    if \"Cm0\" not in state.trim.keys():\n",
    "        return np.inf\n",
    "    return state.trim[\"Cm0\"]\n",
    "\n",
    "def constraint_rudder_position(\n",
    "    plane: Airplane,\n",
    "):\n",
    "    # Set the position of the elevator and rudder\n",
    "    eleve_position_x = plane.__getattribute__(\"elevator_position_x\")\n",
    "    plane.__setattr__(\"rudder_position_x\", eleve_position_x)"
   ]
  },
  {
   "cell_type": "code",
   "execution_count": null,
   "metadata": {},
   "outputs": [],
   "source": [
    "# plane.__setattr__(\"elevator_pitch\", 90.0)\n",
    "# plane.visualize()"
   ]
  },
  {
   "cell_type": "markdown",
   "metadata": {},
   "source": [
    "## Run Optimizer"
   ]
  },
  {
   "cell_type": "code",
   "execution_count": null,
   "metadata": {},
   "outputs": [],
   "source": [
    "from ICARUS.optimization.callbacks.design_variables_vis import DesignVariableVisualizer\n",
    "from ICARUS.optimization.callbacks.eigenvalue_opt_vis import EigenvalueOptimizationVisualizer\n",
    "from ICARUS.optimization.callbacks.optimization_progress_vis import OptimizationProgress\n",
    "from ICARUS.optimization.callbacks.plane_geometry_vis import PlaneGeometryVisualization\n",
    "from ICARUS.optimization.callbacks.plane_polars_vis import AirplanePolarOptimizationVisualizer\n",
    "from ICARUS.optimization.optimizers.airplane.airplane_dynamics_optimizer import Airplane_Dynamics_Optimizer\n",
    "\n",
    "# Design variable callback\n",
    "design_variable_callback = DesignVariableVisualizer(\n",
    "    plane = plane,\n",
    "    design_variables= design_variables,\n",
    "    bounds= bounds,\n",
    ")\n",
    "\n",
    "# Progress callback\n",
    "progress_callback = OptimizationProgress()\n",
    "\n",
    "# Plane geometry callback\n",
    "plane_geometry_callback = PlaneGeometryVisualization(plane = plane)\n",
    "\n",
    "# Eigenvalue callback\n",
    "eigenvalue_callback = EigenvalueOptimizationVisualizer(\n",
    "    goal_longitudal= desired_longitudal_modes,\n",
    "    goal_lateral= desired_lateral_modes,\n",
    "    initial_longitudal= initial_longitudal_modes,\n",
    "    initial_lateral= initial_lateral_modes\n",
    ")\n",
    "\n",
    "polar_callback = AirplanePolarOptimizationVisualizer(\n",
    "    initial_state=state,\n",
    ")\n",
    "\n",
    "optimizer = Airplane_Dynamics_Optimizer(\n",
    "    design_variables= design_variables,\n",
    "    design_constants= desing_constants,\n",
    "    plane= plane,\n",
    "    state = state,\n",
    "    f= obj_fun,\n",
    "    non_linear_constraints = [\n",
    "        {\n",
    "            \"type\": \"ineq\",\n",
    "            \"fun\": constraint_cl_over_cd,\n",
    "            \"lb\": -1.,\n",
    "            \"ub\": 1.\n",
    "        },\n",
    "        {\n",
    "            \"type\": \"ineq\",\n",
    "            \"fun\": constraint_cm_a_pos,\n",
    "            \"lb\": 0.,\n",
    "            \"ub\": np.inf\n",
    "        },\n",
    "    ],\n",
    "    bounds= bounds,\n",
    "    jac= None,\n",
    "    # jac_fun= jac_fun,\n",
    "    callback_list= [\n",
    "        eigenvalue_callback,\n",
    "        design_variable_callback,\n",
    "        progress_callback,\n",
    "        polar_callback,\n",
    "        # plane_geometry_callback\n",
    "    ]\n",
    ")"
   ]
  },
  {
   "cell_type": "code",
   "execution_count": null,
   "metadata": {},
   "outputs": [],
   "source": [
    "res = optimizer(\"Nelder-Mead\", options={\"maxiter\": 1000})"
   ]
  },
  {
   "cell_type": "markdown",
   "metadata": {},
   "source": [
    "# Get Results"
   ]
  },
  {
   "cell_type": "code",
   "execution_count": null,
   "metadata": {},
   "outputs": [],
   "source": [
    "import matplotlib.pyplot as plt"
   ]
  },
  {
   "cell_type": "code",
   "execution_count": null,
   "metadata": {},
   "outputs": [],
   "source": [
    "fig = plt.figure()\n",
    "ax = fig.add_subplot(111, projection = '3d')\n",
    "\n",
    "optimizer.current_obj.visualize(fig, ax) # type: ignore\n",
    "optimizer.current_obj.visualize(fig, ax) # type: ignore"
   ]
  },
  {
   "cell_type": "code",
   "execution_count": null,
   "metadata": {},
   "outputs": [],
   "source": [
    "plane_1: Airplane = optimizer.initial_obj\n",
    "plane_2: Airplane = optimizer.current_obj\n",
    "\n",
    "unstick_1 = State(name=\"Unstick\", airplane=plane_1, environment=EARTH_ISA, u_freestream=UINF)\n",
    "unstick_1.add_all_pertrubations(\"Central\")\n",
    "avl_dynamic_analysis_fd(plane_1, unstick_1, solver2D='Xfoil')\n",
    "df = process_avl_fd_res(plane_1, unstick_1)\n",
    "unstick_1.set_pertrubation_results(df)\n",
    "unstick_1.stability_fd()"
   ]
  },
  {
   "cell_type": "code",
   "execution_count": null,
   "metadata": {},
   "outputs": [],
   "source": [
    "unstick_2 = State(name=\"Unstick\", airplane=plane_2, environment=EARTH_ISA, u_freestream=UINF)\n",
    "unstick_2.add_all_pertrubations(\"Central\")\n",
    "avl_dynamic_analysis_fd(plane_2, unstick_2, solver2D=\"Xfoil\")\n",
    "df = process_avl_fd_res(plane_2, unstick_2)\n",
    "unstick_2.set_pertrubation_results(df)\n",
    "unstick_2.stability_fd()"
   ]
  },
  {
   "cell_type": "code",
   "execution_count": null,
   "metadata": {},
   "outputs": [],
   "source": [
    "initial = (unstick_1.state_space.longitudal.zetas, unstick_1.state_space.longitudal.omegas)\n",
    "current = (unstick_2.state_space.longitudal.zetas, unstick_2.state_space.longitudal.omegas)"
   ]
  },
  {
   "cell_type": "code",
   "execution_count": null,
   "metadata": {},
   "outputs": [],
   "source": [
    "plt.scatter(initial[0], initial[1], label=\"initial\")\n",
    "plt.scatter(current[0],current[1], label=\"current\")\n",
    "plt.scatter(desired_longitudal_zetas,desired_longitudal_omegas,label=\"desired\")\n",
    "plt.grid()\n",
    "plt.legend()\n",
    "plt.show()"
   ]
  },
  {
   "cell_type": "code",
   "execution_count": null,
   "metadata": {},
   "outputs": [],
   "source": []
  }
 ],
 "metadata": {
  "kernelspec": {
   "display_name": "myp",
   "language": "python",
   "name": "python3"
  },
  "language_info": {
   "codemirror_mode": {
    "name": "ipython",
    "version": 3
   },
   "file_extension": ".py",
   "mimetype": "text/x-python",
   "name": "python",
   "nbconvert_exporter": "python",
   "pygments_lexer": "ipython3",
   "version": "3.12.0"
  }
 },
 "nbformat": 4,
 "nbformat_minor": 2
}
