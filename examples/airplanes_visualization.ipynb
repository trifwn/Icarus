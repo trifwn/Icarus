{
    "cells": [
        {
            "cell_type": "code",
            "execution_count": null,
            "metadata": {},
            "outputs": [],
            "source": [
                "%load_ext autoreload\n",
                "%autoreload 2\n",
                "%matplotlib qt"
            ]
        },
        {
            "cell_type": "code",
            "execution_count": null,
            "metadata": {},
            "outputs": [],
            "source": [
                "# import logging\n",
                "# logging.basicConfig(level=logging.DEBUG)"
            ]
        },
        {
            "cell_type": "code",
            "execution_count": null,
            "metadata": {},
            "outputs": [],
            "source": [
                "from ICARUS.database import DB\n",
                "from ICARUS.database.Database_3D import Database_3D\n",
                "from time import sleep"
            ]
        },
        {
            "attachments": {},
            "cell_type": "markdown",
            "metadata": {},
            "source": [
                "# Open Database"
            ]
        },
        {
            "cell_type": "code",
            "execution_count": null,
            "metadata": {},
            "outputs": [],
            "source": [
                "db3d: Database_3D = DB.vehicles_db\n",
                "db3d.load_data()"
            ]
        },
        {
            "attachments": {},
            "cell_type": "markdown",
            "metadata": {},
            "source": [
                "### Select Plane"
            ]
        },
        {
            "cell_type": "code",
            "execution_count": null,
            "metadata": {},
            "outputs": [],
            "source": [
                "db3d.planes"
            ]
        },
        {
            "cell_type": "code",
            "execution_count": null,
            "metadata": {},
            "outputs": [],
            "source": [
                "planenames: list[str] = db3d.get_planenames()\n",
                "for i, planename in enumerate(planenames):\n",
                "    print(f\"{i} : `{planename}\") \n",
                "sleep(1)\n",
                "\n",
                "indexes = [1]# range(0,len(planenames))\n",
                "print(len(planenames))\n",
                "plane = db3d.planes[planenames[indexes[0]]]\n",
                "# dynplane = db3d.dyn_planes[planenames[index]]\n",
                "planenames = [planenames[i] for i in indexes]"
            ]
        },
        {
            "attachments": {},
            "cell_type": "markdown",
            "metadata": {},
            "source": [
                "# Add XFLR Polars"
            ]
        },
        {
            "cell_type": "code",
            "execution_count": null,
            "metadata": {},
            "outputs": [],
            "source": [
                "from ICARUS.computation.solvers.XFLR5.polars import read_polars_3d\n",
                "from ICARUS.database import EXTERNAL_DB\n",
                "for name in planenames:\n",
                "    if name.startswith(\"XFLR\"):\n",
                "        continue\n",
                "\n",
                "    if f\"XFLR_{name}\" not in planenames: \n",
                "        try:\n",
                "            import os\n",
                "            XFLR5PLANEDIR: str = os.path.join(EXTERNAL_DB,f\"{name}.txt\")\n",
                "            read_polars_3d(XFLR5PLANEDIR, name)\n",
                "            print(f\"Imported XFLR polar for {name}\")\n",
                "            planenames.append(f\"XFLR_{name}\")\n",
                "        except FileNotFoundError:\n",
                "            pass\n",
                "            # print(f\"No XFLR polar found for {name}\")\n",
                "        "
            ]
        },
        {
            "cell_type": "code",
            "execution_count": null,
            "metadata": {},
            "outputs": [],
            "source": [
                "# planenames =[planenames[0]]\n",
                "# planenames[0] = \"Embraer_E190_Cruise 2D\"\n",
                "# db3d.data[planenames[0]] = db3d.data[\"XFLR_e190_cruise\"]"
            ]
        },
        {
            "cell_type": "code",
            "execution_count": null,
            "metadata": {},
            "outputs": [],
            "source": [
                "# try:\n",
                "#     XFLR5PLANEDIR = os.path.join(EXTERNAL_DB,f\"e190_takeoff.txt\")\n",
                "#     read_polars_3d(db3d, XFLR5PLANEDIR, 'XFLR5_e190_takeoff')\n",
                "#     planenames.append('Embraer_E190_takeoff')\n",
                "#     planenames[-1]= \"Embraer_E190_takeoff\"\n",
                "# except FileNotFoundError:\n",
                "#     print(\"No XFLR polar found for e190_takeoff.txt\")"
            ]
        },
        {
            "cell_type": "code",
            "execution_count": null,
            "metadata": {},
            "outputs": [],
            "source": [
                "# db3d.data[planenames[1]] = db3d.data[\"XFLR_Embraer_E190_takeoff\"]"
            ]
        },
        {
            "attachments": {},
            "cell_type": "markdown",
            "metadata": {},
            "source": [
                "# Airplane Visualization"
            ]
        },
        {
            "cell_type": "code",
            "execution_count": null,
            "metadata": {},
            "outputs": [],
            "source": [
                "# plane.visualize()"
            ]
        },
        {
            "attachments": {},
            "cell_type": "markdown",
            "metadata": {},
            "source": [
                "# Polars"
            ]
        },
        {
            "cell_type": "code",
            "execution_count": null,
            "metadata": {},
            "outputs": [],
            "source": [
                "from ICARUS.visualization.airplane.db_polars import plot_airplane_polars \n",
                "DB.vehicles_db.load_data()\n",
                "solvers = [\n",
                "            # \"GenuVP3 Potential\",\n",
                "            # \"GenuVP3 2D\", \n",
                "            # \"GNVP3 ONERA\",\n",
                "            # \"GNVP7 Potential\",\n",
                "            # \"GNVP7 2D\",\n",
                "            # \"LSPT Potential\",\n",
                "            # \"LSPT 2D\",/'/\n",
                "            \"AVL\"\n",
                "        ]\n",
                "axs, fig = plot_airplane_polars(\n",
                "    planenames,\n",
                "    solvers,\n",
                "    plots = [[\"AoA\", \"CL\"], [\"AoA\", \"CD\"], [\"AoA\", \"Cm\"]],\n",
                "    size=(6,7),\n",
                ")"
            ]
        },
        {
            "cell_type": "code",
            "execution_count": null,
            "metadata": {},
            "outputs": [],
            "source": [
                "# from ICARUS.visualization.airplane.cg_investigation import cg_investigation\n",
                "\n",
                "# cg_investigation(\n",
                "#     planenames[0],\n",
                "#     solvers,\n",
                "#     size=(10,7),\n",
                "# )"
            ]
        },
        {
            "attachments": {},
            "cell_type": "markdown",
            "metadata": {},
            "source": [
                "# Case Convergence"
            ]
        },
        {
            "cell_type": "code",
            "execution_count": null,
            "metadata": {},
            "outputs": [],
            "source": [
                "from ICARUS.visualization.airplane.gnvp_convergence import plot_convergence"
            ]
        },
        {
            "cell_type": "code",
            "execution_count": null,
            "metadata": {},
            "outputs": [],
            "source": [
                "angles2show = [0.]# All\n",
                "plot_convergence(\n",
                "    plane.name,\n",
                "    angles = angles2show,\n",
                "    solvers= [\"All\"],\n",
                "    plot_error = False,\n",
                "    size=(16,7)\n",
                ")"
            ]
        },
        {
            "attachments": {},
            "cell_type": "markdown",
            "metadata": {},
            "source": [
                "# Wake Visualization"
            ]
        },
        {
            "cell_type": "code",
            "execution_count": null,
            "metadata": {},
            "outputs": [],
            "source": [
                "from ICARUS.visualization.airplane.gnvp_wake import plot_gnvp_wake\n",
                "from ICARUS.database.utils  import angle_to_case"
            ]
        },
        {
            "cell_type": "code",
            "execution_count": null,
            "metadata": {},
            "outputs": [],
            "source": [
                "from ICARUS.database import DB3D\n",
                "plane.CASEDIR =  os.path.join(DB3D, \"Hermes\")"
            ]
        },
        {
            "cell_type": "code",
            "execution_count": null,
            "metadata": {},
            "outputs": [],
            "source": [
                "CASE: str = angle_to_case(0.)\n",
                "plane = db3d.planes[plane.name]\n",
                "# plane = db3d.planes['bmark']\n",
                "# plane.visualize()\n",
                "plot_gnvp_wake(3,plane,CASE, scale = \"\")"
            ]
        },
        {
            "attachments": {},
            "cell_type": "markdown",
            "metadata": {},
            "source": [
                " # Loads Visualization"
            ]
        },
        {
            "cell_type": "code",
            "execution_count": null,
            "metadata": {},
            "outputs": [],
            "source": [
                "from ICARUS.visualization.airplane.gnvp_strips import gnvp_strips_2d, gnvp_strips_3d\n",
                "NBs = [i+1 for i in range(len(plane.surfaces))]\n",
                "print(plane)\n",
                "print(\"NBs to Visualize: \",NBs)\n",
                "\n",
                "stripData = gnvp_strips_2d(plane,CASE, NBs[0], category= 'Wind')"
            ]
        },
        {
            "attachments": {},
            "cell_type": "markdown",
            "metadata": {},
            "source": [
                "# Dynamics"
            ]
        },
        {
            "cell_type": "code",
            "execution_count": null,
            "metadata": {},
            "outputs": [],
            "source": [
                "states = db3d.states['plane_1']\n",
                "for i,name in enumerate(states):\n",
                "    print(f\"{i}: {name}\")"
            ]
        },
        {
            "cell_type": "code",
            "execution_count": null,
            "metadata": {},
            "outputs": [],
            "source": [
                "db3d.states['plane_1']"
            ]
        },
        {
            "cell_type": "code",
            "execution_count": null,
            "metadata": {},
            "outputs": [],
            "source": [
                "# name = 'atlas'\n",
                "from ICARUS.flight_dynamics.state import State\n",
                "\n",
                "\n",
                "state: State = states['plane_1']\n",
                "state.stability_fd()\n",
                "print(state)\n",
                "state.plot_eigenvalues()\n",
                "#   Longitudinal derivatives\n",
                "#   Xu=    -0.16379         Cxu=   -0.049477\n",
                "#   Xw=      1.1494         Cxa=     0.34723\n",
                "#   Zu=     -3.0117         Czu=  -0.0035415\n",
                "#   Zw=     -19.528         CLa=      5.8991\n",
                "#   Zq=     -1.8321         CLq=      9.1645\n",
                "#   Mu= -0.00060463         Cmu=  -0.0015122\n",
                "#   Mw=    -0.45664         Cma=     -1.1421\n",
                "#   Mq=    -0.39098         Cmq=     -16.193\n",
                "\n",
                "#   Lateral derivatives\n",
                "#   Yv=     -0.5496         CYb=    -0.16602\n",
                "#   Yp=   -0.017022         CYp=  -0.0045504\n",
                "#   Yr=     0.32383         CYr=    0.086568\n",
                "#   Lv=    0.039731         Clb=   0.0053106\n",
                "#   Lp=     -5.6227         Clp=     -0.6651\n",
                "#   Lr=      1.0377         Clr=     0.12275\n",
                "#   Nv=     0.28879         Cnb=    0.038602\n",
                "#   Np=    -0.57586         Cnp=   -0.068117\n",
                "#   Nr=     -0.1259         Cnr=   -0.014893\n"
            ]
        },
        {
            "cell_type": "code",
            "execution_count": null,
            "metadata": {},
            "outputs": [],
            "source": [
                "state.state_space"
            ]
        },
        {
            "attachments": {},
            "cell_type": "markdown",
            "metadata": {},
            "source": [
                "# Sensitivity Plot"
            ]
        },
        {
            "cell_type": "code",
            "execution_count": null,
            "metadata": {},
            "outputs": [],
            "source": [
                "from ICARUS.visualization.airplane.gnvp_sensitivity import plot_sensitivity "
            ]
        },
        {
            "cell_type": "code",
            "execution_count": null,
            "metadata": {},
            "outputs": [],
            "source": []
        }
    ],
    "metadata": {
        "kernelspec": {
            "display_name": "aero",
            "language": "python",
            "name": "python3"
        },
        "language_info": {
            "codemirror_mode": {
                "name": "ipython",
                "version": 3
            },
            "file_extension": ".py",
            "mimetype": "text/x-python",
            "name": "python",
            "nbconvert_exporter": "python",
            "pygments_lexer": "ipython3",
            "version": "3.12.0"
        }
    },
    "nbformat": 4,
    "nbformat_minor": 2
}
