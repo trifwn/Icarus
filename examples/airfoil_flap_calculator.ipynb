{
    "cells": [
        {
            "cell_type": "code",
            "execution_count": 2,
            "metadata": {},
            "outputs": [],
            "source": [
                "%load_ext autoreload\n",
                "%autoreload 2\n",
                "%matplotlib qt"
            ]
        },
        {
            "cell_type": "code",
            "execution_count": 3,
            "metadata": {},
            "outputs": [],
            "source": [
                "from time import sleep\n",
                "\n",
                "from ICARUS.database import DB\n",
                "import matplotlib.pyplot as plt\n",
                "import numpy as np"
            ]
        },
        {
            "cell_type": "code",
            "execution_count": 8,
            "metadata": {},
            "outputs": [],
            "source": [
                "airfoil = DB.get_airfoil('NACA0009')\n",
                "\n",
                "fig = plt.figure()\n",
                "ax = fig.add_subplot(111)\n",
                "\n",
                "# airfoil.plot(ax=ax)\n",
                "airfoil_flap = airfoil.flap2(\n",
                "    flap_hinge= 0.63,\n",
                "    flap_angle= 10.,\n",
                "    chord_extension= 1., \n",
                ")\n",
                "\n",
                "# airfoil_flap.plot(ax=ax, overide_color = 'green', scatter = True)\n",
                "airfoil_flap.repanel_from_internal(120, \"cosine\")\n",
                "airfoil_flap.plot(ax=ax, overide_color = 'red')\n",
                "airfoil_flap.repanel_spl(120, 0)\n",
                "airfoil_flap.plot(ax=ax, overide_color = 'blue')"
            ]
        },
        {
            "cell_type": "code",
            "execution_count": 5,
            "metadata": {},
            "outputs": [],
            "source": [
                "from ICARUS.core.units import calc_reynolds\n",
                "import numpy as np\n",
                "from ICARUS.core.types import FloatArray\n",
                "\n",
                "# PARAMETERS FOR ESTIMATION\n",
                "chord_max: float = 0.5\n",
                "chord_min: float = 0.1\n",
                "u_max: float = 35.0\n",
                "u_min: float = 5.0\n",
                "viscosity: float = 1.56e-5\n",
                "speed_of_sound: float = 340.3\n",
                "\n",
                "# MACH ESTIMATION\n",
                "mach_max: float = 0.0\n",
                "# mach_min: float = calc_mach(10, speed_of_sound)\n",
                "# mach: FloatArray = np.linspace(mach_max, mach_min, 10)\n",
                "MACH: float = mach_max\n",
                "\n",
                "# REYNOLDS ESTIMATION\n",
                "RE_MIN = 8e4\n",
                "RE_MAX = 1.5e6\n",
                "NUM_BINS = 12\n",
                "REYNOLDS_BINS = np.logspace(-2.2, 0, NUM_BINS) * (RE_MAX - RE_MIN) + RE_MIN\n",
                "reynolds = REYNOLDS_BINS\n",
                "\n",
                "# ANGLE OF ATTACK SETUP\n",
                "aoa_min: float = -10\n",
                "aoa_max: float = 16\n",
                "num_of_angles: int = int((aoa_max - aoa_min) * 2 + 1)\n",
                "angles: FloatArray = np.linspace(\n",
                "    start=aoa_min,\n",
                "    stop=aoa_max,\n",
                "    num=num_of_angles,\n",
                ")\n",
                "\n",
                "# Transition to turbulent Boundary Layer\n",
                "ftrip_up: dict[str, float] = {\"pos\": 0.2, \"neg\": 0.1}\n",
                "ftrip_low: dict[str, float] = {\"pos\": 0.1, \"neg\": 0.2}\n",
                "Ncrit = 9"
            ]
        },
        {
            "cell_type": "code",
            "execution_count": 6,
            "metadata": {},
            "outputs": [
                {
                    "name": "stdout",
                    "output_type": "stream",
                    "text": [
                        "\n",
                        "Running airfoil Airfoil(upper, lower)\n",
                        "\n",
                        "Airfoil Polar Analysis For a multiple Reynolds using aseq\n",
                        "Available Options of Xfoil for Airfoil Polar Analysis For a multiple Reynolds using aseq: \n",
                        "\n",
                        "| VarName   | Value                                                          | Description                       |\n",
                        "|-----------|----------------------------------------------------------------|-----------------------------------|\n",
                        "| airfoil   | Complex Datatype (naca0009_flapped_hinge_0.63_deflection_7.50) | Airfoil Object                    |\n",
                        "| mach      | 0.0                                                            | Mach number                       |\n",
                        "| reynolds  | Complex Datatype                                               | List of Reynold's numbers to run  |\n",
                        "| min_aoa   | -10                                                            | Minimum angle of attack           |\n",
                        "| max_aoa   | 16                                                             | Maximum angle of attack           |\n",
                        "| aoa_step  | 0.5                                                            | Step between each angle of attack |\n",
                        "\n",
                        "If there are Multiple Values, or complex datatypes, or N/A you should inspect them sepretly by calling the option name\n",
                        "\n",
                        "Running Solver XFoil:\n",
                        "\tAnalysis Airfoil Polar Analysis For a multiple Reynolds using aseq...\n"
                    ]
                },
                {
                    "data": {
                        "application/vnd.jupyter.widget-view+json": {
                            "model_id": "a52be5c4fbae4c53b3e20ab24734ab3b",
                            "version_major": 2,
                            "version_minor": 0
                        },
                        "text/plain": [
                            "  0%|          | 0/12 [00:00<?, ?it/s]"
                        ]
                    },
                    "metadata": {},
                    "output_type": "display_data"
                },
                {
                    "name": "stdout",
                    "output_type": "stream",
                    "text": [
                        "Repaneling Airfoil with 120\n",
                        "Repaneling Airfoil with 120\n",
                        "Repaneling Airfoil with 120\n",
                        "Repaneling Airfoil with 120\n",
                        "Repaneling Airfoil with 120\n",
                        "Repaneling Airfoil with 120\n",
                        "Repaneling Airfoil with 120\n",
                        "Repaneling Airfoil with 120\n",
                        "Repaneling Airfoil with 120\n",
                        "Repaneling Airfoil with 120\n",
                        "Repaneling Airfoil with 120\n",
                        "Repaneling Airfoil with 120\n",
                        "Adding NACA0009_FLAPPED_HINGE_0.63_DEFLECTION_7.50 to the database\n",
                        "Analysis Completed\n"
                    ]
                },
                {
                    "name": "stderr",
                    "output_type": "stream",
                    "text": [
                        "c:\\Users\\tryfo\\anaconda3\\envs\\aero\\Lib\\site-packages\\scipy\\interpolate\\_interpolate.py:710: RuntimeWarning: divide by zero encountered in divide\n",
                        "  slope = (y_hi - y_lo) / (x_hi - x_lo)[:, None]\n",
                        "c:\\Users\\tryfo\\anaconda3\\envs\\aero\\Lib\\site-packages\\numpy\\lib\\function_base.py:1238: RuntimeWarning: divide by zero encountered in divide\n",
                        "  out[tuple(slice1)] = (f[tuple(slice4)] - f[tuple(slice2)]) / (2. * ax_dx)\n",
                        "c:\\Users\\tryfo\\anaconda3\\envs\\aero\\Lib\\site-packages\\numpy\\lib\\function_base.py:1259: RuntimeWarning: divide by zero encountered in scalar divide\n",
                        "  out[tuple(slice1)] = (f[tuple(slice2)] - f[tuple(slice3)]) / dx_0\n",
                        "c:\\Users\\tryfo\\anaconda3\\envs\\aero\\Lib\\site-packages\\numpy\\lib\\function_base.py:1266: RuntimeWarning: divide by zero encountered in scalar divide\n",
                        "  out[tuple(slice1)] = (f[tuple(slice2)] - f[tuple(slice3)]) / dx_n\n"
                    ]
                },
                {
                    "name": "stdout",
                    "output_type": "stream",
                    "text": [
                        "Airfoil Polar Analysis For a multiple Reynolds using aseq\n",
                        "Available Options of Xfoil for Airfoil Polar Analysis For a multiple Reynolds using aseq: \n",
                        "\n",
                        "| VarName   | Value                                                           | Description                       |\n",
                        "|-----------|-----------------------------------------------------------------|-----------------------------------|\n",
                        "| airfoil   | Complex Datatype (naca0009_flapped_hinge_0.63_deflection_10.00) | Airfoil Object                    |\n",
                        "| mach      | 0.0                                                             | Mach number                       |\n",
                        "| reynolds  | Complex Datatype                                                | List of Reynold's numbers to run  |\n",
                        "| min_aoa   | -10                                                             | Minimum angle of attack           |\n",
                        "| max_aoa   | 16                                                              | Maximum angle of attack           |\n",
                        "| aoa_step  | 0.5                                                             | Step between each angle of attack |\n",
                        "\n",
                        "If there are Multiple Values, or complex datatypes, or N/A you should inspect them sepretly by calling the option name\n",
                        "\n",
                        "Running Solver XFoil:\n",
                        "\tAnalysis Airfoil Polar Analysis For a multiple Reynolds using aseq...\n"
                    ]
                },
                {
                    "data": {
                        "application/vnd.jupyter.widget-view+json": {
                            "model_id": "c0ee3a0e2ecb4145b42a3bdb2922c9cf",
                            "version_major": 2,
                            "version_minor": 0
                        },
                        "text/plain": [
                            "  0%|          | 0/12 [00:00<?, ?it/s]"
                        ]
                    },
                    "metadata": {},
                    "output_type": "display_data"
                },
                {
                    "name": "stdout",
                    "output_type": "stream",
                    "text": [
                        "Repaneling Airfoil with 120\n",
                        "Repaneling Airfoil with 120\n",
                        "Repaneling Airfoil with 120\n",
                        "Repaneling Airfoil with 120\n",
                        "Repaneling Airfoil with 120\n",
                        "Repaneling Airfoil with 120\n",
                        "Repaneling Airfoil with 120\n",
                        "Repaneling Airfoil with 120\n",
                        "Repaneling Airfoil with 120\n",
                        "Repaneling Airfoil with 120\n",
                        "Repaneling Airfoil with 120\n",
                        "Repaneling Airfoil with 120\n",
                        "Adding NACA0009_FLAPPED_HINGE_0.63_DEFLECTION_10.00 to the database\n",
                        "Analysis Completed\n"
                    ]
                },
                {
                    "ename": "PolarsNotFoundError",
                    "evalue": "Polars for airfoil NACA0009_FLAPPED_HINGE_0.63_DEFLECTION_10.00 not found in database for solver None! The available solvers are ['None']",
                    "output_type": "error",
                    "traceback": [
                        "\u001b[1;31m---------------------------------------------------------------------------\u001b[0m",
                        "\u001b[1;31mPolarsNotFoundError\u001b[0m                       Traceback (most recent call last)",
                        "Cell \u001b[1;32mIn[6], line 53\u001b[0m\n\u001b[0;32m     51\u001b[0m xfoil\u001b[38;5;241m.\u001b[39mexecute(parallel\u001b[38;5;241m=\u001b[39m\u001b[38;5;28;01mFalse\u001b[39;00m)\n\u001b[0;32m     52\u001b[0m \u001b[38;5;66;03m# Get polar\u001b[39;00m\n\u001b[1;32m---> 53\u001b[0m polar \u001b[38;5;241m=\u001b[39m \u001b[43mDB\u001b[49m\u001b[38;5;241;43m.\u001b[39;49m\u001b[43mfoils_db\u001b[49m\u001b[38;5;241;43m.\u001b[39;49m\u001b[43mget_polars\u001b[49m\u001b[43m(\u001b[49m\u001b[43mairfoil_flap\u001b[49m\u001b[38;5;241;43m.\u001b[39;49m\u001b[43mname\u001b[49m\u001b[38;5;241;43m.\u001b[39;49m\u001b[43mupper\u001b[49m\u001b[43m(\u001b[49m\u001b[43m)\u001b[49m\u001b[43m)\u001b[49m\n\u001b[0;32m     54\u001b[0m fig \u001b[38;5;241m=\u001b[39m polar\u001b[38;5;241m.\u001b[39mplot()\n\u001b[0;32m     55\u001b[0m fig\u001b[38;5;241m.\u001b[39mshow()\n",
                        "File \u001b[1;32m~\\Desktop\\Software\\Icarus\\ICARUS\\database\\database2D.py:134\u001b[0m, in \u001b[0;36mDatabase_2D.get_polars\u001b[1;34m(self, airfoil_name, solver)\u001b[0m\n\u001b[0;32m    132\u001b[0m     \u001b[38;5;28mself\u001b[39m\u001b[38;5;241m.\u001b[39madd_airfoil_data(airfoil_name\u001b[38;5;241m.\u001b[39mupper())\n\u001b[0;32m    133\u001b[0m     \u001b[38;5;28;01mif\u001b[39;00m airfoil_name\u001b[38;5;241m.\u001b[39mupper() \u001b[38;5;129;01mnot\u001b[39;00m \u001b[38;5;129;01min\u001b[39;00m \u001b[38;5;28mself\u001b[39m\u001b[38;5;241m.\u001b[39mpolars\u001b[38;5;241m.\u001b[39mkeys():\n\u001b[1;32m--> 134\u001b[0m         \u001b[38;5;28;01mraise\u001b[39;00m PolarsNotFoundError(airfoil_name)\n\u001b[0;32m    135\u001b[0m \u001b[38;5;28;01mexcept\u001b[39;00m (\u001b[38;5;167;01mFileNotFoundError\u001b[39;00m, \u001b[38;5;167;01mStopIteration\u001b[39;00m):\n\u001b[0;32m    136\u001b[0m     \u001b[38;5;28;01mraise\u001b[39;00m AirfoilNotFoundError(airfoil_name)\n",
                        "\u001b[1;31mPolarsNotFoundError\u001b[0m: Polars for airfoil NACA0009_FLAPPED_HINGE_0.63_DEFLECTION_10.00 not found in database for solver None! The available solvers are ['None']"
                    ]
                }
            ],
            "source": [
                "from ICARUS.computation.solvers.solver import Solver\n",
                "# # Xfoil\n",
                "from ICARUS.computation.solvers.Xfoil.xfoil import Xfoil\n",
                "\n",
                "print(f\"\\nRunning airfoil {airfoil}\\n\")\n",
                "\n",
                "for flap_angle in np.arange(7.5, 35, 2.5):\n",
                "    fig = plt.figure()\n",
                "    ax = fig.add_subplot(111)\n",
                "\n",
                "    airfoil_flap = airfoil.flap2(\n",
                "        flap_hinge= 0.63,\n",
                "        flap_angle=flap_angle,\n",
                "        chord_extension= 1., \n",
                "    )\n",
                "    airfoil_flap.repanel_from_internal(120, \"cosine\")\n",
                "    airfoil_flap.repanel_spl(120, 1e-6)\n",
                "\n",
                "    airfoil_flap.plot(scatter=True, ax = ax)\n",
                "    airfoil_flap.plot( ax = ax)\n",
                "    plt.show(block=True)\n",
                "    xfoil: Solver = Xfoil()\n",
                "\n",
                "    # Import Analysis\n",
                "    analysis: str = xfoil.get_analyses_names()[1]  # Run\n",
                "    xfoil.select_analysis(analysis)\n",
                "\n",
                "    # Get Options\n",
                "    options = xfoil.get_analysis_options(verbose=False)\n",
                "    solver_parameters = xfoil.get_solver_parameters()\n",
                "\n",
                "    # Set Options\n",
                "    options.airfoil = airfoil_flap\n",
                "    options.mach = MACH\n",
                "    options.reynolds = reynolds\n",
                "    options.min_aoa = aoa_min\n",
                "    options.max_aoa = aoa_max\n",
                "    options.aoa_step = 0.5\n",
                "\n",
                "    # Set Solver Options\n",
                "    solver_parameters.max_iter = 200\n",
                "    solver_parameters.Ncrit = 9\n",
                "    solver_parameters.xtr = (.05, .05)\n",
                "    solver_parameters.print = False\n",
                "    solver_parameters.repanel_n = 120\n",
                "\n",
                "    xfoil.define_analysis(options, solver_parameters)\n",
                "    xfoil.print_analysis_options()\n",
                "\n",
                "    # RUN\n",
                "    xfoil.execute(parallel=False)\n",
                "    # Get polar\n",
                "    polar = DB.foils_db.get_polars(airfoil_flap.name.upper())\n",
                "    fig = polar.plot()\n",
                "    fig.show()\n",
                "    plt.show(block=True)\n"
            ]
        },
        {
            "cell_type": "code",
            "execution_count": null,
            "metadata": {},
            "outputs": [],
            "source": [
                "airfs = []\n",
                "for flap_angle in np.arange(0, 35, 2.5):\n",
                "    try:\n",
                "        airfoil_flap = airfoil.flap(\n",
                "            flap_hinge= 0.63,\n",
                "            flap_angle=flap_angle,\n",
                "            chord_extension= 1., \n",
                "        )\n",
                "        airfs.append(airfoil_flap)\n",
                "        polar = DB.foils_db.get_polars(airfoil_flap.name.upper())\n",
                "        fig = polar.plot()\n",
                "        fig.show()\n",
                "    except:\n",
                "        pass\n",
                "\n",
                "airf_names = [airf.name for airf in airfs]"
            ]
        },
        {
            "cell_type": "code",
            "execution_count": null,
            "metadata": {},
            "outputs": [],
            "source": [
                "airf_names"
            ]
        },
        {
            "cell_type": "code",
            "execution_count": null,
            "metadata": {},
            "outputs": [],
            "source": [
                "from ICARUS.visualization.airfoil.db_polars import plot_airfoils_polars\n",
                "\n",
                "plot_airfoils_polars(\n",
                "    airf_names[1:],\n",
                "    reynolds= 4e5,\n",
                "    solvers=[\"Xfoil\"]\n",
                ")"
            ]
        },
        {
            "cell_type": "code",
            "execution_count": null,
            "metadata": {},
            "outputs": [],
            "source": []
        }
    ],
    "metadata": {
        "kernelspec": {
            "display_name": "aero",
            "language": "python",
            "name": "python3"
        },
        "language_info": {
            "codemirror_mode": {
                "name": "ipython",
                "version": 3
            },
            "file_extension": ".py",
            "mimetype": "text/x-python",
            "name": "python",
            "nbconvert_exporter": "python",
            "pygments_lexer": "ipython3",
            "version": "3.12.0"
        },
        "orig_nbformat": 4
    },
    "nbformat": 4,
    "nbformat_minor": 2
}
